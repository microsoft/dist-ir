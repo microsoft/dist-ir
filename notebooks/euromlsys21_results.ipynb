{
 "cells": [
  {
   "cell_type": "code",
   "execution_count": 1,
   "metadata": {},
   "outputs": [],
   "source": [
    "import argparse\n",
    "import csv\n",
    "from collections import defaultdict, OrderedDict\n",
    "import logging\n",
    "import numpy as np\n",
    "import time\n",
    "import matplotlib as mpl\n",
    "import matplotlib.pyplot as plt\n",
    "import os\n",
    "import pandas as pd\n",
    "from scipy.interpolate import interp1d\n",
    "from scipy.stats import pearsonr, spearmanr\n",
    "import sys\n",
    "import torch\n",
    "from torch.nn.parallel import DistributedDataParallel as DDP"
   ]
  },
  {
   "cell_type": "code",
   "execution_count": 2,
   "metadata": {},
   "outputs": [],
   "source": [
    "sys.path.append(os.path.dirname(os.path.dirname(os.path.realpath(\"__file__\"))))\n",
    "from dist_ir.importer import import_from_onnx, parse_tensor_from_file\n",
    "from dist_ir.ir import FunctionMaker, cpprint, pformat, Device, Topology, Value\n",
    "from dist_ir.executor import infer_types, SequentialExecutor, Simulator\n",
    "from dist_ir.executor.cost_model import CostModel\n",
    "from dist_ir.ir.type import Bool, Float, Int64, Tensor\n",
    "from dist_ir.transforms import (\n",
    "    mlp_dhp_transform,\n",
    "    filter_transform,\n",
    "    PipeDreamScheduler,\n",
    ")\n",
    "from examples.mlp import mlp"
   ]
  },
  {
   "cell_type": "markdown",
   "metadata": {},
   "source": [
    "## PyTorch vs simulator"
   ]
  },
  {
   "cell_type": "markdown",
   "metadata": {},
   "source": [
    "### Constants"
   ]
  },
  {
   "cell_type": "code",
   "execution_count": 3,
   "metadata": {},
   "outputs": [],
   "source": [
    "DEVICE_THROUGHPUT = 1.38e13 # FLOPS\n",
    "DRAM_BANDWIDTH = 7e11 # Bps\n",
    "PCIE_BANDWIDTH = 77 # Gbps"
   ]
  },
  {
   "cell_type": "markdown",
   "metadata": {},
   "source": [
    "### CSV utils"
   ]
  },
  {
   "cell_type": "code",
   "execution_count": 4,
   "metadata": {},
   "outputs": [],
   "source": [
    "def parse_csv(filename):\n",
    "    results = []\n",
    "    with open(filename, \"r\") as f:\n",
    "        reader = csv.DictReader(f)\n",
    "        for row in reader:\n",
    "            results.append(\n",
    "                (\n",
    "                    row[\"world_size\"],\n",
    "                    row[\"num_hidden_layers\"],\n",
    "                    row[\"batch_size\"],\n",
    "                    row[\"hidden_dim\"],\n",
    "                    row[\"runtime\"],\n",
    "                )\n",
    "            )\n",
    "    return results"
   ]
  },
  {
   "cell_type": "markdown",
   "metadata": {},
   "source": [
    "### PyTorch utils"
   ]
  },
  {
   "cell_type": "code",
   "execution_count": 5,
   "metadata": {},
   "outputs": [],
   "source": [
    "def mlp_pytorch(num_hidden_layers, hidden_dim):\n",
    "    layers = []\n",
    "    for i in range(num_hidden_layers):\n",
    "        layers.append(torch.nn.Linear(hidden_dim, hidden_dim, bias=False))\n",
    "        layers.append(torch.nn.ReLU())\n",
    "    return torch.nn.Sequential(*layers)"
   ]
  },
  {
   "cell_type": "code",
   "execution_count": 6,
   "metadata": {},
   "outputs": [],
   "source": [
    "def setup(\n",
    "    local_rank, world_size, backend=\"nccl\", master_addr=\"localhost\", master_port=\"12355\"\n",
    "):\n",
    "    os.environ[\"MASTER_ADDR\"] = master_addr\n",
    "    os.environ[\"MASTER_PORT\"] = master_port\n",
    "    torch.distributed.init_process_group(\n",
    "        backend, world_size=world_size, rank=local_rank\n",
    "    )"
   ]
  },
  {
   "cell_type": "code",
   "execution_count": 7,
   "metadata": {},
   "outputs": [],
   "source": [
    "def cleanup():\n",
    "    torch.distributed.destroy_process_group()"
   ]
  },
  {
   "cell_type": "markdown",
   "metadata": {},
   "source": [
    "### Experiment driver functions"
   ]
  },
  {
   "cell_type": "code",
   "execution_count": 8,
   "metadata": {},
   "outputs": [],
   "source": [
    "def run(config):\n",
    "    (\n",
    "        local_rank,\n",
    "        world_size,\n",
    "        num_hidden_layers,\n",
    "        batch_size,\n",
    "        hidden_dim,\n",
    "        num_warmup_steps,\n",
    "        num_profiling_steps,\n",
    "    ) = config\n",
    "    model = mlp_pytorch(num_hidden_layers, hidden_dim).to(local_rank)\n",
    "    loss_fn = torch.nn.MSELoss().to(local_rank)\n",
    "    x = torch.randn(size=(batch_size // world_size, hidden_dim)).to(local_rank)\n",
    "    labels = torch.randn(size=(batch_size // world_size, hidden_dim)).to(local_rank)\n",
    "    if world_size > 1:\n",
    "        setup(local_rank, world_size)\n",
    "        model = DDP(model, device_ids=[local_rank], output_device=local_rank)\n",
    "    runtimes = []\n",
    "    torch.cuda.synchronize()\n",
    "    events = [torch.cuda.Event(enable_timing=True)]\n",
    "    events[0].record()\n",
    "    for i in range(num_warmup_steps + num_profiling_steps):\n",
    "        y = model(x)\n",
    "        loss_fn(y, labels).backward()\n",
    "        if world_size > 1:\n",
    "            torch.distributed.barrier()\n",
    "        events.append(torch.cuda.Event(enable_timing=True))\n",
    "        events[-1].record()\n",
    "    torch.cuda.synchronize()\n",
    "    if world_size > 1:\n",
    "        cleanup()\n",
    "    runtimes = [events[i].elapsed_time(events[i+1]) / 1e3 for i in range(len(events)-1)]\n",
    "    return np.median(runtimes[num_warmup_steps:])"
   ]
  },
  {
   "cell_type": "code",
   "execution_count": 9,
   "metadata": {},
   "outputs": [],
   "source": [
    "def distributed_driver(num_hidden_layers, batch_size, hidden_dim, world_size):\n",
    "    configs = [\n",
    "        (rank, world_size, num_hidden_layers, batch_size, hidden_dim, 10, 100)\n",
    "        for rank in range(world_size)\n",
    "    ]\n",
    "    with torch.multiprocessing.Pool(world_size) as p:\n",
    "        results = p.map(run, configs)\n",
    "    print(\n",
    "        f\"world_size={world_size}, \"\n",
    "        f\"num_hidden_layers={num_hidden_layers}, \"\n",
    "        f\"batch_size={batch_size}, \"\n",
    "        f\"hidden_dim={hidden_dim}, \"\n",
    "        f\"runtime={np.mean(results)}\"\n",
    "    )\n",
    "    return np.mean(results)"
   ]
  },
  {
   "cell_type": "code",
   "execution_count": 10,
   "metadata": {},
   "outputs": [],
   "source": [
    "def simulate(num_hidden_layers, batch_size, hidden_dim, world_size):\n",
    "    topology = Topology()\n",
    "    d0 = topology.add_device(\n",
    "        \"gpu\", throughput=DEVICE_THROUGHPUT, dram_bandwidth=DRAM_BANDWIDTH\n",
    "    )\n",
    "    for i in range(world_size):\n",
    "        di = topology.add_device(\n",
    "            \"gpu\", throughput=DEVICE_THROUGHPUT, dram_bandwidth=DRAM_BANDWIDTH\n",
    "        )\n",
    "        topology.set_bandwidth(d0, di, float(\"inf\"))\n",
    "        for j in range(1, i + 1):\n",
    "            dj = topology.devices[j]\n",
    "            topology.set_bandwidth(di, dj, PCIE_BANDWIDTH)\n",
    "    function = mlp(\n",
    "        batch_size, hidden_dim, hidden_dim, hidden_dim, num_hidden_layers, d0\n",
    "    )\n",
    "    function = infer_types(function, function.inputs)\n",
    "    if world_size > 1:\n",
    "        dp_function = mlp_dhp_transform(function, world_size, 1, 1, topology.devices, 1)\n",
    "        dp_function = infer_types(dp_function, dp_function.inputs)\n",
    "    else:\n",
    "        dp_function = function\n",
    "    simulator = Simulator(CostModel(topology))\n",
    "    simulation = simulator.interpret(\n",
    "        dp_function,\n",
    "        (v.type for v in dp_function.inputs),\n",
    "    )\n",
    "    return max([simulation.timestamps[d] for d in simulation.timestamps])"
   ]
  },
  {
   "cell_type": "code",
   "execution_count": 11,
   "metadata": {},
   "outputs": [],
   "source": [
    "def sweep(\n",
    "    all_world_sizes, all_num_hidden_layers, all_batch_sizes, all_hidden_dims, filename, func\n",
    "):\n",
    "    fieldnames = [\"world_size\", \"num_hidden_layers\", \"batch_size\", \"hidden_dim\", \"runtime\"]\n",
    "    with open(filename, \"w\") as f:\n",
    "        writer = csv.DictWriter(f, fieldnames=fieldnames)\n",
    "        writer.writeheader()\n",
    "        for world_size in all_world_sizes:\n",
    "            for num_hidden_layers in all_num_hidden_layers:\n",
    "                for batch_size in all_batch_sizes:\n",
    "                    for hidden_dim in all_hidden_dims:\n",
    "                        runtime = func(\n",
    "                            num_hidden_layers, batch_size, hidden_dim, world_size\n",
    "                        )\n",
    "                        writer.writerow(\n",
    "                            {\n",
    "                                \"world_size\": world_size,\n",
    "                                \"num_hidden_layers\": num_hidden_layers,\n",
    "                                \"batch_size\": batch_size,\n",
    "                                \"hidden_dim\": hidden_dim,\n",
    "                                \"runtime\": runtime,\n",
    "                            }\n",
    "                        )"
   ]
  },
  {
   "cell_type": "markdown",
   "metadata": {},
   "source": [
    "### Figure 3"
   ]
  },
  {
   "cell_type": "code",
   "execution_count": 12,
   "metadata": {},
   "outputs": [],
   "source": [
    "all_world_sizes = [1, 2, 4]\n",
    "all_num_hidden_layers = [8, 16, 32]\n",
    "all_batch_sizes = [2048, 4096, 8192]\n",
    "all_hidden_dims = [512, 1024, 2048]\n",
    "sweep(\n",
    "    all_world_sizes,\n",
    "    all_num_hidden_layers,\n",
    "    all_batch_sizes,\n",
    "    all_hidden_dims,\n",
    "    \"data_parallel_runtimes.csv\",\n",
    "    distributed_driver,\n",
    ")\n",
    "sweep(\n",
    "    all_world_sizes,\n",
    "    all_num_hidden_layers,\n",
    "    all_batch_sizes,\n",
    "    all_hidden_dims,\n",
    "    \"data_parallel_simulated_runtimes.csv\",\n",
    "    simulate,\n",
    ")"
   ]
  },
  {
   "cell_type": "code",
   "execution_count": 13,
   "metadata": {},
   "outputs": [],
   "source": [
    "real_results = parse_csv(\"data_parallel_runtimes.csv\")\n",
    "simulated_results = parse_csv(\"data_parallel_simulated_runtimes.csv\")"
   ]
  },
  {
   "cell_type": "code",
   "execution_count": 14,
   "metadata": {},
   "outputs": [
    {
     "name": "stdout",
     "output_type": "stream",
     "text": [
      "world_size,# layers,batch size,hidden dim,model size (MB),real,simulated,ratio\n",
      "1,8,2048,512,8.0,3.74,2.09,0.56x\n",
      "1,8,2048,1024,32.0,9.24,7.96,0.86x\n",
      "1,8,2048,2048,128.0,33.39,31.05,0.93x\n",
      "1,8,4096,512,8.0,5.33,4.15,0.78x\n",
      "1,8,4096,1024,32.0,17.85,15.82,0.89x\n",
      "1,8,4096,2048,128.0,69.00,61.72,0.89x\n",
      "1,8,8192,512,8.0,9.55,8.28,0.87x\n",
      "1,8,8192,1024,32.0,34.16,31.55,0.92x\n",
      "1,8,8192,2048,128.0,127.63,123.05,0.96x\n",
      "1,16,2048,512,16.0,6.39,4.18,0.65x\n",
      "1,16,2048,1024,64.0,18.72,15.92,0.85x\n",
      "1,16,2048,2048,256.0,67.92,62.10,0.91x\n",
      "1,16,4096,512,16.0,10.71,8.31,0.78x\n",
      "1,16,4096,1024,64.0,36.20,31.65,0.87x\n",
      "1,16,4096,2048,256.0,140.71,123.43,0.88x\n",
      "1,16,8192,512,16.0,19.21,16.56,0.86x\n",
      "1,16,8192,1024,64.0,69.25,63.10,0.91x\n",
      "1,16,8192,2048,256.0,259.61,246.09,0.95x\n",
      "1,32,2048,512,32.0,11.69,8.35,0.71x\n",
      "1,32,2048,1024,128.0,37.61,31.84,0.85x\n",
      "1,32,2048,2048,512.0,136.93,124.19,0.91x\n",
      "1,32,4096,512,32.0,21.51,16.61,0.77x\n",
      "1,32,4096,1024,128.0,72.70,63.29,0.87x\n",
      "1,32,4096,2048,512.0,283.89,246.85,0.87x\n",
      "1,32,8192,512,32.0,38.53,33.12,0.86x\n",
      "1,32,8192,1024,128.0,139.40,126.19,0.91x\n",
      "1,32,8192,2048,512.0,525.26,492.17,0.94x\n",
      "2,8,2048,512,8.0,11.04,3.67,0.33x\n",
      "2,8,2048,1024,32.0,41.26,11.00,0.27x\n",
      "2,8,2048,2048,128.0,156.95,36.63,0.23x\n",
      "2,8,4096,512,8.0,11.67,6.45,0.55x\n",
      "2,8,4096,1024,32.0,45.49,18.42,0.40x\n",
      "2,8,4096,2048,128.0,172.94,58.94,0.34x\n",
      "2,8,8192,512,8.0,14.12,12.00,0.85x\n",
      "2,8,8192,1024,32.0,54.08,33.25,0.61x\n",
      "2,8,8192,2048,128.0,202.30,103.55,0.51x\n",
      "2,16,2048,512,16.0,21.73,5.60,0.26x\n",
      "2,16,2048,1024,64.0,78.43,18.51,0.24x\n",
      "2,16,2048,2048,256.0,311.28,66.29,0.21x\n",
      "2,16,4096,512,16.0,24.14,9.41,0.39x\n",
      "2,16,4096,1024,64.0,89.04,29.86,0.34x\n",
      "2,16,4096,2048,256.0,332.88,103.93,0.31x\n",
      "2,16,8192,512,16.0,29.24,17.02,0.58x\n",
      "2,16,8192,1024,64.0,102.02,52.56,0.52x\n",
      "2,16,8192,2048,256.0,404.26,179.21,0.44x\n",
      "2,32,2048,512,32.0,42.96,9.45,0.22x\n",
      "2,32,2048,1024,128.0,155.50,33.54,0.22x\n",
      "2,32,2048,2048,512.0,623.91,125.62,0.20x\n",
      "2,32,4096,512,32.0,47.16,15.32,0.32x\n",
      "2,32,4096,1024,128.0,176.12,52.75,0.30x\n",
      "2,32,4096,2048,512.0,690.11,193.92,0.28x\n",
      "2,32,8192,512,32.0,56.99,27.07,0.47x\n",
      "2,32,8192,1024,128.0,207.34,91.18,0.44x\n",
      "2,32,8192,2048,512.0,842.15,330.52,0.39x\n",
      "4,8,2048,512,8.0,9.08,3.15,0.35x\n",
      "4,8,2048,1024,32.0,33.41,9.91,0.30x\n",
      "4,8,2048,2048,128.0,132.10,34.20,0.26x\n",
      "4,8,4096,512,8.0,9.54,4.98,0.52x\n",
      "4,8,4096,1024,32.0,36.49,14.49,0.40x\n",
      "4,8,4096,2048,128.0,135.24,47.09,0.35x\n",
      "4,8,8192,512,8.0,10.91,8.63,0.79x\n",
      "4,8,8192,1024,32.0,40.26,23.65,0.59x\n",
      "4,8,8192,2048,128.0,141.57,72.88,0.51x\n",
      "4,16,2048,512,16.0,18.65,5.00,0.27x\n",
      "4,16,2048,1024,64.0,65.84,17.20,0.26x\n",
      "4,16,2048,2048,256.0,253.42,63.16,0.25x\n",
      "4,16,4096,512,16.0,19.43,7.34,0.38x\n",
      "4,16,4096,1024,64.0,68.72,23.74,0.35x\n",
      "4,16,4096,2048,256.0,261.00,83.73,0.32x\n",
      "4,16,8192,512,16.0,21.36,12.02,0.56x\n",
      "4,16,8192,1024,64.0,74.04,36.84,0.50x\n",
      "4,16,8192,2048,256.0,262.81,124.85,0.48x\n",
      "4,32,2048,512,32.0,35.37,8.70,0.25x\n",
      "4,32,2048,1024,128.0,123.76,31.78,0.26x\n",
      "4,32,2048,2048,512.0,496.48,121.10,0.24x\n",
      "4,32,4096,512,32.0,35.59,12.07,0.34x\n",
      "4,32,4096,1024,128.0,128.24,42.26,0.33x\n",
      "4,32,4096,2048,512.0,513.28,156.99,0.31x\n",
      "4,32,8192,512,32.0,40.28,18.81,0.47x\n",
      "4,32,8192,1024,128.0,137.87,63.21,0.46x\n",
      "4,32,8192,2048,512.0,514.53,228.78,0.44x\n"
     ]
    }
   ],
   "source": [
    "real_throughputs = defaultdict(list)\n",
    "simulated_throughputs = defaultdict(list)\n",
    "rtest = defaultdict(lambda: defaultdict(int))\n",
    "stest = defaultdict(lambda: defaultdict(int))\n",
    "print(f\"world_size,# layers,batch size,hidden dim,model size (MB),real,simulated,ratio\")\n",
    "for real, simulated in zip(real_results, simulated_results):\n",
    "    world_size = int(real[0])\n",
    "    num_hidden_layers = int(real[1])\n",
    "    batch_size = int(real[2])\n",
    "    hidden_dim = int(real[3])\n",
    "    real_runtime = float(real[4])\n",
    "    simulated_runtime = float(simulated[4])\n",
    "    model_size = hidden_dim * hidden_dim * num_hidden_layers * 4 / (1024 * 1024)\n",
    "    print(\n",
    "        f\"{world_size},{num_hidden_layers},{batch_size},{hidden_dim},\"\n",
    "        f\"{model_size},{real_runtime*1000:.2f},\"\n",
    "        f\"{simulated_runtime*1000:.2f},\"\n",
    "        f\"{(simulated_runtime/real_runtime):.2f}x\"\n",
    "    )\n",
    "    real_throughputs[world_size].append(batch_size / real_runtime / 1000)\n",
    "    simulated_throughputs[world_size].append(batch_size / simulated_runtime / 1000)"
   ]
  },
  {
   "cell_type": "code",
   "execution_count": 15,
   "metadata": {},
   "outputs": [
    {
     "name": "stdout",
     "output_type": "stream",
     "text": [
      "Pearson's correlation: 0.9273070306956839 (p=1.8542583290905386e-35)\n",
      "Spearman's correlation: 0.9336946702800362 (p=5.549420399611977e-37)\n"
     ]
    },
    {
     "data": {
      "image/png": "[encoded data removed]",
      "text/plain": [
       "<Figure size 432x288 with 1 Axes>"
      ]
     },
     "metadata": {
      "needs_background": "light"
     },
     "output_type": "display_data"
    }
   ],
   "source": [
    "plt.rcParams[\"font.size\"] = 12\n",
    "all_simulated_throughputs = []\n",
    "all_real_throughputs = []\n",
    "lines = []\n",
    "labels = [\"Ideal\", \"Best fit\"]\n",
    "for world_size in simulated_throughputs:\n",
    "    all_real_throughputs += real_throughputs[world_size]\n",
    "for world_size in simulated_throughputs:\n",
    "    all_simulated_throughputs += simulated_throughputs[world_size]\n",
    "all_simulated_throughputs = np.array(all_simulated_throughputs)\n",
    "all_real_throughputs = np.array(all_real_throughputs)\n",
    "r, p = pearsonr(all_simulated_throughputs, all_real_throughputs)\n",
    "print(f\"Pearson's correlation: {r} (p={p})\")\n",
    "r, p = spearmanr(all_simulated_throughputs, all_real_throughputs)\n",
    "print(f\"Spearman's correlation: {r} (p={p})\")\n",
    "x_new = np.linspace(min(all_simulated_throughputs.min(), all_real_throughputs.min()),\n",
    "                    max(all_simulated_throughputs.max(), all_real_throughputs.max()),\n",
    "                    500)\n",
    "lines.append(plt.plot(x_new, x_new, color=\"black\", linestyle=\"--\", label=\"Ideal\")[0])\n",
    "m, b = np.polyfit(all_simulated_throughputs, all_real_throughputs, 1)\n",
    "f = interp1d(all_simulated_throughputs, m * all_simulated_throughputs + b, kind=\"linear\")\n",
    "x_new = np.linspace(all_simulated_throughputs.min(),\n",
    "                    all_simulated_throughputs.max(),\n",
    "                    500)\n",
    "y_smooth = f(x_new)\n",
    "lines.append(plt.plot(x_new, y_smooth, color=\"orange\", linestyle=\"-.\", label=\"Best fit\")[0])\n",
    "colors = [\"b\", \"orange\", \"g\", \"purple\"]\n",
    "markers = ['x', 'o', '^'] \n",
    "plt.scatter(all_simulated_throughputs, all_real_throughputs, marker='x')\n",
    "plt.grid()\n",
    "plt.xticks([0, 200, 400, 600, 800, 1000])\n",
    "plt.yticks([0, 200, 400, 600, 800, 1000])\n",
    "plt.xlabel(\"Simulated throughput\\n(1000 samples / second)\")\n",
    "plt.ylabel(\"Real throughput\\n(1000 samples / second)\")\n",
    "plt.gca().set_aspect('equal', adjustable='box')\n",
    "leg = plt.figlegend(lines, labels, loc=\"upper center\", ncol=2)\n",
    "leg.get_frame().set_linewidth(0.0)\n",
    "bb = leg.get_bbox_to_anchor().transformed(plt.gca().transAxes.inverted())\n",
    "yOffset = 0\n",
    "bb.y0 += yOffset\n",
    "bb.y1 += yOffset\n",
    "leg.set_bbox_to_anchor(bb, transform=plt.gca().transAxes)\n",
    "plt.tight_layout()\n",
    "plt.savefig(\"data_parallel_simulation_performance.pdf\", dpi=600, bbox_inches=\"tight\")"
   ]
  },
  {
   "cell_type": "markdown",
   "metadata": {},
   "source": [
    "## Isolated parallelism simulation results"
   ]
  },
  {
   "cell_type": "markdown",
   "metadata": {},
   "source": [
    "### Constants"
   ]
  },
  {
   "cell_type": "code",
   "execution_count": 16,
   "metadata": {},
   "outputs": [],
   "source": [
    "DGX_BANDWIDTH_GBPS = 4800"
   ]
  },
  {
   "cell_type": "markdown",
   "metadata": {},
   "source": [
    "### Utils"
   ]
  },
  {
   "cell_type": "code",
   "execution_count": 17,
   "metadata": {},
   "outputs": [],
   "source": [
    "def add_devices_to_topology(topology, num_devices):\n",
    "    for i in range(num_devices):\n",
    "        topology.add_device(\"gpu\")\n",
    "    devices = topology.devices\n",
    "    for i in range(0, len(devices)):\n",
    "        for j in range(i+1, len(devices)):\n",
    "            topology.set_bandwidth(devices[i], devices[j], DGX_BANDWIDTH_GBPS)\n",
    "    return topology"
   ]
  },
  {
   "cell_type": "markdown",
   "metadata": {},
   "source": [
    "### Data parallelism"
   ]
  },
  {
   "cell_type": "code",
   "execution_count": 18,
   "metadata": {},
   "outputs": [],
   "source": [
    "all_num_devices = [2, 4, 8, 16, 32]\n",
    "all_batch_sizes = [512, 1024, 2048, 4096]\n",
    "input_dim = 4096\n",
    "hidden_dim = input_dim\n",
    "output_dim = hidden_dim\n",
    "num_hidden_layers = 64\n",
    "dp_results = defaultdict(list)\n",
    "for batch_size in all_batch_sizes:\n",
    "    topology = Topology()\n",
    "    d0 = topology.add_device(\"gpu\")\n",
    "    function = mlp(batch_size, input_dim, hidden_dim, output_dim, num_hidden_layers, d0)\n",
    "    function = infer_types(function, function.inputs)\n",
    "    simulator = Simulator(CostModel(topology))\n",
    "    simulation = simulator.interpret(\n",
    "        function,\n",
    "        (v.type for v in function.inputs),\n",
    "    )\n",
    "    sequential_running_time = max(\n",
    "        [simulation.timestamps[d] for d in simulation.timestamps]\n",
    "    )\n",
    "    for i, num_devices in enumerate(all_num_devices):\n",
    "        if i == 0:\n",
    "            add_devices_to_topology(topology, num_devices)\n",
    "        else:\n",
    "            add_devices_to_topology(\n",
    "                topology, all_num_devices[i] - all_num_devices[i - 1]\n",
    "            )\n",
    "        assert len(topology.devices) == all_num_devices[i] + 1\n",
    "        simulator = Simulator(CostModel(topology))\n",
    "        transformed_function = mlp_dhp_transform(\n",
    "            function,\n",
    "            num_devices,\n",
    "            1,\n",
    "            1,\n",
    "            topology.devices,\n",
    "            1,\n",
    "        )\n",
    "        transformed_function = infer_types(\n",
    "            transformed_function, transformed_function.inputs\n",
    "        )\n",
    "        transformed_function, typed_input_values = filter_transform(\n",
    "            transformed_function, filter_set=set([\"MPIBroadcast\", \"Send\"])\n",
    "        )\n",
    "        transformed_function = infer_types(transformed_function, typed_input_values)\n",
    "        simulation = simulator.interpret(\n",
    "            transformed_function,\n",
    "            (v.type for v in transformed_function.inputs),\n",
    "        )\n",
    "        distributed_running_time = max(\n",
    "            [simulation.timestamps[d] for d in simulation.timestamps]\n",
    "        )\n",
    "        speedup = sequential_running_time / distributed_running_time\n",
    "        dp_results[batch_size].append(speedup)"
   ]
  },
  {
   "cell_type": "markdown",
   "metadata": {},
   "source": [
    "### Pipeline parallelism"
   ]
  },
  {
   "cell_type": "code",
   "execution_count": 19,
   "metadata": {},
   "outputs": [],
   "source": [
    "all_num_devices = [2, 4, 8, 16, 32]\n",
    "all_num_microbatches = [4, 8, 16, 32]\n",
    "input_dim = 4096\n",
    "hidden_dim = input_dim\n",
    "output_dim = hidden_dim\n",
    "num_hidden_layers = 64\n",
    "batch_size = 4096\n",
    "pp_results = defaultdict(list)\n",
    "topology = Topology()\n",
    "d0 = topology.add_device(\"gpu\")\n",
    "function = mlp(batch_size, input_dim, hidden_dim, output_dim, num_hidden_layers, d0)\n",
    "function = infer_types(function, function.inputs)\n",
    "simulator = Simulator(CostModel(topology))\n",
    "simulation = simulator.interpret(\n",
    "    function,\n",
    "    (v.type for v in function.inputs),\n",
    ")\n",
    "sequential_running_time = max([simulation.timestamps[d] for d in simulation.timestamps])\n",
    "for i, num_microbatches in enumerate(all_num_microbatches):\n",
    "    topology = Topology()\n",
    "    d0 = topology.add_device(\"gpu\")\n",
    "    for j, num_devices in enumerate(all_num_devices):\n",
    "        if j == 0:\n",
    "            add_devices_to_topology(topology, num_devices)\n",
    "        else:\n",
    "            add_devices_to_topology(\n",
    "                topology, all_num_devices[j] - all_num_devices[j - 1]\n",
    "            )\n",
    "        assert len(topology.devices) == all_num_devices[j] + 1\n",
    "        simulator = Simulator(CostModel(topology))\n",
    "        transformed_function = mlp_dhp_transform(\n",
    "            function,\n",
    "            1,\n",
    "            1,\n",
    "            num_devices,\n",
    "            topology.devices,\n",
    "            num_microbatches,\n",
    "        )\n",
    "        transformed_function = infer_types(\n",
    "            transformed_function, transformed_function.inputs\n",
    "        )\n",
    "        transformed_function, typed_input_values = filter_transform(\n",
    "            transformed_function,\n",
    "            filter_set=set([\"Send\"]),\n",
    "            exception_set=set(transformed_function.inputs[:2]),\n",
    "        )\n",
    "        transformed_function = infer_types(transformed_function, typed_input_values)\n",
    "        simulation = simulator.interpret(\n",
    "            transformed_function,\n",
    "            (v.type for v in transformed_function.inputs),\n",
    "        )\n",
    "        distributed_running_time = max(\n",
    "            [simulation.timestamps[d] for d in simulation.timestamps]\n",
    "        )\n",
    "        speedup = sequential_running_time / distributed_running_time\n",
    "        pp_results[num_microbatches].append(speedup)"
   ]
  },
  {
   "cell_type": "markdown",
   "metadata": {},
   "source": [
    "### Figure 4"
   ]
  },
  {
   "cell_type": "code",
   "execution_count": 20,
   "metadata": {},
   "outputs": [
    {
     "data": {
      "image/png": "[encoded data removed]",
      "text/plain": [
       "<Figure size 360x288 with 2 Axes>"
      ]
     },
     "metadata": {
      "needs_background": "light"
     },
     "output_type": "display_data"
    }
   ],
   "source": [
    "plt.rcParams[\"font.size\"] = 12\n",
    "fig, axes = plt.subplots(2, 1, figsize=(5, 4), sharex=True, sharey=True)\n",
    "markers = [\"o\", \"D\", \"v\", \"s\", \"<\", \"x\"]\n",
    "styles = [\"-\", \"--\", \"-.\", \":\", (0, (3, 1, 1, 1, 1, 1))]\n",
    "c = np.arange(1, len(pp_results) + 3)\n",
    "norm = mpl.colors.Normalize(vmin=c.min(), vmax=c.max())\n",
    "dp_cmap = mpl.cm.ScalarMappable(norm=norm, cmap=mpl.cm.Blues)\n",
    "dp_cmap.set_array([])\n",
    "pp_cmap = mpl.cm.ScalarMappable(norm=norm, cmap=mpl.cm.Greens)\n",
    "pp_cmap.set_array([])\n",
    "dp_lines = []\n",
    "dp_labels = []\n",
    "for i, batch_size in enumerate(dp_results):\n",
    "    dp_labels.append(f\"Batch size {batch_size}\")\n",
    "    l = axes[0].plot(\n",
    "        all_num_devices,\n",
    "        dp_results[batch_size],\n",
    "        marker=markers[i],\n",
    "        linestyle=styles[i],\n",
    "        label=dp_labels[-1],\n",
    "        c=dp_cmap.to_rgba(i + 3),\n",
    "    )[0]\n",
    "    dp_lines.append(l)\n",
    "    plt.xticks([2, 4, 8, 16, 32])\n",
    "    plt.yticks([5, 10, 15, 20])\n",
    "pp_lines = []\n",
    "pp_labels = []\n",
    "for i, num_microbatches in enumerate(pp_results):\n",
    "    pp_labels.append(f\"{num_microbatches} microbatches\")\n",
    "    l = axes[1].plot(\n",
    "        all_num_devices,\n",
    "        pp_results[num_microbatches],\n",
    "        marker=markers[i],\n",
    "        label=pp_labels[-1],\n",
    "        linestyle=styles[i],\n",
    "        c=pp_cmap.to_rgba(i + 3)\n",
    "    )[0]\n",
    "    pp_lines.append(l)\n",
    "axes[0].set_title(\"Data parallelism\")\n",
    "axes[1].set_title(\"Pipeline parallelism\")\n",
    "fig.text(0.5, -.025, '# Devices', ha='center', va='center')\n",
    "fig.text(-.01, 0.5, 'Speedup', va='center', ha='center', rotation='vertical')\n",
    "fig.tight_layout()\n",
    "dp_leg = axes[0].legend(dp_lines, dp_labels, loc='upper center', ncol=1)\n",
    "dp_leg.get_frame().set_linewidth(0.0)\n",
    "# Get the bounding box of the original legend.\n",
    "bb = dp_leg.get_bbox_to_anchor().transformed(axes[0].transAxes.inverted())\n",
    "\n",
    "# Change to location of the legend. \n",
    "xOffset = 0.75\n",
    "bb.x0 += xOffset\n",
    "bb.x1 += xOffset\n",
    "dp_leg.set_bbox_to_anchor(bb, transform = axes[0].transAxes)\n",
    "\n",
    "pp_leg = axes[1].legend(pp_lines, pp_labels, loc='upper center', ncol=1)\n",
    "pp_leg.get_frame().set_linewidth(0.0)\n",
    "# Get the bounding box of the original legend.\n",
    "bb = pp_leg.get_bbox_to_anchor().transformed(axes[1].transAxes.inverted())\n",
    "\n",
    "# Change to location of the legend. \n",
    "bb.x0 += xOffset\n",
    "bb.x1 += xOffset\n",
    "pp_leg.set_bbox_to_anchor(bb, transform = axes[1].transAxes)\n",
    "plt.savefig(\"dp_and_pp.pdf\", dpi=600, bbox_inches=\"tight\")"
   ]
  },
  {
   "cell_type": "markdown",
   "metadata": {},
   "source": [
    "## Grid search simulation results"
   ]
  },
  {
   "cell_type": "code",
   "execution_count": 21,
   "metadata": {},
   "outputs": [],
   "source": [
    "# TODO: Re-generate data in notebook\n",
    "# Columns are: dp_degree / hp_degree / pp_degree / num_microbatches / throughput\n",
    "data = pd.read_csv(\n",
    "    \"euromlsys21_grid_search_results.csv\",\n",
    "    names=[\"D\", \"H\", \"P\", \"num_microbatches\", \"throughput\"],\n",
    "    header=0,\n",
    ")"
   ]
  },
  {
   "cell_type": "markdown",
   "metadata": {},
   "source": [
    "### Figure 5"
   ]
  },
  {
   "cell_type": "code",
   "execution_count": 22,
   "metadata": {},
   "outputs": [
    {
     "data": {
      "image/png": "[encoded data removed]",
      "text/plain": [
       "<Figure size 288x144 with 1 Axes>"
      ]
     },
     "metadata": {
      "needs_background": "light"
     },
     "output_type": "display_data"
    }
   ],
   "source": [
    "plt.rcParams[\"font.size\"] = 12\n",
    "data[\"speedup\"] = data[\"throughput\"] / 3725.917956\n",
    "only_D = [r[\"speedup\"] for i, r in data.iterrows() if r[\"H\"] == 1 and r[\"P\"] == 1]\n",
    "only_H = [r[\"speedup\"] for i, r in data.iterrows() if r[\"D\"] == 1 and r[\"P\"] == 1]\n",
    "half_DH = [r[\"speedup\"] for i, r in data.iterrows() if r[\"D\"] == r[\"H\"] and r[\"P\"] == 1]\n",
    "half_DH_devs = [\n",
    "    r[\"D\"] * r[\"H\"] * r[\"P\"]\n",
    "    for i, r in data.iterrows()\n",
    "    if r[\"D\"] == r[\"H\"] and r[\"P\"] == 1\n",
    "]\n",
    "# For each P degree, find the num_microbatches with best throughput (note it's not always 32!)\n",
    "pp_data = data[(data[\"D\"] == 1) & (data[\"H\"] == 1)]\n",
    "best_P = pp_data.loc[pp_data.groupby(\"P\")[\"throughput\"].idxmax()]\n",
    "\n",
    "devices = [2 ** i for i in range(5)]\n",
    "colors = []\n",
    "markers = [\"o\", \"D\", \"v\", \"s\", \"<\", \"x\"]\n",
    "styles = [\"-\", \"--\", \"-.\", \":\", (0, (3, 1, 1, 1, 1, 1))]\n",
    "c = np.arange(1, len(only_D) + 3)\n",
    "norm = mpl.colors.Normalize(vmin=c.min(), vmax=c.max())\n",
    "cmap = mpl.cm.ScalarMappable(norm=norm, cmap=mpl.cm.Reds)\n",
    "cmap.set_array([])\n",
    "plt.figure(figsize=(4, 2))\n",
    "lines = []\n",
    "labels = [\n",
    "    \"Data parallelism\",\n",
    "    \"Horizontal parallelism\",\n",
    "    \"Pipeline parallelism\",\n",
    "    \"D+H parallelism\",\n",
    "]\n",
    "lines.append(\n",
    "    plt.plot(\n",
    "        devices,\n",
    "        only_D,\n",
    "        marker=markers[0],\n",
    "        linestyle=styles[0],\n",
    "        c=cmap.to_rgba(0 + 3),\n",
    "        label=labels[0],\n",
    "    )[0]\n",
    ")\n",
    "lines.append(\n",
    "    plt.plot(\n",
    "        devices,\n",
    "        only_H,\n",
    "        marker=markers[1],\n",
    "        linestyle=styles[1],\n",
    "        c=cmap.to_rgba(1 + 3),\n",
    "        label=labels[1],\n",
    "    )[0]\n",
    ")\n",
    "lines.append(\n",
    "    plt.plot(\n",
    "        best_P[\"P\"],\n",
    "        best_P[\"speedup\"],\n",
    "        marker=markers[2],\n",
    "        linestyle=styles[2],\n",
    "        c=cmap.to_rgba(2 + 3),\n",
    "        label=labels[2],\n",
    "    )[0]\n",
    ")\n",
    "lines.append(\n",
    "    plt.plot(\n",
    "        half_DH_devs,\n",
    "        half_DH,\n",
    "        marker=markers[3],\n",
    "        linestyle=styles[3],\n",
    "        c=cmap.to_rgba(3 + 3),\n",
    "        label=labels[3],\n",
    "    )[0]\n",
    ")\n",
    "plt.scatter(\n",
    "    data[\"D\"] * data[\"H\"] * data[\"P\"],\n",
    "    data[\"speedup\"],\n",
    "    marker=\"x\",\n",
    "    color=\"lightgray\",\n",
    "    alpha=0.5,\n",
    ")\n",
    "# plt.grid(True)\n",
    "plt.yticks([5, 10, 15, 20])\n",
    "plt.xticks([2, 4, 8, 16])\n",
    "leg = plt.figlegend(lines, labels, loc=\"upper center\", ncol=2)\n",
    "leg.get_frame().set_linewidth(0.0)\n",
    "# Get the bounding box of the original legend.\n",
    "bb = leg.get_bbox_to_anchor().transformed(plt.gca().transAxes.inverted())\n",
    "\n",
    "# Change to location of the legend.\n",
    "yOffset = 0.45\n",
    "bb.y0 += yOffset\n",
    "bb.y1 += yOffset\n",
    "leg.set_bbox_to_anchor(bb, transform=plt.gca().transAxes)\n",
    "plt.tight_layout()\n",
    "plt.tight_layout()\n",
    "plt.xlabel(\"# Devices\")\n",
    "plt.ylabel(\"Speedup\")\n",
    "plt.savefig(\"grid_search.pdf\", dpi=600, bbox_inches=\"tight\")"
   ]
  }
 ],
 "metadata": {
  "kernelspec": {
   "display_name": "Python 3",
   "language": "python",
   "name": "python3"
  },
  "language_info": {
   "codemirror_mode": {
    "name": "ipython",
    "version": 3
   },
   "file_extension": ".py",
   "mimetype": "text/x-python",
   "name": "python",
   "nbconvert_exporter": "python",
   "pygments_lexer": "ipython3",
   "version": "3.7.6"
  }
 },
 "nbformat": 4,
 "nbformat_minor": 5
}
