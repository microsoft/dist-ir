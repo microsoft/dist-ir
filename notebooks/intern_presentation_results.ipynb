{
 "cells": [
  {
   "cell_type": "code",
   "execution_count": 1,
   "metadata": {},
   "outputs": [],
   "source": [
    "import numpy as np\n",
    "import matplotlib.pyplot as plt"
   ]
  },
  {
   "cell_type": "code",
   "execution_count": 2,
   "metadata": {},
   "outputs": [],
   "source": [
    "from dist_ir.ir import Module\n",
    "from dist_ir.ir import Topology\n",
    "from dist_ir.ir.type import Float\n",
    "from dist_ir.ir.type import Tensor\n",
    "from dist_ir.executor.cost_inference import CostModel\n",
    "from dist_ir.executor import DistributedSimulator\n",
    "from dist_ir.transforms import DataParallelTransform"
   ]
  },
  {
   "cell_type": "code",
   "execution_count": 3,
   "metadata": {},
   "outputs": [],
   "source": [
    "def run_data_parallel_experiment(num_devices, batch_size=16, num_classes=10,\n",
    "                                 input_dim=4, hidden_dim=2, bandwidth=2):\n",
    "    module = Module()\n",
    "    topology = Topology()\n",
    "\n",
    "    devices = []\n",
    "    for i in range(num_devices):\n",
    "        devices.append(topology.add_device(\"gpu\"))\n",
    "    for i in range(num_devices):\n",
    "        for j in range(i+1, num_devices):\n",
    "            topology.set_bandwidth(devices[i], devices[j], bandwidth)\n",
    "\n",
    "    x = module.add_input_value(\"x\", Tensor(Float(), (batch_size, input_dim), device=devices[0]))\n",
    "    z = module.add_input_value(\"z\", Tensor(Float(), (batch_size, num_classes), device=devices[0]))\n",
    "    wA = module.add_input_value(\"wA\", Tensor(Float(), (input_dim, hidden_dim), device=devices[0]))\n",
    "    wB = module.add_input_value(\"wB\", Tensor(Float(), (hidden_dim, num_classes), device=devices[0]))\n",
    "    a = module.add_op(\"MatMul\", \"MatMul0\", inputs=[x, wA], output_names=[\"a\"])\n",
    "    y = module.add_op(\"MatMul\", \"MatMul1\", inputs=[a, wB], output_names=[\"y\"])\n",
    "    l = module.add_op(\n",
    "        \"Loss\", \"Loss\", inputs=[y, z], attributes={\"N\": batch_size}, output_names=[\"l\"]\n",
    "    )\n",
    "    dl = module.add_op(\n",
    "        \"LossGrad\",\n",
    "        \"LossGrad\",\n",
    "        inputs=[y, z],\n",
    "        attributes={\"N\": batch_size},\n",
    "        output_names=[\"dl\"],\n",
    "    )\n",
    "    da, dwB = module.add_op(\n",
    "        \"MatMulGrad\", \"MatMul1Grad\", inputs=[a, wB, dl], output_names=[\"da\", \"dwB\"]\n",
    "    )\n",
    "    dx, dwA = module.add_op(\n",
    "        \"MatMulGrad\", \"MatMul0Grad\", inputs=[x, wA, da], output_names=[\"dx\", \"dwA\"]\n",
    "    )\n",
    "    module.set_outputs([dwA, dwB])\n",
    "    module.finalize()\n",
    "    transform = DataParallelTransform(\n",
    "        batch_dims={\"x\": 0, \"z\": 0},\n",
    "        reduction_params={\n",
    "            \"dwA\": {\"op_type\": \"Allreduce\"},\n",
    "            \"dwB\": {\"op_type\": \"Allreduce\"},\n",
    "        },\n",
    "        devices=devices,\n",
    "    )\n",
    "    transformed_module = transform.apply(module)\n",
    "    transformed_module.finalize()\n",
    "    device_speeds = {\"gpu\": 1.0e13}\n",
    "    cost_model = CostModel(topology, device_speeds)\n",
    "    simulator = DistributedSimulator(cost_model)\n",
    "    simulator_state = simulator.simulate(transformed_module)\n",
    "    execution_time = max([simulator_state.timestamps[device] for device in devices])\n",
    "    return execution_time"
   ]
  },
  {
   "cell_type": "code",
   "execution_count": 4,
   "metadata": {},
   "outputs": [
    {
     "data": {
      "image/png": "[encoded data removed]",
      "text/plain": [
       "<Figure size 432x288 with 1 Axes>"
      ]
     },
     "metadata": {
      "needs_background": "light"
     },
     "output_type": "display_data"
    }
   ],
   "source": [
    "all_num_workers = [2, 4, 8, 16, 32, 64]\n",
    "all_execution_times = []\n",
    "for num_workers in all_num_workers:\n",
    "    all_execution_times.append(run_data_parallel_experiment(num_workers, batch_size=1024,\n",
    "                                                            input_dim=512, hidden_dim=1024,\n",
    "                                                            num_classes=100))\n",
    "frame = plt.gca()\n",
    "plt.plot(all_num_workers, all_execution_times)\n",
    "plt.xlabel(\"# Workers\")\n",
    "plt.ylabel(\"Execution time\")\n",
    "plt.xscale(\"log\")\n",
    "plt.xticks(all_num_workers)\n",
    "_ = frame.axes.xaxis.set_ticklabels(all_num_workers)\n",
    "_ = frame.axes.yaxis.set_ticklabels([])"
   ]
  },
  {
   "cell_type": "code",
   "execution_count": null,
   "metadata": {},
   "outputs": [],
   "source": []
  }
 ],
 "metadata": {
  "kernelspec": {
   "display_name": "Python 3",
   "language": "python",
   "name": "python3"
  },
  "language_info": {
   "codemirror_mode": {
    "name": "ipython",
    "version": 3
   },
   "file_extension": ".py",
   "mimetype": "text/x-python",
   "name": "python",
   "nbconvert_exporter": "python",
   "pygments_lexer": "ipython3",
   "version": "3.8.3"
  }
 },
 "nbformat": 4,
 "nbformat_minor": 4
}
