{
 "cells": [
  {
   "cell_type": "markdown",
   "metadata": {},
   "source": [
    "## Imports"
   ]
  },
  {
   "cell_type": "code",
   "execution_count": 1,
   "metadata": {},
   "outputs": [],
   "source": [
    "from collections import defaultdict\n",
    "import numpy as np\n",
    "import matplotlib.pyplot as plt\n",
    "import matplotlib as mpl\n",
    "import re"
   ]
  },
  {
   "cell_type": "code",
   "execution_count": 2,
   "metadata": {},
   "outputs": [],
   "source": [
    "from dist_ir.ir import Module\n",
    "from dist_ir.ir import Topology\n",
    "from dist_ir.ir.type import Float\n",
    "from dist_ir.ir.type import Tensor\n",
    "from dist_ir.executor.cost_inference import CostModel\n",
    "from dist_ir.executor import DistributedSimulator\n",
    "from dist_ir.transforms import (\n",
    "    DataParallelTransform,\n",
    "    PipelineParallelTransform,\n",
    "    PipeDreamScheduler,\n",
    "    FIFOScheduler,\n",
    ")"
   ]
  },
  {
   "cell_type": "markdown",
   "metadata": {},
   "source": [
    "## Utils"
   ]
  },
  {
   "cell_type": "code",
   "execution_count": 3,
   "metadata": {},
   "outputs": [],
   "source": [
    "def construct_topology(num_devices, bandwidth):\n",
    "    topology = Topology()\n",
    "    for i in range(num_devices):\n",
    "        topology.add_device(\"gpu\")\n",
    "    for i in range(num_devices):\n",
    "        for j in range(i + 1, num_devices):\n",
    "            topology.set_bandwidth(topology.devices[i], topology.devices[j], bandwidth)\n",
    "    return topology"
   ]
  },
  {
   "cell_type": "code",
   "execution_count": 4,
   "metadata": {},
   "outputs": [],
   "source": [
    "def construct_mlp_module(topology, batch_size, num_classes, input_dim, hidden_dims):\n",
    "    module = Module()\n",
    "\n",
    "    device = topology.devices[0]\n",
    "    x = module.add_input_value(\n",
    "        \"x\", Tensor(Float(), (batch_size, input_dim), device=device)\n",
    "    )\n",
    "    z = module.add_input_value(\n",
    "        \"z\", Tensor(Float(), (batch_size, num_classes), device=device)\n",
    "    )\n",
    "\n",
    "    weights = []\n",
    "    weight_grads = []\n",
    "    activations = []\n",
    "    activation_grads = []\n",
    "\n",
    "    for i in range(0, len(hidden_dims) + 1):\n",
    "        if i == 0:\n",
    "            dims = (input_dim, hidden_dims[0])\n",
    "        elif i == len(hidden_dims):\n",
    "            dims = (hidden_dims[-1], num_classes)\n",
    "        else:\n",
    "            dims = (hidden_dims[i - 1], hidden_dims[i])\n",
    "        weights.append(\n",
    "            module.add_input_value(\n",
    "                f\"w{i}\",\n",
    "                Tensor(Float(), dims, device=device),\n",
    "            )\n",
    "        )\n",
    "\n",
    "    for i in range(0, len(weights) - 1):\n",
    "        if i == 0:\n",
    "            inputs = [x, weights[0]]\n",
    "        else:\n",
    "            inputs = [activations[i - 1], weights[i]]\n",
    "        activations.append(\n",
    "            module.add_op(\n",
    "                \"MatMul\",\n",
    "                f\"MatMul{i}\",\n",
    "                inputs=inputs,\n",
    "                output_names=[f\"a{i}\"],\n",
    "            )\n",
    "        )\n",
    "    y = module.add_op(\n",
    "        \"MatMul\",\n",
    "        f\"MatMul{i+1}\",\n",
    "        inputs=[activations[-1], weights[-1]],\n",
    "        output_names=[\"y\"],\n",
    "    )\n",
    "    l = module.add_op(\n",
    "        \"Loss\", \"Loss\", inputs=[y, z], attributes={\"N\": batch_size}, output_names=[\"l\"]\n",
    "    )\n",
    "    dl = module.add_op(\n",
    "        \"LossGrad\",\n",
    "        \"LossGrad\",\n",
    "        inputs=[y, z],\n",
    "        attributes={\"N\": batch_size},\n",
    "        output_names=[\"dl\"],\n",
    "    )\n",
    "\n",
    "    backprop = dl\n",
    "    for i in range(len(weights) - 1, -1, -1):\n",
    "        if i > 0:\n",
    "            a = activations[i - 1]\n",
    "        else:\n",
    "            a = x\n",
    "        w = weights[i]\n",
    "        da, dw = module.add_op(\n",
    "            \"MatMulGrad\",\n",
    "            f\"MatMul{i}Grad\",\n",
    "            inputs=[a, w, backprop],\n",
    "            output_names=[f\"d{a.name}\", f\"d{w.name}\"],\n",
    "        )\n",
    "        activation_grads.append(da)\n",
    "        weight_grads.append(dw)\n",
    "        backprop = da\n",
    "\n",
    "    module.set_outputs(weight_grads)\n",
    "    module.finalize()\n",
    "    return module"
   ]
  },
  {
   "cell_type": "markdown",
   "metadata": {},
   "source": [
    "## Data parallel results"
   ]
  },
  {
   "cell_type": "code",
   "execution_count": 5,
   "metadata": {},
   "outputs": [],
   "source": [
    "def simulate_data_parallel(\n",
    "    num_workers,\n",
    "    batch_size=16,\n",
    "    input_dim=4,\n",
    "    hidden_dims=[2],\n",
    "    num_classes=10,\n",
    "    bandwidth=2,\n",
    "    device_speeds={\"gpu\": 1.0e13}\n",
    "):\n",
    "    topology = construct_topology(num_workers, bandwidth)\n",
    "    module = construct_mlp_module(\n",
    "        topology, batch_size, num_classes, input_dim, hidden_dims\n",
    "    )\n",
    "    transform = DataParallelTransform(\n",
    "        batch_dims={\"x\": 0, \"z\": 0},\n",
    "        reduction_params={\n",
    "            f\"{dw.name}\": {\"op_type\": \"Allreduce\"} for dw in module.get_outputs()\n",
    "        },\n",
    "        devices=topology.devices,\n",
    "    )\n",
    "    transformed_module = transform.apply(module)\n",
    "    transformed_module.finalize()\n",
    "    cost_model = CostModel(topology, device_speeds)\n",
    "    simulator = DistributedSimulator(cost_model)\n",
    "    simulator_state = simulator.simulate(transformed_module)\n",
    "    return simulator_state"
   ]
  },
  {
   "cell_type": "code",
   "execution_count": 6,
   "metadata": {},
   "outputs": [],
   "source": [
    "def run_data_parallel_experiment(\n",
    "    all_num_workers,\n",
    "    batch_size,\n",
    "    input_dim,\n",
    "    hidden_dims,\n",
    "    num_classes,\n",
    "    bandwidth,\n",
    "    device_speeds,\n",
    "):\n",
    "    all_simulator_states = []\n",
    "    for num_workers in all_num_workers:\n",
    "        all_simulator_states.append(\n",
    "            simulate_data_parallel(\n",
    "                num_workers,\n",
    "                batch_size,\n",
    "                input_dim,\n",
    "                hidden_dims,\n",
    "                num_classes,\n",
    "                bandwidth,\n",
    "                device_speeds,\n",
    "            )\n",
    "        )\n",
    "    return all_simulator_states"
   ]
  },
  {
   "cell_type": "code",
   "execution_count": 7,
   "metadata": {},
   "outputs": [],
   "source": [
    "def get_data_parallel_data(all_num_workers, all_batch_sizes):\n",
    "    input_dim = 32\n",
    "    hidden_dims = [64, 128, 256, 512, 1024]\n",
    "    num_classes = 10\n",
    "    bandwidth = 100.0\n",
    "    device_speeds = {\"gpu\": 1.0e13}\n",
    "    results = {\n",
    "        batch_size: run_data_parallel_experiment(\n",
    "            all_num_workers,\n",
    "            batch_size,\n",
    "            input_dim,\n",
    "            hidden_dims,\n",
    "            num_classes,\n",
    "            bandwidth,\n",
    "            device_speeds,\n",
    "        )\n",
    "        for batch_size in all_batch_sizes\n",
    "    }\n",
    "    return results"
   ]
  },
  {
   "cell_type": "code",
   "execution_count": 8,
   "metadata": {},
   "outputs": [],
   "source": [
    "def plot_data_parallel_runtime(all_num_workers, all_batch_sizes, results, offset=3):\n",
    "    c = np.arange(1, len(all_batch_sizes) + offset)\n",
    "    norm = mpl.colors.Normalize(vmin=c.min(), vmax=c.max())\n",
    "    cmap = mpl.cm.ScalarMappable(norm=norm, cmap=mpl.cm.Blues)\n",
    "    cmap.set_array([])\n",
    "    frame = plt.gca()\n",
    "    for i, batch_size in enumerate(all_batch_sizes):\n",
    "        execution_times = [\n",
    "            max([s.timestamps[d] for d in s.timestamps]) for s in results[batch_size]\n",
    "        ]\n",
    "        plt.plot(\n",
    "            all_num_workers,\n",
    "            execution_times,\n",
    "            marker=\"o\",\n",
    "            label=f\"Batch size {batch_size}\",\n",
    "            c=cmap.to_rgba(i + offset)\n",
    "        )\n",
    "    plt.legend()\n",
    "    plt.xlabel(\"# Workers\\n(log scale)\")\n",
    "    plt.ylabel(\"Simulated execution time\")\n",
    "    plt.xscale(\"log\")\n",
    "    _ = plt.xticks(all_num_workers)\n",
    "    _ = frame.axes.xaxis.set_ticklabels(all_num_workers)\n",
    "    _ = frame.axes.yaxis.set_ticklabels([])\n",
    "    plt.tight_layout()\n",
    "    plt.savefig(\"figures/data_parallel_results.png\", dpi=300)"
   ]
  },
  {
   "cell_type": "code",
   "execution_count": 9,
   "metadata": {},
   "outputs": [],
   "source": [
    "all_num_workers = [1, 2, 4, 8, 16, 32, 64, 128, 256]\n",
    "all_batch_sizes = [128, 256, 512, 1024]\n",
    "data_parallel_results = get_data_parallel_data(all_num_workers, all_batch_sizes)"
   ]
  },
  {
   "cell_type": "code",
   "execution_count": 10,
   "metadata": {},
   "outputs": [
    {
     "data": {
      "image/png": "[encoded data removed]",
      "text/plain": [
       "<Figure size 432x288 with 1 Axes>"
      ]
     },
     "metadata": {
      "needs_background": "light"
     },
     "output_type": "display_data"
    }
   ],
   "source": [
    "plot_data_parallel_runtime(all_num_workers, all_batch_sizes, data_parallel_results, offset=3)"
   ]
  },
  {
   "cell_type": "markdown",
   "metadata": {},
   "source": [
    "## Pipeline parallel results"
   ]
  },
  {
   "cell_type": "code",
   "execution_count": 11,
   "metadata": {},
   "outputs": [],
   "source": [
    "def simulate_pipeline_parallel(\n",
    "    scheduler_type,\n",
    "    num_microbatches=2,\n",
    "    num_devices=2,\n",
    "    batch_size=16,\n",
    "    input_dim=4,\n",
    "    hidden_dims=[2],\n",
    "    num_classes=10,\n",
    "    bandwidth=2,\n",
    "    device_speeds={\"gpu\": 1.0e13},\n",
    "    verbose=False\n",
    "):\n",
    "    if scheduler_type == \"pipedream\":\n",
    "        scheduler = PipeDreamScheduler(num_microbatches)\n",
    "    elif scheduler_type == \"fifo\":\n",
    "        scheduler = FIFOScheduler(num_microbatches)\n",
    "    topology = construct_topology(num_devices, bandwidth)\n",
    "    module = construct_mlp_module(\n",
    "        topology, batch_size, num_classes, input_dim, hidden_dims\n",
    "    )\n",
    "    num_devices = len(topology.devices)\n",
    "    num_layers = len(hidden_dims) + 1\n",
    "    layers_per_device = num_layers // num_devices\n",
    "    partition_map = {}\n",
    "    for op_name in module.get_ops():\n",
    "        is_loss = \"Loss\" in op_name\n",
    "        if not is_loss:\n",
    "            assert \"MatMul\" in op_name\n",
    "            match = re.search(\"MatMul(\\d+)\", op_name)\n",
    "            layer_num = int(match.group(1))\n",
    "            device = topology.devices[int(np.floor(layer_num / layers_per_device))]\n",
    "        else:\n",
    "            device = topology.devices[\n",
    "                int(np.floor(len(hidden_dims) / layers_per_device))\n",
    "            ]\n",
    "        partition_map[op_name] = device\n",
    "    schedule=scheduler.schedule(module, partition_map)\n",
    "    if verbose:\n",
    "        for i in range(len(schedule)):\n",
    "            print(i, schedule[i])\n",
    "    transform = PipelineParallelTransform(\n",
    "        num_microbatches=num_microbatches,\n",
    "        batch_dims={\"x\": 0, \"z\": 0},\n",
    "        reduction_params={\n",
    "            f\"{dw.name}\": {\"op_type\": \"Add\"} for dw in module.get_outputs()\n",
    "        },\n",
    "        schedule=schedule,\n",
    "    )\n",
    "    transformed_module = transform.apply(module)\n",
    "    transformed_module.finalize()\n",
    "    cost_model = CostModel(topology, device_speeds)\n",
    "    simulator = DistributedSimulator(cost_model)\n",
    "    simulator_state = simulator.simulate(transformed_module)\n",
    "    return simulator_state"
   ]
  },
  {
   "cell_type": "code",
   "execution_count": 12,
   "metadata": {},
   "outputs": [],
   "source": [
    "def run_pipeline_parallel_experiment(num_microbatches, num_devices):\n",
    "    batch_size = 1024\n",
    "    input_dim = 32\n",
    "    hidden_dims = [128] * 15\n",
    "    num_classes = 10\n",
    "    bandwidth = float(\"inf\")\n",
    "    device_speeds = {\"gpu\": 1.0e13}\n",
    "    pipedream_state = simulate_pipeline_parallel(\n",
    "        \"pipedream\",\n",
    "        num_microbatches=num_microbatches,\n",
    "        batch_size=batch_size,\n",
    "        num_devices=num_devices,\n",
    "        input_dim=input_dim,\n",
    "        hidden_dims=hidden_dims,\n",
    "        num_classes=num_classes,\n",
    "        bandwidth=bandwidth,\n",
    "        device_speeds=device_speeds,\n",
    "    )\n",
    "    fifo_state = simulate_pipeline_parallel(\n",
    "        \"fifo\",\n",
    "        num_microbatches=num_microbatches,\n",
    "        batch_size=batch_size,\n",
    "        num_devices=num_devices,\n",
    "        input_dim=input_dim,\n",
    "        hidden_dims=hidden_dims,\n",
    "        num_classes=num_classes,\n",
    "        bandwidth=bandwidth,\n",
    "        device_speeds=device_speeds,\n",
    "    )\n",
    "    fifo_execution_time = max([fifo_state.timestamps[d] for d in fifo_state.timestamps])\n",
    "    pipedream_execution_time = max([pipedream_state.timestamps[d] for d in pipedream_state.timestamps])\n",
    "    speedup = fifo_execution_time / pipedream_execution_time\n",
    "    return speedup"
   ]
  },
  {
   "cell_type": "code",
   "execution_count": 13,
   "metadata": {},
   "outputs": [],
   "source": [
    "all_num_devices = [1, 2, 4, 8]\n",
    "all_num_microbatches = [2, 4, 8, 16, 32]\n",
    "pipeline_parallel_results = np.ones((len(all_num_devices), len(all_num_microbatches)))\n",
    "for i, num_devices in enumerate(all_num_devices):\n",
    "    for j, num_microbatches in enumerate(all_num_microbatches):\n",
    "        pipeline_parallel_results[i][j] = run_pipeline_parallel_experiment(num_microbatches, num_devices)"
   ]
  },
  {
   "cell_type": "code",
   "execution_count": 14,
   "metadata": {},
   "outputs": [],
   "source": [
    "def plot_pipeline_parallel_heatmap(all_num_devices, all_num_microbatches, pipeline_parallel_results):\n",
    "    fig, ax = plt.subplots()\n",
    "    im = ax.imshow(pipeline_parallel_results[1:], cmap=\"RdYlGn\")\n",
    "\n",
    "    # We want to show all ticks...\n",
    "    ax.set_xticks(np.arange(len(all_num_microbatches)))\n",
    "    ax.set_yticks(np.arange(len(all_num_devices[1:])))\n",
    "    # ... and label them with the respective list entries\n",
    "    ax.set_xticklabels(all_num_microbatches)\n",
    "    ax.set_yticklabels(all_num_devices[1:])\n",
    "\n",
    "    # Rotate the tick labels and set their alignment.\n",
    "    plt.setp(ax.get_xticklabels(), rotation=45, ha=\"right\",\n",
    "             rotation_mode=\"anchor\")\n",
    "\n",
    "    # Loop over data dimensions and create text annotations.\n",
    "    for i in range(len(all_num_devices[1:])):\n",
    "        for j in range(len(all_num_microbatches)):\n",
    "            text = ax.text(j, i, np.round(pipeline_parallel_results[i+1, j], 2),\n",
    "                           ha=\"center\", va=\"center\", color=\"black\", fontsize=16)\n",
    "\n",
    "    plt.ylabel(\"# Devices\")\n",
    "    plt.xlabel(\"# Microbatches\")\n",
    "    fig.tight_layout()\n",
    "    plt.savefig(\"figures/pipeline_parallel_results.png\", dpi=300)\n",
    "    plt.show()"
   ]
  },
  {
   "cell_type": "code",
   "execution_count": 15,
   "metadata": {},
   "outputs": [
    {
     "data": {
      "image/png": "[encoded data removed]",
      "text/plain": [
       "<Figure size 432x288 with 1 Axes>"
      ]
     },
     "metadata": {
      "needs_background": "light"
     },
     "output_type": "display_data"
    }
   ],
   "source": [
    "plot_pipeline_parallel_heatmap(all_num_devices, all_num_microbatches, pipeline_parallel_results)"
   ]
  },
  {
   "cell_type": "markdown",
   "metadata": {},
   "source": [
    "### 4 devices, 2 microbatches"
   ]
  },
  {
   "cell_type": "code",
   "execution_count": 16,
   "metadata": {},
   "outputs": [],
   "source": [
    "batch_size = 1024\n",
    "input_dim = 32\n",
    "hidden_dims = [128] * 15\n",
    "num_classes = 10\n",
    "bandwidth = float(\"inf\")\n",
    "device_speeds = {\"gpu\": 1.0e13}\n",
    "pipedream_state = simulate_pipeline_parallel(\n",
    "        \"pipedream\",\n",
    "        num_microbatches=2,\n",
    "        batch_size=batch_size,\n",
    "        num_devices=4,\n",
    "        input_dim=input_dim,\n",
    "        hidden_dims=hidden_dims,\n",
    "        num_classes=num_classes,\n",
    "        bandwidth=bandwidth,\n",
    "        device_speeds=device_speeds,\n",
    "    )\n",
    "pipedream_state.dump_chrome_trace(\"pipedream_4x2_trace.json\")\n",
    "fifo_state = simulate_pipeline_parallel(\n",
    "        \"fifo\",\n",
    "        num_microbatches=2,\n",
    "        batch_size=batch_size,\n",
    "        num_devices=4,\n",
    "        input_dim=input_dim,\n",
    "        hidden_dims=hidden_dims,\n",
    "        num_classes=num_classes,\n",
    "        bandwidth=bandwidth,\n",
    "        device_speeds=device_speeds,\n",
    "    )\n",
    "fifo_state.dump_chrome_trace(\"fifo_4x2_trace.json\")"
   ]
  },
  {
   "cell_type": "markdown",
   "metadata": {},
   "source": [
    "### 8 devices, 4 microbatches"
   ]
  },
  {
   "cell_type": "code",
   "execution_count": 17,
   "metadata": {},
   "outputs": [],
   "source": [
    "batch_size = 1024\n",
    "input_dim = 32\n",
    "hidden_dims = [128] * 15\n",
    "num_classes = 10\n",
    "bandwidth = float(\"inf\")\n",
    "device_speeds = {\"gpu\": 1.0e13}\n",
    "pipedream_state = simulate_pipeline_parallel(\n",
    "        \"pipedream\",\n",
    "        num_microbatches=4,\n",
    "        batch_size=batch_size,\n",
    "        num_devices=8,\n",
    "        input_dim=input_dim,\n",
    "        hidden_dims=hidden_dims,\n",
    "        num_classes=num_classes,\n",
    "        bandwidth=bandwidth,\n",
    "        device_speeds=device_speeds,\n",
    "    )\n",
    "pipedream_state.dump_chrome_trace(\"pipedream_8x4_trace.json\")\n",
    "fifo_state = simulate_pipeline_parallel(\n",
    "        \"fifo\",\n",
    "        num_microbatches=4,\n",
    "        batch_size=batch_size,\n",
    "        num_devices=8,\n",
    "        input_dim=input_dim,\n",
    "        hidden_dims=hidden_dims,\n",
    "        num_classes=num_classes,\n",
    "        bandwidth=bandwidth,\n",
    "        device_speeds=device_speeds,\n",
    "    )\n",
    "fifo_state.dump_chrome_trace(\"fifo_8x4_trace.json\")"
   ]
  },
  {
   "cell_type": "code",
   "execution_count": null,
   "metadata": {},
   "outputs": [],
   "source": []
  }
 ],
 "metadata": {
  "kernelspec": {
   "display_name": "Python 3",
   "language": "python",
   "name": "python3"
  },
  "language_info": {
   "codemirror_mode": {
    "name": "ipython",
    "version": 3
   },
   "file_extension": ".py",
   "mimetype": "text/x-python",
   "name": "python",
   "nbconvert_exporter": "python",
   "pygments_lexer": "ipython3",
   "version": "3.8.3"
  }
 },
 "nbformat": 4,
 "nbformat_minor": 4
}
