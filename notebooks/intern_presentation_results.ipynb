{
 "cells": [
  {
   "cell_type": "code",
   "execution_count": 1,
   "metadata": {},
   "outputs": [],
   "source": [
    "import numpy as np\n",
    "import matplotlib.pyplot as plt"
   ]
  },
  {
   "cell_type": "code",
   "execution_count": 2,
   "metadata": {},
   "outputs": [],
   "source": [
    "from dist_ir.ir import Module\n",
    "from dist_ir.ir import Topology\n",
    "from dist_ir.ir.type import Float\n",
    "from dist_ir.ir.type import Tensor\n",
    "from dist_ir.executor.cost_inference import CostModel\n",
    "from dist_ir.executor import DistributedSimulator\n",
    "from dist_ir.transforms import DataParallelTransform"
   ]
  },
  {
   "cell_type": "code",
   "execution_count": 3,
   "metadata": {},
   "outputs": [],
   "source": [
    "def construct_topology(num_devices, bandwidth):\n",
    "    topology = Topology()\n",
    "    for i in range(num_devices):\n",
    "        topology.add_device(\"gpu\")\n",
    "    for i in range(num_devices):\n",
    "        for j in range(i + 1, num_devices):\n",
    "            topology.set_bandwidth(topology.devices[i], topology.devices[j], bandwidth)\n",
    "    return topology"
   ]
  },
  {
   "cell_type": "code",
   "execution_count": 4,
   "metadata": {},
   "outputs": [],
   "source": [
    "def construct_mlp_module(topology, batch_size, num_classes, input_dim, hidden_dims):\n",
    "    module = Module()\n",
    "\n",
    "    device = topology.devices[0]\n",
    "    x = module.add_input_value(\n",
    "        \"x\", Tensor(Float(), (batch_size, input_dim), device=device)\n",
    "    )\n",
    "    z = module.add_input_value(\n",
    "        \"z\", Tensor(Float(), (batch_size, num_classes), device=device)\n",
    "    )\n",
    "\n",
    "    weights = []\n",
    "    weight_grads = []\n",
    "    activations = []\n",
    "    activation_grads = []\n",
    "\n",
    "    for i in range(0, len(hidden_dims) + 1):\n",
    "        if i == 0:\n",
    "            dims = (input_dim, hidden_dims[0])\n",
    "        elif i == len(hidden_dims):\n",
    "            dims = (hidden_dims[-1], num_classes)\n",
    "        else:\n",
    "            dims = (hidden_dims[i - 1], hidden_dims[i])\n",
    "        weights.append(\n",
    "            module.add_input_value(\n",
    "                f\"w{i}\",\n",
    "                Tensor(Float(), dims, device=device),\n",
    "            )\n",
    "        )\n",
    "\n",
    "    for i in range(0, len(weights) - 1):\n",
    "        if i == 0:\n",
    "            inputs = [x, weights[0]]\n",
    "        else:\n",
    "            inputs = [activations[i - 1], weights[i]]\n",
    "        activations.append(\n",
    "            module.add_op(\n",
    "                \"MatMul\",\n",
    "                f\"MatMul{i}\",\n",
    "                inputs=inputs,\n",
    "                output_names=[f\"a{i}\"],\n",
    "            )\n",
    "        )\n",
    "    y = module.add_op(\n",
    "        \"MatMul\",\n",
    "        f\"MatMul{i+1}\",\n",
    "        inputs=[activations[-1], weights[-1]],\n",
    "        output_names=[\"y\"],\n",
    "    )\n",
    "    l = module.add_op(\n",
    "        \"Loss\", \"Loss\", inputs=[y, z], attributes={\"N\": batch_size}, output_names=[\"l\"]\n",
    "    )\n",
    "    dl = module.add_op(\n",
    "        \"LossGrad\",\n",
    "        \"LossGrad\",\n",
    "        inputs=[y, z],\n",
    "        attributes={\"N\": batch_size},\n",
    "        output_names=[\"dl\"],\n",
    "    )\n",
    "\n",
    "    backprop = dl\n",
    "    for i in range(len(weights) - 1, -1, -1):\n",
    "        if i > 0:\n",
    "            a = activations[i - 1]\n",
    "        else:\n",
    "            a = x\n",
    "        w = weights[i]\n",
    "        da, dw = module.add_op(\n",
    "            \"MatMulGrad\",\n",
    "            f\"MatMul{i}Grad\",\n",
    "            inputs=[a, w, backprop],\n",
    "            output_names=[f\"d{a.name}\", f\"d{w.name}\"],\n",
    "        )\n",
    "        activation_grads.append(da)\n",
    "        weight_grads.append(dw)\n",
    "        backprop = da\n",
    "\n",
    "    module.set_outputs(weight_grads)\n",
    "    module.finalize()\n",
    "    return module"
   ]
  },
  {
   "cell_type": "code",
   "execution_count": 5,
   "metadata": {},
   "outputs": [],
   "source": [
    "def simulate_data_parallel(\n",
    "    num_workers,\n",
    "    batch_size=16,\n",
    "    input_dim=4,\n",
    "    hidden_dims=[2],\n",
    "    num_classes=10,\n",
    "    bandwidth=2,\n",
    "    device_speeds={\"gpu\": 1.0e13}\n",
    "):\n",
    "    topology = construct_topology(num_workers, bandwidth)\n",
    "    module = construct_mlp_module(\n",
    "        topology, batch_size, num_classes, input_dim, hidden_dims\n",
    "    )\n",
    "    transform = DataParallelTransform(\n",
    "        batch_dims={\"x\": 0, \"z\": 0},\n",
    "        reduction_params={\n",
    "            f\"{dw.name}\": {\"op_type\": \"Allreduce\"} for dw in module.get_outputs()\n",
    "        },\n",
    "        devices=topology.devices,\n",
    "    )\n",
    "    transformed_module = transform.apply(module)\n",
    "    transformed_module.finalize()\n",
    "    cost_model = CostModel(topology, device_speeds)\n",
    "    simulator = DistributedSimulator(cost_model)\n",
    "    simulator_state = simulator.simulate(transformed_module)\n",
    "    execution_time = max(\n",
    "        [simulator_state.timestamps[device] for device in topology.devices]\n",
    "    )\n",
    "    return execution_time"
   ]
  },
  {
   "cell_type": "code",
   "execution_count": 6,
   "metadata": {},
   "outputs": [],
   "source": [
    "def run_data_parallel_experiment(\n",
    "    all_num_workers,\n",
    "    batch_size,\n",
    "    input_dim,\n",
    "    hidden_dims,\n",
    "    num_classes,\n",
    "    bandwidth,\n",
    "    device_speeds,\n",
    "):\n",
    "    all_execution_times = []\n",
    "    for num_workers in all_num_workers:\n",
    "        all_execution_times.append(\n",
    "            simulate_data_parallel(\n",
    "                num_workers,\n",
    "                batch_size,\n",
    "                input_dim,\n",
    "                hidden_dims,\n",
    "                num_classes,\n",
    "                bandwidth,\n",
    "                device_speeds,\n",
    "            )\n",
    "        )\n",
    "    return all_execution_times"
   ]
  },
  {
   "cell_type": "code",
   "execution_count": 7,
   "metadata": {},
   "outputs": [],
   "source": [
    "def get_data_parallel_data(all_num_workers, all_batch_sizes):\n",
    "    input_dim = 32\n",
    "    hidden_dims = [64, 128, 256, 512, 1024]\n",
    "    num_classes = 10\n",
    "    bandwidth = 100.0\n",
    "    device_speeds = {\"gpu\": 1.0e13}\n",
    "    results = {\n",
    "        batch_size: run_data_parallel_experiment(\n",
    "            all_num_workers,\n",
    "            batch_size,\n",
    "            input_dim,\n",
    "            hidden_dims,\n",
    "            num_classes,\n",
    "            bandwidth,\n",
    "            device_speeds,\n",
    "        )\n",
    "        for batch_size in all_batch_sizes\n",
    "    }\n",
    "    return results"
   ]
  },
  {
   "cell_type": "code",
   "execution_count": 8,
   "metadata": {},
   "outputs": [],
   "source": [
    "def plot_data_parallel_results(all_num_workers, all_batch_sizes, results):\n",
    "    frame = plt.gca()\n",
    "    for batch_size in all_batch_sizes:\n",
    "        plt.plot(\n",
    "            all_num_workers,\n",
    "            results[batch_size],\n",
    "            marker=\"o\",\n",
    "            label=f\"Batch size {batch_size}\",\n",
    "        )\n",
    "    plt.legend()\n",
    "    plt.xlabel(\"# Workers\\n(log scale)\")\n",
    "    plt.ylabel(\"Execution time\")\n",
    "    plt.xscale(\"log\")\n",
    "    _ = plt.xticks(all_num_workers)\n",
    "    _ = frame.axes.xaxis.set_ticklabels(all_num_workers)\n",
    "    _ = frame.axes.yaxis.set_ticklabels([])\n",
    "    plt.tight_layout()\n",
    "    plt.savefig(\"figures/data_parallel_results.png\", dpi=300)"
   ]
  },
  {
   "cell_type": "code",
   "execution_count": 9,
   "metadata": {},
   "outputs": [
    {
     "data": {
      "image/png": "[encoded data removed]",
      "text/plain": [
       "<Figure size 432x288 with 1 Axes>"
      ]
     },
     "metadata": {
      "needs_background": "light"
     },
     "output_type": "display_data"
    }
   ],
   "source": [
    "all_num_workers = [1, 2, 4, 8, 16, 32, 64, 128, 256]\n",
    "all_batch_sizes = [128, 256, 512, 1024]\n",
    "data_parallel_results = get_data_parallel_data(all_num_workers, all_batch_sizes)\n",
    "plot_data_parallel_results(all_num_workers, all_batch_sizes, data_parallel_results)"
   ]
  },
  {
   "cell_type": "code",
   "execution_count": null,
   "metadata": {},
   "outputs": [],
   "source": []
  }
 ],
 "metadata": {
  "kernelspec": {
   "display_name": "Python 3",
   "language": "python",
   "name": "python3"
  },
  "language_info": {
   "codemirror_mode": {
    "name": "ipython",
    "version": 3
   },
   "file_extension": ".py",
   "mimetype": "text/x-python",
   "name": "python",
   "nbconvert_exporter": "python",
   "pygments_lexer": "ipython3",
   "version": "3.8.3"
  }
 },
 "nbformat": 4,
 "nbformat_minor": 4
}
