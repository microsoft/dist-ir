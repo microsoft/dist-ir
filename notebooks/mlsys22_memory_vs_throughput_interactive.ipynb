{
 "cells": [
  {
   "cell_type": "code",
   "execution_count": 1,
   "id": "supreme-skirt",
   "metadata": {},
   "outputs": [],
   "source": [
    "import numpy as np\n",
    "import os\n",
    "import pandas as pd\n",
    "import matplotlib.pyplot as plt\n",
    "import matplotlib.ticker as ticker\n",
    "from matplotlib.ticker import ScalarFormatter\n",
    "import pylab\n",
    "import plotly.express as px"
   ]
  },
  {
   "cell_type": "code",
   "execution_count": 2,
   "id": "racial-savage",
   "metadata": {},
   "outputs": [],
   "source": [
    "plt.rcParams[\"font.size\"] = 18\n",
    "plt.rcParams[\"font.family\"] = \"Times New Roman\""
   ]
  },
  {
   "cell_type": "code",
   "execution_count": 3,
   "id": "romance-wichita",
   "metadata": {},
   "outputs": [],
   "source": [
    "FIGURES_DIR = \"figures/mlsys22\""
   ]
  },
  {
   "cell_type": "code",
   "execution_count": 4,
   "id": "civic-auditor",
   "metadata": {},
   "outputs": [],
   "source": [
    "def get_parallelism_style(dp, hp, pp):\n",
    "    if dp == 1 and hp == 1 and pp == 1:\n",
    "        return \"Base\"\n",
    "    elif dp > 1 and hp == 1 and pp == 1:\n",
    "        return \"D\"\n",
    "    elif dp == 1 and hp > 1 and pp == 1:\n",
    "        return \"T\"\n",
    "    elif dp == 1 and hp == 1 and pp > 1:\n",
    "        return \"P\"\n",
    "    elif dp > 1 and hp > 1 and pp == 1:\n",
    "        return \"D/T\"\n",
    "    elif dp == 1 and hp > 1 and pp > 1:\n",
    "        return \"T/P\"\n",
    "    elif dp > 1 and hp == 1 and pp > 1:\n",
    "        return \"D/P\"\n",
    "    elif dp > 1 and hp > 1 and pp > 1:\n",
    "        return \"D/T/P\"\n",
    "    else:\n",
    "        raise ValueError(f\"Invalid degree combination dp={dp}, hp={hp}, pp={pp}\")"
   ]
  },
  {
   "cell_type": "markdown",
   "id": "silver-tradition",
   "metadata": {},
   "source": [
    "## Memory usage vs throughput / latency"
   ]
  },
  {
   "cell_type": "code",
   "execution_count": 14,
   "id": "senior-hobby",
   "metadata": {},
   "outputs": [],
   "source": [
    "def plot_memory_usage_vs_metric(\n",
    "    simulation_filename,\n",
    "    model_size,\n",
    "    min_batch_size,\n",
    "    metric,\n",
    "    xlabel,\n",
    "    ylabel,\n",
    "    output_filename,\n",
    "    legend_output_filename=None,\n",
    "):\n",
    "#     plt.rc('xtick', labelsize=24)\n",
    "#     plt.rc('ytick', labelsize=24)\n",
    "#     plt.rc('axes', labelsize=24)\n",
    "    df = pd.read_csv(simulation_filename)\n",
    "    df = df[df[\"model_size\"] == model_size]\n",
    "    df[\"peak_memory\"] /= 1e9\n",
    "    df = df[df[\"peak_memory\"] <= 32]\n",
    "    df = df[df[\"batch_size\"] >= (min_batch_size / 2)]\n",
    "    df[\"dummy_column_for_size\"] = 1.0\n",
    "    parallelism_styles = [\n",
    "        get_parallelism_style(dp, hp, pp)\n",
    "        for (dp, hp, pp) in df[[\"dp_degree\", \"hp_degree\", \"pp_degree\"]].values\n",
    "    ]\n",
    "    df[\"parallelism_style\"] = parallelism_styles\n",
    "    markers = [\"o\", \"P\", \"^\", \"*\", \"X\", \"D\", \"H\", \"s\"]\n",
    "    colors = [\n",
    "        \"#1f77b4\",  # muted blue\n",
    "        \"#ff7f0e\",  # safety orange\n",
    "        \"#2ca02c\",  # cooked asparagus green\n",
    "        \"#d62728\",  # brick red\n",
    "        \"#9467bd\",  # muted purple\n",
    "        \"#8c564b\",  # chestnut brown\n",
    "        \"#e377c2\",  # raspberry yogurt pink\n",
    "        \"#7f7f7f\",  # middle gray\n",
    "        # \"#bcbd22\",  # curry yellow-green\n",
    "        # \"#17becf\",  # blue-teal\n",
    "    ]\n",
    "    parallelism_styles = [\n",
    "        \"D\",\n",
    "        \"T\",\n",
    "        \"P\",\n",
    "        \"D/T\",\n",
    "        \"T/P\",\n",
    "        \"D/P\",\n",
    "        \"D/T/P\",\n",
    "    ]\n",
    "    lines = []\n",
    "#     fig = pylab.figure(figsize=(8, 5))\n",
    "#     ax = fig.add_subplot(111)\n",
    "#     ax.ticklabel_format(axis=\"x\", style=\"sci\", scilimits=(0, 0))\n",
    "#     figlegend = pylab.figure(figsize=(5, 1))\n",
    "    fig = px.scatter(\n",
    "        df,\n",
    "        x=\"throughput\",\n",
    "        y=\"peak_memory\",\n",
    "        symbol=\"parallelism_style\",\n",
    "        color=\"parallelism_style\",\n",
    "        hover_data=[\"batch_size\", \"dp_degree\", \"hp_degree\", \"pp_degree\", \"num_microbatches\"],\n",
    "        labels={\n",
    "            \"throughput\": \"Throughput (samples / second)\",\n",
    "            \"peak_memory\": \"Peak Memory (GB)\",\n",
    "            \"parallelism_style\": \"Parallelism style\",\n",
    "        },\n",
    "        color_discrete_sequence=[\n",
    "            \"#1f77b4\",  # muted blue\n",
    "            \"#ff7f0e\",  # safety orange\n",
    "            \"#2ca02c\",  # cooked asparagus green\n",
    "            \"#d62728\",  # brick red\n",
    "            \"#9467bd\",  # muted purple\n",
    "            \"#8c564b\",  # chestnut brown\n",
    "            \"#e377c2\",  # raspberry yogurt pink\n",
    "            \"#7f7f7f\",  # middle gray\n",
    "            \"#bcbd22\",  # curry yellow-green\n",
    "            \"#17becf\",  # blue-teal\n",
    "        ],\n",
    "        category_orders={\n",
    "            \"parallelism_style\": [\n",
    "                \"D\",\n",
    "                \"T\",\n",
    "                \"P\",\n",
    "                \"D/T\",\n",
    "                \"T/P\",\n",
    "                \"D/P\",\n",
    "                \"D/T/P\",\n",
    "                \"Sequential\",\n",
    "            ],\n",
    "        },\n",
    "        size=\"dummy_column_for_size\",\n",
    "        size_max=10,\n",
    "    )\n",
    "    fig.show()\n",
    "#     ax.grid(zorder=0)\n",
    "#     ax.set_ylim(0, 32)\n",
    "#     ax.set_xlabel(xlabel)\n",
    "#     ax.set_ylabel(ylabel)\n",
    "#     fig.tight_layout()\n",
    "#     fig.savefig(output_filename, bbox_inches=\"tight\")\n",
    "#     leg = figlegend.legend(\n",
    "#         lines,\n",
    "#         parallelism_styles,\n",
    "#         frameon=False,\n",
    "#         loc=\"center\",\n",
    "#         ncol=8,\n",
    "#         columnspacing=None,\n",
    "#         labelspacing=None,\n",
    "#     )\n",
    "#     if legend_output_filename is not None:\n",
    "#         figlegend.savefig(legend_output_filename, bbox_inches=\"tight\")"
   ]
  },
  {
   "cell_type": "markdown",
   "id": "buried-tomorrow",
   "metadata": {},
   "source": [
    "### MLP Training"
   ]
  },
  {
   "cell_type": "code",
   "execution_count": 23,
   "id": "steady-devil",
   "metadata": {},
   "outputs": [
    {
     "data": {
      "application/vnd.plotly.v1+json": {
       "config": {
        "plotlyServerURL": "https://plot.ly"
       },
       "data": [
        {
         "customdata": [
          [
           65536,
           16,
           1,
           1,
           1
          ],
          [
           131072,
           16,
           1,
           1,
           1
          ],
          [
           262144,
           16,
           1,
           1,
           1
          ],
          [
           524288,
           16,
           1,
           1,
           1
          ]
         ],
         "hovertemplate": "Parallelism style=D<br>Throughput (samples / second)=%{x}<br>Peak Memory (GB)=%{y}<br>dummy_column_for_size=%{marker.size}<br>batch_size=%{customdata[0]}<br>dp_degree=%{customdata[1]}<br>hp_degree=%{customdata[2]}<br>pp_degree=%{customdata[3]}<br>num_microbatches=%{customdata[4]}<extra></extra>",
         "legendgroup": "D",
         "marker": {
          "color": "#1f77b4",
          "size": [
           1,
           1,
           1,
           1
          ],
          "sizemode": "area",
          "sizeref": 0.01,
          "symbol": "circle"
         },
         "mode": "markers",
         "name": "D",
         "orientation": "v",
         "showlegend": true,
         "type": "scatter",
         "x": [
          208781.6494627336,
          221912.05526147183,
          229116.7000535617,
          232897.34789311315
         ],
         "xaxis": "x",
         "y": [
          4.697620484,
          6.97932186,
          11.811160068,
          21.474836484
         ],
         "yaxis": "y"
        },
        {
         "customdata": [
          [
           65536,
           1,
           16,
           1,
           1
          ]
         ],
         "hovertemplate": "Parallelism style=T<br>Throughput (samples / second)=%{x}<br>Peak Memory (GB)=%{y}<br>dummy_column_for_size=%{marker.size}<br>batch_size=%{customdata[0]}<br>dp_degree=%{customdata[1]}<br>hp_degree=%{customdata[2]}<br>pp_degree=%{customdata[3]}<br>num_microbatches=%{customdata[4]}<extra></extra>",
         "legendgroup": "T",
         "marker": {
          "color": "#ff7f0e",
          "size": [
           1
          ],
          "sizemode": "area",
          "sizeref": 0.01,
          "symbol": "diamond"
         },
         "mode": "markers",
         "name": "T",
         "orientation": "v",
         "showlegend": true,
         "type": "scatter",
         "x": [
          116463.99258918816
         ],
         "xaxis": "x",
         "y": [
          22.682796036
         ],
         "yaxis": "y"
        },
        {
         "customdata": [
          [
           65536,
           1,
           1,
           16,
           2
          ],
          [
           65536,
           1,
           1,
           16,
           4
          ],
          [
           65536,
           1,
           1,
           16,
           8
          ],
          [
           65536,
           1,
           1,
           16,
           16
          ],
          [
           65536,
           1,
           1,
           16,
           32
          ],
          [
           65536,
           1,
           1,
           16,
           64
          ],
          [
           65536,
           1,
           1,
           16,
           128
          ],
          [
           131072,
           1,
           1,
           16,
           2
          ],
          [
           131072,
           1,
           1,
           16,
           4
          ],
          [
           131072,
           1,
           1,
           16,
           8
          ],
          [
           131072,
           1,
           1,
           16,
           16
          ],
          [
           131072,
           1,
           1,
           16,
           32
          ],
          [
           131072,
           1,
           1,
           16,
           64
          ],
          [
           131072,
           1,
           1,
           16,
           128
          ],
          [
           262144,
           1,
           1,
           16,
           2
          ],
          [
           262144,
           1,
           1,
           16,
           4
          ],
          [
           262144,
           1,
           1,
           16,
           8
          ],
          [
           262144,
           1,
           1,
           16,
           16
          ],
          [
           262144,
           1,
           1,
           16,
           32
          ],
          [
           262144,
           1,
           1,
           16,
           64
          ],
          [
           262144,
           1,
           1,
           16,
           128
          ],
          [
           524288,
           1,
           1,
           16,
           8
          ],
          [
           524288,
           1,
           1,
           16,
           32
          ],
          [
           524288,
           1,
           1,
           16,
           16
          ],
          [
           524288,
           1,
           1,
           16,
           64
          ],
          [
           524288,
           1,
           1,
           16,
           128
          ]
         ],
         "hovertemplate": "Parallelism style=P<br>Throughput (samples / second)=%{x}<br>Peak Memory (GB)=%{y}<br>dummy_column_for_size=%{marker.size}<br>batch_size=%{customdata[0]}<br>dp_degree=%{customdata[1]}<br>hp_degree=%{customdata[2]}<br>pp_degree=%{customdata[3]}<br>num_microbatches=%{customdata[4]}<extra></extra>",
         "legendgroup": "P",
         "marker": {
          "color": "#2ca02c",
          "size": [
           1,
           1,
           1,
           1,
           1,
           1,
           1,
           1,
           1,
           1,
           1,
           1,
           1,
           1,
           1,
           1,
           1,
           1,
           1,
           1,
           1,
           1,
           1,
           1,
           1,
           1
          ],
          "sizemode": "area",
          "sizeref": 0.01,
          "symbol": "square"
         },
         "mode": "markers",
         "name": "P",
         "orientation": "v",
         "showlegend": true,
         "type": "scatter",
         "x": [
          25801.395993871705,
          45212.01764787603,
          74139.37812013793,
          108594.20123721418,
          140061.77801589086,
          160076.17370074225,
          164322.73993776194,
          25835.165633748817,
          45325.375515157735,
          74510.20920466808,
          109675.09025666297,
          142822.40559975622,
          166264.25151143532,
          176594.72120157813,
          25852.0836244319,
          45382.26787881224,
          74697.01935469096,
          110223.6440707821,
          144243.9346941408,
          169541.23626779125,
          183421.2277504135,
          74790.7761449424,
          144965.3638055693,
          110499.98388266204,
          171228.6515597487,
          187036.29761736025
         ],
         "xaxis": "x",
         "y": [
          5.100273668,
          4.2949673,
          3.892314116,
          3.690987524,
          3.623878656,
          3.623878656,
          3.623878656,
          9.932111876,
          8.32149914,
          7.516192772,
          7.113539588,
          6.912212996,
          6.845104128,
          6.845104128,
          19.595788292,
          16.37456282,
          14.763950084,
          13.958643716,
          13.555990532,
          13.35466394,
          13.287555072,
          29.259464708,
          26.843545604,
          27.648851972,
          26.44089242,
          26.239565828
         ],
         "yaxis": "y"
        },
        {
         "customdata": [
          [
           65536,
           2,
           8,
           1,
           1
          ],
          [
           65536,
           4,
           4,
           1,
           1
          ],
          [
           65536,
           8,
           2,
           1,
           1
          ],
          [
           131072,
           2,
           8,
           1,
           1
          ],
          [
           131072,
           4,
           4,
           1,
           1
          ],
          [
           131072,
           8,
           2,
           1,
           1
          ],
          [
           262144,
           4,
           4,
           1,
           1
          ],
          [
           262144,
           8,
           2,
           1,
           1
          ],
          [
           524288,
           8,
           2,
           1,
           1
          ]
         ],
         "hovertemplate": "Parallelism style=D/T<br>Throughput (samples / second)=%{x}<br>Peak Memory (GB)=%{y}<br>dummy_column_for_size=%{marker.size}<br>batch_size=%{customdata[0]}<br>dp_degree=%{customdata[1]}<br>hp_degree=%{customdata[2]}<br>pp_degree=%{customdata[3]}<br>num_microbatches=%{customdata[4]}<extra></extra>",
         "legendgroup": "D/T",
         "marker": {
          "color": "#d62728",
          "size": [
           1,
           1,
           1,
           1,
           1,
           1,
           1,
           1,
           1
          ],
          "sizemode": "area",
          "sizeref": 0.01,
          "symbol": "x"
         },
         "mode": "markers",
         "name": "D/T",
         "orientation": "v",
         "showlegend": true,
         "type": "scatter",
         "x": [
          155253.77316711552,
          187167.43179091305,
          204604.14911087835,
          156359.69891601437,
          190004.43597384257,
          211086.2289988578,
          191455.43593520188,
          214483.76741908735,
          216223.88318594612
         ],
         "xaxis": "x",
         "y": [
          12.079595524,
          6.97932186,
          4.831838212,
          23.890755588,
          13.421772804,
          8.589934596,
          26.306674692,
          16.106127364,
          31.1385129
         ],
         "yaxis": "y"
        },
        {
         "customdata": [
          [
           65536,
           1,
           2,
           8,
           2
          ],
          [
           65536,
           1,
           2,
           8,
           4
          ],
          [
           65536,
           1,
           2,
           8,
           16
          ],
          [
           65536,
           1,
           2,
           8,
           8
          ],
          [
           65536,
           1,
           2,
           8,
           32
          ],
          [
           65536,
           1,
           4,
           4,
           2
          ],
          [
           65536,
           1,
           4,
           4,
           4
          ],
          [
           65536,
           1,
           4,
           4,
           16
          ],
          [
           65536,
           1,
           2,
           8,
           64
          ],
          [
           65536,
           1,
           4,
           4,
           8
          ],
          [
           65536,
           1,
           8,
           2,
           2
          ],
          [
           65536,
           1,
           8,
           2,
           4
          ],
          [
           65536,
           1,
           4,
           4,
           32
          ],
          [
           65536,
           1,
           2,
           8,
           128
          ],
          [
           65536,
           1,
           8,
           2,
           8
          ],
          [
           65536,
           1,
           8,
           2,
           16
          ],
          [
           65536,
           1,
           4,
           4,
           64
          ],
          [
           65536,
           1,
           8,
           2,
           32
          ],
          [
           65536,
           1,
           4,
           4,
           128
          ],
          [
           65536,
           1,
           8,
           2,
           64
          ],
          [
           65536,
           1,
           8,
           2,
           128
          ],
          [
           131072,
           1,
           2,
           8,
           2
          ],
          [
           131072,
           1,
           2,
           8,
           4
          ],
          [
           131072,
           1,
           2,
           8,
           8
          ],
          [
           131072,
           1,
           2,
           8,
           16
          ],
          [
           131072,
           1,
           4,
           4,
           2
          ],
          [
           131072,
           1,
           2,
           8,
           32
          ],
          [
           131072,
           1,
           4,
           4,
           4
          ],
          [
           131072,
           1,
           4,
           4,
           8
          ],
          [
           131072,
           1,
           4,
           4,
           16
          ],
          [
           131072,
           1,
           2,
           8,
           64
          ],
          [
           131072,
           1,
           8,
           2,
           2
          ],
          [
           131072,
           1,
           8,
           2,
           4
          ],
          [
           131072,
           1,
           8,
           2,
           8
          ],
          [
           131072,
           1,
           4,
           4,
           32
          ],
          [
           131072,
           1,
           8,
           2,
           16
          ],
          [
           131072,
           1,
           4,
           4,
           64
          ],
          [
           131072,
           1,
           8,
           2,
           32
          ],
          [
           131072,
           1,
           2,
           8,
           128
          ],
          [
           131072,
           1,
           8,
           2,
           64
          ],
          [
           131072,
           1,
           4,
           4,
           128
          ],
          [
           131072,
           1,
           8,
           2,
           128
          ],
          [
           262144,
           1,
           2,
           8,
           2
          ],
          [
           262144,
           1,
           2,
           8,
           4
          ],
          [
           262144,
           1,
           2,
           8,
           8
          ],
          [
           262144,
           1,
           2,
           8,
           16
          ],
          [
           262144,
           1,
           2,
           8,
           32
          ],
          [
           262144,
           1,
           4,
           4,
           2
          ],
          [
           262144,
           1,
           4,
           4,
           4
          ],
          [
           262144,
           1,
           4,
           4,
           8
          ],
          [
           262144,
           1,
           4,
           4,
           16
          ],
          [
           262144,
           1,
           4,
           4,
           32
          ],
          [
           262144,
           1,
           2,
           8,
           64
          ],
          [
           262144,
           1,
           8,
           2,
           8
          ],
          [
           262144,
           1,
           8,
           2,
           16
          ],
          [
           262144,
           1,
           2,
           8,
           128
          ],
          [
           262144,
           1,
           4,
           4,
           64
          ],
          [
           262144,
           1,
           8,
           2,
           32
          ],
          [
           262144,
           1,
           4,
           4,
           128
          ],
          [
           262144,
           1,
           8,
           2,
           64
          ],
          [
           262144,
           1,
           8,
           2,
           128
          ],
          [
           524288,
           1,
           2,
           8,
           8
          ],
          [
           524288,
           1,
           2,
           8,
           16
          ],
          [
           524288,
           1,
           2,
           8,
           32
          ],
          [
           524288,
           1,
           2,
           8,
           64
          ],
          [
           524288,
           1,
           4,
           4,
           32
          ],
          [
           524288,
           1,
           2,
           8,
           128
          ],
          [
           524288,
           1,
           8,
           2,
           32
          ],
          [
           524288,
           1,
           4,
           4,
           64
          ],
          [
           524288,
           1,
           4,
           4,
           128
          ],
          [
           524288,
           1,
           8,
           2,
           64
          ],
          [
           524288,
           1,
           8,
           2,
           128
          ]
         ],
         "hovertemplate": "Parallelism style=T/P<br>Throughput (samples / second)=%{x}<br>Peak Memory (GB)=%{y}<br>dummy_column_for_size=%{marker.size}<br>batch_size=%{customdata[0]}<br>dp_degree=%{customdata[1]}<br>hp_degree=%{customdata[2]}<br>pp_degree=%{customdata[3]}<br>num_microbatches=%{customdata[4]}<extra></extra>",
         "legendgroup": "T/P",
         "marker": {
          "color": "#9467bd",
          "size": [
           1,
           1,
           1,
           1,
           1,
           1,
           1,
           1,
           1,
           1,
           1,
           1,
           1,
           1,
           1,
           1,
           1,
           1,
           1,
           1,
           1,
           1,
           1,
           1,
           1,
           1,
           1,
           1,
           1,
           1,
           1,
           1,
           1,
           1,
           1,
           1,
           1,
           1,
           1,
           1,
           1,
           1,
           1,
           1,
           1,
           1,
           1,
           1,
           1,
           1,
           1,
           1,
           1,
           1,
           1,
           1,
           1,
           1,
           1,
           1,
           1,
           1,
           1,
           1,
           1,
           1,
           1,
           1,
           1,
           1,
           1,
           1
          ],
          "sizemode": "area",
          "sizeref": 0.01,
          "symbol": "cross"
         },
         "mode": "markers",
         "name": "T/P",
         "orientation": "v",
         "showlegend": true,
         "type": "scatter",
         "x": [
          45365.24321646232,
          73019.6499651487,
          135328.96033822888,
          105735.1382999462,
          154887.84255637357,
          73396.91983723754,
          103488.88681365302,
          145587.1921571089,
          161507.10849580253,
          129022.60148328266,
          101698.25581354147,
          120584.1262841447,
          152059.10532082635,
          154683.27599366632,
          131746.38226931135,
          135614.8188018277,
          148643.36444470254,
          132711.18074833273,
          135153.0595704206,
          122623.96534678237,
          104785.45176972813,
          45442.80132277324,
          73258.81686559906,
          106427.64250532688,
          137095.14306199932,
          73560.21261669621,
          158887.244495866,
          103931.4495724466,
          130129.19258552424,
          148075.72380801648,
          169648.74992936457,
          102028.65388624831,
          121379.00122659214,
          133491.72597753952,
          157185.62750527446,
          139184.2502280342,
          158358.5810225265,
          139541.49230142162,
          169581.7382840128,
          134648.88836490468,
          151780.8883383795,
          123516.16700783047,
          45481.679908177146,
          73378.98880094857,
          106777.30741148096,
          137995.63585896097,
          160965.41075259005,
          73642.13177904063,
          104154.15343419826,
          130689.6369874467,
          149352.16711837487,
          159880.73789660234,
          174035.34755263515,
          134381.8548785096,
          141040.36714541947,
          178137.03483100975,
          163706.60094745798,
          143227.26635058195,
          161708.1890769321,
          141591.35314658863,
          135639.117483402,
          106953.00289265015,
          138450.33295756218,
          162025.01411517564,
          176314.8285633887,
          161263.25062822367,
          182746.76698852927,
          145144.14611993477,
          166518.39584063963,
          167174.2813785089,
          145338.15352699743,
          142639.0349793262
         ],
         "xaxis": "x",
         "y": [
          5.63714458,
          4.563402756,
          3.758096388,
          4.026531844,
          3.62387866,
          6.710886404,
          6.03979776,
          4.328521728,
          3.556769796,
          5.502926848,
          10.871635968,
          8.589934592,
          3.925868544,
          3.556769792,
          5.502926848,
          4.311744512,
          3.724541952,
          3.909091328,
          3.623878656,
          3.707764736,
          3.60710144,
          11.0058537,
          8.858370052,
          7.784628228,
          7.247757316,
          13.153337348,
          6.97932186,
          11.945377792,
          10.73741824,
          8.355053568,
          6.845104132,
          21.609054208,
          16.911433728,
          10.73741824,
          7.5497472,
          8.338276352,
          7.147094016,
          7.532969984,
          6.777995268,
          7.1303168,
          6.945767424,
          6.928990208,
          21.74327194,
          17.448304644,
          15.300820996,
          14.227079172,
          13.69020826,
          26.038239236,
          23.756537856,
          21.206401024,
          16.408117248,
          14.797504512,
          13.421772804,
          21.206401024,
          16.391340032,
          13.287555076,
          13.992198144,
          14.780727296,
          13.58954496,
          13.975420928,
          13.572767744,
          30.333206532,
          28.185722884,
          27.11198106,
          26.575110148,
          29.293019136,
          26.306674692,
          29.27624192,
          27.6824064,
          26.877100032,
          27.665629184,
          26.860322816
         ],
         "yaxis": "y"
        },
        {
         "customdata": [
          [
           65536,
           2,
           1,
           8,
           2
          ],
          [
           65536,
           2,
           1,
           8,
           4
          ],
          [
           65536,
           2,
           1,
           8,
           8
          ],
          [
           65536,
           2,
           1,
           8,
           16
          ],
          [
           65536,
           2,
           1,
           8,
           32
          ],
          [
           65536,
           2,
           1,
           8,
           64
          ],
          [
           65536,
           2,
           1,
           8,
           128
          ],
          [
           65536,
           4,
           1,
           4,
           2
          ],
          [
           65536,
           4,
           1,
           4,
           4
          ],
          [
           65536,
           4,
           1,
           4,
           8
          ],
          [
           65536,
           4,
           1,
           4,
           16
          ],
          [
           65536,
           4,
           1,
           4,
           32
          ],
          [
           65536,
           8,
           1,
           2,
           4
          ],
          [
           65536,
           8,
           1,
           2,
           2
          ],
          [
           65536,
           4,
           1,
           4,
           64
          ],
          [
           65536,
           8,
           1,
           2,
           8
          ],
          [
           65536,
           8,
           1,
           2,
           16
          ],
          [
           65536,
           8,
           1,
           2,
           32
          ],
          [
           65536,
           4,
           1,
           4,
           128
          ],
          [
           65536,
           8,
           1,
           2,
           64
          ],
          [
           65536,
           8,
           1,
           2,
           128
          ],
          [
           131072,
           2,
           1,
           8,
           2
          ],
          [
           131072,
           2,
           1,
           8,
           4
          ],
          [
           131072,
           2,
           1,
           8,
           8
          ],
          [
           131072,
           2,
           1,
           8,
           16
          ],
          [
           131072,
           2,
           1,
           8,
           32
          ],
          [
           131072,
           2,
           1,
           8,
           64
          ],
          [
           131072,
           2,
           1,
           8,
           128
          ],
          [
           131072,
           4,
           1,
           4,
           2
          ],
          [
           131072,
           4,
           1,
           4,
           4
          ],
          [
           131072,
           4,
           1,
           4,
           8
          ],
          [
           131072,
           4,
           1,
           4,
           16
          ],
          [
           131072,
           4,
           1,
           4,
           32
          ],
          [
           131072,
           4,
           1,
           4,
           64
          ],
          [
           131072,
           8,
           1,
           2,
           2
          ],
          [
           131072,
           8,
           1,
           2,
           4
          ],
          [
           131072,
           8,
           1,
           2,
           8
          ],
          [
           131072,
           8,
           1,
           2,
           16
          ],
          [
           131072,
           4,
           1,
           4,
           128
          ],
          [
           131072,
           8,
           1,
           2,
           32
          ],
          [
           131072,
           8,
           1,
           2,
           64
          ],
          [
           131072,
           8,
           1,
           2,
           128
          ],
          [
           262144,
           2,
           1,
           8,
           2
          ],
          [
           262144,
           2,
           1,
           8,
           4
          ],
          [
           262144,
           2,
           1,
           8,
           8
          ],
          [
           262144,
           2,
           1,
           8,
           16
          ],
          [
           262144,
           2,
           1,
           8,
           32
          ],
          [
           262144,
           2,
           1,
           8,
           64
          ],
          [
           262144,
           2,
           1,
           8,
           128
          ],
          [
           262144,
           4,
           1,
           4,
           2
          ],
          [
           262144,
           4,
           1,
           4,
           4
          ],
          [
           262144,
           4,
           1,
           4,
           8
          ],
          [
           262144,
           4,
           1,
           4,
           16
          ],
          [
           262144,
           4,
           1,
           4,
           32
          ],
          [
           262144,
           4,
           1,
           4,
           64
          ],
          [
           262144,
           8,
           1,
           2,
           4
          ],
          [
           262144,
           8,
           1,
           2,
           2
          ],
          [
           262144,
           8,
           1,
           2,
           8
          ],
          [
           262144,
           8,
           1,
           2,
           16
          ],
          [
           262144,
           8,
           1,
           2,
           32
          ],
          [
           262144,
           8,
           1,
           2,
           64
          ],
          [
           262144,
           4,
           1,
           4,
           128
          ],
          [
           262144,
           8,
           1,
           2,
           128
          ],
          [
           524288,
           2,
           1,
           8,
           2
          ],
          [
           524288,
           2,
           1,
           8,
           4
          ],
          [
           524288,
           2,
           1,
           8,
           8
          ],
          [
           524288,
           2,
           1,
           8,
           16
          ],
          [
           524288,
           2,
           1,
           8,
           32
          ],
          [
           524288,
           2,
           1,
           8,
           64
          ],
          [
           524288,
           4,
           1,
           4,
           2
          ],
          [
           524288,
           4,
           1,
           4,
           4
          ],
          [
           524288,
           2,
           1,
           8,
           128
          ],
          [
           524288,
           4,
           1,
           4,
           8
          ],
          [
           524288,
           4,
           1,
           4,
           16
          ],
          [
           524288,
           4,
           1,
           4,
           32
          ],
          [
           524288,
           8,
           1,
           2,
           2
          ],
          [
           524288,
           8,
           1,
           2,
           4
          ],
          [
           524288,
           4,
           1,
           4,
           64
          ],
          [
           524288,
           8,
           1,
           2,
           8
          ],
          [
           524288,
           8,
           1,
           2,
           16
          ],
          [
           524288,
           8,
           1,
           2,
           32
          ],
          [
           524288,
           4,
           1,
           4,
           128
          ],
          [
           524288,
           8,
           1,
           2,
           64
          ],
          [
           524288,
           8,
           1,
           2,
           128
          ],
          [
           1048576,
           2,
           1,
           8,
           32
          ],
          [
           1048576,
           2,
           1,
           8,
           64
          ],
          [
           1048576,
           2,
           1,
           8,
           128
          ],
          [
           1048576,
           4,
           1,
           4,
           16
          ],
          [
           1048576,
           4,
           1,
           4,
           32
          ],
          [
           1048576,
           8,
           1,
           2,
           4
          ],
          [
           1048576,
           8,
           1,
           2,
           8
          ],
          [
           1048576,
           4,
           1,
           4,
           64
          ],
          [
           1048576,
           8,
           1,
           2,
           16
          ],
          [
           1048576,
           8,
           1,
           2,
           32
          ],
          [
           1048576,
           4,
           1,
           4,
           128
          ],
          [
           1048576,
           8,
           1,
           2,
           64
          ],
          [
           1048576,
           8,
           1,
           2,
           128
          ]
         ],
         "hovertemplate": "Parallelism style=D/P<br>Throughput (samples / second)=%{x}<br>Peak Memory (GB)=%{y}<br>dummy_column_for_size=%{marker.size}<br>batch_size=%{customdata[0]}<br>dp_degree=%{customdata[1]}<br>hp_degree=%{customdata[2]}<br>pp_degree=%{customdata[3]}<br>num_microbatches=%{customdata[4]}<extra></extra>",
         "legendgroup": "D/P",
         "marker": {
          "color": "#8c564b",
          "size": [
           1,
           1,
           1,
           1,
           1,
           1,
           1,
           1,
           1,
           1,
           1,
           1,
           1,
           1,
           1,
           1,
           1,
           1,
           1,
           1,
           1,
           1,
           1,
           1,
           1,
           1,
           1,
           1,
           1,
           1,
           1,
           1,
           1,
           1,
           1,
           1,
           1,
           1,
           1,
           1,
           1,
           1,
           1,
           1,
           1,
           1,
           1,
           1,
           1,
           1,
           1,
           1,
           1,
           1,
           1,
           1,
           1,
           1,
           1,
           1,
           1,
           1,
           1,
           1,
           1,
           1,
           1,
           1,
           1,
           1,
           1,
           1,
           1,
           1,
           1,
           1,
           1,
           1,
           1,
           1,
           1,
           1,
           1,
           1,
           1,
           1,
           1,
           1,
           1,
           1,
           1,
           1,
           1,
           1,
           1,
           1,
           1
          ],
          "sizemode": "area",
          "sizeref": 0.01,
          "symbol": "circle"
         },
         "mode": "markers",
         "name": "D/P",
         "orientation": "v",
         "showlegend": true,
         "type": "scatter",
         "x": [
          50472.54728394668,
          81474.31291174726,
          117681.9819898045,
          149696.5142162235,
          169043.7260875458,
          171898.18196343302,
          157844.5049237459,
          91491.542786689,
          128527.51176905751,
          159078.646542664,
          175914.69105111962,
          176452.1011037941,
          173223.75826843537,
          148525.01625857077,
          160625.2440521742,
          183958.55557860676,
          180056.3636171646,
          161675.91222244603,
          130842.60022369432,
          130789.12168894312,
          93754.05437015236,
          50660.73531444648,
          82027.90252434791,
          119175.03460354326,
          153222.0925100157,
          176519.92151879132,
          185966.681278792,
          181251.6559121752,
          92427.1500056458,
          130777.87524384768,
          163781.5274000225,
          184902.57636945596,
          192235.94938188215,
          185794.73992380663,
          152697.96259668376,
          180467.111875724,
          195737.3363940406,
          198575.57334183573,
          165576.93524770968,
          189193.2250840141,
          167141.31143194265,
          133750.18187002686,
          50755.35656007755,
          82307.52803409508,
          119935.85858061704,
          155047.89823223784,
          180473.52576448655,
          193891.09617248463,
          195765.72769862108,
          92902.16624621424,
          131890.69818409943,
          166180.5274648547,
          189726.26620166985,
          201236.36428792487,
          201587.53394279163,
          184320.80015157533,
          154873.62069328755,
          202211.07703456545,
          209341.1836371481,
          206791.20287931137,
          194118.44204808865,
          190847.1478027632,
          170014.9603796655,
          50802.79985293334,
          82448.05692265127,
          120319.92511035688,
          155977.2162217291,
          182517.49318115477,
          198089.1342434988,
          93141.51004259128,
          132454.24197439212,
          203925.14585494023,
          167406.5765633226,
          192194.7668032172,
          206046.22476957232,
          155984.86582883814,
          186310.0290116525,
          210535.42617213697,
          205611.2300161713,
          215173.92163987752,
          216877.74187707787,
          206613.0225626155,
          211159.33034406696,
          196678.4813742884,
          183556.93760375484,
          200257.0698001221,
          208252.66777186215,
          193453.2628068829,
          208515.48700900289,
          187320.83192879485,
          207354.54992105355,
          215306.3850900728,
          218213.8979919433,
          222299.2244284448,
          215514.8592386182,
          220853.2456927191,
          213413.3349554441
         ],
         "xaxis": "x",
         "y": [
          3.489660932,
          2.818572292,
          2.751463424,
          2.85212672,
          2.5165824,
          2.399141888,
          2.340421632,
          3.087007748,
          3.01989888,
          3.254779904,
          2.566914048,
          2.26492416,
          4.060086272,
          3.690987524,
          2.13909504,
          3.372220416,
          3.028287488,
          2.856321024,
          2.07618048,
          2.770337792,
          2.727346176,
          6.442450948,
          5.100273668,
          4.831838208,
          4.898947072,
          4.36207616,
          4.127195136,
          4.009754624,
          5.36870912,
          5.100273664,
          5.167382528,
          3.825205248,
          3.321888768,
          3.070230528,
          5.637144576,
          5.70425344,
          4.328521728,
          3.640655872,
          2.944401408,
          3.305111552,
          3.196059648,
          3.141533696,
          12.34803098,
          9.932111872,
          9.39524096,
          9.126805504,
          8.05306368,
          7.583301632,
          7.348420608,
          10.200547328,
          9.663676416,
          9.126805504,
          6.442450944,
          5.435817984,
          4.932501504,
          9.126805504,
          10.200547328,
          6.241124352,
          4.86539264,
          4.328521728,
          4.11041792,
          4.680843264,
          4.001366016,
          24.159191044,
          19.595788288,
          18.522046464,
          17.716740096,
          15.43503872,
          14.495514624,
          19.864223744,
          18.79048192,
          14.025752576,
          17.179869184,
          11.676942336,
          9.663676416,
          19.327352832,
          16.10612736,
          8.657043456,
          10.200547328,
          7.314866176,
          6.37534208,
          8.153726976,
          5.939134464,
          5.721030656,
          30.1989888,
          28.319940608,
          27.380416512,
          22.14592512,
          18.11939328,
          30.064771072,
          18.253611008,
          16.10612736,
          12.348030976,
          10.468982784,
          15.0994944,
          9.596567552,
          9.160359936
         ],
         "yaxis": "y"
        },
        {
         "customdata": [
          [
           65536,
           2,
           2,
           4,
           2
          ],
          [
           65536,
           2,
           2,
           4,
           4
          ],
          [
           65536,
           2,
           2,
           4,
           8
          ],
          [
           65536,
           2,
           2,
           4,
           16
          ],
          [
           65536,
           2,
           4,
           2,
           2
          ],
          [
           65536,
           2,
           4,
           2,
           4
          ],
          [
           65536,
           2,
           2,
           4,
           32
          ],
          [
           65536,
           2,
           4,
           2,
           8
          ],
          [
           65536,
           2,
           2,
           4,
           64
          ],
          [
           65536,
           2,
           4,
           2,
           16
          ],
          [
           65536,
           2,
           4,
           2,
           32
          ],
          [
           65536,
           4,
           2,
           2,
           2
          ],
          [
           65536,
           4,
           2,
           2,
           4
          ],
          [
           65536,
           4,
           2,
           2,
           8
          ],
          [
           65536,
           4,
           2,
           2,
           16
          ],
          [
           65536,
           4,
           2,
           2,
           32
          ],
          [
           65536,
           2,
           2,
           4,
           128
          ],
          [
           65536,
           2,
           4,
           2,
           64
          ],
          [
           65536,
           4,
           2,
           2,
           64
          ],
          [
           65536,
           2,
           4,
           2,
           128
          ],
          [
           65536,
           4,
           2,
           2,
           128
          ],
          [
           131072,
           2,
           2,
           4,
           4
          ],
          [
           131072,
           2,
           2,
           4,
           2
          ],
          [
           131072,
           2,
           2,
           4,
           8
          ],
          [
           131072,
           2,
           4,
           2,
           2
          ],
          [
           131072,
           2,
           2,
           4,
           16
          ],
          [
           131072,
           2,
           4,
           2,
           4
          ],
          [
           131072,
           2,
           2,
           4,
           32
          ],
          [
           131072,
           2,
           4,
           2,
           8
          ],
          [
           131072,
           2,
           4,
           2,
           16
          ],
          [
           131072,
           2,
           4,
           2,
           32
          ],
          [
           131072,
           4,
           2,
           2,
           2
          ],
          [
           131072,
           2,
           2,
           4,
           64
          ],
          [
           131072,
           4,
           2,
           2,
           4
          ],
          [
           131072,
           4,
           2,
           2,
           8
          ],
          [
           131072,
           4,
           2,
           2,
           16
          ],
          [
           131072,
           2,
           4,
           2,
           64
          ],
          [
           131072,
           4,
           2,
           2,
           32
          ],
          [
           131072,
           2,
           2,
           4,
           128
          ],
          [
           131072,
           4,
           2,
           2,
           64
          ],
          [
           131072,
           2,
           4,
           2,
           128
          ],
          [
           131072,
           4,
           2,
           2,
           128
          ],
          [
           262144,
           2,
           2,
           4,
           2
          ],
          [
           262144,
           2,
           2,
           4,
           4
          ],
          [
           262144,
           2,
           2,
           4,
           8
          ],
          [
           262144,
           2,
           2,
           4,
           16
          ],
          [
           262144,
           2,
           2,
           4,
           32
          ],
          [
           262144,
           2,
           4,
           2,
           2
          ],
          [
           262144,
           2,
           4,
           2,
           4
          ],
          [
           262144,
           2,
           4,
           2,
           8
          ],
          [
           262144,
           2,
           4,
           2,
           16
          ],
          [
           262144,
           2,
           2,
           4,
           64
          ],
          [
           262144,
           4,
           2,
           2,
           2
          ],
          [
           262144,
           2,
           4,
           2,
           32
          ],
          [
           262144,
           4,
           2,
           2,
           4
          ],
          [
           262144,
           4,
           2,
           2,
           8
          ],
          [
           262144,
           2,
           2,
           4,
           128
          ],
          [
           262144,
           4,
           2,
           2,
           16
          ],
          [
           262144,
           4,
           2,
           2,
           32
          ],
          [
           262144,
           2,
           4,
           2,
           64
          ],
          [
           262144,
           4,
           2,
           2,
           64
          ],
          [
           262144,
           2,
           4,
           2,
           128
          ],
          [
           262144,
           4,
           2,
           2,
           128
          ],
          [
           524288,
           2,
           2,
           4,
           2
          ],
          [
           524288,
           2,
           2,
           4,
           4
          ],
          [
           524288,
           2,
           2,
           4,
           8
          ],
          [
           524288,
           2,
           2,
           4,
           16
          ],
          [
           524288,
           2,
           2,
           4,
           32
          ],
          [
           524288,
           2,
           4,
           2,
           8
          ],
          [
           524288,
           2,
           4,
           2,
           16
          ],
          [
           524288,
           2,
           2,
           4,
           64
          ],
          [
           524288,
           4,
           2,
           2,
           2
          ],
          [
           524288,
           4,
           2,
           2,
           4
          ],
          [
           524288,
           4,
           2,
           2,
           8
          ],
          [
           524288,
           2,
           4,
           2,
           32
          ],
          [
           524288,
           4,
           2,
           2,
           16
          ],
          [
           524288,
           4,
           2,
           2,
           32
          ],
          [
           524288,
           2,
           2,
           4,
           128
          ],
          [
           524288,
           2,
           4,
           2,
           64
          ],
          [
           524288,
           4,
           2,
           2,
           64
          ],
          [
           524288,
           2,
           4,
           2,
           128
          ],
          [
           524288,
           4,
           2,
           2,
           128
          ],
          [
           1048576,
           2,
           2,
           4,
           32
          ],
          [
           1048576,
           2,
           2,
           4,
           64
          ],
          [
           1048576,
           4,
           2,
           2,
           8
          ],
          [
           1048576,
           2,
           4,
           2,
           32
          ],
          [
           1048576,
           4,
           2,
           2,
           16
          ],
          [
           1048576,
           2,
           2,
           4,
           128
          ],
          [
           1048576,
           2,
           4,
           2,
           64
          ],
          [
           1048576,
           4,
           2,
           2,
           32
          ],
          [
           1048576,
           4,
           2,
           2,
           64
          ],
          [
           1048576,
           2,
           4,
           2,
           128
          ],
          [
           1048576,
           4,
           2,
           2,
           128
          ]
         ],
         "hovertemplate": "Parallelism style=D/T/P<br>Throughput (samples / second)=%{x}<br>Peak Memory (GB)=%{y}<br>dummy_column_for_size=%{marker.size}<br>batch_size=%{customdata[0]}<br>dp_degree=%{customdata[1]}<br>hp_degree=%{customdata[2]}<br>pp_degree=%{customdata[3]}<br>num_microbatches=%{customdata[4]}<extra></extra>",
         "legendgroup": "D/T/P",
         "marker": {
          "color": "#e377c2",
          "size": [
           1,
           1,
           1,
           1,
           1,
           1,
           1,
           1,
           1,
           1,
           1,
           1,
           1,
           1,
           1,
           1,
           1,
           1,
           1,
           1,
           1,
           1,
           1,
           1,
           1,
           1,
           1,
           1,
           1,
           1,
           1,
           1,
           1,
           1,
           1,
           1,
           1,
           1,
           1,
           1,
           1,
           1,
           1,
           1,
           1,
           1,
           1,
           1,
           1,
           1,
           1,
           1,
           1,
           1,
           1,
           1,
           1,
           1,
           1,
           1,
           1,
           1,
           1,
           1,
           1,
           1,
           1,
           1,
           1,
           1,
           1,
           1,
           1,
           1,
           1,
           1,
           1,
           1,
           1,
           1,
           1,
           1,
           1,
           1,
           1,
           1,
           1,
           1,
           1,
           1,
           1,
           1,
           1
          ],
          "sizemode": "area",
          "sizeref": 0.01,
          "symbol": "diamond"
         },
         "mode": "markers",
         "name": "D/T/P",
         "orientation": "v",
         "showlegend": true,
         "type": "scatter",
         "x": [
          84059.69530893816,
          118539.5496283319,
          147622.64672239425,
          165452.71616618818,
          124777.77471925442,
          147707.66918989713,
          169963.61102031462,
          160675.3199332711,
          161090.35299938274,
          163884.59428708063,
          157640.1435589512,
          139897.91974119007,
          164741.92820472963,
          177510.69438161477,
          177940.99118805467,
          166046.20188311205,
          139322.2797277782,
          141448.60148132127,
          141995.18896447407,
          115695.7654401677,
          108812.83525109464,
          119626.23400541152,
          84503.89089658584,
          150065.93285494985,
          125696.5418445158,
          170461.83559889538,
          149558.8908362672,
          179574.17975942852,
          164217.3515087913,
          170452.63654426768,
          169299.96051091957,
          141943.22878244132,
          177836.05459893122,
          168549.2149988604,
          184225.96023653453,
          189464.62564658432,
          160531.8633687481,
          184922.10331108884,
          165167.38823674523,
          170013.10347400364,
          142941.03148129708,
          144138.11327417006,
          84727.75379693058,
          120177.08204706947,
          151318.15792020524,
          173081.8827103089,
          184753.7695687596,
          126161.01797444012,
          150502.01242484577,
          166047.5821228079,
          173938.11638301768,
          187579.1626247276,
          142988.47528012368,
          175801.5200021296,
          170519.62140907338,
          187777.7964489906,
          182052.2393879532,
          195804.8845715545,
          196066.3800905576,
          172144.10636643818,
          188622.18561900908,
          162017.87539988718,
          172068.4915684105,
          84840.13062067723,
          120454.41284317536,
          151952.14018064714,
          174422.3433336855,
          187457.25310737736,
          166978.0818368739,
          175734.86278015273,
          192837.76256273448,
          143516.89262931971,
          171522.2023078437,
          189605.5734380652,
          179243.2233446834,
          199136.8500680852,
          202157.8727982237,
          191855.3873310249,
          178603.85627485116,
          199542.8412894484,
          173602.31790852878,
          190528.31374054844,
          188838.8834089898,
          195579.19916532896,
          190532.8704959191,
          181015.1087781251,
          200845.7221882084,
          197150.9821583164,
          182019.01032838403,
          205347.79913953948,
          205491.5106455841,
          180038.79622632894,
          201327.71637594447
         ],
         "xaxis": "x",
         "y": [
          4.026531844,
          3.758096384,
          3.623878656,
          2.818572288,
          6.174015488,
          5.100273664,
          2.5165824,
          3.3554432,
          2.365587456,
          2.650800128,
          2.415919104,
          4.02653184,
          3.758096384,
          2.717908992,
          2.248146944,
          2.097152,
          2.290089984,
          2.298478592,
          2.021654528,
          2.239758336,
          1.983905792,
          7.247757312,
          7.784628224,
          6.7108864,
          12.07959552,
          5.0331648,
          9.663676416,
          4.429185024,
          6.174015488,
          4.731174912,
          4.261412864,
          7.516192768,
          4.127195136,
          6.442450944,
          4.294967296,
          3.3554432,
          4.02653184,
          3.053453312,
          3.976200192,
          2.902458368,
          3.909091328,
          2.826960896,
          15.300820992,
          14.227079168,
          12.884901888,
          9.462349824,
          8.254390272,
          23.890755584,
          18.79048192,
          11.811160064,
          8.89192448,
          7.650410496,
          14.495514624,
          7.952400384,
          11.811160064,
          7.516192768,
          7.348420608,
          5.570035712,
          4.966055936,
          7.482638336,
          4.664066048,
          7.247757312,
          4.513071104,
          30.333206528,
          28.18572288,
          25.232932864,
          18.320719872,
          15.904800768,
          23.085449216,
          17.213423616,
          14.696841216,
          28.454158336,
          22.548578304,
          13.958643712,
          15.334375424,
          9.999220736,
          8.791261184,
          14.09286144,
          14.394851328,
          8.187281408,
          13.92508928,
          7.88529152,
          31.20562176,
          28.789702656,
          26.8435456,
          30.098325504,
          18.857590784,
          27.581743104,
          28.219277312,
          16.44167168,
          15.233712128,
          27.279753216,
          14.629732352
         ],
         "yaxis": "y"
        }
       ],
       "layout": {
        "legend": {
         "itemsizing": "constant",
         "title": {
          "text": "Parallelism style"
         },
         "tracegroupgap": 0
        },
        "margin": {
         "t": 60
        },
        "template": {
         "data": {
          "bar": [
           {
            "error_x": {
             "color": "#2a3f5f"
            },
            "error_y": {
             "color": "#2a3f5f"
            },
            "marker": {
             "line": {
              "color": "#E5ECF6",
              "width": 0.5
             },
             "pattern": {
              "fillmode": "overlay",
              "size": 10,
              "solidity": 0.2
             }
            },
            "type": "bar"
           }
          ],
          "barpolar": [
           {
            "marker": {
             "line": {
              "color": "#E5ECF6",
              "width": 0.5
             },
             "pattern": {
              "fillmode": "overlay",
              "size": 10,
              "solidity": 0.2
             }
            },
            "type": "barpolar"
           }
          ],
          "carpet": [
           {
            "aaxis": {
             "endlinecolor": "#2a3f5f",
             "gridcolor": "white",
             "linecolor": "white",
             "minorgridcolor": "white",
             "startlinecolor": "#2a3f5f"
            },
            "baxis": {
             "endlinecolor": "#2a3f5f",
             "gridcolor": "white",
             "linecolor": "white",
             "minorgridcolor": "white",
             "startlinecolor": "#2a3f5f"
            },
            "type": "carpet"
           }
          ],
          "choropleth": [
           {
            "colorbar": {
             "outlinewidth": 0,
             "ticks": ""
            },
            "type": "choropleth"
           }
          ],
          "contour": [
           {
            "colorbar": {
             "outlinewidth": 0,
             "ticks": ""
            },
            "colorscale": [
             [
              0,
              "#0d0887"
             ],
             [
              0.1111111111111111,
              "#46039f"
             ],
             [
              0.2222222222222222,
              "#7201a8"
             ],
             [
              0.3333333333333333,
              "#9c179e"
             ],
             [
              0.4444444444444444,
              "#bd3786"
             ],
             [
              0.5555555555555556,
              "#d8576b"
             ],
             [
              0.6666666666666666,
              "#ed7953"
             ],
             [
              0.7777777777777778,
              "#fb9f3a"
             ],
             [
              0.8888888888888888,
              "#fdca26"
             ],
             [
              1,
              "#f0f921"
             ]
            ],
            "type": "contour"
           }
          ],
          "contourcarpet": [
           {
            "colorbar": {
             "outlinewidth": 0,
             "ticks": ""
            },
            "type": "contourcarpet"
           }
          ],
          "heatmap": [
           {
            "colorbar": {
             "outlinewidth": 0,
             "ticks": ""
            },
            "colorscale": [
             [
              0,
              "#0d0887"
             ],
             [
              0.1111111111111111,
              "#46039f"
             ],
             [
              0.2222222222222222,
              "#7201a8"
             ],
             [
              0.3333333333333333,
              "#9c179e"
             ],
             [
              0.4444444444444444,
              "#bd3786"
             ],
             [
              0.5555555555555556,
              "#d8576b"
             ],
             [
              0.6666666666666666,
              "#ed7953"
             ],
             [
              0.7777777777777778,
              "#fb9f3a"
             ],
             [
              0.8888888888888888,
              "#fdca26"
             ],
             [
              1,
              "#f0f921"
             ]
            ],
            "type": "heatmap"
           }
          ],
          "heatmapgl": [
           {
            "colorbar": {
             "outlinewidth": 0,
             "ticks": ""
            },
            "colorscale": [
             [
              0,
              "#0d0887"
             ],
             [
              0.1111111111111111,
              "#46039f"
             ],
             [
              0.2222222222222222,
              "#7201a8"
             ],
             [
              0.3333333333333333,
              "#9c179e"
             ],
             [
              0.4444444444444444,
              "#bd3786"
             ],
             [
              0.5555555555555556,
              "#d8576b"
             ],
             [
              0.6666666666666666,
              "#ed7953"
             ],
             [
              0.7777777777777778,
              "#fb9f3a"
             ],
             [
              0.8888888888888888,
              "#fdca26"
             ],
             [
              1,
              "#f0f921"
             ]
            ],
            "type": "heatmapgl"
           }
          ],
          "histogram": [
           {
            "marker": {
             "pattern": {
              "fillmode": "overlay",
              "size": 10,
              "solidity": 0.2
             }
            },
            "type": "histogram"
           }
          ],
          "histogram2d": [
           {
            "colorbar": {
             "outlinewidth": 0,
             "ticks": ""
            },
            "colorscale": [
             [
              0,
              "#0d0887"
             ],
             [
              0.1111111111111111,
              "#46039f"
             ],
             [
              0.2222222222222222,
              "#7201a8"
             ],
             [
              0.3333333333333333,
              "#9c179e"
             ],
             [
              0.4444444444444444,
              "#bd3786"
             ],
             [
              0.5555555555555556,
              "#d8576b"
             ],
             [
              0.6666666666666666,
              "#ed7953"
             ],
             [
              0.7777777777777778,
              "#fb9f3a"
             ],
             [
              0.8888888888888888,
              "#fdca26"
             ],
             [
              1,
              "#f0f921"
             ]
            ],
            "type": "histogram2d"
           }
          ],
          "histogram2dcontour": [
           {
            "colorbar": {
             "outlinewidth": 0,
             "ticks": ""
            },
            "colorscale": [
             [
              0,
              "#0d0887"
             ],
             [
              0.1111111111111111,
              "#46039f"
             ],
             [
              0.2222222222222222,
              "#7201a8"
             ],
             [
              0.3333333333333333,
              "#9c179e"
             ],
             [
              0.4444444444444444,
              "#bd3786"
             ],
             [
              0.5555555555555556,
              "#d8576b"
             ],
             [
              0.6666666666666666,
              "#ed7953"
             ],
             [
              0.7777777777777778,
              "#fb9f3a"
             ],
             [
              0.8888888888888888,
              "#fdca26"
             ],
             [
              1,
              "#f0f921"
             ]
            ],
            "type": "histogram2dcontour"
           }
          ],
          "mesh3d": [
           {
            "colorbar": {
             "outlinewidth": 0,
             "ticks": ""
            },
            "type": "mesh3d"
           }
          ],
          "parcoords": [
           {
            "line": {
             "colorbar": {
              "outlinewidth": 0,
              "ticks": ""
             }
            },
            "type": "parcoords"
           }
          ],
          "pie": [
           {
            "automargin": true,
            "type": "pie"
           }
          ],
          "scatter": [
           {
            "marker": {
             "colorbar": {
              "outlinewidth": 0,
              "ticks": ""
             }
            },
            "type": "scatter"
           }
          ],
          "scatter3d": [
           {
            "line": {
             "colorbar": {
              "outlinewidth": 0,
              "ticks": ""
             }
            },
            "marker": {
             "colorbar": {
              "outlinewidth": 0,
              "ticks": ""
             }
            },
            "type": "scatter3d"
           }
          ],
          "scattercarpet": [
           {
            "marker": {
             "colorbar": {
              "outlinewidth": 0,
              "ticks": ""
             }
            },
            "type": "scattercarpet"
           }
          ],
          "scattergeo": [
           {
            "marker": {
             "colorbar": {
              "outlinewidth": 0,
              "ticks": ""
             }
            },
            "type": "scattergeo"
           }
          ],
          "scattergl": [
           {
            "marker": {
             "colorbar": {
              "outlinewidth": 0,
              "ticks": ""
             }
            },
            "type": "scattergl"
           }
          ],
          "scattermapbox": [
           {
            "marker": {
             "colorbar": {
              "outlinewidth": 0,
              "ticks": ""
             }
            },
            "type": "scattermapbox"
           }
          ],
          "scatterpolar": [
           {
            "marker": {
             "colorbar": {
              "outlinewidth": 0,
              "ticks": ""
             }
            },
            "type": "scatterpolar"
           }
          ],
          "scatterpolargl": [
           {
            "marker": {
             "colorbar": {
              "outlinewidth": 0,
              "ticks": ""
             }
            },
            "type": "scatterpolargl"
           }
          ],
          "scatterternary": [
           {
            "marker": {
             "colorbar": {
              "outlinewidth": 0,
              "ticks": ""
             }
            },
            "type": "scatterternary"
           }
          ],
          "surface": [
           {
            "colorbar": {
             "outlinewidth": 0,
             "ticks": ""
            },
            "colorscale": [
             [
              0,
              "#0d0887"
             ],
             [
              0.1111111111111111,
              "#46039f"
             ],
             [
              0.2222222222222222,
              "#7201a8"
             ],
             [
              0.3333333333333333,
              "#9c179e"
             ],
             [
              0.4444444444444444,
              "#bd3786"
             ],
             [
              0.5555555555555556,
              "#d8576b"
             ],
             [
              0.6666666666666666,
              "#ed7953"
             ],
             [
              0.7777777777777778,
              "#fb9f3a"
             ],
             [
              0.8888888888888888,
              "#fdca26"
             ],
             [
              1,
              "#f0f921"
             ]
            ],
            "type": "surface"
           }
          ],
          "table": [
           {
            "cells": {
             "fill": {
              "color": "#EBF0F8"
             },
             "line": {
              "color": "white"
             }
            },
            "header": {
             "fill": {
              "color": "#C8D4E3"
             },
             "line": {
              "color": "white"
             }
            },
            "type": "table"
           }
          ]
         },
         "layout": {
          "annotationdefaults": {
           "arrowcolor": "#2a3f5f",
           "arrowhead": 0,
           "arrowwidth": 1
          },
          "autotypenumbers": "strict",
          "coloraxis": {
           "colorbar": {
            "outlinewidth": 0,
            "ticks": ""
           }
          },
          "colorscale": {
           "diverging": [
            [
             0,
             "#8e0152"
            ],
            [
             0.1,
             "#c51b7d"
            ],
            [
             0.2,
             "#de77ae"
            ],
            [
             0.3,
             "#f1b6da"
            ],
            [
             0.4,
             "#fde0ef"
            ],
            [
             0.5,
             "#f7f7f7"
            ],
            [
             0.6,
             "#e6f5d0"
            ],
            [
             0.7,
             "#b8e186"
            ],
            [
             0.8,
             "#7fbc41"
            ],
            [
             0.9,
             "#4d9221"
            ],
            [
             1,
             "#276419"
            ]
           ],
           "sequential": [
            [
             0,
             "#0d0887"
            ],
            [
             0.1111111111111111,
             "#46039f"
            ],
            [
             0.2222222222222222,
             "#7201a8"
            ],
            [
             0.3333333333333333,
             "#9c179e"
            ],
            [
             0.4444444444444444,
             "#bd3786"
            ],
            [
             0.5555555555555556,
             "#d8576b"
            ],
            [
             0.6666666666666666,
             "#ed7953"
            ],
            [
             0.7777777777777778,
             "#fb9f3a"
            ],
            [
             0.8888888888888888,
             "#fdca26"
            ],
            [
             1,
             "#f0f921"
            ]
           ],
           "sequentialminus": [
            [
             0,
             "#0d0887"
            ],
            [
             0.1111111111111111,
             "#46039f"
            ],
            [
             0.2222222222222222,
             "#7201a8"
            ],
            [
             0.3333333333333333,
             "#9c179e"
            ],
            [
             0.4444444444444444,
             "#bd3786"
            ],
            [
             0.5555555555555556,
             "#d8576b"
            ],
            [
             0.6666666666666666,
             "#ed7953"
            ],
            [
             0.7777777777777778,
             "#fb9f3a"
            ],
            [
             0.8888888888888888,
             "#fdca26"
            ],
            [
             1,
             "#f0f921"
            ]
           ]
          },
          "colorway": [
           "#636efa",
           "#EF553B",
           "#00cc96",
           "#ab63fa",
           "#FFA15A",
           "#19d3f3",
           "#FF6692",
           "#B6E880",
           "#FF97FF",
           "#FECB52"
          ],
          "font": {
           "color": "#2a3f5f"
          },
          "geo": {
           "bgcolor": "white",
           "lakecolor": "white",
           "landcolor": "#E5ECF6",
           "showlakes": true,
           "showland": true,
           "subunitcolor": "white"
          },
          "hoverlabel": {
           "align": "left"
          },
          "hovermode": "closest",
          "mapbox": {
           "style": "light"
          },
          "paper_bgcolor": "white",
          "plot_bgcolor": "#E5ECF6",
          "polar": {
           "angularaxis": {
            "gridcolor": "white",
            "linecolor": "white",
            "ticks": ""
           },
           "bgcolor": "#E5ECF6",
           "radialaxis": {
            "gridcolor": "white",
            "linecolor": "white",
            "ticks": ""
           }
          },
          "scene": {
           "xaxis": {
            "backgroundcolor": "#E5ECF6",
            "gridcolor": "white",
            "gridwidth": 2,
            "linecolor": "white",
            "showbackground": true,
            "ticks": "",
            "zerolinecolor": "white"
           },
           "yaxis": {
            "backgroundcolor": "#E5ECF6",
            "gridcolor": "white",
            "gridwidth": 2,
            "linecolor": "white",
            "showbackground": true,
            "ticks": "",
            "zerolinecolor": "white"
           },
           "zaxis": {
            "backgroundcolor": "#E5ECF6",
            "gridcolor": "white",
            "gridwidth": 2,
            "linecolor": "white",
            "showbackground": true,
            "ticks": "",
            "zerolinecolor": "white"
           }
          },
          "shapedefaults": {
           "line": {
            "color": "#2a3f5f"
           }
          },
          "ternary": {
           "aaxis": {
            "gridcolor": "white",
            "linecolor": "white",
            "ticks": ""
           },
           "baxis": {
            "gridcolor": "white",
            "linecolor": "white",
            "ticks": ""
           },
           "bgcolor": "#E5ECF6",
           "caxis": {
            "gridcolor": "white",
            "linecolor": "white",
            "ticks": ""
           }
          },
          "title": {
           "x": 0.05
          },
          "xaxis": {
           "automargin": true,
           "gridcolor": "white",
           "linecolor": "white",
           "ticks": "",
           "title": {
            "standoff": 15
           },
           "zerolinecolor": "white",
           "zerolinewidth": 2
          },
          "yaxis": {
           "automargin": true,
           "gridcolor": "white",
           "linecolor": "white",
           "ticks": "",
           "title": {
            "standoff": 15
           },
           "zerolinecolor": "white",
           "zerolinewidth": 2
          }
         }
        },
        "xaxis": {
         "anchor": "y",
         "domain": [
          0,
          1
         ],
         "title": {
          "text": "Throughput (samples / second)"
         }
        },
        "yaxis": {
         "anchor": "x",
         "domain": [
          0,
          1
         ],
         "title": {
          "text": "Peak Memory (GB)"
         }
        }
       }
      },
      "text/html": [
       "<div>                            <div id=\"a172ad62-f3b7-4bee-9bad-c0f6c94c64dd\" class=\"plotly-graph-div\" style=\"height:525px; width:100%;\"></div>            <script type=\"text/javascript\">                require([\"plotly\"], function(Plotly) {                    window.PLOTLYENV=window.PLOTLYENV || {};                                    if (document.getElementById(\"a172ad62-f3b7-4bee-9bad-c0f6c94c64dd\")) {                    Plotly.newPlot(                        \"a172ad62-f3b7-4bee-9bad-c0f6c94c64dd\",                        [{\"customdata\":[[65536,16,1,1,1],[131072,16,1,1,1],[262144,16,1,1,1],[524288,16,1,1,1]],\"hovertemplate\":\"Parallelism style=D<br>Throughput (samples / second)=%{x}<br>Peak Memory (GB)=%{y}<br>dummy_column_for_size=%{marker.size}<br>batch_size=%{customdata[0]}<br>dp_degree=%{customdata[1]}<br>hp_degree=%{customdata[2]}<br>pp_degree=%{customdata[3]}<br>num_microbatches=%{customdata[4]}<extra></extra>\",\"legendgroup\":\"D\",\"marker\":{\"color\":\"#1f77b4\",\"size\":[1.0,1.0,1.0,1.0],\"sizemode\":\"area\",\"sizeref\":0.01,\"symbol\":\"circle\"},\"mode\":\"markers\",\"name\":\"D\",\"orientation\":\"v\",\"showlegend\":true,\"type\":\"scatter\",\"x\":[208781.6494627336,221912.05526147183,229116.7000535617,232897.34789311315],\"xaxis\":\"x\",\"y\":[4.697620484,6.97932186,11.811160068,21.474836484],\"yaxis\":\"y\"},{\"customdata\":[[65536,1,16,1,1]],\"hovertemplate\":\"Parallelism style=T<br>Throughput (samples / second)=%{x}<br>Peak Memory (GB)=%{y}<br>dummy_column_for_size=%{marker.size}<br>batch_size=%{customdata[0]}<br>dp_degree=%{customdata[1]}<br>hp_degree=%{customdata[2]}<br>pp_degree=%{customdata[3]}<br>num_microbatches=%{customdata[4]}<extra></extra>\",\"legendgroup\":\"T\",\"marker\":{\"color\":\"#ff7f0e\",\"size\":[1.0],\"sizemode\":\"area\",\"sizeref\":0.01,\"symbol\":\"diamond\"},\"mode\":\"markers\",\"name\":\"T\",\"orientation\":\"v\",\"showlegend\":true,\"type\":\"scatter\",\"x\":[116463.99258918816],\"xaxis\":\"x\",\"y\":[22.682796036],\"yaxis\":\"y\"},{\"customdata\":[[65536,1,1,16,2],[65536,1,1,16,4],[65536,1,1,16,8],[65536,1,1,16,16],[65536,1,1,16,32],[65536,1,1,16,64],[65536,1,1,16,128],[131072,1,1,16,2],[131072,1,1,16,4],[131072,1,1,16,8],[131072,1,1,16,16],[131072,1,1,16,32],[131072,1,1,16,64],[131072,1,1,16,128],[262144,1,1,16,2],[262144,1,1,16,4],[262144,1,1,16,8],[262144,1,1,16,16],[262144,1,1,16,32],[262144,1,1,16,64],[262144,1,1,16,128],[524288,1,1,16,8],[524288,1,1,16,32],[524288,1,1,16,16],[524288,1,1,16,64],[524288,1,1,16,128]],\"hovertemplate\":\"Parallelism style=P<br>Throughput (samples / second)=%{x}<br>Peak Memory (GB)=%{y}<br>dummy_column_for_size=%{marker.size}<br>batch_size=%{customdata[0]}<br>dp_degree=%{customdata[1]}<br>hp_degree=%{customdata[2]}<br>pp_degree=%{customdata[3]}<br>num_microbatches=%{customdata[4]}<extra></extra>\",\"legendgroup\":\"P\",\"marker\":{\"color\":\"#2ca02c\",\"size\":[1.0,1.0,1.0,1.0,1.0,1.0,1.0,1.0,1.0,1.0,1.0,1.0,1.0,1.0,1.0,1.0,1.0,1.0,1.0,1.0,1.0,1.0,1.0,1.0,1.0,1.0],\"sizemode\":\"area\",\"sizeref\":0.01,\"symbol\":\"square\"},\"mode\":\"markers\",\"name\":\"P\",\"orientation\":\"v\",\"showlegend\":true,\"type\":\"scatter\",\"x\":[25801.395993871705,45212.01764787603,74139.37812013793,108594.20123721418,140061.77801589086,160076.17370074225,164322.73993776194,25835.165633748817,45325.375515157735,74510.20920466808,109675.09025666297,142822.40559975622,166264.25151143532,176594.72120157813,25852.0836244319,45382.26787881224,74697.01935469096,110223.6440707821,144243.9346941408,169541.23626779125,183421.2277504135,74790.7761449424,144965.3638055693,110499.98388266204,171228.6515597487,187036.29761736025],\"xaxis\":\"x\",\"y\":[5.100273668,4.2949673,3.892314116,3.690987524,3.623878656,3.623878656,3.623878656,9.932111876,8.32149914,7.516192772,7.113539588,6.912212996,6.845104128,6.845104128,19.595788292,16.37456282,14.763950084,13.958643716,13.555990532,13.35466394,13.287555072,29.259464708,26.843545604,27.648851972,26.44089242,26.239565828],\"yaxis\":\"y\"},{\"customdata\":[[65536,2,8,1,1],[65536,4,4,1,1],[65536,8,2,1,1],[131072,2,8,1,1],[131072,4,4,1,1],[131072,8,2,1,1],[262144,4,4,1,1],[262144,8,2,1,1],[524288,8,2,1,1]],\"hovertemplate\":\"Parallelism style=D/T<br>Throughput (samples / second)=%{x}<br>Peak Memory (GB)=%{y}<br>dummy_column_for_size=%{marker.size}<br>batch_size=%{customdata[0]}<br>dp_degree=%{customdata[1]}<br>hp_degree=%{customdata[2]}<br>pp_degree=%{customdata[3]}<br>num_microbatches=%{customdata[4]}<extra></extra>\",\"legendgroup\":\"D/T\",\"marker\":{\"color\":\"#d62728\",\"size\":[1.0,1.0,1.0,1.0,1.0,1.0,1.0,1.0,1.0],\"sizemode\":\"area\",\"sizeref\":0.01,\"symbol\":\"x\"},\"mode\":\"markers\",\"name\":\"D/T\",\"orientation\":\"v\",\"showlegend\":true,\"type\":\"scatter\",\"x\":[155253.77316711552,187167.43179091305,204604.14911087835,156359.69891601437,190004.43597384257,211086.2289988578,191455.43593520188,214483.76741908735,216223.88318594612],\"xaxis\":\"x\",\"y\":[12.079595524,6.97932186,4.831838212,23.890755588,13.421772804,8.589934596,26.306674692,16.106127364,31.1385129],\"yaxis\":\"y\"},{\"customdata\":[[65536,1,2,8,2],[65536,1,2,8,4],[65536,1,2,8,16],[65536,1,2,8,8],[65536,1,2,8,32],[65536,1,4,4,2],[65536,1,4,4,4],[65536,1,4,4,16],[65536,1,2,8,64],[65536,1,4,4,8],[65536,1,8,2,2],[65536,1,8,2,4],[65536,1,4,4,32],[65536,1,2,8,128],[65536,1,8,2,8],[65536,1,8,2,16],[65536,1,4,4,64],[65536,1,8,2,32],[65536,1,4,4,128],[65536,1,8,2,64],[65536,1,8,2,128],[131072,1,2,8,2],[131072,1,2,8,4],[131072,1,2,8,8],[131072,1,2,8,16],[131072,1,4,4,2],[131072,1,2,8,32],[131072,1,4,4,4],[131072,1,4,4,8],[131072,1,4,4,16],[131072,1,2,8,64],[131072,1,8,2,2],[131072,1,8,2,4],[131072,1,8,2,8],[131072,1,4,4,32],[131072,1,8,2,16],[131072,1,4,4,64],[131072,1,8,2,32],[131072,1,2,8,128],[131072,1,8,2,64],[131072,1,4,4,128],[131072,1,8,2,128],[262144,1,2,8,2],[262144,1,2,8,4],[262144,1,2,8,8],[262144,1,2,8,16],[262144,1,2,8,32],[262144,1,4,4,2],[262144,1,4,4,4],[262144,1,4,4,8],[262144,1,4,4,16],[262144,1,4,4,32],[262144,1,2,8,64],[262144,1,8,2,8],[262144,1,8,2,16],[262144,1,2,8,128],[262144,1,4,4,64],[262144,1,8,2,32],[262144,1,4,4,128],[262144,1,8,2,64],[262144,1,8,2,128],[524288,1,2,8,8],[524288,1,2,8,16],[524288,1,2,8,32],[524288,1,2,8,64],[524288,1,4,4,32],[524288,1,2,8,128],[524288,1,8,2,32],[524288,1,4,4,64],[524288,1,4,4,128],[524288,1,8,2,64],[524288,1,8,2,128]],\"hovertemplate\":\"Parallelism style=T/P<br>Throughput (samples / second)=%{x}<br>Peak Memory (GB)=%{y}<br>dummy_column_for_size=%{marker.size}<br>batch_size=%{customdata[0]}<br>dp_degree=%{customdata[1]}<br>hp_degree=%{customdata[2]}<br>pp_degree=%{customdata[3]}<br>num_microbatches=%{customdata[4]}<extra></extra>\",\"legendgroup\":\"T/P\",\"marker\":{\"color\":\"#9467bd\",\"size\":[1.0,1.0,1.0,1.0,1.0,1.0,1.0,1.0,1.0,1.0,1.0,1.0,1.0,1.0,1.0,1.0,1.0,1.0,1.0,1.0,1.0,1.0,1.0,1.0,1.0,1.0,1.0,1.0,1.0,1.0,1.0,1.0,1.0,1.0,1.0,1.0,1.0,1.0,1.0,1.0,1.0,1.0,1.0,1.0,1.0,1.0,1.0,1.0,1.0,1.0,1.0,1.0,1.0,1.0,1.0,1.0,1.0,1.0,1.0,1.0,1.0,1.0,1.0,1.0,1.0,1.0,1.0,1.0,1.0,1.0,1.0,1.0],\"sizemode\":\"area\",\"sizeref\":0.01,\"symbol\":\"cross\"},\"mode\":\"markers\",\"name\":\"T/P\",\"orientation\":\"v\",\"showlegend\":true,\"type\":\"scatter\",\"x\":[45365.24321646232,73019.6499651487,135328.96033822888,105735.1382999462,154887.84255637357,73396.91983723754,103488.88681365302,145587.1921571089,161507.10849580253,129022.60148328266,101698.25581354147,120584.1262841447,152059.10532082635,154683.27599366632,131746.38226931135,135614.8188018277,148643.36444470254,132711.18074833273,135153.0595704206,122623.96534678237,104785.45176972813,45442.80132277324,73258.81686559906,106427.64250532688,137095.14306199932,73560.21261669621,158887.244495866,103931.4495724466,130129.19258552424,148075.72380801648,169648.74992936457,102028.65388624831,121379.00122659214,133491.72597753952,157185.62750527446,139184.2502280342,158358.5810225265,139541.49230142162,169581.7382840128,134648.88836490468,151780.8883383795,123516.16700783047,45481.679908177146,73378.98880094857,106777.30741148096,137995.63585896097,160965.41075259005,73642.13177904063,104154.15343419826,130689.6369874467,149352.16711837487,159880.73789660234,174035.34755263515,134381.8548785096,141040.36714541947,178137.03483100975,163706.60094745798,143227.26635058195,161708.1890769321,141591.35314658863,135639.117483402,106953.00289265015,138450.33295756218,162025.01411517564,176314.8285633887,161263.25062822367,182746.76698852927,145144.14611993477,166518.39584063963,167174.2813785089,145338.15352699743,142639.0349793262],\"xaxis\":\"x\",\"y\":[5.63714458,4.563402756,3.758096388,4.026531844,3.62387866,6.710886404,6.03979776,4.328521728,3.556769796,5.502926848,10.871635968,8.589934592,3.925868544,3.556769792,5.502926848,4.311744512,3.724541952,3.909091328,3.623878656,3.707764736,3.60710144,11.0058537,8.858370052,7.784628228,7.247757316,13.153337348,6.97932186,11.945377792,10.73741824,8.355053568,6.845104132,21.609054208,16.911433728,10.73741824,7.5497472,8.338276352,7.147094016,7.532969984,6.777995268,7.1303168,6.945767424,6.928990208,21.74327194,17.448304644,15.300820996,14.227079172,13.69020826,26.038239236,23.756537856,21.206401024,16.408117248,14.797504512,13.421772804,21.206401024,16.391340032,13.287555076,13.992198144,14.780727296,13.58954496,13.975420928,13.572767744,30.333206532,28.185722884,27.11198106,26.575110148,29.293019136,26.306674692,29.27624192,27.6824064,26.877100032,27.665629184,26.860322816],\"yaxis\":\"y\"},{\"customdata\":[[65536,2,1,8,2],[65536,2,1,8,4],[65536,2,1,8,8],[65536,2,1,8,16],[65536,2,1,8,32],[65536,2,1,8,64],[65536,2,1,8,128],[65536,4,1,4,2],[65536,4,1,4,4],[65536,4,1,4,8],[65536,4,1,4,16],[65536,4,1,4,32],[65536,8,1,2,4],[65536,8,1,2,2],[65536,4,1,4,64],[65536,8,1,2,8],[65536,8,1,2,16],[65536,8,1,2,32],[65536,4,1,4,128],[65536,8,1,2,64],[65536,8,1,2,128],[131072,2,1,8,2],[131072,2,1,8,4],[131072,2,1,8,8],[131072,2,1,8,16],[131072,2,1,8,32],[131072,2,1,8,64],[131072,2,1,8,128],[131072,4,1,4,2],[131072,4,1,4,4],[131072,4,1,4,8],[131072,4,1,4,16],[131072,4,1,4,32],[131072,4,1,4,64],[131072,8,1,2,2],[131072,8,1,2,4],[131072,8,1,2,8],[131072,8,1,2,16],[131072,4,1,4,128],[131072,8,1,2,32],[131072,8,1,2,64],[131072,8,1,2,128],[262144,2,1,8,2],[262144,2,1,8,4],[262144,2,1,8,8],[262144,2,1,8,16],[262144,2,1,8,32],[262144,2,1,8,64],[262144,2,1,8,128],[262144,4,1,4,2],[262144,4,1,4,4],[262144,4,1,4,8],[262144,4,1,4,16],[262144,4,1,4,32],[262144,4,1,4,64],[262144,8,1,2,4],[262144,8,1,2,2],[262144,8,1,2,8],[262144,8,1,2,16],[262144,8,1,2,32],[262144,8,1,2,64],[262144,4,1,4,128],[262144,8,1,2,128],[524288,2,1,8,2],[524288,2,1,8,4],[524288,2,1,8,8],[524288,2,1,8,16],[524288,2,1,8,32],[524288,2,1,8,64],[524288,4,1,4,2],[524288,4,1,4,4],[524288,2,1,8,128],[524288,4,1,4,8],[524288,4,1,4,16],[524288,4,1,4,32],[524288,8,1,2,2],[524288,8,1,2,4],[524288,4,1,4,64],[524288,8,1,2,8],[524288,8,1,2,16],[524288,8,1,2,32],[524288,4,1,4,128],[524288,8,1,2,64],[524288,8,1,2,128],[1048576,2,1,8,32],[1048576,2,1,8,64],[1048576,2,1,8,128],[1048576,4,1,4,16],[1048576,4,1,4,32],[1048576,8,1,2,4],[1048576,8,1,2,8],[1048576,4,1,4,64],[1048576,8,1,2,16],[1048576,8,1,2,32],[1048576,4,1,4,128],[1048576,8,1,2,64],[1048576,8,1,2,128]],\"hovertemplate\":\"Parallelism style=D/P<br>Throughput (samples / second)=%{x}<br>Peak Memory (GB)=%{y}<br>dummy_column_for_size=%{marker.size}<br>batch_size=%{customdata[0]}<br>dp_degree=%{customdata[1]}<br>hp_degree=%{customdata[2]}<br>pp_degree=%{customdata[3]}<br>num_microbatches=%{customdata[4]}<extra></extra>\",\"legendgroup\":\"D/P\",\"marker\":{\"color\":\"#8c564b\",\"size\":[1.0,1.0,1.0,1.0,1.0,1.0,1.0,1.0,1.0,1.0,1.0,1.0,1.0,1.0,1.0,1.0,1.0,1.0,1.0,1.0,1.0,1.0,1.0,1.0,1.0,1.0,1.0,1.0,1.0,1.0,1.0,1.0,1.0,1.0,1.0,1.0,1.0,1.0,1.0,1.0,1.0,1.0,1.0,1.0,1.0,1.0,1.0,1.0,1.0,1.0,1.0,1.0,1.0,1.0,1.0,1.0,1.0,1.0,1.0,1.0,1.0,1.0,1.0,1.0,1.0,1.0,1.0,1.0,1.0,1.0,1.0,1.0,1.0,1.0,1.0,1.0,1.0,1.0,1.0,1.0,1.0,1.0,1.0,1.0,1.0,1.0,1.0,1.0,1.0,1.0,1.0,1.0,1.0,1.0,1.0,1.0,1.0],\"sizemode\":\"area\",\"sizeref\":0.01,\"symbol\":\"circle\"},\"mode\":\"markers\",\"name\":\"D/P\",\"orientation\":\"v\",\"showlegend\":true,\"type\":\"scatter\",\"x\":[50472.54728394668,81474.31291174726,117681.9819898045,149696.5142162235,169043.7260875458,171898.18196343302,157844.5049237459,91491.542786689,128527.51176905751,159078.646542664,175914.69105111962,176452.1011037941,173223.75826843537,148525.01625857077,160625.2440521742,183958.55557860676,180056.3636171646,161675.91222244603,130842.60022369432,130789.12168894312,93754.05437015236,50660.73531444648,82027.90252434791,119175.03460354326,153222.0925100157,176519.92151879132,185966.681278792,181251.6559121752,92427.1500056458,130777.87524384768,163781.5274000225,184902.57636945596,192235.94938188215,185794.73992380663,152697.96259668376,180467.111875724,195737.3363940406,198575.57334183573,165576.93524770968,189193.2250840141,167141.31143194265,133750.18187002686,50755.35656007755,82307.52803409508,119935.85858061704,155047.89823223784,180473.52576448655,193891.09617248463,195765.72769862108,92902.16624621424,131890.69818409943,166180.5274648547,189726.26620166985,201236.36428792487,201587.53394279163,184320.80015157533,154873.62069328755,202211.07703456545,209341.1836371481,206791.20287931137,194118.44204808865,190847.1478027632,170014.9603796655,50802.79985293334,82448.05692265127,120319.92511035688,155977.2162217291,182517.49318115477,198089.1342434988,93141.51004259128,132454.24197439212,203925.14585494023,167406.5765633226,192194.7668032172,206046.22476957232,155984.86582883814,186310.0290116525,210535.42617213697,205611.2300161713,215173.92163987752,216877.74187707787,206613.0225626155,211159.33034406696,196678.4813742884,183556.93760375484,200257.0698001221,208252.66777186215,193453.2628068829,208515.48700900289,187320.83192879485,207354.54992105355,215306.3850900728,218213.8979919433,222299.2244284448,215514.8592386182,220853.2456927191,213413.3349554441],\"xaxis\":\"x\",\"y\":[3.489660932,2.818572292,2.751463424,2.85212672,2.5165824,2.399141888,2.340421632,3.087007748,3.01989888,3.254779904,2.566914048,2.26492416,4.060086272,3.690987524,2.13909504,3.372220416,3.028287488,2.856321024,2.07618048,2.770337792,2.727346176,6.442450948,5.100273668,4.831838208,4.898947072,4.36207616,4.127195136,4.009754624,5.36870912,5.100273664,5.167382528,3.825205248,3.321888768,3.070230528,5.637144576,5.70425344,4.328521728,3.640655872,2.944401408,3.305111552,3.196059648,3.141533696,12.34803098,9.932111872,9.39524096,9.126805504,8.05306368,7.583301632,7.348420608,10.200547328,9.663676416,9.126805504,6.442450944,5.435817984,4.932501504,9.126805504,10.200547328,6.241124352,4.86539264,4.328521728,4.11041792,4.680843264,4.001366016,24.159191044,19.595788288,18.522046464,17.716740096,15.43503872,14.495514624,19.864223744,18.79048192,14.025752576,17.179869184,11.676942336,9.663676416,19.327352832,16.10612736,8.657043456,10.200547328,7.314866176,6.37534208,8.153726976,5.939134464,5.721030656,30.1989888,28.319940608,27.380416512,22.14592512,18.11939328,30.064771072,18.253611008,16.10612736,12.348030976,10.468982784,15.0994944,9.596567552,9.160359936],\"yaxis\":\"y\"},{\"customdata\":[[65536,2,2,4,2],[65536,2,2,4,4],[65536,2,2,4,8],[65536,2,2,4,16],[65536,2,4,2,2],[65536,2,4,2,4],[65536,2,2,4,32],[65536,2,4,2,8],[65536,2,2,4,64],[65536,2,4,2,16],[65536,2,4,2,32],[65536,4,2,2,2],[65536,4,2,2,4],[65536,4,2,2,8],[65536,4,2,2,16],[65536,4,2,2,32],[65536,2,2,4,128],[65536,2,4,2,64],[65536,4,2,2,64],[65536,2,4,2,128],[65536,4,2,2,128],[131072,2,2,4,4],[131072,2,2,4,2],[131072,2,2,4,8],[131072,2,4,2,2],[131072,2,2,4,16],[131072,2,4,2,4],[131072,2,2,4,32],[131072,2,4,2,8],[131072,2,4,2,16],[131072,2,4,2,32],[131072,4,2,2,2],[131072,2,2,4,64],[131072,4,2,2,4],[131072,4,2,2,8],[131072,4,2,2,16],[131072,2,4,2,64],[131072,4,2,2,32],[131072,2,2,4,128],[131072,4,2,2,64],[131072,2,4,2,128],[131072,4,2,2,128],[262144,2,2,4,2],[262144,2,2,4,4],[262144,2,2,4,8],[262144,2,2,4,16],[262144,2,2,4,32],[262144,2,4,2,2],[262144,2,4,2,4],[262144,2,4,2,8],[262144,2,4,2,16],[262144,2,2,4,64],[262144,4,2,2,2],[262144,2,4,2,32],[262144,4,2,2,4],[262144,4,2,2,8],[262144,2,2,4,128],[262144,4,2,2,16],[262144,4,2,2,32],[262144,2,4,2,64],[262144,4,2,2,64],[262144,2,4,2,128],[262144,4,2,2,128],[524288,2,2,4,2],[524288,2,2,4,4],[524288,2,2,4,8],[524288,2,2,4,16],[524288,2,2,4,32],[524288,2,4,2,8],[524288,2,4,2,16],[524288,2,2,4,64],[524288,4,2,2,2],[524288,4,2,2,4],[524288,4,2,2,8],[524288,2,4,2,32],[524288,4,2,2,16],[524288,4,2,2,32],[524288,2,2,4,128],[524288,2,4,2,64],[524288,4,2,2,64],[524288,2,4,2,128],[524288,4,2,2,128],[1048576,2,2,4,32],[1048576,2,2,4,64],[1048576,4,2,2,8],[1048576,2,4,2,32],[1048576,4,2,2,16],[1048576,2,2,4,128],[1048576,2,4,2,64],[1048576,4,2,2,32],[1048576,4,2,2,64],[1048576,2,4,2,128],[1048576,4,2,2,128]],\"hovertemplate\":\"Parallelism style=D/T/P<br>Throughput (samples / second)=%{x}<br>Peak Memory (GB)=%{y}<br>dummy_column_for_size=%{marker.size}<br>batch_size=%{customdata[0]}<br>dp_degree=%{customdata[1]}<br>hp_degree=%{customdata[2]}<br>pp_degree=%{customdata[3]}<br>num_microbatches=%{customdata[4]}<extra></extra>\",\"legendgroup\":\"D/T/P\",\"marker\":{\"color\":\"#e377c2\",\"size\":[1.0,1.0,1.0,1.0,1.0,1.0,1.0,1.0,1.0,1.0,1.0,1.0,1.0,1.0,1.0,1.0,1.0,1.0,1.0,1.0,1.0,1.0,1.0,1.0,1.0,1.0,1.0,1.0,1.0,1.0,1.0,1.0,1.0,1.0,1.0,1.0,1.0,1.0,1.0,1.0,1.0,1.0,1.0,1.0,1.0,1.0,1.0,1.0,1.0,1.0,1.0,1.0,1.0,1.0,1.0,1.0,1.0,1.0,1.0,1.0,1.0,1.0,1.0,1.0,1.0,1.0,1.0,1.0,1.0,1.0,1.0,1.0,1.0,1.0,1.0,1.0,1.0,1.0,1.0,1.0,1.0,1.0,1.0,1.0,1.0,1.0,1.0,1.0,1.0,1.0,1.0,1.0,1.0],\"sizemode\":\"area\",\"sizeref\":0.01,\"symbol\":\"diamond\"},\"mode\":\"markers\",\"name\":\"D/T/P\",\"orientation\":\"v\",\"showlegend\":true,\"type\":\"scatter\",\"x\":[84059.69530893816,118539.5496283319,147622.64672239425,165452.71616618818,124777.77471925442,147707.66918989713,169963.61102031462,160675.3199332711,161090.35299938274,163884.59428708063,157640.1435589512,139897.91974119007,164741.92820472963,177510.69438161477,177940.99118805467,166046.20188311205,139322.2797277782,141448.60148132127,141995.18896447407,115695.7654401677,108812.83525109464,119626.23400541152,84503.89089658584,150065.93285494985,125696.5418445158,170461.83559889538,149558.8908362672,179574.17975942852,164217.3515087913,170452.63654426768,169299.96051091957,141943.22878244132,177836.05459893122,168549.2149988604,184225.96023653453,189464.62564658432,160531.8633687481,184922.10331108884,165167.38823674523,170013.10347400364,142941.03148129708,144138.11327417006,84727.75379693058,120177.08204706947,151318.15792020524,173081.8827103089,184753.7695687596,126161.01797444012,150502.01242484577,166047.5821228079,173938.11638301768,187579.1626247276,142988.47528012368,175801.5200021296,170519.62140907338,187777.7964489906,182052.2393879532,195804.8845715545,196066.3800905576,172144.10636643818,188622.18561900908,162017.87539988718,172068.4915684105,84840.13062067723,120454.41284317536,151952.14018064714,174422.3433336855,187457.25310737736,166978.0818368739,175734.86278015273,192837.76256273448,143516.89262931971,171522.2023078437,189605.5734380652,179243.2233446834,199136.8500680852,202157.8727982237,191855.3873310249,178603.85627485116,199542.8412894484,173602.31790852878,190528.31374054844,188838.8834089898,195579.19916532896,190532.8704959191,181015.1087781251,200845.7221882084,197150.9821583164,182019.01032838403,205347.79913953948,205491.5106455841,180038.79622632894,201327.71637594447],\"xaxis\":\"x\",\"y\":[4.026531844,3.758096384,3.623878656,2.818572288,6.174015488,5.100273664,2.5165824,3.3554432,2.365587456,2.650800128,2.415919104,4.02653184,3.758096384,2.717908992,2.248146944,2.097152,2.290089984,2.298478592,2.021654528,2.239758336,1.983905792,7.247757312,7.784628224,6.7108864,12.07959552,5.0331648,9.663676416,4.429185024,6.174015488,4.731174912,4.261412864,7.516192768,4.127195136,6.442450944,4.294967296,3.3554432,4.02653184,3.053453312,3.976200192,2.902458368,3.909091328,2.826960896,15.300820992,14.227079168,12.884901888,9.462349824,8.254390272,23.890755584,18.79048192,11.811160064,8.89192448,7.650410496,14.495514624,7.952400384,11.811160064,7.516192768,7.348420608,5.570035712,4.966055936,7.482638336,4.664066048,7.247757312,4.513071104,30.333206528,28.18572288,25.232932864,18.320719872,15.904800768,23.085449216,17.213423616,14.696841216,28.454158336,22.548578304,13.958643712,15.334375424,9.999220736,8.791261184,14.09286144,14.394851328,8.187281408,13.92508928,7.88529152,31.20562176,28.789702656,26.8435456,30.098325504,18.857590784,27.581743104,28.219277312,16.44167168,15.233712128,27.279753216,14.629732352],\"yaxis\":\"y\"}],                        {\"legend\":{\"itemsizing\":\"constant\",\"title\":{\"text\":\"Parallelism style\"},\"tracegroupgap\":0},\"margin\":{\"t\":60},\"template\":{\"data\":{\"bar\":[{\"error_x\":{\"color\":\"#2a3f5f\"},\"error_y\":{\"color\":\"#2a3f5f\"},\"marker\":{\"line\":{\"color\":\"#E5ECF6\",\"width\":0.5},\"pattern\":{\"fillmode\":\"overlay\",\"size\":10,\"solidity\":0.2}},\"type\":\"bar\"}],\"barpolar\":[{\"marker\":{\"line\":{\"color\":\"#E5ECF6\",\"width\":0.5},\"pattern\":{\"fillmode\":\"overlay\",\"size\":10,\"solidity\":0.2}},\"type\":\"barpolar\"}],\"carpet\":[{\"aaxis\":{\"endlinecolor\":\"#2a3f5f\",\"gridcolor\":\"white\",\"linecolor\":\"white\",\"minorgridcolor\":\"white\",\"startlinecolor\":\"#2a3f5f\"},\"baxis\":{\"endlinecolor\":\"#2a3f5f\",\"gridcolor\":\"white\",\"linecolor\":\"white\",\"minorgridcolor\":\"white\",\"startlinecolor\":\"#2a3f5f\"},\"type\":\"carpet\"}],\"choropleth\":[{\"colorbar\":{\"outlinewidth\":0,\"ticks\":\"\"},\"type\":\"choropleth\"}],\"contour\":[{\"colorbar\":{\"outlinewidth\":0,\"ticks\":\"\"},\"colorscale\":[[0.0,\"#0d0887\"],[0.1111111111111111,\"#46039f\"],[0.2222222222222222,\"#7201a8\"],[0.3333333333333333,\"#9c179e\"],[0.4444444444444444,\"#bd3786\"],[0.5555555555555556,\"#d8576b\"],[0.6666666666666666,\"#ed7953\"],[0.7777777777777778,\"#fb9f3a\"],[0.8888888888888888,\"#fdca26\"],[1.0,\"#f0f921\"]],\"type\":\"contour\"}],\"contourcarpet\":[{\"colorbar\":{\"outlinewidth\":0,\"ticks\":\"\"},\"type\":\"contourcarpet\"}],\"heatmap\":[{\"colorbar\":{\"outlinewidth\":0,\"ticks\":\"\"},\"colorscale\":[[0.0,\"#0d0887\"],[0.1111111111111111,\"#46039f\"],[0.2222222222222222,\"#7201a8\"],[0.3333333333333333,\"#9c179e\"],[0.4444444444444444,\"#bd3786\"],[0.5555555555555556,\"#d8576b\"],[0.6666666666666666,\"#ed7953\"],[0.7777777777777778,\"#fb9f3a\"],[0.8888888888888888,\"#fdca26\"],[1.0,\"#f0f921\"]],\"type\":\"heatmap\"}],\"heatmapgl\":[{\"colorbar\":{\"outlinewidth\":0,\"ticks\":\"\"},\"colorscale\":[[0.0,\"#0d0887\"],[0.1111111111111111,\"#46039f\"],[0.2222222222222222,\"#7201a8\"],[0.3333333333333333,\"#9c179e\"],[0.4444444444444444,\"#bd3786\"],[0.5555555555555556,\"#d8576b\"],[0.6666666666666666,\"#ed7953\"],[0.7777777777777778,\"#fb9f3a\"],[0.8888888888888888,\"#fdca26\"],[1.0,\"#f0f921\"]],\"type\":\"heatmapgl\"}],\"histogram\":[{\"marker\":{\"pattern\":{\"fillmode\":\"overlay\",\"size\":10,\"solidity\":0.2}},\"type\":\"histogram\"}],\"histogram2d\":[{\"colorbar\":{\"outlinewidth\":0,\"ticks\":\"\"},\"colorscale\":[[0.0,\"#0d0887\"],[0.1111111111111111,\"#46039f\"],[0.2222222222222222,\"#7201a8\"],[0.3333333333333333,\"#9c179e\"],[0.4444444444444444,\"#bd3786\"],[0.5555555555555556,\"#d8576b\"],[0.6666666666666666,\"#ed7953\"],[0.7777777777777778,\"#fb9f3a\"],[0.8888888888888888,\"#fdca26\"],[1.0,\"#f0f921\"]],\"type\":\"histogram2d\"}],\"histogram2dcontour\":[{\"colorbar\":{\"outlinewidth\":0,\"ticks\":\"\"},\"colorscale\":[[0.0,\"#0d0887\"],[0.1111111111111111,\"#46039f\"],[0.2222222222222222,\"#7201a8\"],[0.3333333333333333,\"#9c179e\"],[0.4444444444444444,\"#bd3786\"],[0.5555555555555556,\"#d8576b\"],[0.6666666666666666,\"#ed7953\"],[0.7777777777777778,\"#fb9f3a\"],[0.8888888888888888,\"#fdca26\"],[1.0,\"#f0f921\"]],\"type\":\"histogram2dcontour\"}],\"mesh3d\":[{\"colorbar\":{\"outlinewidth\":0,\"ticks\":\"\"},\"type\":\"mesh3d\"}],\"parcoords\":[{\"line\":{\"colorbar\":{\"outlinewidth\":0,\"ticks\":\"\"}},\"type\":\"parcoords\"}],\"pie\":[{\"automargin\":true,\"type\":\"pie\"}],\"scatter\":[{\"marker\":{\"colorbar\":{\"outlinewidth\":0,\"ticks\":\"\"}},\"type\":\"scatter\"}],\"scatter3d\":[{\"line\":{\"colorbar\":{\"outlinewidth\":0,\"ticks\":\"\"}},\"marker\":{\"colorbar\":{\"outlinewidth\":0,\"ticks\":\"\"}},\"type\":\"scatter3d\"}],\"scattercarpet\":[{\"marker\":{\"colorbar\":{\"outlinewidth\":0,\"ticks\":\"\"}},\"type\":\"scattercarpet\"}],\"scattergeo\":[{\"marker\":{\"colorbar\":{\"outlinewidth\":0,\"ticks\":\"\"}},\"type\":\"scattergeo\"}],\"scattergl\":[{\"marker\":{\"colorbar\":{\"outlinewidth\":0,\"ticks\":\"\"}},\"type\":\"scattergl\"}],\"scattermapbox\":[{\"marker\":{\"colorbar\":{\"outlinewidth\":0,\"ticks\":\"\"}},\"type\":\"scattermapbox\"}],\"scatterpolar\":[{\"marker\":{\"colorbar\":{\"outlinewidth\":0,\"ticks\":\"\"}},\"type\":\"scatterpolar\"}],\"scatterpolargl\":[{\"marker\":{\"colorbar\":{\"outlinewidth\":0,\"ticks\":\"\"}},\"type\":\"scatterpolargl\"}],\"scatterternary\":[{\"marker\":{\"colorbar\":{\"outlinewidth\":0,\"ticks\":\"\"}},\"type\":\"scatterternary\"}],\"surface\":[{\"colorbar\":{\"outlinewidth\":0,\"ticks\":\"\"},\"colorscale\":[[0.0,\"#0d0887\"],[0.1111111111111111,\"#46039f\"],[0.2222222222222222,\"#7201a8\"],[0.3333333333333333,\"#9c179e\"],[0.4444444444444444,\"#bd3786\"],[0.5555555555555556,\"#d8576b\"],[0.6666666666666666,\"#ed7953\"],[0.7777777777777778,\"#fb9f3a\"],[0.8888888888888888,\"#fdca26\"],[1.0,\"#f0f921\"]],\"type\":\"surface\"}],\"table\":[{\"cells\":{\"fill\":{\"color\":\"#EBF0F8\"},\"line\":{\"color\":\"white\"}},\"header\":{\"fill\":{\"color\":\"#C8D4E3\"},\"line\":{\"color\":\"white\"}},\"type\":\"table\"}]},\"layout\":{\"annotationdefaults\":{\"arrowcolor\":\"#2a3f5f\",\"arrowhead\":0,\"arrowwidth\":1},\"autotypenumbers\":\"strict\",\"coloraxis\":{\"colorbar\":{\"outlinewidth\":0,\"ticks\":\"\"}},\"colorscale\":{\"diverging\":[[0,\"#8e0152\"],[0.1,\"#c51b7d\"],[0.2,\"#de77ae\"],[0.3,\"#f1b6da\"],[0.4,\"#fde0ef\"],[0.5,\"#f7f7f7\"],[0.6,\"#e6f5d0\"],[0.7,\"#b8e186\"],[0.8,\"#7fbc41\"],[0.9,\"#4d9221\"],[1,\"#276419\"]],\"sequential\":[[0.0,\"#0d0887\"],[0.1111111111111111,\"#46039f\"],[0.2222222222222222,\"#7201a8\"],[0.3333333333333333,\"#9c179e\"],[0.4444444444444444,\"#bd3786\"],[0.5555555555555556,\"#d8576b\"],[0.6666666666666666,\"#ed7953\"],[0.7777777777777778,\"#fb9f3a\"],[0.8888888888888888,\"#fdca26\"],[1.0,\"#f0f921\"]],\"sequentialminus\":[[0.0,\"#0d0887\"],[0.1111111111111111,\"#46039f\"],[0.2222222222222222,\"#7201a8\"],[0.3333333333333333,\"#9c179e\"],[0.4444444444444444,\"#bd3786\"],[0.5555555555555556,\"#d8576b\"],[0.6666666666666666,\"#ed7953\"],[0.7777777777777778,\"#fb9f3a\"],[0.8888888888888888,\"#fdca26\"],[1.0,\"#f0f921\"]]},\"colorway\":[\"#636efa\",\"#EF553B\",\"#00cc96\",\"#ab63fa\",\"#FFA15A\",\"#19d3f3\",\"#FF6692\",\"#B6E880\",\"#FF97FF\",\"#FECB52\"],\"font\":{\"color\":\"#2a3f5f\"},\"geo\":{\"bgcolor\":\"white\",\"lakecolor\":\"white\",\"landcolor\":\"#E5ECF6\",\"showlakes\":true,\"showland\":true,\"subunitcolor\":\"white\"},\"hoverlabel\":{\"align\":\"left\"},\"hovermode\":\"closest\",\"mapbox\":{\"style\":\"light\"},\"paper_bgcolor\":\"white\",\"plot_bgcolor\":\"#E5ECF6\",\"polar\":{\"angularaxis\":{\"gridcolor\":\"white\",\"linecolor\":\"white\",\"ticks\":\"\"},\"bgcolor\":\"#E5ECF6\",\"radialaxis\":{\"gridcolor\":\"white\",\"linecolor\":\"white\",\"ticks\":\"\"}},\"scene\":{\"xaxis\":{\"backgroundcolor\":\"#E5ECF6\",\"gridcolor\":\"white\",\"gridwidth\":2,\"linecolor\":\"white\",\"showbackground\":true,\"ticks\":\"\",\"zerolinecolor\":\"white\"},\"yaxis\":{\"backgroundcolor\":\"#E5ECF6\",\"gridcolor\":\"white\",\"gridwidth\":2,\"linecolor\":\"white\",\"showbackground\":true,\"ticks\":\"\",\"zerolinecolor\":\"white\"},\"zaxis\":{\"backgroundcolor\":\"#E5ECF6\",\"gridcolor\":\"white\",\"gridwidth\":2,\"linecolor\":\"white\",\"showbackground\":true,\"ticks\":\"\",\"zerolinecolor\":\"white\"}},\"shapedefaults\":{\"line\":{\"color\":\"#2a3f5f\"}},\"ternary\":{\"aaxis\":{\"gridcolor\":\"white\",\"linecolor\":\"white\",\"ticks\":\"\"},\"baxis\":{\"gridcolor\":\"white\",\"linecolor\":\"white\",\"ticks\":\"\"},\"bgcolor\":\"#E5ECF6\",\"caxis\":{\"gridcolor\":\"white\",\"linecolor\":\"white\",\"ticks\":\"\"}},\"title\":{\"x\":0.05},\"xaxis\":{\"automargin\":true,\"gridcolor\":\"white\",\"linecolor\":\"white\",\"ticks\":\"\",\"title\":{\"standoff\":15},\"zerolinecolor\":\"white\",\"zerolinewidth\":2},\"yaxis\":{\"automargin\":true,\"gridcolor\":\"white\",\"linecolor\":\"white\",\"ticks\":\"\",\"title\":{\"standoff\":15},\"zerolinecolor\":\"white\",\"zerolinewidth\":2}}},\"xaxis\":{\"anchor\":\"y\",\"domain\":[0.0,1.0],\"title\":{\"text\":\"Throughput (samples / second)\"}},\"yaxis\":{\"anchor\":\"x\",\"domain\":[0.0,1.0],\"title\":{\"text\":\"Peak Memory (GB)\"}}},                        {\"responsive\": true}                    ).then(function(){\n",
       "                            \n",
       "var gd = document.getElementById('a172ad62-f3b7-4bee-9bad-c0f6c94c64dd');\n",
       "var x = new MutationObserver(function (mutations, observer) {{\n",
       "        var display = window.getComputedStyle(gd).display;\n",
       "        if (!display || display === 'none') {{\n",
       "            console.log([gd, 'removed!']);\n",
       "            Plotly.purge(gd);\n",
       "            observer.disconnect();\n",
       "        }}\n",
       "}});\n",
       "\n",
       "// Listen for the removal of the full notebook cells\n",
       "var notebookContainer = gd.closest('#notebook-container');\n",
       "if (notebookContainer) {{\n",
       "    x.observe(notebookContainer, {childList: true});\n",
       "}}\n",
       "\n",
       "// Listen for the clearing of the current output cell\n",
       "var outputEl = gd.closest('.output');\n",
       "if (outputEl) {{\n",
       "    x.observe(outputEl, {childList: true});\n",
       "}}\n",
       "\n",
       "                        })                };                });            </script>        </div>"
      ]
     },
     "metadata": {},
     "output_type": "display_data"
    }
   ],
   "source": [
    "simulation_filename = \"~/Downloads/mlp_dgx_simulated_grid_search_results_v2.csv\"\n",
    "plot_memory_usage_vs_metric(\n",
    "    simulation_filename,\n",
    "    \"mlp-small\",\n",
    "    131072,\n",
    "    \"throughput\",\n",
    "    \"Throughput (samples / second)\",\n",
    "    \"Peak Memory (GB)\",\n",
    "    os.path.join(FIGURES_DIR, \"mlp-small_memory_vs_throughput.pdf\"),\n",
    "    os.path.join(FIGURES_DIR, \"mlp_training_memory_vs_throughput_legend.pdf\"),\n",
    ")"
   ]
  },
  {
   "cell_type": "code",
   "execution_count": 24,
   "id": "noted-apache",
   "metadata": {},
   "outputs": [
    {
     "data": {
      "application/vnd.plotly.v1+json": {
       "config": {
        "plotlyServerURL": "https://plot.ly"
       },
       "data": [
        {
         "customdata": [
          [
           128,
           1,
           16,
           1,
           1
          ],
          [
           256,
           1,
           16,
           1,
           1
          ],
          [
           512,
           1,
           16,
           1,
           1
          ],
          [
           1024,
           1,
           16,
           1,
           1
          ],
          [
           2048,
           1,
           16,
           1,
           1
          ],
          [
           4096,
           1,
           16,
           1,
           1
          ],
          [
           8192,
           1,
           16,
           1,
           1
          ]
         ],
         "hovertemplate": "Parallelism style=T<br>Throughput (samples / second)=%{x}<br>Peak Memory (GB)=%{y}<br>dummy_column_for_size=%{marker.size}<br>batch_size=%{customdata[0]}<br>dp_degree=%{customdata[1]}<br>hp_degree=%{customdata[2]}<br>pp_degree=%{customdata[3]}<br>num_microbatches=%{customdata[4]}<extra></extra>",
         "legendgroup": "T",
         "marker": {
          "color": "#ff7f0e",
          "size": [
           1,
           1,
           1,
           1,
           1,
           1,
           1
          ],
          "sizemode": "area",
          "sizeref": 0.01,
          "symbol": "diamond"
         },
         "mode": "markers",
         "name": "T",
         "orientation": "v",
         "showlegend": true,
         "type": "scatter",
         "x": [
          4311.90197338825,
          6001.549466155185,
          7463.948400396409,
          8499.484008844722,
          9133.03493821773,
          9486.600187540664,
          9673.851062298692
         ],
         "xaxis": "x",
         "y": [
          4.31593882,
          4.33691034,
          4.37885338,
          4.563402756,
          6.97932186,
          11.811160068,
          21.474836484
         ],
         "yaxis": "y"
        },
        {
         "customdata": [
          [
           128,
           1,
           1,
           16,
           2
          ],
          [
           128,
           1,
           1,
           16,
           4
          ],
          [
           128,
           1,
           1,
           16,
           8
          ],
          [
           128,
           1,
           1,
           16,
           16
          ],
          [
           128,
           1,
           1,
           16,
           32
          ],
          [
           128,
           1,
           1,
           16,
           64
          ],
          [
           128,
           1,
           1,
           16,
           128
          ],
          [
           256,
           1,
           1,
           16,
           2
          ],
          [
           256,
           1,
           1,
           16,
           4
          ],
          [
           256,
           1,
           1,
           16,
           8
          ],
          [
           256,
           1,
           1,
           16,
           16
          ],
          [
           256,
           1,
           1,
           16,
           32
          ],
          [
           256,
           1,
           1,
           16,
           64
          ],
          [
           256,
           1,
           1,
           16,
           128
          ],
          [
           512,
           1,
           1,
           16,
           2
          ],
          [
           512,
           1,
           1,
           16,
           4
          ],
          [
           512,
           1,
           1,
           16,
           16
          ],
          [
           512,
           1,
           1,
           16,
           8
          ],
          [
           512,
           1,
           1,
           16,
           32
          ],
          [
           512,
           1,
           1,
           16,
           64
          ],
          [
           512,
           1,
           1,
           16,
           128
          ],
          [
           1024,
           1,
           1,
           16,
           2
          ],
          [
           1024,
           1,
           1,
           16,
           4
          ],
          [
           1024,
           1,
           1,
           16,
           8
          ],
          [
           1024,
           1,
           1,
           16,
           16
          ],
          [
           1024,
           1,
           1,
           16,
           32
          ],
          [
           1024,
           1,
           1,
           16,
           64
          ],
          [
           1024,
           1,
           1,
           16,
           128
          ],
          [
           2048,
           1,
           1,
           16,
           2
          ],
          [
           2048,
           1,
           1,
           16,
           4
          ],
          [
           2048,
           1,
           1,
           16,
           8
          ],
          [
           2048,
           1,
           1,
           16,
           16
          ],
          [
           2048,
           1,
           1,
           16,
           32
          ],
          [
           2048,
           1,
           1,
           16,
           64
          ],
          [
           2048,
           1,
           1,
           16,
           128
          ],
          [
           4096,
           1,
           1,
           16,
           2
          ],
          [
           4096,
           1,
           1,
           16,
           4
          ],
          [
           4096,
           1,
           1,
           16,
           8
          ],
          [
           4096,
           1,
           1,
           16,
           32
          ],
          [
           4096,
           1,
           1,
           16,
           16
          ],
          [
           4096,
           1,
           1,
           16,
           64
          ],
          [
           4096,
           1,
           1,
           16,
           128
          ],
          [
           8192,
           1,
           1,
           16,
           2
          ],
          [
           8192,
           1,
           1,
           16,
           4
          ],
          [
           8192,
           1,
           1,
           16,
           8
          ],
          [
           8192,
           1,
           1,
           16,
           16
          ],
          [
           8192,
           1,
           1,
           16,
           32
          ],
          [
           8192,
           1,
           1,
           16,
           64
          ],
          [
           8192,
           1,
           1,
           16,
           128
          ],
          [
           16384,
           1,
           1,
           16,
           2
          ],
          [
           16384,
           1,
           1,
           16,
           4
          ],
          [
           16384,
           1,
           1,
           16,
           8
          ],
          [
           16384,
           1,
           1,
           16,
           16
          ],
          [
           16384,
           1,
           1,
           16,
           32
          ],
          [
           16384,
           1,
           1,
           16,
           64
          ],
          [
           16384,
           1,
           1,
           16,
           128
          ],
          [
           32768,
           1,
           1,
           16,
           2
          ],
          [
           32768,
           1,
           1,
           16,
           4
          ],
          [
           32768,
           1,
           1,
           16,
           16
          ],
          [
           32768,
           1,
           1,
           16,
           8
          ],
          [
           32768,
           1,
           1,
           16,
           32
          ],
          [
           32768,
           1,
           1,
           16,
           64
          ],
          [
           32768,
           1,
           1,
           16,
           128
          ],
          [
           65536,
           1,
           1,
           16,
           2
          ],
          [
           65536,
           1,
           1,
           16,
           4
          ],
          [
           65536,
           1,
           1,
           16,
           8
          ],
          [
           65536,
           1,
           1,
           16,
           16
          ],
          [
           65536,
           1,
           1,
           16,
           32
          ],
          [
           65536,
           1,
           1,
           16,
           64
          ],
          [
           65536,
           1,
           1,
           16,
           128
          ],
          [
           131072,
           1,
           1,
           16,
           64
          ],
          [
           131072,
           1,
           1,
           16,
           128
          ]
         ],
         "hovertemplate": "Parallelism style=P<br>Throughput (samples / second)=%{x}<br>Peak Memory (GB)=%{y}<br>dummy_column_for_size=%{marker.size}<br>batch_size=%{customdata[0]}<br>dp_degree=%{customdata[1]}<br>hp_degree=%{customdata[2]}<br>pp_degree=%{customdata[3]}<br>num_microbatches=%{customdata[4]}<extra></extra>",
         "legendgroup": "P",
         "marker": {
          "color": "#2ca02c",
          "size": [
           1,
           1,
           1,
           1,
           1,
           1,
           1,
           1,
           1,
           1,
           1,
           1,
           1,
           1,
           1,
           1,
           1,
           1,
           1,
           1,
           1,
           1,
           1,
           1,
           1,
           1,
           1,
           1,
           1,
           1,
           1,
           1,
           1,
           1,
           1,
           1,
           1,
           1,
           1,
           1,
           1,
           1,
           1,
           1,
           1,
           1,
           1,
           1,
           1,
           1,
           1,
           1,
           1,
           1,
           1,
           1,
           1,
           1,
           1,
           1,
           1,
           1,
           1,
           1,
           1,
           1,
           1,
           1,
           1,
           1,
           1,
           1
          ],
          "sizemode": "area",
          "sizeref": 0.01,
          "symbol": "square"
         },
         "mode": "markers",
         "name": "P",
         "orientation": "v",
         "showlegend": true,
         "type": "scatter",
         "x": [
          777.1783755621618,
          893.0515355050159,
          858.749920962038,
          692.1341510903062,
          475.9892890774974,
          288.95329770144167,
          161.1763545587777,
          1074.3216197733486,
          1387.1992416597038,
          1471.415739641449,
          1269.0875571043844,
          909.0062575423076,
          564.3056826207714,
          318.4793168659935,
          1328.238245446153,
          1917.7363849002131,
          2176.050121623234,
          2287.362850047912,
          1667.4730238826885,
          1077.8761772598418,
          622.0104700168744,
          1506.2384756132412,
          2371.0851241076325,
          3164.0547149658546,
          3385.9451774233858,
          2861.119333051507,
          1977.9227074566816,
          1188.2492062694298,
          1614.414131597641,
          2688.9115674445466,
          3913.804030004328,
          4686.54715592673,
          4456.021938432215,
          3395.6293353637034,
          2180.946750049025,
          1674.5457398443882,
          2882.071782296335,
          4439.78834202882,
          6171.316930463331,
          5799.964527906203,
          5292.297176895945,
          3745.4930158922266,
          1706.323198965421,
          2989.446478254867,
          4759.615697863389,
          6581.761153173441,
          7641.210807043984,
          7332.903678128028,
          5840.333813629674,
          1722.668535995995,
          3046.191046424656,
          4937.454469194774,
          7057.406898028351,
          8674.190434215963,
          9082.934988919178,
          8094.710760231946,
          1730.9592020199705,
          3075.378899237065,
          7321.97642977689,
          5031.452320651453,
          9303.00537370475,
          10313.603796264806,
          10029.063726216213,
          1735.1345325072657,
          3090.1003893014145,
          5079.451866625877,
          7461.841968501826,
          9652.886990607669,
          11063.085916707489,
          11389.94773274848,
          11480.2153867334,
          12218.96821106539
         ],
         "xaxis": "x",
         "y": [
          5.391777796,
          5.39492352,
          5.398593536,
          5.400428544,
          5.401346048,
          5.389221888,
          5.383159808,
          5.414846468,
          5.42113792,
          5.428477952,
          5.432147968,
          5.433982976,
          5.409734656,
          5.397610496,
          5.460983812,
          5.47356672,
          5.495586816,
          5.488246784,
          5.499256832,
          5.450760192,
          5.426511872,
          5.5532585,
          5.57842432,
          5.607784448,
          5.622464512,
          5.629804544,
          5.532811264,
          5.484314624,
          5.737807876,
          5.78813952,
          5.846859776,
          5.876219904,
          5.890899968,
          5.696913408,
          5.599920128,
          6.106906628,
          6.20756992,
          6.325010432,
          6.413090816,
          6.383730688,
          6.025117696,
          5.831131136,
          6.845104132,
          7.04643072,
          7.281311744,
          7.398752256,
          7.457472512,
          6.681526272,
          6.293553152,
          8.32149914,
          8.72415232,
          9.193914368,
          9.428795392,
          9.546235904,
          7.994343424,
          7.218397184,
          12.34803098,
          12.07959552,
          13.488881664,
          13.019119616,
          13.723762688,
          10.619977728,
          9.31135488,
          21.47483648,
          20.401094656,
          20.669530112,
          21.609054208,
          22.078816256,
          16.307453952,
          13.790871552,
          27.783069696,
          22.749904896
         ],
         "yaxis": "y"
        },
        {
         "customdata": [
          [
           128,
           2,
           8,
           1,
           1
          ],
          [
           128,
           4,
           4,
           1,
           1
          ],
          [
           256,
           2,
           8,
           1,
           1
          ],
          [
           256,
           4,
           4,
           1,
           1
          ],
          [
           512,
           2,
           8,
           1,
           1
          ],
          [
           512,
           4,
           4,
           1,
           1
          ],
          [
           1024,
           2,
           8,
           1,
           1
          ],
          [
           1024,
           4,
           4,
           1,
           1
          ],
          [
           2048,
           2,
           8,
           1,
           1
          ],
          [
           2048,
           4,
           4,
           1,
           1
          ],
          [
           4096,
           2,
           8,
           1,
           1
          ],
          [
           4096,
           4,
           4,
           1,
           1
          ],
          [
           8192,
           2,
           8,
           1,
           1
          ],
          [
           8192,
           4,
           4,
           1,
           1
          ],
          [
           16384,
           2,
           8,
           1,
           1
          ],
          [
           16384,
           4,
           4,
           1,
           1
          ],
          [
           32768,
           4,
           4,
           1,
           1
          ]
         ],
         "hovertemplate": "Parallelism style=D/T<br>Throughput (samples / second)=%{x}<br>Peak Memory (GB)=%{y}<br>dummy_column_for_size=%{marker.size}<br>batch_size=%{customdata[0]}<br>dp_degree=%{customdata[1]}<br>hp_degree=%{customdata[2]}<br>pp_degree=%{customdata[3]}<br>num_microbatches=%{customdata[4]}<extra></extra>",
         "legendgroup": "D/T",
         "marker": {
          "color": "#d62728",
          "size": [
           1,
           1,
           1,
           1,
           1,
           1,
           1,
           1,
           1,
           1,
           1,
           1,
           1,
           1,
           1,
           1,
           1
          ],
          "sizemode": "area",
          "sizeref": 0.01,
          "symbol": "x"
         },
         "mode": "markers",
         "name": "D/T",
         "orientation": "v",
         "showlegend": true,
         "type": "scatter",
         "x": [
          1809.857457959297,
          896.0089326388332,
          3142.267893693718,
          1679.6698779085775,
          4972.715291363162,
          2985.0525833226598,
          7016.297045474484,
          4882.188658420406,
          8830.856768717129,
          7156.248692056251,
          10142.370268514753,
          9328.8855145115,
          10955.929460236175,
          10998.450010607272,
          11413.698147104982,
          12079.35408451304,
          12703.595123428597
         ],
         "xaxis": "x",
         "y": [
          8.665432068,
          17.31828122,
          8.673820676,
          17.322475524,
          8.690597892,
          17.330864132,
          8.724152324,
          17.347641348,
          8.791261188,
          17.38119578,
          9.395240964,
          17.448304644,
          14.495514628,
          17.582522372,
          24.696061956,
          19.864223748,
          31.1385129
         ],
         "yaxis": "y"
        },
        {
         "customdata": [
          [
           128,
           1,
           2,
           8,
           2
          ],
          [
           128,
           1,
           2,
           8,
           4
          ],
          [
           128,
           1,
           4,
           4,
           2
          ],
          [
           128,
           1,
           2,
           8,
           8
          ],
          [
           128,
           1,
           4,
           4,
           4
          ],
          [
           128,
           1,
           8,
           2,
           2
          ],
          [
           128,
           1,
           4,
           4,
           8
          ],
          [
           128,
           1,
           2,
           8,
           16
          ],
          [
           128,
           1,
           8,
           2,
           4
          ],
          [
           128,
           1,
           2,
           8,
           32
          ],
          [
           128,
           1,
           4,
           4,
           16
          ],
          [
           128,
           1,
           8,
           2,
           8
          ],
          [
           128,
           1,
           2,
           8,
           64
          ],
          [
           128,
           1,
           4,
           4,
           32
          ],
          [
           128,
           1,
           8,
           2,
           16
          ],
          [
           128,
           1,
           4,
           4,
           64
          ],
          [
           128,
           1,
           2,
           8,
           128
          ],
          [
           128,
           1,
           8,
           2,
           32
          ],
          [
           256,
           1,
           2,
           8,
           2
          ],
          [
           256,
           1,
           2,
           8,
           4
          ],
          [
           256,
           1,
           2,
           8,
           8
          ],
          [
           256,
           1,
           4,
           4,
           2
          ],
          [
           256,
           1,
           4,
           4,
           4
          ],
          [
           256,
           1,
           2,
           8,
           16
          ],
          [
           128,
           1,
           4,
           4,
           128
          ],
          [
           256,
           1,
           8,
           2,
           2
          ],
          [
           256,
           1,
           4,
           4,
           8
          ],
          [
           256,
           1,
           2,
           8,
           32
          ],
          [
           128,
           1,
           8,
           2,
           64
          ],
          [
           256,
           1,
           4,
           4,
           16
          ],
          [
           256,
           1,
           8,
           2,
           4
          ],
          [
           256,
           1,
           8,
           2,
           8
          ],
          [
           256,
           1,
           2,
           8,
           64
          ],
          [
           256,
           1,
           4,
           4,
           32
          ],
          [
           256,
           1,
           8,
           2,
           16
          ],
          [
           256,
           1,
           4,
           4,
           64
          ],
          [
           256,
           1,
           2,
           8,
           128
          ],
          [
           256,
           1,
           8,
           2,
           32
          ],
          [
           256,
           1,
           4,
           4,
           128
          ],
          [
           256,
           1,
           8,
           2,
           64
          ],
          [
           128,
           1,
           8,
           2,
           128
          ],
          [
           512,
           1,
           2,
           8,
           2
          ],
          [
           512,
           1,
           2,
           8,
           4
          ],
          [
           512,
           1,
           2,
           8,
           8
          ],
          [
           512,
           1,
           4,
           4,
           2
          ],
          [
           512,
           1,
           4,
           4,
           4
          ],
          [
           512,
           1,
           8,
           2,
           2
          ],
          [
           512,
           1,
           4,
           4,
           8
          ],
          [
           512,
           1,
           2,
           8,
           16
          ],
          [
           512,
           1,
           4,
           4,
           16
          ],
          [
           512,
           1,
           2,
           8,
           32
          ],
          [
           512,
           1,
           8,
           2,
           4
          ],
          [
           512,
           1,
           8,
           2,
           8
          ],
          [
           512,
           1,
           2,
           8,
           64
          ],
          [
           512,
           1,
           4,
           4,
           32
          ],
          [
           512,
           1,
           8,
           2,
           16
          ],
          [
           512,
           1,
           4,
           4,
           64
          ],
          [
           512,
           1,
           2,
           8,
           128
          ],
          [
           256,
           1,
           8,
           2,
           128
          ],
          [
           512,
           1,
           8,
           2,
           32
          ],
          [
           512,
           1,
           4,
           4,
           128
          ],
          [
           512,
           1,
           8,
           2,
           64
          ],
          [
           1024,
           1,
           2,
           8,
           2
          ],
          [
           1024,
           1,
           2,
           8,
           4
          ],
          [
           1024,
           1,
           2,
           8,
           8
          ],
          [
           1024,
           1,
           4,
           4,
           2
          ],
          [
           1024,
           1,
           4,
           4,
           4
          ],
          [
           1024,
           1,
           2,
           8,
           16
          ],
          [
           1024,
           1,
           4,
           4,
           8
          ],
          [
           1024,
           1,
           2,
           8,
           32
          ],
          [
           1024,
           1,
           8,
           2,
           2
          ],
          [
           1024,
           1,
           8,
           2,
           4
          ],
          [
           1024,
           1,
           4,
           4,
           16
          ],
          [
           1024,
           1,
           8,
           2,
           8
          ],
          [
           512,
           1,
           8,
           2,
           128
          ],
          [
           1024,
           1,
           2,
           8,
           64
          ],
          [
           1024,
           1,
           4,
           4,
           32
          ],
          [
           1024,
           1,
           8,
           2,
           16
          ],
          [
           1024,
           1,
           4,
           4,
           64
          ],
          [
           1024,
           1,
           2,
           8,
           128
          ],
          [
           1024,
           1,
           8,
           2,
           32
          ],
          [
           1024,
           1,
           4,
           4,
           128
          ],
          [
           1024,
           1,
           8,
           2,
           64
          ],
          [
           1024,
           1,
           8,
           2,
           128
          ],
          [
           2048,
           1,
           2,
           8,
           2
          ],
          [
           2048,
           1,
           2,
           8,
           4
          ],
          [
           2048,
           1,
           2,
           8,
           8
          ],
          [
           2048,
           1,
           4,
           4,
           2
          ],
          [
           2048,
           1,
           2,
           8,
           16
          ],
          [
           2048,
           1,
           4,
           4,
           4
          ],
          [
           2048,
           1,
           4,
           4,
           8
          ],
          [
           2048,
           1,
           8,
           2,
           2
          ],
          [
           2048,
           1,
           2,
           8,
           32
          ],
          [
           2048,
           1,
           4,
           4,
           16
          ],
          [
           2048,
           1,
           8,
           2,
           4
          ],
          [
           2048,
           1,
           2,
           8,
           64
          ],
          [
           2048,
           1,
           8,
           2,
           8
          ],
          [
           2048,
           1,
           4,
           4,
           32
          ],
          [
           2048,
           1,
           8,
           2,
           16
          ],
          [
           2048,
           1,
           2,
           8,
           128
          ],
          [
           2048,
           1,
           4,
           4,
           64
          ],
          [
           2048,
           1,
           8,
           2,
           32
          ],
          [
           2048,
           1,
           4,
           4,
           128
          ],
          [
           2048,
           1,
           8,
           2,
           64
          ],
          [
           2048,
           1,
           8,
           2,
           128
          ],
          [
           4096,
           1,
           2,
           8,
           2
          ],
          [
           4096,
           1,
           2,
           8,
           4
          ],
          [
           4096,
           1,
           2,
           8,
           8
          ],
          [
           4096,
           1,
           4,
           4,
           2
          ],
          [
           4096,
           1,
           2,
           8,
           16
          ],
          [
           4096,
           1,
           4,
           4,
           4
          ],
          [
           4096,
           1,
           2,
           8,
           32
          ],
          [
           4096,
           1,
           8,
           2,
           2
          ],
          [
           4096,
           1,
           4,
           4,
           8
          ],
          [
           4096,
           1,
           8,
           2,
           4
          ],
          [
           4096,
           1,
           4,
           4,
           16
          ],
          [
           4096,
           1,
           2,
           8,
           64
          ],
          [
           4096,
           1,
           8,
           2,
           8
          ],
          [
           4096,
           1,
           4,
           4,
           32
          ],
          [
           4096,
           1,
           8,
           2,
           16
          ],
          [
           4096,
           1,
           2,
           8,
           128
          ],
          [
           4096,
           1,
           4,
           4,
           64
          ],
          [
           4096,
           1,
           8,
           2,
           32
          ],
          [
           4096,
           1,
           4,
           4,
           128
          ],
          [
           4096,
           1,
           8,
           2,
           64
          ],
          [
           4096,
           1,
           8,
           2,
           128
          ],
          [
           8192,
           1,
           2,
           8,
           2
          ],
          [
           8192,
           1,
           2,
           8,
           4
          ],
          [
           8192,
           1,
           2,
           8,
           8
          ],
          [
           8192,
           1,
           4,
           4,
           2
          ],
          [
           8192,
           1,
           4,
           4,
           4
          ],
          [
           8192,
           1,
           2,
           8,
           16
          ],
          [
           8192,
           1,
           8,
           2,
           2
          ],
          [
           8192,
           1,
           2,
           8,
           32
          ],
          [
           8192,
           1,
           4,
           4,
           8
          ],
          [
           8192,
           1,
           4,
           4,
           16
          ],
          [
           8192,
           1,
           8,
           2,
           4
          ],
          [
           8192,
           1,
           2,
           8,
           64
          ],
          [
           8192,
           1,
           8,
           2,
           8
          ],
          [
           8192,
           1,
           4,
           4,
           32
          ],
          [
           8192,
           1,
           8,
           2,
           16
          ],
          [
           8192,
           1,
           2,
           8,
           128
          ],
          [
           8192,
           1,
           4,
           4,
           64
          ],
          [
           8192,
           1,
           8,
           2,
           32
          ],
          [
           8192,
           1,
           4,
           4,
           128
          ],
          [
           8192,
           1,
           8,
           2,
           64
          ],
          [
           16384,
           1,
           2,
           8,
           2
          ],
          [
           16384,
           1,
           2,
           8,
           4
          ],
          [
           16384,
           1,
           2,
           8,
           8
          ],
          [
           16384,
           1,
           4,
           4,
           2
          ],
          [
           16384,
           1,
           4,
           4,
           4
          ],
          [
           16384,
           1,
           2,
           8,
           16
          ],
          [
           16384,
           1,
           2,
           8,
           32
          ],
          [
           16384,
           1,
           4,
           4,
           8
          ],
          [
           16384,
           1,
           8,
           2,
           2
          ],
          [
           16384,
           1,
           4,
           4,
           16
          ],
          [
           16384,
           1,
           8,
           2,
           4
          ],
          [
           8192,
           1,
           8,
           2,
           128
          ],
          [
           16384,
           1,
           2,
           8,
           64
          ],
          [
           16384,
           1,
           8,
           2,
           8
          ],
          [
           16384,
           1,
           4,
           4,
           32
          ],
          [
           16384,
           1,
           8,
           2,
           16
          ],
          [
           16384,
           1,
           2,
           8,
           128
          ],
          [
           16384,
           1,
           4,
           4,
           64
          ],
          [
           16384,
           1,
           8,
           2,
           32
          ],
          [
           16384,
           1,
           4,
           4,
           128
          ],
          [
           16384,
           1,
           8,
           2,
           64
          ],
          [
           32768,
           1,
           2,
           8,
           2
          ],
          [
           32768,
           1,
           2,
           8,
           4
          ],
          [
           32768,
           1,
           2,
           8,
           8
          ],
          [
           32768,
           1,
           4,
           4,
           2
          ],
          [
           32768,
           1,
           2,
           8,
           16
          ],
          [
           32768,
           1,
           4,
           4,
           4
          ],
          [
           16384,
           1,
           8,
           2,
           128
          ],
          [
           32768,
           1,
           4,
           4,
           8
          ],
          [
           32768,
           1,
           2,
           8,
           32
          ],
          [
           32768,
           1,
           4,
           4,
           16
          ],
          [
           32768,
           1,
           2,
           8,
           64
          ],
          [
           32768,
           1,
           8,
           2,
           8
          ],
          [
           32768,
           1,
           8,
           2,
           16
          ],
          [
           32768,
           1,
           4,
           4,
           32
          ],
          [
           32768,
           1,
           2,
           8,
           128
          ],
          [
           32768,
           1,
           4,
           4,
           64
          ],
          [
           32768,
           1,
           8,
           2,
           32
          ],
          [
           32768,
           1,
           4,
           4,
           128
          ],
          [
           32768,
           1,
           8,
           2,
           64
          ],
          [
           32768,
           1,
           8,
           2,
           128
          ],
          [
           65536,
           1,
           2,
           8,
           2
          ],
          [
           65536,
           1,
           2,
           8,
           4
          ],
          [
           65536,
           1,
           2,
           8,
           8
          ],
          [
           65536,
           1,
           2,
           8,
           16
          ],
          [
           65536,
           1,
           2,
           8,
           32
          ],
          [
           65536,
           1,
           4,
           4,
           16
          ],
          [
           65536,
           1,
           2,
           8,
           64
          ],
          [
           65536,
           1,
           4,
           4,
           32
          ],
          [
           65536,
           1,
           4,
           4,
           64
          ],
          [
           65536,
           1,
           8,
           2,
           16
          ],
          [
           65536,
           1,
           2,
           8,
           128
          ],
          [
           65536,
           1,
           8,
           2,
           32
          ],
          [
           65536,
           1,
           4,
           4,
           128
          ],
          [
           65536,
           1,
           8,
           2,
           64
          ],
          [
           65536,
           1,
           8,
           2,
           128
          ],
          [
           131072,
           1,
           2,
           8,
           64
          ],
          [
           131072,
           1,
           4,
           4,
           32
          ],
          [
           131072,
           1,
           4,
           4,
           64
          ],
          [
           131072,
           1,
           2,
           8,
           128
          ],
          [
           131072,
           1,
           8,
           2,
           32
          ],
          [
           131072,
           1,
           4,
           4,
           128
          ],
          [
           131072,
           1,
           8,
           2,
           64
          ],
          [
           131072,
           1,
           8,
           2,
           128
          ]
         ],
         "hovertemplate": "Parallelism style=T/P<br>Throughput (samples / second)=%{x}<br>Peak Memory (GB)=%{y}<br>dummy_column_for_size=%{marker.size}<br>batch_size=%{customdata[0]}<br>dp_degree=%{customdata[1]}<br>hp_degree=%{customdata[2]}<br>pp_degree=%{customdata[3]}<br>num_microbatches=%{customdata[4]}<extra></extra>",
         "legendgroup": "T/P",
         "marker": {
          "color": "#9467bd",
          "size": [
           1,
           1,
           1,
           1,
           1,
           1,
           1,
           1,
           1,
           1,
           1,
           1,
           1,
           1,
           1,
           1,
           1,
           1,
           1,
           1,
           1,
           1,
           1,
           1,
           1,
           1,
           1,
           1,
           1,
           1,
           1,
           1,
           1,
           1,
           1,
           1,
           1,
           1,
           1,
           1,
           1,
           1,
           1,
           1,
           1,
           1,
           1,
           1,
           1,
           1,
           1,
           1,
           1,
           1,
           1,
           1,
           1,
           1,
           1,
           1,
           1,
           1,
           1,
           1,
           1,
           1,
           1,
           1,
           1,
           1,
           1,
           1,
           1,
           1,
           1,
           1,
           1,
           1,
           1,
           1,
           1,
           1,
           1,
           1,
           1,
           1,
           1,
           1,
           1,
           1,
           1,
           1,
           1,
           1,
           1,
           1,
           1,
           1,
           1,
           1,
           1,
           1,
           1,
           1,
           1,
           1,
           1,
           1,
           1,
           1,
           1,
           1,
           1,
           1,
           1,
           1,
           1,
           1,
           1,
           1,
           1,
           1,
           1,
           1,
           1,
           1,
           1,
           1,
           1,
           1,
           1,
           1,
           1,
           1,
           1,
           1,
           1,
           1,
           1,
           1,
           1,
           1,
           1,
           1,
           1,
           1,
           1,
           1,
           1,
           1,
           1,
           1,
           1,
           1,
           1,
           1,
           1,
           1,
           1,
           1,
           1,
           1,
           1,
           1,
           1,
           1,
           1,
           1,
           1,
           1,
           1,
           1,
           1,
           1,
           1,
           1,
           1,
           1,
           1,
           1,
           1,
           1,
           1,
           1,
           1,
           1,
           1,
           1,
           1,
           1,
           1,
           1,
           1,
           1,
           1,
           1,
           1,
           1,
           1,
           1,
           1,
           1,
           1,
           1,
           1,
           1,
           1,
           1,
           1,
           1
          ],
          "sizemode": "area",
          "sizeref": 0.01,
          "symbol": "cross"
         },
         "mode": "markers",
         "name": "T/P",
         "orientation": "v",
         "showlegend": true,
         "type": "scatter",
         "x": [
          1369.3960478164136,
          1421.6257002071236,
          2232.003301009541,
          1198.9009409595672,
          1983.1137503116615,
          3013.607219990749,
          1426.3803879942268,
          841.596720373901,
          2160.82824168602,
          514.7101367040692,
          879.499880095718,
          1322.445237944532,
          287.7466311711749,
          492.6039285964689,
          736.0023099698074,
          261.32582608066394,
          152.6309206199395,
          388.8640320929359,
          1909.4220280176987,
          2228.3650286200827,
          2069.638447233064,
          3145.324232788029,
          3145.569432251716,
          1550.9277931555837,
          134.67737659879367,
          4364.458999189904,
          2486.222277648898,
          985.8465801826742,
          199.9467975354549,
          1630.964610580247,
          3519.75781674308,
          2349.848404193944,
          562.8378543556313,
          946.8634504854735,
          1380.8442059279398,
          512.1213842067332,
          301.83991928463723,
          752.2564040495947,
          266.5929736371963,
          393.1517695628359,
          101.39136790593676,
          2378.383913077405,
          3111.000680550931,
          3249.753607518686,
          3954.3765471374295,
          4449.52328003836,
          5625.211774790772,
          3955.894183572706,
          2680.575381472984,
          2847.411032176135,
          1817.803779554608,
          5134.183696086396,
          3842.436121134192,
          1078.2529768470213,
          1756.9643769070651,
          2457.3267044225577,
          984.5690180778728,
          590.4423655476957,
          201.04785368880505,
          1412.0215271468307,
          522.4718095261867,
          760.6556772399028,
          2711.342311714919,
          3879.060494257124,
          4544.064466125642,
          4538.019962122401,
          5612.453444921138,
          4215.963899349608,
          5613.101193100835,
          3144.720708742154,
          6574.842794840816,
          6662.040266926424,
          4540.763311472108,
          5630.704868470019,
          395.3312933289437,
          1988.9260609154744,
          3070.442000045439,
          4027.027575646257,
          1827.558152731218,
          1131.2717466311306,
          2514.839058599062,
          1004.570799842464,
          1428.1441676557722,
          764.9260448877128,
          2915.4117249792785,
          4425.3352305525295,
          5673.239841364403,
          4899.5961819914055,
          5902.962234889546,
          6456.144397419456,
          7099.183466000471,
          7180.978162778143,
          4952.144835611074,
          6456.364987958589,
          7826.5765514855875,
          3442.781930380843,
          7338.334277571397,
          4903.228379157311,
          5916.808857394487,
          2087.1656369898647,
          3195.5936439919983,
          4126.137848792411,
          1865.0259655825448,
          2544.616722662998,
          1436.344348435906,
          3029.416367241773,
          4760.540495826359,
          6478.037606126938,
          5102.8878045704505,
          7378.336421986006,
          6980.841181399456,
          6940.778056489645,
          7527.980786748177,
          8182.182051850855,
          8576.138557365462,
          8181.012709250154,
          5425.870737300594,
          8649.977940727764,
          6980.7270260113455,
          7730.724796728743,
          3614.0546178856935,
          5107.063275271641,
          6071.048079031903,
          3262.074959026256,
          4177.545200508597,
          2559.771572773773,
          3089.828904498787,
          4947.935805777402,
          6972.599121644981,
          5210.993793740784,
          7276.52616312504,
          8432.007231239213,
          7714.369492827321,
          8683.208203671902,
          8857.823891062075,
          9442.021305542446,
          9007.467327585024,
          7609.720594869604,
          9498.8868536622,
          8855.768425909759,
          9130.255964986234,
          5698.428727500843,
          7276.200026878763,
          7943.088565398449,
          5215.470929670584,
          6151.223041319382,
          3120.947832095276,
          5047.277051621932,
          7249.321458322534,
          5266.782867837536,
          7433.96505657518,
          9080.3731776543,
          9929.527387714768,
          9239.290037525205,
          7811.068393381165,
          10230.47616079111,
          9239.821361886732,
          4203.73224880292,
          9525.509301681452,
          9989.049560537953,
          10229.56207183848,
          10038.956855631435,
          7994.993787213589,
          9236.681133114987,
          9390.96614820474,
          7433.519186681447,
          8053.706620932957,
          3136.7435441323614,
          5098.458722245408,
          7396.086114966055,
          5295.127775499272,
          9443.44251424599,
          7515.26726977497,
          6192.10990066422,
          9442.615261683342,
          10697.225020077432,
          10676.235022527051,
          10897.194918912115,
          10253.603401203356,
          10564.689242596289,
          11089.736405454854,
          10011.06309949138,
          10674.74187631241,
          10332.695423296129,
          9439.695703545129,
          9526.985452169663,
          8110.179127675978,
          3144.701511100133,
          5124.227929603031,
          7470.986836251166,
          9636.087004040051,
          11127.379579506134,
          10914.005713118371,
          11742.675093427828,
          11576.451597595067,
          11575.866356870114,
          10848.759812571518,
          11455.37847461626,
          10878.126535212115,
          10912.185301794312,
          10486.106476915582,
          9596.483466595371,
          12216.599471681317,
          11836.189661452328,
          12085.995136350944,
          12345.966683077771,
          11173.021193547078,
          11835.271990482748,
          11041.924582986196,
          10564.533067582115
         ],
         "xaxis": "x",
         "y": [
          4.863295492,
          4.87063552,
          4.611637252,
          4.876402688,
          4.627365888,
          4.510973956,
          4.63732736,
          4.879286272,
          4.543479808,
          4.859756544,
          4.60455936,
          4.49052672,
          4.84999168,
          4.58817536,
          4.464050176,
          4.57998336,
          4.845109248,
          4.450811904,
          4.894752772,
          4.909432832,
          4.920967168,
          4.659871748,
          4.691329024,
          4.926734336,
          4.57588736,
          4.592762884,
          4.711251968,
          4.88767488,
          4.444192768,
          4.645715968,
          4.657774592,
          4.551868416,
          4.868145152,
          4.612947968,
          4.498915328,
          4.596563968,
          4.858380288,
          4.472438784,
          4.588371968,
          4.459200512,
          4.4408832,
          4.957667332,
          4.987027456,
          5.010096128,
          4.75634074,
          4.819255296,
          4.75634074,
          4.859101184,
          5.021630464,
          4.728029184,
          4.943511552,
          4.88636416,
          4.674551808,
          4.904452096,
          4.662493184,
          4.568645632,
          4.629725184,
          4.884922368,
          4.452581376,
          4.515692544,
          4.613341184,
          4.489216,
          5.083496452,
          5.142216704,
          5.188354048,
          4.949278724,
          5.07510784,
          5.21142272,
          5.154799616,
          5.055184896,
          5.083496452,
          5.343543296,
          4.892655616,
          4.919918592,
          4.475977728,
          4.977065984,
          4.761583616,
          4.70810624,
          4.696047616,
          4.938006528,
          4.602200064,
          4.663279616,
          4.549246976,
          4.522770432,
          5.335154692,
          5.4525952,
          5.544869888,
          5.335154692,
          5.591007232,
          5.586812928,
          5.74619648,
          5.737807876,
          5.278531584,
          5.22190848,
          6.257901568,
          5.12229376,
          5.41065216,
          4.95976448,
          4.987027456,
          5.044174848,
          4.82869248,
          4.775215104,
          4.76315648,
          4.669308928,
          4.61635584,
          5.838471172,
          6.073352192,
          6.257901568,
          6.106906628,
          6.350176256,
          6.610223104,
          5.72522496,
          7.180648452,
          6.928990208,
          8.086618112,
          5.880414208,
          5.412749312,
          6.392119296,
          5.356126208,
          5.544869888,
          5.256511488,
          5.093982208,
          5.121245184,
          4.962910208,
          4.909432832,
          4.83393536,
          6.845104132,
          7.314866176,
          7.683964928,
          7.918845956,
          8.657043456,
          7.868514304,
          12.07959552,
          6.618611712,
          9.294577664,
          7.197425664,
          11.811160064,
          5.993660416,
          8.355053568,
          6.148849664,
          6.660554752,
          5.681184768,
          5.6623104,
          5.813305344,
          5.448400896,
          5.444206592,
          9.395240964,
          9.797894144,
          10.536091648,
          13.4217728,
          13.153337344,
          10.9051904,
          8.405385216,
          14.025752576,
          22.011707392,
          9.831448576,
          19.327352832,
          5.30579456,
          7.230980096,
          12.348030976,
          7.751073792,
          8.89192448,
          6.702497792,
          6.895435776,
          7.197425664,
          6.467616768,
          6.526337024,
          16.10612736,
          15.569256448,
          16.240345088,
          24.696061952,
          16.978542592,
          24.15919104,
          6.24951296,
          23.622320128,
          12.012486656,
          15.0994944,
          9.89855744,
          20.401094656,
          13.4217728,
          11.07296256,
          8.841592832,
          9.361686528,
          9.965666304,
          8.506048512,
          8.690597888,
          8.13694976,
          30.064771072,
          28.991029248,
          28.454158336,
          29.125246976,
          19.46157056,
          25.769803776,
          15.233712128,
          17.716740096,
          14.294188032,
          22.548578304,
          13.119782912,
          15.569256448,
          12.582912,
          13.019119616,
          11.91182336,
          25.904021504,
          31.004295168,
          24.15919104,
          21.676163072,
          26.8435456,
          20.736638976,
          21.676163072,
          19.46157056
         ],
         "yaxis": "y"
        },
        {
         "customdata": [
          [
           128,
           2,
           1,
           8,
           2
          ],
          [
           128,
           2,
           1,
           8,
           4
          ],
          [
           128,
           2,
           1,
           8,
           8
          ],
          [
           128,
           2,
           1,
           8,
           16
          ],
          [
           128,
           4,
           1,
           4,
           2
          ],
          [
           128,
           4,
           1,
           4,
           4
          ],
          [
           128,
           2,
           1,
           8,
           32
          ],
          [
           128,
           4,
           1,
           4,
           8
          ],
          [
           128,
           4,
           1,
           4,
           16
          ],
          [
           128,
           2,
           1,
           8,
           64
          ],
          [
           128,
           4,
           1,
           4,
           32
          ],
          [
           256,
           2,
           1,
           8,
           2
          ],
          [
           256,
           2,
           1,
           8,
           4
          ],
          [
           256,
           2,
           1,
           8,
           8
          ],
          [
           256,
           2,
           1,
           8,
           16
          ],
          [
           256,
           2,
           1,
           8,
           32
          ],
          [
           256,
           4,
           1,
           4,
           2
          ],
          [
           256,
           4,
           1,
           4,
           4
          ],
          [
           256,
           4,
           1,
           4,
           8
          ],
          [
           256,
           2,
           1,
           8,
           64
          ],
          [
           256,
           4,
           1,
           4,
           16
          ],
          [
           256,
           4,
           1,
           4,
           32
          ],
          [
           256,
           2,
           1,
           8,
           128
          ],
          [
           256,
           4,
           1,
           4,
           64
          ],
          [
           512,
           2,
           1,
           8,
           2
          ],
          [
           512,
           2,
           1,
           8,
           4
          ],
          [
           512,
           2,
           1,
           8,
           8
          ],
          [
           512,
           2,
           1,
           8,
           16
          ],
          [
           512,
           2,
           1,
           8,
           32
          ],
          [
           512,
           4,
           1,
           4,
           2
          ],
          [
           512,
           4,
           1,
           4,
           4
          ],
          [
           512,
           2,
           1,
           8,
           64
          ],
          [
           512,
           4,
           1,
           4,
           8
          ],
          [
           512,
           4,
           1,
           4,
           16
          ],
          [
           512,
           4,
           1,
           4,
           32
          ],
          [
           512,
           2,
           1,
           8,
           128
          ],
          [
           512,
           4,
           1,
           4,
           64
          ],
          [
           512,
           4,
           1,
           4,
           128
          ],
          [
           1024,
           2,
           1,
           8,
           2
          ],
          [
           1024,
           2,
           1,
           8,
           4
          ],
          [
           1024,
           2,
           1,
           8,
           8
          ],
          [
           1024,
           2,
           1,
           8,
           16
          ],
          [
           1024,
           2,
           1,
           8,
           32
          ],
          [
           1024,
           4,
           1,
           4,
           2
          ],
          [
           1024,
           4,
           1,
           4,
           4
          ],
          [
           1024,
           4,
           1,
           4,
           8
          ],
          [
           1024,
           2,
           1,
           8,
           64
          ],
          [
           1024,
           4,
           1,
           4,
           16
          ],
          [
           1024,
           4,
           1,
           4,
           32
          ],
          [
           1024,
           2,
           1,
           8,
           128
          ],
          [
           1024,
           4,
           1,
           4,
           64
          ],
          [
           1024,
           4,
           1,
           4,
           128
          ],
          [
           2048,
           2,
           1,
           8,
           2
          ],
          [
           2048,
           2,
           1,
           8,
           4
          ],
          [
           2048,
           2,
           1,
           8,
           8
          ],
          [
           2048,
           2,
           1,
           8,
           16
          ],
          [
           2048,
           2,
           1,
           8,
           32
          ],
          [
           2048,
           4,
           1,
           4,
           2
          ],
          [
           2048,
           2,
           1,
           8,
           64
          ],
          [
           2048,
           4,
           1,
           4,
           4
          ],
          [
           2048,
           4,
           1,
           4,
           8
          ],
          [
           2048,
           4,
           1,
           4,
           16
          ],
          [
           2048,
           2,
           1,
           8,
           128
          ],
          [
           2048,
           4,
           1,
           4,
           32
          ],
          [
           2048,
           4,
           1,
           4,
           64
          ],
          [
           2048,
           4,
           1,
           4,
           128
          ],
          [
           4096,
           2,
           1,
           8,
           2
          ],
          [
           4096,
           2,
           1,
           8,
           4
          ],
          [
           4096,
           2,
           1,
           8,
           8
          ],
          [
           4096,
           2,
           1,
           8,
           16
          ],
          [
           4096,
           2,
           1,
           8,
           32
          ],
          [
           4096,
           4,
           1,
           4,
           2
          ],
          [
           4096,
           4,
           1,
           4,
           4
          ],
          [
           4096,
           2,
           1,
           8,
           64
          ],
          [
           4096,
           4,
           1,
           4,
           8
          ],
          [
           4096,
           4,
           1,
           4,
           16
          ],
          [
           4096,
           4,
           1,
           4,
           32
          ],
          [
           4096,
           2,
           1,
           8,
           128
          ],
          [
           4096,
           4,
           1,
           4,
           64
          ],
          [
           4096,
           4,
           1,
           4,
           128
          ],
          [
           8192,
           2,
           1,
           8,
           2
          ],
          [
           8192,
           2,
           1,
           8,
           4
          ],
          [
           8192,
           2,
           1,
           8,
           8
          ],
          [
           8192,
           2,
           1,
           8,
           16
          ],
          [
           8192,
           2,
           1,
           8,
           32
          ],
          [
           8192,
           4,
           1,
           4,
           2
          ],
          [
           8192,
           4,
           1,
           4,
           4
          ],
          [
           8192,
           2,
           1,
           8,
           64
          ],
          [
           8192,
           4,
           1,
           4,
           8
          ],
          [
           8192,
           4,
           1,
           4,
           16
          ],
          [
           8192,
           4,
           1,
           4,
           32
          ],
          [
           8192,
           2,
           1,
           8,
           128
          ],
          [
           8192,
           4,
           1,
           4,
           64
          ],
          [
           8192,
           4,
           1,
           4,
           128
          ],
          [
           16384,
           2,
           1,
           8,
           2
          ],
          [
           16384,
           2,
           1,
           8,
           4
          ],
          [
           16384,
           2,
           1,
           8,
           8
          ],
          [
           16384,
           2,
           1,
           8,
           16
          ],
          [
           16384,
           2,
           1,
           8,
           32
          ],
          [
           16384,
           4,
           1,
           4,
           2
          ],
          [
           16384,
           2,
           1,
           8,
           64
          ],
          [
           16384,
           4,
           1,
           4,
           4
          ],
          [
           16384,
           4,
           1,
           4,
           8
          ],
          [
           16384,
           4,
           1,
           4,
           16
          ],
          [
           16384,
           2,
           1,
           8,
           128
          ],
          [
           16384,
           4,
           1,
           4,
           32
          ],
          [
           16384,
           4,
           1,
           4,
           64
          ],
          [
           16384,
           4,
           1,
           4,
           128
          ],
          [
           32768,
           2,
           1,
           8,
           2
          ],
          [
           32768,
           2,
           1,
           8,
           4
          ],
          [
           32768,
           2,
           1,
           8,
           8
          ],
          [
           32768,
           2,
           1,
           8,
           16
          ],
          [
           32768,
           2,
           1,
           8,
           32
          ],
          [
           32768,
           4,
           1,
           4,
           2
          ],
          [
           32768,
           4,
           1,
           4,
           4
          ],
          [
           32768,
           4,
           1,
           4,
           8
          ],
          [
           32768,
           2,
           1,
           8,
           64
          ],
          [
           32768,
           4,
           1,
           4,
           16
          ],
          [
           32768,
           4,
           1,
           4,
           32
          ],
          [
           32768,
           2,
           1,
           8,
           128
          ],
          [
           32768,
           4,
           1,
           4,
           64
          ],
          [
           32768,
           4,
           1,
           4,
           128
          ],
          [
           65536,
           2,
           1,
           8,
           2
          ],
          [
           65536,
           2,
           1,
           8,
           4
          ],
          [
           65536,
           2,
           1,
           8,
           8
          ],
          [
           65536,
           2,
           1,
           8,
           16
          ],
          [
           65536,
           2,
           1,
           8,
           32
          ],
          [
           65536,
           4,
           1,
           4,
           2
          ],
          [
           65536,
           4,
           1,
           4,
           4
          ],
          [
           65536,
           2,
           1,
           8,
           64
          ],
          [
           65536,
           4,
           1,
           4,
           16
          ],
          [
           65536,
           4,
           1,
           4,
           32
          ],
          [
           65536,
           2,
           1,
           8,
           128
          ],
          [
           65536,
           4,
           1,
           4,
           64
          ],
          [
           65536,
           4,
           1,
           4,
           128
          ],
          [
           131072,
           2,
           1,
           8,
           32
          ],
          [
           131072,
           2,
           1,
           8,
           64
          ],
          [
           131072,
           2,
           1,
           8,
           128
          ],
          [
           131072,
           4,
           1,
           4,
           32
          ],
          [
           131072,
           4,
           1,
           4,
           64
          ],
          [
           131072,
           4,
           1,
           4,
           128
          ],
          [
           262144,
           2,
           1,
           8,
           128
          ],
          [
           262144,
           4,
           1,
           4,
           64
          ],
          [
           262144,
           4,
           1,
           4,
           128
          ]
         ],
         "hovertemplate": "Parallelism style=D/P<br>Throughput (samples / second)=%{x}<br>Peak Memory (GB)=%{y}<br>dummy_column_for_size=%{marker.size}<br>batch_size=%{customdata[0]}<br>dp_degree=%{customdata[1]}<br>hp_degree=%{customdata[2]}<br>pp_degree=%{customdata[3]}<br>num_microbatches=%{customdata[4]}<extra></extra>",
         "legendgroup": "D/P",
         "marker": {
          "color": "#8c564b",
          "size": [
           1,
           1,
           1,
           1,
           1,
           1,
           1,
           1,
           1,
           1,
           1,
           1,
           1,
           1,
           1,
           1,
           1,
           1,
           1,
           1,
           1,
           1,
           1,
           1,
           1,
           1,
           1,
           1,
           1,
           1,
           1,
           1,
           1,
           1,
           1,
           1,
           1,
           1,
           1,
           1,
           1,
           1,
           1,
           1,
           1,
           1,
           1,
           1,
           1,
           1,
           1,
           1,
           1,
           1,
           1,
           1,
           1,
           1,
           1,
           1,
           1,
           1,
           1,
           1,
           1,
           1,
           1,
           1,
           1,
           1,
           1,
           1,
           1,
           1,
           1,
           1,
           1,
           1,
           1,
           1,
           1,
           1,
           1,
           1,
           1,
           1,
           1,
           1,
           1,
           1,
           1,
           1,
           1,
           1,
           1,
           1,
           1,
           1,
           1,
           1,
           1,
           1,
           1,
           1,
           1,
           1,
           1,
           1,
           1,
           1,
           1,
           1,
           1,
           1,
           1,
           1,
           1,
           1,
           1,
           1,
           1,
           1,
           1,
           1,
           1,
           1,
           1,
           1,
           1,
           1,
           1,
           1,
           1,
           1,
           1,
           1,
           1,
           1,
           1,
           1,
           1,
           1,
           1,
           1
          ],
          "sizemode": "area",
          "sizeref": 0.01,
          "symbol": "circle"
         },
         "mode": "markers",
         "name": "D/P",
         "orientation": "v",
         "showlegend": true,
         "type": "scatter",
         "x": [
          726.808968627976,
          699.4153312571815,
          583.4929569491565,
          421.8776597718534,
          547.860830246481,
          472.2536683817987,
          268.2654550744411,
          360.04720515577054,
          241.83870719627583,
          154.69456167033442,
          145.58129565014175,
          1191.4299574427546,
          1238.4458474397431,
          1086.944250612069,
          810.6747620116709,
          524.9844265860756,
          1003.4832392119208,
          894.8675314865646,
          696.9362977838016,
          305.8586877149712,
          474.5307166315674,
          288.08381283067143,
          166.39298066240403,
          161.0724715887631,
          1751.1519725643454,
          2014.858956064637,
          1911.6540282510684,
          1503.4592559305088,
          1006.6417236592188,
          1717.7622353443337,
          1619.5047295669258,
          598.0682754016182,
          1309.637181997096,
          914.474648871682,
          564.235084316431,
          328.9040846066554,
          318.5398767499923,
          170.12383439683265,
          2288.77357046693,
          2934.767223306988,
          3080.186959434795,
          2625.161264921906,
          1859.7940597948343,
          2666.917775151197,
          2721.3315270785743,
          2336.832416726062,
          1145.0386181212923,
          1704.7000332870296,
          1083.5875588807237,
          642.8116497249979,
          623.1330133515095,
          336.3175298680274,
          2703.824479830953,
          3802.79402220214,
          4435.164328167623,
          4187.1296968273045,
          3227.4736535499155,
          3684.996688965645,
          2109.817988307596,
          4124.271238013504,
          3844.5358208458615,
          3001.577116631635,
          1229.5609528436655,
          2007.4876287553063,
          1193.9891904426993,
          657.446959283323,
          2973.428281656229,
          4462.780441188281,
          5685.375691511276,
          5957.783052365254,
          5104.31104193257,
          4554.280511596801,
          5556.463936079594,
          3645.7058231112974,
          5674.732301621907,
          4844.244205867427,
          3499.287825044772,
          2261.855810014418,
          2203.1484514991885,
          1258.0790649849998,
          3129.4501819243715,
          4886.843703227752,
          6618.111231051682,
          7554.7254496384385,
          7192.375464168966,
          5163.285165439219,
          6723.9402739357565,
          5732.11443044416,
          7447.08735442821,
          6987.998310332033,
          5568.204225061852,
          3898.2854829496746,
          3815.6352754330255,
          2316.014214716457,
          3213.7666565932614,
          5130.604388040502,
          7209.502127788826,
          8723.876477420668,
          9041.07602408918,
          5533.241497066865,
          8023.727634411843,
          7513.249953833416,
          8825.214269351096,
          8973.178605435189,
          6107.723339995134,
          7902.398375599934,
          6017.8828987338575,
          3996.2735976991303,
          3257.6519579764586,
          5261.837258519133,
          7546.68605201437,
          9455.534278460837,
          10374.3405561254,
          5738.839276233445,
          7981.729451076989,
          9725.053149767771,
          10027.503871766434,
          10458.73354904022,
          9997.55052880426,
          8515.895208122163,
          8455.619688153098,
          6271.104759567605,
          3280.0471523407086,
          5330.003857715594,
          7727.388628672784,
          9869.399798738676,
          11200.170945959717,
          5847.476149456431,
          8238.582820900392,
          11458.227291692549,
          11402.61362701926,
          11525.390206527323,
          10606.093520605784,
          10602.751980654852,
          8762.330889311934,
          11664.433900462704,
          12338.451940984118,
          12089.78337800019,
          12478.912664272231,
          12144.691581185258,
          10933.687210994363,
          12999.00057832218,
          13097.030665883683,
          12479.989319605758
         ],
         "xaxis": "x",
         "y": [
          9.683599364,
          9.689366528,
          9.693298688,
          9.695264768,
          18.271961092,
          18.279038976,
          9.681567744,
          18.283102208,
          18.269405184,
          9.674719232,
          18.262556672,
          9.703522308,
          9.71505664,
          9.72292096,
          9.72685312,
          9.699459072,
          18.290311172,
          18.304466944,
          18.312593408,
          9.685762048,
          18.28519936,
          18.271502336,
          9.678913536,
          18.264653824,
          9.743368196,
          9.766436864,
          9.782165504,
          9.790029824,
          9.735241728,
          18.327011332,
          18.35532288,
          9.70784768,
          18.371575808,
          18.316787712,
          18.289393664,
          9.694150656,
          18.27569664,
          18.268848128,
          9.823059972,
          9.869197312,
          9.900654592,
          9.916383232,
          9.80680704,
          18.400411652,
          18.457034752,
          18.489540608,
          9.752018944,
          18.379964416,
          18.32517632,
          9.724624896,
          18.297782272,
          18.284085248,
          9.982443524,
          10.074718208,
          10.137632768,
          10.169090048,
          9.949937664,
          18.547212292,
          9.840361472,
          18.660458496,
          18.725470208,
          18.506317824,
          9.785573376,
          18.396741632,
          18.341953536,
          18.314559488,
          10.301210628,
          10.48576,
          10.61158912,
          10.67450368,
          10.236198912,
          18.840813572,
          19.067305984,
          10.017046528,
          19.197329408,
          18.75902464,
          18.539872256,
          9.907470336,
          18.430296064,
          18.375507968,
          10.938744836,
          11.307843584,
          11.559501824,
          11.685330944,
          10.808721408,
          19.428016132,
          19.88100096,
          10.37041664,
          20.141047808,
          19.264438272,
          18.826133504,
          10.151264256,
          18.60698112,
          18.497404928,
          12.213813252,
          12.952010752,
          13.455327232,
          13.706985472,
          11.9537664,
          20.602421252,
          11.077156864,
          21.508390912,
          22.028484608,
          20.275265536,
          10.638852096,
          19.398656,
          18.960351232,
          18.741198848,
          14.763950084,
          16.240345088,
          17.246978048,
          17.750294528,
          14.243856384,
          22.951231492,
          24.763170816,
          25.803358208,
          12.490637312,
          22.296920064,
          20.543700992,
          11.614027776,
          19.667091456,
          19.228786688,
          22.548578304,
          22.81701376,
          24.83027968,
          25.83691264,
          18.824036352,
          27.648851972,
          31.272730624,
          15.401484288,
          26.34022912,
          22.833790976,
          13.874757632,
          21.080571904,
          20.203962368,
          27.984396288,
          21.676163072,
          18.62270976,
          27.413970944,
          23.9075328,
          22.39758336,
          28.118614016,
          29.997662208,
          27.078426624
         ],
         "yaxis": "y"
        },
        {
         "customdata": [
          [
           128,
           2,
           2,
           4,
           2
          ],
          [
           128,
           2,
           2,
           4,
           4
          ],
          [
           128,
           2,
           4,
           2,
           2
          ],
          [
           128,
           2,
           2,
           4,
           8
          ],
          [
           128,
           2,
           4,
           2,
           4
          ],
          [
           128,
           2,
           2,
           4,
           16
          ],
          [
           128,
           4,
           2,
           2,
           2
          ],
          [
           128,
           4,
           2,
           2,
           4
          ],
          [
           128,
           2,
           4,
           2,
           8
          ],
          [
           128,
           4,
           2,
           2,
           8
          ],
          [
           128,
           2,
           2,
           4,
           32
          ],
          [
           128,
           4,
           2,
           2,
           16
          ],
          [
           128,
           2,
           4,
           2,
           16
          ],
          [
           128,
           2,
           2,
           4,
           64
          ],
          [
           128,
           2,
           4,
           2,
           32
          ],
          [
           128,
           4,
           2,
           2,
           32
          ],
          [
           256,
           2,
           2,
           4,
           2
          ],
          [
           256,
           2,
           2,
           4,
           4
          ],
          [
           128,
           2,
           4,
           2,
           64
          ],
          [
           256,
           2,
           2,
           4,
           8
          ],
          [
           256,
           2,
           4,
           2,
           2
          ],
          [
           256,
           2,
           4,
           2,
           4
          ],
          [
           256,
           2,
           2,
           4,
           16
          ],
          [
           256,
           4,
           2,
           2,
           2
          ],
          [
           256,
           2,
           4,
           2,
           8
          ],
          [
           256,
           4,
           2,
           2,
           4
          ],
          [
           256,
           4,
           2,
           2,
           8
          ],
          [
           256,
           2,
           4,
           2,
           16
          ],
          [
           256,
           2,
           2,
           4,
           32
          ],
          [
           256,
           4,
           2,
           2,
           16
          ],
          [
           256,
           2,
           2,
           4,
           64
          ],
          [
           256,
           2,
           4,
           2,
           32
          ],
          [
           256,
           4,
           2,
           2,
           32
          ],
          [
           256,
           2,
           2,
           4,
           128
          ],
          [
           256,
           2,
           4,
           2,
           64
          ],
          [
           256,
           4,
           2,
           2,
           64
          ],
          [
           512,
           2,
           2,
           4,
           2
          ],
          [
           512,
           2,
           2,
           4,
           4
          ],
          [
           512,
           2,
           4,
           2,
           2
          ],
          [
           512,
           2,
           2,
           4,
           8
          ],
          [
           512,
           2,
           2,
           4,
           16
          ],
          [
           512,
           2,
           4,
           2,
           4
          ],
          [
           512,
           2,
           4,
           2,
           8
          ],
          [
           512,
           4,
           2,
           2,
           2
          ],
          [
           512,
           2,
           2,
           4,
           32
          ],
          [
           512,
           2,
           4,
           2,
           16
          ],
          [
           512,
           4,
           2,
           2,
           4
          ],
          [
           512,
           4,
           2,
           2,
           8
          ],
          [
           512,
           2,
           2,
           4,
           64
          ],
          [
           512,
           4,
           2,
           2,
           16
          ],
          [
           512,
           2,
           4,
           2,
           32
          ],
          [
           512,
           4,
           2,
           2,
           32
          ],
          [
           256,
           2,
           4,
           2,
           128
          ],
          [
           512,
           2,
           2,
           4,
           128
          ],
          [
           512,
           2,
           4,
           2,
           64
          ],
          [
           512,
           4,
           2,
           2,
           64
          ],
          [
           512,
           2,
           4,
           2,
           128
          ],
          [
           1024,
           2,
           2,
           4,
           2
          ],
          [
           1024,
           2,
           2,
           4,
           4
          ],
          [
           1024,
           2,
           2,
           4,
           8
          ],
          [
           1024,
           2,
           4,
           2,
           2
          ],
          [
           1024,
           2,
           4,
           2,
           4
          ],
          [
           1024,
           2,
           2,
           4,
           16
          ],
          [
           1024,
           2,
           4,
           2,
           8
          ],
          [
           1024,
           4,
           2,
           2,
           2
          ],
          [
           1024,
           2,
           2,
           4,
           32
          ],
          [
           1024,
           4,
           2,
           2,
           4
          ],
          [
           1024,
           2,
           4,
           2,
           16
          ],
          [
           1024,
           4,
           2,
           2,
           8
          ],
          [
           1024,
           2,
           2,
           4,
           64
          ],
          [
           512,
           4,
           2,
           2,
           128
          ],
          [
           1024,
           4,
           2,
           2,
           16
          ],
          [
           1024,
           2,
           4,
           2,
           32
          ],
          [
           1024,
           4,
           2,
           2,
           32
          ],
          [
           1024,
           2,
           2,
           4,
           128
          ],
          [
           1024,
           2,
           4,
           2,
           64
          ],
          [
           1024,
           4,
           2,
           2,
           64
          ],
          [
           1024,
           2,
           4,
           2,
           128
          ],
          [
           2048,
           2,
           2,
           4,
           2
          ],
          [
           2048,
           2,
           2,
           4,
           4
          ],
          [
           2048,
           2,
           2,
           4,
           8
          ],
          [
           2048,
           2,
           4,
           2,
           2
          ],
          [
           2048,
           2,
           4,
           2,
           4
          ],
          [
           2048,
           2,
           2,
           4,
           16
          ],
          [
           2048,
           2,
           4,
           2,
           8
          ],
          [
           2048,
           4,
           2,
           2,
           2
          ],
          [
           1024,
           4,
           2,
           2,
           128
          ],
          [
           2048,
           2,
           2,
           4,
           32
          ],
          [
           2048,
           2,
           4,
           2,
           16
          ],
          [
           2048,
           4,
           2,
           2,
           4
          ],
          [
           2048,
           4,
           2,
           2,
           8
          ],
          [
           2048,
           2,
           2,
           4,
           64
          ],
          [
           2048,
           4,
           2,
           2,
           16
          ],
          [
           2048,
           2,
           4,
           2,
           32
          ],
          [
           2048,
           4,
           2,
           2,
           32
          ],
          [
           2048,
           2,
           2,
           4,
           128
          ],
          [
           2048,
           2,
           4,
           2,
           64
          ],
          [
           2048,
           4,
           2,
           2,
           64
          ],
          [
           2048,
           4,
           2,
           2,
           128
          ],
          [
           4096,
           2,
           2,
           4,
           2
          ],
          [
           4096,
           2,
           2,
           4,
           4
          ],
          [
           4096,
           2,
           2,
           4,
           8
          ],
          [
           2048,
           2,
           4,
           2,
           128
          ],
          [
           4096,
           2,
           4,
           2,
           2
          ],
          [
           4096,
           2,
           2,
           4,
           16
          ],
          [
           4096,
           2,
           4,
           2,
           4
          ],
          [
           4096,
           2,
           4,
           2,
           8
          ],
          [
           4096,
           4,
           2,
           2,
           2
          ],
          [
           4096,
           2,
           2,
           4,
           32
          ],
          [
           4096,
           4,
           2,
           2,
           4
          ],
          [
           4096,
           4,
           2,
           2,
           8
          ],
          [
           4096,
           2,
           4,
           2,
           16
          ],
          [
           4096,
           4,
           2,
           2,
           16
          ],
          [
           4096,
           2,
           4,
           2,
           32
          ],
          [
           4096,
           2,
           2,
           4,
           64
          ],
          [
           4096,
           4,
           2,
           2,
           32
          ],
          [
           4096,
           2,
           2,
           4,
           128
          ],
          [
           4096,
           2,
           4,
           2,
           64
          ],
          [
           4096,
           4,
           2,
           2,
           64
          ],
          [
           8192,
           2,
           2,
           4,
           2
          ],
          [
           4096,
           2,
           4,
           2,
           128
          ],
          [
           8192,
           2,
           2,
           4,
           4
          ],
          [
           8192,
           2,
           2,
           4,
           8
          ],
          [
           8192,
           2,
           4,
           2,
           2
          ],
          [
           8192,
           2,
           4,
           2,
           4
          ],
          [
           4096,
           4,
           2,
           2,
           128
          ],
          [
           8192,
           2,
           2,
           4,
           16
          ],
          [
           8192,
           2,
           4,
           2,
           8
          ],
          [
           8192,
           4,
           2,
           2,
           2
          ],
          [
           8192,
           2,
           2,
           4,
           32
          ],
          [
           8192,
           4,
           2,
           2,
           4
          ],
          [
           8192,
           2,
           4,
           2,
           16
          ],
          [
           8192,
           4,
           2,
           2,
           8
          ],
          [
           8192,
           4,
           2,
           2,
           16
          ],
          [
           8192,
           2,
           2,
           4,
           64
          ],
          [
           8192,
           2,
           4,
           2,
           32
          ],
          [
           8192,
           4,
           2,
           2,
           32
          ],
          [
           8192,
           2,
           2,
           4,
           128
          ],
          [
           8192,
           2,
           4,
           2,
           64
          ],
          [
           8192,
           4,
           2,
           2,
           64
          ],
          [
           16384,
           2,
           2,
           4,
           2
          ],
          [
           16384,
           2,
           2,
           4,
           4
          ],
          [
           8192,
           2,
           4,
           2,
           128
          ],
          [
           8192,
           4,
           2,
           2,
           128
          ],
          [
           16384,
           2,
           4,
           2,
           2
          ],
          [
           16384,
           2,
           2,
           4,
           8
          ],
          [
           16384,
           2,
           2,
           4,
           16
          ],
          [
           16384,
           2,
           4,
           2,
           4
          ],
          [
           16384,
           2,
           4,
           2,
           8
          ],
          [
           16384,
           4,
           2,
           2,
           2
          ],
          [
           16384,
           4,
           2,
           2,
           4
          ],
          [
           16384,
           2,
           2,
           4,
           32
          ],
          [
           16384,
           2,
           4,
           2,
           16
          ],
          [
           16384,
           4,
           2,
           2,
           8
          ],
          [
           16384,
           2,
           2,
           4,
           64
          ],
          [
           16384,
           4,
           2,
           2,
           16
          ],
          [
           16384,
           4,
           2,
           2,
           32
          ],
          [
           16384,
           2,
           4,
           2,
           32
          ],
          [
           16384,
           2,
           2,
           4,
           128
          ],
          [
           16384,
           2,
           4,
           2,
           64
          ],
          [
           16384,
           4,
           2,
           2,
           64
          ],
          [
           16384,
           2,
           4,
           2,
           128
          ],
          [
           32768,
           2,
           2,
           4,
           2
          ],
          [
           32768,
           2,
           2,
           4,
           4
          ],
          [
           32768,
           2,
           2,
           4,
           8
          ],
          [
           32768,
           2,
           4,
           2,
           2
          ],
          [
           32768,
           2,
           4,
           2,
           4
          ],
          [
           32768,
           2,
           2,
           4,
           16
          ],
          [
           32768,
           2,
           4,
           2,
           8
          ],
          [
           32768,
           4,
           2,
           2,
           2
          ],
          [
           16384,
           4,
           2,
           2,
           128
          ],
          [
           32768,
           2,
           2,
           4,
           32
          ],
          [
           32768,
           4,
           2,
           2,
           4
          ],
          [
           32768,
           2,
           4,
           2,
           16
          ],
          [
           32768,
           4,
           2,
           2,
           8
          ],
          [
           32768,
           2,
           2,
           4,
           64
          ],
          [
           32768,
           4,
           2,
           2,
           16
          ],
          [
           32768,
           2,
           4,
           2,
           32
          ],
          [
           32768,
           4,
           2,
           2,
           32
          ],
          [
           32768,
           2,
           2,
           4,
           128
          ],
          [
           32768,
           2,
           4,
           2,
           64
          ],
          [
           32768,
           4,
           2,
           2,
           64
          ],
          [
           32768,
           2,
           4,
           2,
           128
          ],
          [
           65536,
           2,
           2,
           4,
           2
          ],
          [
           65536,
           2,
           2,
           4,
           4
          ],
          [
           65536,
           2,
           2,
           4,
           8
          ],
          [
           65536,
           2,
           2,
           4,
           16
          ],
          [
           65536,
           2,
           4,
           2,
           8
          ],
          [
           65536,
           2,
           2,
           4,
           32
          ],
          [
           32768,
           4,
           2,
           2,
           128
          ],
          [
           65536,
           2,
           4,
           2,
           16
          ],
          [
           65536,
           4,
           2,
           2,
           8
          ],
          [
           65536,
           4,
           2,
           2,
           16
          ],
          [
           65536,
           2,
           4,
           2,
           32
          ],
          [
           65536,
           2,
           2,
           4,
           64
          ],
          [
           65536,
           4,
           2,
           2,
           32
          ],
          [
           65536,
           2,
           2,
           4,
           128
          ],
          [
           65536,
           2,
           4,
           2,
           64
          ],
          [
           65536,
           4,
           2,
           2,
           64
          ],
          [
           65536,
           2,
           4,
           2,
           128
          ],
          [
           131072,
           2,
           2,
           4,
           32
          ],
          [
           131072,
           2,
           4,
           2,
           16
          ],
          [
           65536,
           4,
           2,
           2,
           128
          ],
          [
           131072,
           2,
           2,
           4,
           64
          ],
          [
           131072,
           4,
           2,
           2,
           16
          ],
          [
           131072,
           2,
           4,
           2,
           32
          ],
          [
           131072,
           4,
           2,
           2,
           32
          ],
          [
           131072,
           2,
           2,
           4,
           128
          ],
          [
           131072,
           2,
           4,
           2,
           64
          ],
          [
           131072,
           4,
           2,
           2,
           64
          ],
          [
           131072,
           4,
           2,
           2,
           128
          ],
          [
           131072,
           2,
           4,
           2,
           128
          ],
          [
           262144,
           2,
           2,
           4,
           64
          ],
          [
           262144,
           4,
           2,
           2,
           32
          ],
          [
           262144,
           2,
           2,
           4,
           128
          ],
          [
           262144,
           2,
           4,
           2,
           64
          ],
          [
           262144,
           4,
           2,
           2,
           64
          ],
          [
           262144,
           4,
           2,
           2,
           128
          ],
          [
           262144,
           2,
           4,
           2,
           128
          ]
         ],
         "hovertemplate": "Parallelism style=D/T/P<br>Throughput (samples / second)=%{x}<br>Peak Memory (GB)=%{y}<br>dummy_column_for_size=%{marker.size}<br>batch_size=%{customdata[0]}<br>dp_degree=%{customdata[1]}<br>hp_degree=%{customdata[2]}<br>pp_degree=%{customdata[3]}<br>num_microbatches=%{customdata[4]}<extra></extra>",
         "legendgroup": "D/T/P",
         "marker": {
          "color": "#e377c2",
          "size": [
           1,
           1,
           1,
           1,
           1,
           1,
           1,
           1,
           1,
           1,
           1,
           1,
           1,
           1,
           1,
           1,
           1,
           1,
           1,
           1,
           1,
           1,
           1,
           1,
           1,
           1,
           1,
           1,
           1,
           1,
           1,
           1,
           1,
           1,
           1,
           1,
           1,
           1,
           1,
           1,
           1,
           1,
           1,
           1,
           1,
           1,
           1,
           1,
           1,
           1,
           1,
           1,
           1,
           1,
           1,
           1,
           1,
           1,
           1,
           1,
           1,
           1,
           1,
           1,
           1,
           1,
           1,
           1,
           1,
           1,
           1,
           1,
           1,
           1,
           1,
           1,
           1,
           1,
           1,
           1,
           1,
           1,
           1,
           1,
           1,
           1,
           1,
           1,
           1,
           1,
           1,
           1,
           1,
           1,
           1,
           1,
           1,
           1,
           1,
           1,
           1,
           1,
           1,
           1,
           1,
           1,
           1,
           1,
           1,
           1,
           1,
           1,
           1,
           1,
           1,
           1,
           1,
           1,
           1,
           1,
           1,
           1,
           1,
           1,
           1,
           1,
           1,
           1,
           1,
           1,
           1,
           1,
           1,
           1,
           1,
           1,
           1,
           1,
           1,
           1,
           1,
           1,
           1,
           1,
           1,
           1,
           1,
           1,
           1,
           1,
           1,
           1,
           1,
           1,
           1,
           1,
           1,
           1,
           1,
           1,
           1,
           1,
           1,
           1,
           1,
           1,
           1,
           1,
           1,
           1,
           1,
           1,
           1,
           1,
           1,
           1,
           1,
           1,
           1,
           1,
           1,
           1,
           1,
           1,
           1,
           1,
           1,
           1,
           1,
           1,
           1,
           1,
           1,
           1,
           1,
           1,
           1,
           1,
           1,
           1,
           1,
           1,
           1,
           1,
           1,
           1,
           1,
           1,
           1,
           1,
           1,
           1,
           1,
           1,
           1,
           1,
           1,
           1,
           1
          ],
          "sizemode": "area",
          "sizeref": 0.01,
          "symbol": "diamond"
         },
         "mode": "markers",
         "name": "D/T/P",
         "orientation": "v",
         "showlegend": true,
         "type": "scatter",
         "x": [
          1044.033135115174,
          911.3215545089928,
          1323.0174722243514,
          687.2389681613535,
          1039.7860236658512,
          452.4579240421105,
          673.0060380423116,
          539.9469817321144,
          713.5196462674528,
          383.0582303065889,
          267.380344561423,
          241.5024408755128,
          435.7238457907904,
          146.8528099498109,
          244.5534219221992,
          138.74149925550387,
          1764.955053721853,
          1639.2260305315615,
          130.1965708968313,
          1289.0218751107825,
          2303.969330729493,
          1895.2036265721488,
          872.0451592463618,
          1257.1982312607463,
          1346.1374634562203,
          1031.1782676377436,
          743.6802684823356,
          842.248575025162,
          524.0100007736163,
          474.4806235686223,
          290.57179538889346,
          480.0401829433078,
          274.73074641359847,
          153.54653416035848,
          257.839634360917,
          149.07743128721424,
          2695.650325272788,
          2729.1665230597346,
          3661.308802853919,
          2292.925487322119,
          1625.9653024873728,
          3219.538599699373,
          2418.1006092116245,
          2221.265208965972,
          1007.5105470556964,
          1578.7036474559354,
          1891.6830112210573,
          1405.0641971665018,
          569.0011619835514,
          916.6079396458356,
          925.7584659077248,
          538.7736954395823,
          133.85858475666936,
          303.74456067690227,
          505.7599461709216,
          295.0271283626452,
          265.0392216237057,
          3660.876045302341,
          4088.278706371463,
          3755.2325104845177,
          5190.146616527144,
          4948.5015337806735,
          2863.982791192894,
          4017.8635473991344,
          3602.551224398614,
          1870.424828118973,
          3246.094774604816,
          2805.0672619836164,
          2530.140705943214,
          1092.354940783248,
          154.84524381667248,
          1716.1941224475129,
          1727.970540950212,
          1037.1974961739138,
          594.5238807508933,
          974.0474126366772,
          577.9289594035812,
          519.6817939333963,
          4459.22938821646,
          5443.5531271474165,
          5512.023517063136,
          6559.7002914465065,
          6764.970360057575,
          4624.56558605385,
          6003.882941952568,
          5228.08416847808,
          306.3430355520487,
          3271.3507471047337,
          4586.504140570978,
          5056.15312847748,
          4219.466652851159,
          2022.4605931017527,
          3043.7924992882395,
          3049.034504697749,
          1929.8634606633907,
          1140.3713698841775,
          1813.714143401745,
          1110.228714037014,
          599.7212673104975,
          5004.963418374293,
          6525.095751906758,
          7194.43543167595,
          1000.1315927895308,
          7556.717415574849,
          6673.594696591443,
          8285.706168211089,
          7974.858823128595,
          6751.21656123628,
          5229.927421528468,
          7010.804082678581,
          6334.016836865437,
          6720.537270522375,
          4963.6677527883085,
          4935.779916941577,
          3521.8195027739403,
          3387.66248804966,
          2108.139692864848,
          3187.655703416256,
          2057.974258916519,
          5331.18683307772,
          1859.858141021953,
          7244.80646441147,
          8490.061213168205,
          8178.226930692432,
          9334.932170948994,
          1150.7417662498867,
          8572.08942393789,
          9540.92271326636,
          7902.33659469187,
          7459.589549983151,
          8690.658695473896,
          8758.028365222706,
          8451.788042410068,
          7250.204836238721,
          5596.202635500039,
          7147.0942221239,
          5443.732153025746,
          3662.009127856999,
          5131.1562343389705,
          3590.478167397024,
          5510.783202081465,
          7667.674389085984,
          3261.80295140742,
          2128.6269510475104,
          8528.963340339307,
          9330.184660446206,
          9993.51241390709,
          9965.92920686906,
          10579.7195859652,
          8638.820068124936,
          9873.557303491483,
          9479.719612099385,
          10322.835154705335,
          10148.32909108607,
          7926.36036354929,
          9419.855349811236,
          7815.439510691069,
          9210.275047679628,
          5799.277302077023,
          7381.343605801822,
          5720.356162430713,
          5234.761794045568,
          5605.196793575934,
          7898.176438780983,
          9815.84187212533,
          8715.860178236206,
          10314.53600590224,
          10896.98050970678,
          11188.828384134327,
          9061.057133762666,
          3701.2737913848023,
          10964.312789470858,
          10594.579357989063,
          11335.498274935691,
          11280.506194484267,
          10009.640094312948,
          11077.31972277606,
          10763.905252883264,
          9992.102783637492,
          8182.358782787956,
          9454.377409526864,
          8132.447184304795,
          7504.32245961549,
          5653.627228236023,
          8018.703703354905,
          10078.136777555184,
          11412.87355675932,
          11520.46362726807,
          11895.79704508042,
          5869.485525671744,
          11920.17900885788,
          11946.92292529201,
          12145.87981901681,
          11755.380189370428,
          11524.053709681124,
          11608.655064002964,
          10297.45625380344,
          10998.883262694506,
          10305.115876549107,
          9581.345884847737,
          12423.523533405094,
          12235.736346236346,
          8300.794436555154,
          12467.166904962956,
          12761.385541694626,
          12322.918871591744,
          12630.3423488484,
          11825.917121412982,
          11977.205999882884,
          11893.906969532289,
          10469.09354071672,
          11120.26193318097,
          12999.080620778996,
          13211.729961722343,
          12773.941005719496,
          12534.669512037231,
          12887.361345130896,
          12041.855295596397,
          12091.288222958328
         ],
         "xaxis": "x",
         "y": [
          9.15511706,
          9.165078528,
          8.90345882,
          9.17110784,
          8.921808896,
          9.151053824,
          17.743478788,
          17.754750976,
          8.892186624,
          17.736794112,
          9.141026816,
          17.72781568,
          8.877375488,
          9.136013312,
          8.86996992,
          17.723326464,
          9.183428612,
          9.203351552,
          8.866267136,
          9.215410176,
          8.948547588,
          8.985247744,
          9.175302144,
          17.770217476,
          8.9260032,
          17.792761856,
          17.756848128,
          8.896380928,
          9.155248128,
          17.738891264,
          9.14522112,
          8.881569792,
          17.729912832,
          9.140207616,
          8.874164224,
          17.725423616,
          9.240051716,
          9.2798976,
          9.038725124,
          9.304014848,
          9.223798784,
          9.11212544,
          8.993636352,
          17.823694852,
          9.183690752,
          8.934391808,
          17.868783616,
          17.79695616,
          9.163636736,
          17.761042432,
          8.904769536,
          17.743085568,
          8.87046144,
          9.153609728,
          8.8899584,
          17.734107136,
          8.882552832,
          9.353297924,
          9.432989696,
          9.481224192,
          9.219080196,
          9.365880832,
          9.320792064,
          9.128902656,
          17.930649604,
          9.240576,
          18.020827136,
          9.010413568,
          17.877172224,
          9.200467968,
          17.72961792,
          17.805344768,
          8.951169024,
          17.76943104,
          9.180413952,
          8.921546752,
          17.751474176,
          8.906735616,
          9.57979034,
          9.739173888,
          9.83564288,
          9.57979034,
          9.873391616,
          9.514778624,
          9.399435264,
          18.144559108,
          17.742495744,
          9.354346496,
          9.162457088,
          18.324914176,
          18.037604352,
          9.274130432,
          17.89394944,
          9.043968,
          17.822121984,
          9.2340224,
          8.984723456,
          17.786208256,
          17.768251392,
          10.032775172,
          10.351542272,
          10.544480256,
          8.955101184,
          10.301210628,
          9.902751744,
          10.888413184,
          9.94050048,
          18.572378116,
          9.581887488,
          18.933088256,
          18.358468608,
          9.466544128,
          18.071158784,
          9.229565952,
          9.42145536,
          17.927503872,
          9.341239296,
          9.111076864,
          17.855676416,
          10.938744836,
          9.05183232,
          11.57627904,
          11.962155008,
          11.744051204,
          12.91845632,
          17.819762688,
          10.678697984,
          11.022630912,
          19.428016132,
          10.036969472,
          20.149436416,
          10.074718208,
          19.00019712,
          18.425577472,
          9.716105216,
          9.600761856,
          18.138267648,
          9.555673088,
          9.36378368,
          17.994612736,
          12.750684164,
          14.025752576,
          9.245294592,
          17.92278528,
          15.300820992,
          14.797504512,
          12.230590464,
          16.978542592,
          13.186891776,
          21.139292164,
          22.582132736,
          10.94713344,
          11.291066368,
          20.283654144,
          10.305404928,
          19.134414848,
          18.5597952,
          10.343153664,
          9.984540672,
          9.869197312,
          18.272485376,
          9.684647936,
          17.716740096,
          18.924699648,
          20.46820352,
          26.306674688,
          25.232932864,
          15.334375424,
          17.515413504,
          24.561844228,
          18.128830464,
          12.767461376,
          27.447525376,
          13.723762688,
          22.850568192,
          11.525947392,
          20.5520896,
          11.82793728,
          19.402850304,
          10.997465088,
          10.955522048,
          18.828230656,
          10.645143552,
          31.138512896,
          30.601641984,
          31.809601536,
          21.541945344,
          26.306674688,
          16.408117248,
          18.540920832,
          18.589155328,
          27.984396288,
          23.387439104,
          14.797504512,
          14.193524736,
          21.088960512,
          13.136560128,
          13.186891776,
          19.939721216,
          12.566134784,
          23.756537856,
          28.454158336,
          19.436404736,
          19.528679424,
          29.058138112,
          20.736638976,
          24.461180928,
          17.414750208,
          17.649631232,
          22.179479552,
          21.424504832,
          16.408117248,
          30.1989888,
          31.20562176,
          25.971130368,
          26.575110144,
          26.910654464,
          25.400705024,
          24.092082176
         ],
         "yaxis": "y"
        }
       ],
       "layout": {
        "legend": {
         "itemsizing": "constant",
         "title": {
          "text": "Parallelism style"
         },
         "tracegroupgap": 0
        },
        "margin": {
         "t": 60
        },
        "template": {
         "data": {
          "bar": [
           {
            "error_x": {
             "color": "#2a3f5f"
            },
            "error_y": {
             "color": "#2a3f5f"
            },
            "marker": {
             "line": {
              "color": "#E5ECF6",
              "width": 0.5
             },
             "pattern": {
              "fillmode": "overlay",
              "size": 10,
              "solidity": 0.2
             }
            },
            "type": "bar"
           }
          ],
          "barpolar": [
           {
            "marker": {
             "line": {
              "color": "#E5ECF6",
              "width": 0.5
             },
             "pattern": {
              "fillmode": "overlay",
              "size": 10,
              "solidity": 0.2
             }
            },
            "type": "barpolar"
           }
          ],
          "carpet": [
           {
            "aaxis": {
             "endlinecolor": "#2a3f5f",
             "gridcolor": "white",
             "linecolor": "white",
             "minorgridcolor": "white",
             "startlinecolor": "#2a3f5f"
            },
            "baxis": {
             "endlinecolor": "#2a3f5f",
             "gridcolor": "white",
             "linecolor": "white",
             "minorgridcolor": "white",
             "startlinecolor": "#2a3f5f"
            },
            "type": "carpet"
           }
          ],
          "choropleth": [
           {
            "colorbar": {
             "outlinewidth": 0,
             "ticks": ""
            },
            "type": "choropleth"
           }
          ],
          "contour": [
           {
            "colorbar": {
             "outlinewidth": 0,
             "ticks": ""
            },
            "colorscale": [
             [
              0,
              "#0d0887"
             ],
             [
              0.1111111111111111,
              "#46039f"
             ],
             [
              0.2222222222222222,
              "#7201a8"
             ],
             [
              0.3333333333333333,
              "#9c179e"
             ],
             [
              0.4444444444444444,
              "#bd3786"
             ],
             [
              0.5555555555555556,
              "#d8576b"
             ],
             [
              0.6666666666666666,
              "#ed7953"
             ],
             [
              0.7777777777777778,
              "#fb9f3a"
             ],
             [
              0.8888888888888888,
              "#fdca26"
             ],
             [
              1,
              "#f0f921"
             ]
            ],
            "type": "contour"
           }
          ],
          "contourcarpet": [
           {
            "colorbar": {
             "outlinewidth": 0,
             "ticks": ""
            },
            "type": "contourcarpet"
           }
          ],
          "heatmap": [
           {
            "colorbar": {
             "outlinewidth": 0,
             "ticks": ""
            },
            "colorscale": [
             [
              0,
              "#0d0887"
             ],
             [
              0.1111111111111111,
              "#46039f"
             ],
             [
              0.2222222222222222,
              "#7201a8"
             ],
             [
              0.3333333333333333,
              "#9c179e"
             ],
             [
              0.4444444444444444,
              "#bd3786"
             ],
             [
              0.5555555555555556,
              "#d8576b"
             ],
             [
              0.6666666666666666,
              "#ed7953"
             ],
             [
              0.7777777777777778,
              "#fb9f3a"
             ],
             [
              0.8888888888888888,
              "#fdca26"
             ],
             [
              1,
              "#f0f921"
             ]
            ],
            "type": "heatmap"
           }
          ],
          "heatmapgl": [
           {
            "colorbar": {
             "outlinewidth": 0,
             "ticks": ""
            },
            "colorscale": [
             [
              0,
              "#0d0887"
             ],
             [
              0.1111111111111111,
              "#46039f"
             ],
             [
              0.2222222222222222,
              "#7201a8"
             ],
             [
              0.3333333333333333,
              "#9c179e"
             ],
             [
              0.4444444444444444,
              "#bd3786"
             ],
             [
              0.5555555555555556,
              "#d8576b"
             ],
             [
              0.6666666666666666,
              "#ed7953"
             ],
             [
              0.7777777777777778,
              "#fb9f3a"
             ],
             [
              0.8888888888888888,
              "#fdca26"
             ],
             [
              1,
              "#f0f921"
             ]
            ],
            "type": "heatmapgl"
           }
          ],
          "histogram": [
           {
            "marker": {
             "pattern": {
              "fillmode": "overlay",
              "size": 10,
              "solidity": 0.2
             }
            },
            "type": "histogram"
           }
          ],
          "histogram2d": [
           {
            "colorbar": {
             "outlinewidth": 0,
             "ticks": ""
            },
            "colorscale": [
             [
              0,
              "#0d0887"
             ],
             [
              0.1111111111111111,
              "#46039f"
             ],
             [
              0.2222222222222222,
              "#7201a8"
             ],
             [
              0.3333333333333333,
              "#9c179e"
             ],
             [
              0.4444444444444444,
              "#bd3786"
             ],
             [
              0.5555555555555556,
              "#d8576b"
             ],
             [
              0.6666666666666666,
              "#ed7953"
             ],
             [
              0.7777777777777778,
              "#fb9f3a"
             ],
             [
              0.8888888888888888,
              "#fdca26"
             ],
             [
              1,
              "#f0f921"
             ]
            ],
            "type": "histogram2d"
           }
          ],
          "histogram2dcontour": [
           {
            "colorbar": {
             "outlinewidth": 0,
             "ticks": ""
            },
            "colorscale": [
             [
              0,
              "#0d0887"
             ],
             [
              0.1111111111111111,
              "#46039f"
             ],
             [
              0.2222222222222222,
              "#7201a8"
             ],
             [
              0.3333333333333333,
              "#9c179e"
             ],
             [
              0.4444444444444444,
              "#bd3786"
             ],
             [
              0.5555555555555556,
              "#d8576b"
             ],
             [
              0.6666666666666666,
              "#ed7953"
             ],
             [
              0.7777777777777778,
              "#fb9f3a"
             ],
             [
              0.8888888888888888,
              "#fdca26"
             ],
             [
              1,
              "#f0f921"
             ]
            ],
            "type": "histogram2dcontour"
           }
          ],
          "mesh3d": [
           {
            "colorbar": {
             "outlinewidth": 0,
             "ticks": ""
            },
            "type": "mesh3d"
           }
          ],
          "parcoords": [
           {
            "line": {
             "colorbar": {
              "outlinewidth": 0,
              "ticks": ""
             }
            },
            "type": "parcoords"
           }
          ],
          "pie": [
           {
            "automargin": true,
            "type": "pie"
           }
          ],
          "scatter": [
           {
            "marker": {
             "colorbar": {
              "outlinewidth": 0,
              "ticks": ""
             }
            },
            "type": "scatter"
           }
          ],
          "scatter3d": [
           {
            "line": {
             "colorbar": {
              "outlinewidth": 0,
              "ticks": ""
             }
            },
            "marker": {
             "colorbar": {
              "outlinewidth": 0,
              "ticks": ""
             }
            },
            "type": "scatter3d"
           }
          ],
          "scattercarpet": [
           {
            "marker": {
             "colorbar": {
              "outlinewidth": 0,
              "ticks": ""
             }
            },
            "type": "scattercarpet"
           }
          ],
          "scattergeo": [
           {
            "marker": {
             "colorbar": {
              "outlinewidth": 0,
              "ticks": ""
             }
            },
            "type": "scattergeo"
           }
          ],
          "scattergl": [
           {
            "marker": {
             "colorbar": {
              "outlinewidth": 0,
              "ticks": ""
             }
            },
            "type": "scattergl"
           }
          ],
          "scattermapbox": [
           {
            "marker": {
             "colorbar": {
              "outlinewidth": 0,
              "ticks": ""
             }
            },
            "type": "scattermapbox"
           }
          ],
          "scatterpolar": [
           {
            "marker": {
             "colorbar": {
              "outlinewidth": 0,
              "ticks": ""
             }
            },
            "type": "scatterpolar"
           }
          ],
          "scatterpolargl": [
           {
            "marker": {
             "colorbar": {
              "outlinewidth": 0,
              "ticks": ""
             }
            },
            "type": "scatterpolargl"
           }
          ],
          "scatterternary": [
           {
            "marker": {
             "colorbar": {
              "outlinewidth": 0,
              "ticks": ""
             }
            },
            "type": "scatterternary"
           }
          ],
          "surface": [
           {
            "colorbar": {
             "outlinewidth": 0,
             "ticks": ""
            },
            "colorscale": [
             [
              0,
              "#0d0887"
             ],
             [
              0.1111111111111111,
              "#46039f"
             ],
             [
              0.2222222222222222,
              "#7201a8"
             ],
             [
              0.3333333333333333,
              "#9c179e"
             ],
             [
              0.4444444444444444,
              "#bd3786"
             ],
             [
              0.5555555555555556,
              "#d8576b"
             ],
             [
              0.6666666666666666,
              "#ed7953"
             ],
             [
              0.7777777777777778,
              "#fb9f3a"
             ],
             [
              0.8888888888888888,
              "#fdca26"
             ],
             [
              1,
              "#f0f921"
             ]
            ],
            "type": "surface"
           }
          ],
          "table": [
           {
            "cells": {
             "fill": {
              "color": "#EBF0F8"
             },
             "line": {
              "color": "white"
             }
            },
            "header": {
             "fill": {
              "color": "#C8D4E3"
             },
             "line": {
              "color": "white"
             }
            },
            "type": "table"
           }
          ]
         },
         "layout": {
          "annotationdefaults": {
           "arrowcolor": "#2a3f5f",
           "arrowhead": 0,
           "arrowwidth": 1
          },
          "autotypenumbers": "strict",
          "coloraxis": {
           "colorbar": {
            "outlinewidth": 0,
            "ticks": ""
           }
          },
          "colorscale": {
           "diverging": [
            [
             0,
             "#8e0152"
            ],
            [
             0.1,
             "#c51b7d"
            ],
            [
             0.2,
             "#de77ae"
            ],
            [
             0.3,
             "#f1b6da"
            ],
            [
             0.4,
             "#fde0ef"
            ],
            [
             0.5,
             "#f7f7f7"
            ],
            [
             0.6,
             "#e6f5d0"
            ],
            [
             0.7,
             "#b8e186"
            ],
            [
             0.8,
             "#7fbc41"
            ],
            [
             0.9,
             "#4d9221"
            ],
            [
             1,
             "#276419"
            ]
           ],
           "sequential": [
            [
             0,
             "#0d0887"
            ],
            [
             0.1111111111111111,
             "#46039f"
            ],
            [
             0.2222222222222222,
             "#7201a8"
            ],
            [
             0.3333333333333333,
             "#9c179e"
            ],
            [
             0.4444444444444444,
             "#bd3786"
            ],
            [
             0.5555555555555556,
             "#d8576b"
            ],
            [
             0.6666666666666666,
             "#ed7953"
            ],
            [
             0.7777777777777778,
             "#fb9f3a"
            ],
            [
             0.8888888888888888,
             "#fdca26"
            ],
            [
             1,
             "#f0f921"
            ]
           ],
           "sequentialminus": [
            [
             0,
             "#0d0887"
            ],
            [
             0.1111111111111111,
             "#46039f"
            ],
            [
             0.2222222222222222,
             "#7201a8"
            ],
            [
             0.3333333333333333,
             "#9c179e"
            ],
            [
             0.4444444444444444,
             "#bd3786"
            ],
            [
             0.5555555555555556,
             "#d8576b"
            ],
            [
             0.6666666666666666,
             "#ed7953"
            ],
            [
             0.7777777777777778,
             "#fb9f3a"
            ],
            [
             0.8888888888888888,
             "#fdca26"
            ],
            [
             1,
             "#f0f921"
            ]
           ]
          },
          "colorway": [
           "#636efa",
           "#EF553B",
           "#00cc96",
           "#ab63fa",
           "#FFA15A",
           "#19d3f3",
           "#FF6692",
           "#B6E880",
           "#FF97FF",
           "#FECB52"
          ],
          "font": {
           "color": "#2a3f5f"
          },
          "geo": {
           "bgcolor": "white",
           "lakecolor": "white",
           "landcolor": "#E5ECF6",
           "showlakes": true,
           "showland": true,
           "subunitcolor": "white"
          },
          "hoverlabel": {
           "align": "left"
          },
          "hovermode": "closest",
          "mapbox": {
           "style": "light"
          },
          "paper_bgcolor": "white",
          "plot_bgcolor": "#E5ECF6",
          "polar": {
           "angularaxis": {
            "gridcolor": "white",
            "linecolor": "white",
            "ticks": ""
           },
           "bgcolor": "#E5ECF6",
           "radialaxis": {
            "gridcolor": "white",
            "linecolor": "white",
            "ticks": ""
           }
          },
          "scene": {
           "xaxis": {
            "backgroundcolor": "#E5ECF6",
            "gridcolor": "white",
            "gridwidth": 2,
            "linecolor": "white",
            "showbackground": true,
            "ticks": "",
            "zerolinecolor": "white"
           },
           "yaxis": {
            "backgroundcolor": "#E5ECF6",
            "gridcolor": "white",
            "gridwidth": 2,
            "linecolor": "white",
            "showbackground": true,
            "ticks": "",
            "zerolinecolor": "white"
           },
           "zaxis": {
            "backgroundcolor": "#E5ECF6",
            "gridcolor": "white",
            "gridwidth": 2,
            "linecolor": "white",
            "showbackground": true,
            "ticks": "",
            "zerolinecolor": "white"
           }
          },
          "shapedefaults": {
           "line": {
            "color": "#2a3f5f"
           }
          },
          "ternary": {
           "aaxis": {
            "gridcolor": "white",
            "linecolor": "white",
            "ticks": ""
           },
           "baxis": {
            "gridcolor": "white",
            "linecolor": "white",
            "ticks": ""
           },
           "bgcolor": "#E5ECF6",
           "caxis": {
            "gridcolor": "white",
            "linecolor": "white",
            "ticks": ""
           }
          },
          "title": {
           "x": 0.05
          },
          "xaxis": {
           "automargin": true,
           "gridcolor": "white",
           "linecolor": "white",
           "ticks": "",
           "title": {
            "standoff": 15
           },
           "zerolinecolor": "white",
           "zerolinewidth": 2
          },
          "yaxis": {
           "automargin": true,
           "gridcolor": "white",
           "linecolor": "white",
           "ticks": "",
           "title": {
            "standoff": 15
           },
           "zerolinecolor": "white",
           "zerolinewidth": 2
          }
         }
        },
        "xaxis": {
         "anchor": "y",
         "domain": [
          0,
          1
         ],
         "title": {
          "text": "Throughput (samples / second)"
         }
        },
        "yaxis": {
         "anchor": "x",
         "domain": [
          0,
          1
         ],
         "title": {
          "text": "Peak Memory (GB)"
         }
        }
       }
      },
      "text/html": [
       "<div>                            <div id=\"c478da42-9908-4352-b6ba-8e6397831722\" class=\"plotly-graph-div\" style=\"height:525px; width:100%;\"></div>            <script type=\"text/javascript\">                require([\"plotly\"], function(Plotly) {                    window.PLOTLYENV=window.PLOTLYENV || {};                                    if (document.getElementById(\"c478da42-9908-4352-b6ba-8e6397831722\")) {                    Plotly.newPlot(                        \"c478da42-9908-4352-b6ba-8e6397831722\",                        [{\"customdata\":[[128,1,16,1,1],[256,1,16,1,1],[512,1,16,1,1],[1024,1,16,1,1],[2048,1,16,1,1],[4096,1,16,1,1],[8192,1,16,1,1]],\"hovertemplate\":\"Parallelism style=T<br>Throughput (samples / second)=%{x}<br>Peak Memory (GB)=%{y}<br>dummy_column_for_size=%{marker.size}<br>batch_size=%{customdata[0]}<br>dp_degree=%{customdata[1]}<br>hp_degree=%{customdata[2]}<br>pp_degree=%{customdata[3]}<br>num_microbatches=%{customdata[4]}<extra></extra>\",\"legendgroup\":\"T\",\"marker\":{\"color\":\"#ff7f0e\",\"size\":[1.0,1.0,1.0,1.0,1.0,1.0,1.0],\"sizemode\":\"area\",\"sizeref\":0.01,\"symbol\":\"diamond\"},\"mode\":\"markers\",\"name\":\"T\",\"orientation\":\"v\",\"showlegend\":true,\"type\":\"scatter\",\"x\":[4311.90197338825,6001.549466155185,7463.948400396409,8499.484008844722,9133.03493821773,9486.600187540664,9673.851062298692],\"xaxis\":\"x\",\"y\":[4.31593882,4.33691034,4.37885338,4.563402756,6.97932186,11.811160068,21.474836484],\"yaxis\":\"y\"},{\"customdata\":[[128,1,1,16,2],[128,1,1,16,4],[128,1,1,16,8],[128,1,1,16,16],[128,1,1,16,32],[128,1,1,16,64],[128,1,1,16,128],[256,1,1,16,2],[256,1,1,16,4],[256,1,1,16,8],[256,1,1,16,16],[256,1,1,16,32],[256,1,1,16,64],[256,1,1,16,128],[512,1,1,16,2],[512,1,1,16,4],[512,1,1,16,16],[512,1,1,16,8],[512,1,1,16,32],[512,1,1,16,64],[512,1,1,16,128],[1024,1,1,16,2],[1024,1,1,16,4],[1024,1,1,16,8],[1024,1,1,16,16],[1024,1,1,16,32],[1024,1,1,16,64],[1024,1,1,16,128],[2048,1,1,16,2],[2048,1,1,16,4],[2048,1,1,16,8],[2048,1,1,16,16],[2048,1,1,16,32],[2048,1,1,16,64],[2048,1,1,16,128],[4096,1,1,16,2],[4096,1,1,16,4],[4096,1,1,16,8],[4096,1,1,16,32],[4096,1,1,16,16],[4096,1,1,16,64],[4096,1,1,16,128],[8192,1,1,16,2],[8192,1,1,16,4],[8192,1,1,16,8],[8192,1,1,16,16],[8192,1,1,16,32],[8192,1,1,16,64],[8192,1,1,16,128],[16384,1,1,16,2],[16384,1,1,16,4],[16384,1,1,16,8],[16384,1,1,16,16],[16384,1,1,16,32],[16384,1,1,16,64],[16384,1,1,16,128],[32768,1,1,16,2],[32768,1,1,16,4],[32768,1,1,16,16],[32768,1,1,16,8],[32768,1,1,16,32],[32768,1,1,16,64],[32768,1,1,16,128],[65536,1,1,16,2],[65536,1,1,16,4],[65536,1,1,16,8],[65536,1,1,16,16],[65536,1,1,16,32],[65536,1,1,16,64],[65536,1,1,16,128],[131072,1,1,16,64],[131072,1,1,16,128]],\"hovertemplate\":\"Parallelism style=P<br>Throughput (samples / second)=%{x}<br>Peak Memory (GB)=%{y}<br>dummy_column_for_size=%{marker.size}<br>batch_size=%{customdata[0]}<br>dp_degree=%{customdata[1]}<br>hp_degree=%{customdata[2]}<br>pp_degree=%{customdata[3]}<br>num_microbatches=%{customdata[4]}<extra></extra>\",\"legendgroup\":\"P\",\"marker\":{\"color\":\"#2ca02c\",\"size\":[1.0,1.0,1.0,1.0,1.0,1.0,1.0,1.0,1.0,1.0,1.0,1.0,1.0,1.0,1.0,1.0,1.0,1.0,1.0,1.0,1.0,1.0,1.0,1.0,1.0,1.0,1.0,1.0,1.0,1.0,1.0,1.0,1.0,1.0,1.0,1.0,1.0,1.0,1.0,1.0,1.0,1.0,1.0,1.0,1.0,1.0,1.0,1.0,1.0,1.0,1.0,1.0,1.0,1.0,1.0,1.0,1.0,1.0,1.0,1.0,1.0,1.0,1.0,1.0,1.0,1.0,1.0,1.0,1.0,1.0,1.0,1.0],\"sizemode\":\"area\",\"sizeref\":0.01,\"symbol\":\"square\"},\"mode\":\"markers\",\"name\":\"P\",\"orientation\":\"v\",\"showlegend\":true,\"type\":\"scatter\",\"x\":[777.1783755621618,893.0515355050159,858.749920962038,692.1341510903062,475.9892890774974,288.95329770144167,161.1763545587777,1074.3216197733486,1387.1992416597038,1471.415739641449,1269.0875571043844,909.0062575423076,564.3056826207714,318.4793168659935,1328.238245446153,1917.7363849002131,2176.050121623234,2287.362850047912,1667.4730238826885,1077.8761772598418,622.0104700168744,1506.2384756132412,2371.0851241076325,3164.0547149658546,3385.9451774233858,2861.119333051507,1977.9227074566816,1188.2492062694298,1614.414131597641,2688.9115674445466,3913.804030004328,4686.54715592673,4456.021938432215,3395.6293353637034,2180.946750049025,1674.5457398443882,2882.071782296335,4439.78834202882,6171.316930463331,5799.964527906203,5292.297176895945,3745.4930158922266,1706.323198965421,2989.446478254867,4759.615697863389,6581.761153173441,7641.210807043984,7332.903678128028,5840.333813629674,1722.668535995995,3046.191046424656,4937.454469194774,7057.406898028351,8674.190434215963,9082.934988919178,8094.710760231946,1730.9592020199705,3075.378899237065,7321.97642977689,5031.452320651453,9303.00537370475,10313.603796264806,10029.063726216213,1735.1345325072657,3090.1003893014145,5079.451866625877,7461.841968501826,9652.886990607669,11063.085916707489,11389.94773274848,11480.2153867334,12218.96821106539],\"xaxis\":\"x\",\"y\":[5.391777796,5.39492352,5.398593536,5.400428544,5.401346048,5.389221888,5.383159808,5.414846468,5.42113792,5.428477952,5.432147968,5.433982976,5.409734656,5.397610496,5.460983812,5.47356672,5.495586816,5.488246784,5.499256832,5.450760192,5.426511872,5.5532585,5.57842432,5.607784448,5.622464512,5.629804544,5.532811264,5.484314624,5.737807876,5.78813952,5.846859776,5.876219904,5.890899968,5.696913408,5.599920128,6.106906628,6.20756992,6.325010432,6.413090816,6.383730688,6.025117696,5.831131136,6.845104132,7.04643072,7.281311744,7.398752256,7.457472512,6.681526272,6.293553152,8.32149914,8.72415232,9.193914368,9.428795392,9.546235904,7.994343424,7.218397184,12.34803098,12.07959552,13.488881664,13.019119616,13.723762688,10.619977728,9.31135488,21.47483648,20.401094656,20.669530112,21.609054208,22.078816256,16.307453952,13.790871552,27.783069696,22.749904896],\"yaxis\":\"y\"},{\"customdata\":[[128,2,8,1,1],[128,4,4,1,1],[256,2,8,1,1],[256,4,4,1,1],[512,2,8,1,1],[512,4,4,1,1],[1024,2,8,1,1],[1024,4,4,1,1],[2048,2,8,1,1],[2048,4,4,1,1],[4096,2,8,1,1],[4096,4,4,1,1],[8192,2,8,1,1],[8192,4,4,1,1],[16384,2,8,1,1],[16384,4,4,1,1],[32768,4,4,1,1]],\"hovertemplate\":\"Parallelism style=D/T<br>Throughput (samples / second)=%{x}<br>Peak Memory (GB)=%{y}<br>dummy_column_for_size=%{marker.size}<br>batch_size=%{customdata[0]}<br>dp_degree=%{customdata[1]}<br>hp_degree=%{customdata[2]}<br>pp_degree=%{customdata[3]}<br>num_microbatches=%{customdata[4]}<extra></extra>\",\"legendgroup\":\"D/T\",\"marker\":{\"color\":\"#d62728\",\"size\":[1.0,1.0,1.0,1.0,1.0,1.0,1.0,1.0,1.0,1.0,1.0,1.0,1.0,1.0,1.0,1.0,1.0],\"sizemode\":\"area\",\"sizeref\":0.01,\"symbol\":\"x\"},\"mode\":\"markers\",\"name\":\"D/T\",\"orientation\":\"v\",\"showlegend\":true,\"type\":\"scatter\",\"x\":[1809.857457959297,896.0089326388332,3142.267893693718,1679.6698779085775,4972.715291363162,2985.0525833226598,7016.297045474484,4882.188658420406,8830.856768717129,7156.248692056251,10142.370268514753,9328.8855145115,10955.929460236175,10998.450010607272,11413.698147104982,12079.35408451304,12703.595123428597],\"xaxis\":\"x\",\"y\":[8.665432068,17.31828122,8.673820676,17.322475524,8.690597892,17.330864132,8.724152324,17.347641348,8.791261188,17.38119578,9.395240964,17.448304644,14.495514628,17.582522372,24.696061956,19.864223748,31.1385129],\"yaxis\":\"y\"},{\"customdata\":[[128,1,2,8,2],[128,1,2,8,4],[128,1,4,4,2],[128,1,2,8,8],[128,1,4,4,4],[128,1,8,2,2],[128,1,4,4,8],[128,1,2,8,16],[128,1,8,2,4],[128,1,2,8,32],[128,1,4,4,16],[128,1,8,2,8],[128,1,2,8,64],[128,1,4,4,32],[128,1,8,2,16],[128,1,4,4,64],[128,1,2,8,128],[128,1,8,2,32],[256,1,2,8,2],[256,1,2,8,4],[256,1,2,8,8],[256,1,4,4,2],[256,1,4,4,4],[256,1,2,8,16],[128,1,4,4,128],[256,1,8,2,2],[256,1,4,4,8],[256,1,2,8,32],[128,1,8,2,64],[256,1,4,4,16],[256,1,8,2,4],[256,1,8,2,8],[256,1,2,8,64],[256,1,4,4,32],[256,1,8,2,16],[256,1,4,4,64],[256,1,2,8,128],[256,1,8,2,32],[256,1,4,4,128],[256,1,8,2,64],[128,1,8,2,128],[512,1,2,8,2],[512,1,2,8,4],[512,1,2,8,8],[512,1,4,4,2],[512,1,4,4,4],[512,1,8,2,2],[512,1,4,4,8],[512,1,2,8,16],[512,1,4,4,16],[512,1,2,8,32],[512,1,8,2,4],[512,1,8,2,8],[512,1,2,8,64],[512,1,4,4,32],[512,1,8,2,16],[512,1,4,4,64],[512,1,2,8,128],[256,1,8,2,128],[512,1,8,2,32],[512,1,4,4,128],[512,1,8,2,64],[1024,1,2,8,2],[1024,1,2,8,4],[1024,1,2,8,8],[1024,1,4,4,2],[1024,1,4,4,4],[1024,1,2,8,16],[1024,1,4,4,8],[1024,1,2,8,32],[1024,1,8,2,2],[1024,1,8,2,4],[1024,1,4,4,16],[1024,1,8,2,8],[512,1,8,2,128],[1024,1,2,8,64],[1024,1,4,4,32],[1024,1,8,2,16],[1024,1,4,4,64],[1024,1,2,8,128],[1024,1,8,2,32],[1024,1,4,4,128],[1024,1,8,2,64],[1024,1,8,2,128],[2048,1,2,8,2],[2048,1,2,8,4],[2048,1,2,8,8],[2048,1,4,4,2],[2048,1,2,8,16],[2048,1,4,4,4],[2048,1,4,4,8],[2048,1,8,2,2],[2048,1,2,8,32],[2048,1,4,4,16],[2048,1,8,2,4],[2048,1,2,8,64],[2048,1,8,2,8],[2048,1,4,4,32],[2048,1,8,2,16],[2048,1,2,8,128],[2048,1,4,4,64],[2048,1,8,2,32],[2048,1,4,4,128],[2048,1,8,2,64],[2048,1,8,2,128],[4096,1,2,8,2],[4096,1,2,8,4],[4096,1,2,8,8],[4096,1,4,4,2],[4096,1,2,8,16],[4096,1,4,4,4],[4096,1,2,8,32],[4096,1,8,2,2],[4096,1,4,4,8],[4096,1,8,2,4],[4096,1,4,4,16],[4096,1,2,8,64],[4096,1,8,2,8],[4096,1,4,4,32],[4096,1,8,2,16],[4096,1,2,8,128],[4096,1,4,4,64],[4096,1,8,2,32],[4096,1,4,4,128],[4096,1,8,2,64],[4096,1,8,2,128],[8192,1,2,8,2],[8192,1,2,8,4],[8192,1,2,8,8],[8192,1,4,4,2],[8192,1,4,4,4],[8192,1,2,8,16],[8192,1,8,2,2],[8192,1,2,8,32],[8192,1,4,4,8],[8192,1,4,4,16],[8192,1,8,2,4],[8192,1,2,8,64],[8192,1,8,2,8],[8192,1,4,4,32],[8192,1,8,2,16],[8192,1,2,8,128],[8192,1,4,4,64],[8192,1,8,2,32],[8192,1,4,4,128],[8192,1,8,2,64],[16384,1,2,8,2],[16384,1,2,8,4],[16384,1,2,8,8],[16384,1,4,4,2],[16384,1,4,4,4],[16384,1,2,8,16],[16384,1,2,8,32],[16384,1,4,4,8],[16384,1,8,2,2],[16384,1,4,4,16],[16384,1,8,2,4],[8192,1,8,2,128],[16384,1,2,8,64],[16384,1,8,2,8],[16384,1,4,4,32],[16384,1,8,2,16],[16384,1,2,8,128],[16384,1,4,4,64],[16384,1,8,2,32],[16384,1,4,4,128],[16384,1,8,2,64],[32768,1,2,8,2],[32768,1,2,8,4],[32768,1,2,8,8],[32768,1,4,4,2],[32768,1,2,8,16],[32768,1,4,4,4],[16384,1,8,2,128],[32768,1,4,4,8],[32768,1,2,8,32],[32768,1,4,4,16],[32768,1,2,8,64],[32768,1,8,2,8],[32768,1,8,2,16],[32768,1,4,4,32],[32768,1,2,8,128],[32768,1,4,4,64],[32768,1,8,2,32],[32768,1,4,4,128],[32768,1,8,2,64],[32768,1,8,2,128],[65536,1,2,8,2],[65536,1,2,8,4],[65536,1,2,8,8],[65536,1,2,8,16],[65536,1,2,8,32],[65536,1,4,4,16],[65536,1,2,8,64],[65536,1,4,4,32],[65536,1,4,4,64],[65536,1,8,2,16],[65536,1,2,8,128],[65536,1,8,2,32],[65536,1,4,4,128],[65536,1,8,2,64],[65536,1,8,2,128],[131072,1,2,8,64],[131072,1,4,4,32],[131072,1,4,4,64],[131072,1,2,8,128],[131072,1,8,2,32],[131072,1,4,4,128],[131072,1,8,2,64],[131072,1,8,2,128]],\"hovertemplate\":\"Parallelism style=T/P<br>Throughput (samples / second)=%{x}<br>Peak Memory (GB)=%{y}<br>dummy_column_for_size=%{marker.size}<br>batch_size=%{customdata[0]}<br>dp_degree=%{customdata[1]}<br>hp_degree=%{customdata[2]}<br>pp_degree=%{customdata[3]}<br>num_microbatches=%{customdata[4]}<extra></extra>\",\"legendgroup\":\"T/P\",\"marker\":{\"color\":\"#9467bd\",\"size\":[1.0,1.0,1.0,1.0,1.0,1.0,1.0,1.0,1.0,1.0,1.0,1.0,1.0,1.0,1.0,1.0,1.0,1.0,1.0,1.0,1.0,1.0,1.0,1.0,1.0,1.0,1.0,1.0,1.0,1.0,1.0,1.0,1.0,1.0,1.0,1.0,1.0,1.0,1.0,1.0,1.0,1.0,1.0,1.0,1.0,1.0,1.0,1.0,1.0,1.0,1.0,1.0,1.0,1.0,1.0,1.0,1.0,1.0,1.0,1.0,1.0,1.0,1.0,1.0,1.0,1.0,1.0,1.0,1.0,1.0,1.0,1.0,1.0,1.0,1.0,1.0,1.0,1.0,1.0,1.0,1.0,1.0,1.0,1.0,1.0,1.0,1.0,1.0,1.0,1.0,1.0,1.0,1.0,1.0,1.0,1.0,1.0,1.0,1.0,1.0,1.0,1.0,1.0,1.0,1.0,1.0,1.0,1.0,1.0,1.0,1.0,1.0,1.0,1.0,1.0,1.0,1.0,1.0,1.0,1.0,1.0,1.0,1.0,1.0,1.0,1.0,1.0,1.0,1.0,1.0,1.0,1.0,1.0,1.0,1.0,1.0,1.0,1.0,1.0,1.0,1.0,1.0,1.0,1.0,1.0,1.0,1.0,1.0,1.0,1.0,1.0,1.0,1.0,1.0,1.0,1.0,1.0,1.0,1.0,1.0,1.0,1.0,1.0,1.0,1.0,1.0,1.0,1.0,1.0,1.0,1.0,1.0,1.0,1.0,1.0,1.0,1.0,1.0,1.0,1.0,1.0,1.0,1.0,1.0,1.0,1.0,1.0,1.0,1.0,1.0,1.0,1.0,1.0,1.0,1.0,1.0,1.0,1.0,1.0,1.0,1.0,1.0,1.0,1.0,1.0,1.0,1.0,1.0,1.0,1.0],\"sizemode\":\"area\",\"sizeref\":0.01,\"symbol\":\"cross\"},\"mode\":\"markers\",\"name\":\"T/P\",\"orientation\":\"v\",\"showlegend\":true,\"type\":\"scatter\",\"x\":[1369.3960478164136,1421.6257002071236,2232.003301009541,1198.9009409595672,1983.1137503116615,3013.607219990749,1426.3803879942268,841.596720373901,2160.82824168602,514.7101367040692,879.499880095718,1322.445237944532,287.7466311711749,492.6039285964689,736.0023099698074,261.32582608066394,152.6309206199395,388.8640320929359,1909.4220280176987,2228.3650286200827,2069.638447233064,3145.324232788029,3145.569432251716,1550.9277931555837,134.67737659879367,4364.458999189904,2486.222277648898,985.8465801826742,199.9467975354549,1630.964610580247,3519.75781674308,2349.848404193944,562.8378543556313,946.8634504854735,1380.8442059279398,512.1213842067332,301.83991928463723,752.2564040495947,266.5929736371963,393.1517695628359,101.39136790593676,2378.383913077405,3111.000680550931,3249.753607518686,3954.3765471374295,4449.52328003836,5625.211774790772,3955.894183572706,2680.575381472984,2847.411032176135,1817.803779554608,5134.183696086396,3842.436121134192,1078.2529768470213,1756.9643769070651,2457.3267044225577,984.5690180778728,590.4423655476957,201.04785368880505,1412.0215271468307,522.4718095261867,760.6556772399028,2711.342311714919,3879.060494257124,4544.064466125642,4538.019962122401,5612.453444921138,4215.963899349608,5613.101193100835,3144.720708742154,6574.842794840816,6662.040266926424,4540.763311472108,5630.704868470019,395.3312933289437,1988.9260609154744,3070.442000045439,4027.027575646257,1827.558152731218,1131.2717466311306,2514.839058599062,1004.570799842464,1428.1441676557722,764.9260448877128,2915.4117249792785,4425.3352305525295,5673.239841364403,4899.5961819914055,5902.962234889546,6456.144397419456,7099.183466000471,7180.978162778143,4952.144835611074,6456.364987958589,7826.5765514855875,3442.781930380843,7338.334277571397,4903.228379157311,5916.808857394487,2087.1656369898647,3195.5936439919983,4126.137848792411,1865.0259655825448,2544.616722662998,1436.344348435906,3029.416367241773,4760.540495826359,6478.037606126938,5102.8878045704505,7378.336421986006,6980.841181399456,6940.778056489645,7527.980786748177,8182.182051850855,8576.138557365462,8181.012709250154,5425.870737300594,8649.977940727764,6980.7270260113455,7730.724796728743,3614.0546178856935,5107.063275271641,6071.048079031903,3262.074959026256,4177.545200508597,2559.771572773773,3089.828904498787,4947.935805777402,6972.599121644981,5210.993793740784,7276.52616312504,8432.007231239213,7714.369492827321,8683.208203671902,8857.823891062075,9442.021305542446,9007.467327585024,7609.720594869604,9498.8868536622,8855.768425909759,9130.255964986234,5698.428727500843,7276.200026878763,7943.088565398449,5215.470929670584,6151.223041319382,3120.947832095276,5047.277051621932,7249.321458322534,5266.782867837536,7433.96505657518,9080.3731776543,9929.527387714768,9239.290037525205,7811.068393381165,10230.47616079111,9239.821361886732,4203.73224880292,9525.509301681452,9989.049560537953,10229.56207183848,10038.956855631435,7994.993787213589,9236.681133114987,9390.96614820474,7433.519186681447,8053.706620932957,3136.7435441323614,5098.458722245408,7396.086114966055,5295.127775499272,9443.44251424599,7515.26726977497,6192.10990066422,9442.615261683342,10697.225020077432,10676.235022527051,10897.194918912115,10253.603401203356,10564.689242596289,11089.736405454854,10011.06309949138,10674.74187631241,10332.695423296129,9439.695703545129,9526.985452169663,8110.179127675978,3144.701511100133,5124.227929603031,7470.986836251166,9636.087004040051,11127.379579506134,10914.005713118371,11742.675093427828,11576.451597595067,11575.866356870114,10848.759812571518,11455.37847461626,10878.126535212115,10912.185301794312,10486.106476915582,9596.483466595371,12216.599471681317,11836.189661452328,12085.995136350944,12345.966683077771,11173.021193547078,11835.271990482748,11041.924582986196,10564.533067582115],\"xaxis\":\"x\",\"y\":[4.863295492,4.87063552,4.611637252,4.876402688,4.627365888,4.510973956,4.63732736,4.879286272,4.543479808,4.859756544,4.60455936,4.49052672,4.84999168,4.58817536,4.464050176,4.57998336,4.845109248,4.450811904,4.894752772,4.909432832,4.920967168,4.659871748,4.691329024,4.926734336,4.57588736,4.592762884,4.711251968,4.88767488,4.444192768,4.645715968,4.657774592,4.551868416,4.868145152,4.612947968,4.498915328,4.596563968,4.858380288,4.472438784,4.588371968,4.459200512,4.4408832,4.957667332,4.987027456,5.010096128,4.75634074,4.819255296,4.75634074,4.859101184,5.021630464,4.728029184,4.943511552,4.88636416,4.674551808,4.904452096,4.662493184,4.568645632,4.629725184,4.884922368,4.452581376,4.515692544,4.613341184,4.489216,5.083496452,5.142216704,5.188354048,4.949278724,5.07510784,5.21142272,5.154799616,5.055184896,5.083496452,5.343543296,4.892655616,4.919918592,4.475977728,4.977065984,4.761583616,4.70810624,4.696047616,4.938006528,4.602200064,4.663279616,4.549246976,4.522770432,5.335154692,5.4525952,5.544869888,5.335154692,5.591007232,5.586812928,5.74619648,5.737807876,5.278531584,5.22190848,6.257901568,5.12229376,5.41065216,4.95976448,4.987027456,5.044174848,4.82869248,4.775215104,4.76315648,4.669308928,4.61635584,5.838471172,6.073352192,6.257901568,6.106906628,6.350176256,6.610223104,5.72522496,7.180648452,6.928990208,8.086618112,5.880414208,5.412749312,6.392119296,5.356126208,5.544869888,5.256511488,5.093982208,5.121245184,4.962910208,4.909432832,4.83393536,6.845104132,7.314866176,7.683964928,7.918845956,8.657043456,7.868514304,12.07959552,6.618611712,9.294577664,7.197425664,11.811160064,5.993660416,8.355053568,6.148849664,6.660554752,5.681184768,5.6623104,5.813305344,5.448400896,5.444206592,9.395240964,9.797894144,10.536091648,13.4217728,13.153337344,10.9051904,8.405385216,14.025752576,22.011707392,9.831448576,19.327352832,5.30579456,7.230980096,12.348030976,7.751073792,8.89192448,6.702497792,6.895435776,7.197425664,6.467616768,6.526337024,16.10612736,15.569256448,16.240345088,24.696061952,16.978542592,24.15919104,6.24951296,23.622320128,12.012486656,15.0994944,9.89855744,20.401094656,13.4217728,11.07296256,8.841592832,9.361686528,9.965666304,8.506048512,8.690597888,8.13694976,30.064771072,28.991029248,28.454158336,29.125246976,19.46157056,25.769803776,15.233712128,17.716740096,14.294188032,22.548578304,13.119782912,15.569256448,12.582912,13.019119616,11.91182336,25.904021504,31.004295168,24.15919104,21.676163072,26.8435456,20.736638976,21.676163072,19.46157056],\"yaxis\":\"y\"},{\"customdata\":[[128,2,1,8,2],[128,2,1,8,4],[128,2,1,8,8],[128,2,1,8,16],[128,4,1,4,2],[128,4,1,4,4],[128,2,1,8,32],[128,4,1,4,8],[128,4,1,4,16],[128,2,1,8,64],[128,4,1,4,32],[256,2,1,8,2],[256,2,1,8,4],[256,2,1,8,8],[256,2,1,8,16],[256,2,1,8,32],[256,4,1,4,2],[256,4,1,4,4],[256,4,1,4,8],[256,2,1,8,64],[256,4,1,4,16],[256,4,1,4,32],[256,2,1,8,128],[256,4,1,4,64],[512,2,1,8,2],[512,2,1,8,4],[512,2,1,8,8],[512,2,1,8,16],[512,2,1,8,32],[512,4,1,4,2],[512,4,1,4,4],[512,2,1,8,64],[512,4,1,4,8],[512,4,1,4,16],[512,4,1,4,32],[512,2,1,8,128],[512,4,1,4,64],[512,4,1,4,128],[1024,2,1,8,2],[1024,2,1,8,4],[1024,2,1,8,8],[1024,2,1,8,16],[1024,2,1,8,32],[1024,4,1,4,2],[1024,4,1,4,4],[1024,4,1,4,8],[1024,2,1,8,64],[1024,4,1,4,16],[1024,4,1,4,32],[1024,2,1,8,128],[1024,4,1,4,64],[1024,4,1,4,128],[2048,2,1,8,2],[2048,2,1,8,4],[2048,2,1,8,8],[2048,2,1,8,16],[2048,2,1,8,32],[2048,4,1,4,2],[2048,2,1,8,64],[2048,4,1,4,4],[2048,4,1,4,8],[2048,4,1,4,16],[2048,2,1,8,128],[2048,4,1,4,32],[2048,4,1,4,64],[2048,4,1,4,128],[4096,2,1,8,2],[4096,2,1,8,4],[4096,2,1,8,8],[4096,2,1,8,16],[4096,2,1,8,32],[4096,4,1,4,2],[4096,4,1,4,4],[4096,2,1,8,64],[4096,4,1,4,8],[4096,4,1,4,16],[4096,4,1,4,32],[4096,2,1,8,128],[4096,4,1,4,64],[4096,4,1,4,128],[8192,2,1,8,2],[8192,2,1,8,4],[8192,2,1,8,8],[8192,2,1,8,16],[8192,2,1,8,32],[8192,4,1,4,2],[8192,4,1,4,4],[8192,2,1,8,64],[8192,4,1,4,8],[8192,4,1,4,16],[8192,4,1,4,32],[8192,2,1,8,128],[8192,4,1,4,64],[8192,4,1,4,128],[16384,2,1,8,2],[16384,2,1,8,4],[16384,2,1,8,8],[16384,2,1,8,16],[16384,2,1,8,32],[16384,4,1,4,2],[16384,2,1,8,64],[16384,4,1,4,4],[16384,4,1,4,8],[16384,4,1,4,16],[16384,2,1,8,128],[16384,4,1,4,32],[16384,4,1,4,64],[16384,4,1,4,128],[32768,2,1,8,2],[32768,2,1,8,4],[32768,2,1,8,8],[32768,2,1,8,16],[32768,2,1,8,32],[32768,4,1,4,2],[32768,4,1,4,4],[32768,4,1,4,8],[32768,2,1,8,64],[32768,4,1,4,16],[32768,4,1,4,32],[32768,2,1,8,128],[32768,4,1,4,64],[32768,4,1,4,128],[65536,2,1,8,2],[65536,2,1,8,4],[65536,2,1,8,8],[65536,2,1,8,16],[65536,2,1,8,32],[65536,4,1,4,2],[65536,4,1,4,4],[65536,2,1,8,64],[65536,4,1,4,16],[65536,4,1,4,32],[65536,2,1,8,128],[65536,4,1,4,64],[65536,4,1,4,128],[131072,2,1,8,32],[131072,2,1,8,64],[131072,2,1,8,128],[131072,4,1,4,32],[131072,4,1,4,64],[131072,4,1,4,128],[262144,2,1,8,128],[262144,4,1,4,64],[262144,4,1,4,128]],\"hovertemplate\":\"Parallelism style=D/P<br>Throughput (samples / second)=%{x}<br>Peak Memory (GB)=%{y}<br>dummy_column_for_size=%{marker.size}<br>batch_size=%{customdata[0]}<br>dp_degree=%{customdata[1]}<br>hp_degree=%{customdata[2]}<br>pp_degree=%{customdata[3]}<br>num_microbatches=%{customdata[4]}<extra></extra>\",\"legendgroup\":\"D/P\",\"marker\":{\"color\":\"#8c564b\",\"size\":[1.0,1.0,1.0,1.0,1.0,1.0,1.0,1.0,1.0,1.0,1.0,1.0,1.0,1.0,1.0,1.0,1.0,1.0,1.0,1.0,1.0,1.0,1.0,1.0,1.0,1.0,1.0,1.0,1.0,1.0,1.0,1.0,1.0,1.0,1.0,1.0,1.0,1.0,1.0,1.0,1.0,1.0,1.0,1.0,1.0,1.0,1.0,1.0,1.0,1.0,1.0,1.0,1.0,1.0,1.0,1.0,1.0,1.0,1.0,1.0,1.0,1.0,1.0,1.0,1.0,1.0,1.0,1.0,1.0,1.0,1.0,1.0,1.0,1.0,1.0,1.0,1.0,1.0,1.0,1.0,1.0,1.0,1.0,1.0,1.0,1.0,1.0,1.0,1.0,1.0,1.0,1.0,1.0,1.0,1.0,1.0,1.0,1.0,1.0,1.0,1.0,1.0,1.0,1.0,1.0,1.0,1.0,1.0,1.0,1.0,1.0,1.0,1.0,1.0,1.0,1.0,1.0,1.0,1.0,1.0,1.0,1.0,1.0,1.0,1.0,1.0,1.0,1.0,1.0,1.0,1.0,1.0,1.0,1.0,1.0,1.0,1.0,1.0,1.0,1.0,1.0,1.0,1.0,1.0],\"sizemode\":\"area\",\"sizeref\":0.01,\"symbol\":\"circle\"},\"mode\":\"markers\",\"name\":\"D/P\",\"orientation\":\"v\",\"showlegend\":true,\"type\":\"scatter\",\"x\":[726.808968627976,699.4153312571815,583.4929569491565,421.8776597718534,547.860830246481,472.2536683817987,268.2654550744411,360.04720515577054,241.83870719627583,154.69456167033442,145.58129565014175,1191.4299574427546,1238.4458474397431,1086.944250612069,810.6747620116709,524.9844265860756,1003.4832392119208,894.8675314865646,696.9362977838016,305.8586877149712,474.5307166315674,288.08381283067143,166.39298066240403,161.0724715887631,1751.1519725643454,2014.858956064637,1911.6540282510684,1503.4592559305088,1006.6417236592188,1717.7622353443337,1619.5047295669258,598.0682754016182,1309.637181997096,914.474648871682,564.235084316431,328.9040846066554,318.5398767499923,170.12383439683265,2288.77357046693,2934.767223306988,3080.186959434795,2625.161264921906,1859.7940597948343,2666.917775151197,2721.3315270785743,2336.832416726062,1145.0386181212923,1704.7000332870296,1083.5875588807237,642.8116497249979,623.1330133515095,336.3175298680274,2703.824479830953,3802.79402220214,4435.164328167623,4187.1296968273045,3227.4736535499155,3684.996688965645,2109.817988307596,4124.271238013504,3844.5358208458615,3001.577116631635,1229.5609528436655,2007.4876287553063,1193.9891904426993,657.446959283323,2973.428281656229,4462.780441188281,5685.375691511276,5957.783052365254,5104.31104193257,4554.280511596801,5556.463936079594,3645.7058231112974,5674.732301621907,4844.244205867427,3499.287825044772,2261.855810014418,2203.1484514991885,1258.0790649849998,3129.4501819243715,4886.843703227752,6618.111231051682,7554.7254496384385,7192.375464168966,5163.285165439219,6723.9402739357565,5732.11443044416,7447.08735442821,6987.998310332033,5568.204225061852,3898.2854829496746,3815.6352754330255,2316.014214716457,3213.7666565932614,5130.604388040502,7209.502127788826,8723.876477420668,9041.07602408918,5533.241497066865,8023.727634411843,7513.249953833416,8825.214269351096,8973.178605435189,6107.723339995134,7902.398375599934,6017.8828987338575,3996.2735976991303,3257.6519579764586,5261.837258519133,7546.68605201437,9455.534278460837,10374.3405561254,5738.839276233445,7981.729451076989,9725.053149767771,10027.503871766434,10458.73354904022,9997.55052880426,8515.895208122163,8455.619688153098,6271.104759567605,3280.0471523407086,5330.003857715594,7727.388628672784,9869.399798738676,11200.170945959717,5847.476149456431,8238.582820900392,11458.227291692549,11402.61362701926,11525.390206527323,10606.093520605784,10602.751980654852,8762.330889311934,11664.433900462704,12338.451940984118,12089.78337800019,12478.912664272231,12144.691581185258,10933.687210994363,12999.00057832218,13097.030665883683,12479.989319605758],\"xaxis\":\"x\",\"y\":[9.683599364,9.689366528,9.693298688,9.695264768,18.271961092,18.279038976,9.681567744,18.283102208,18.269405184,9.674719232,18.262556672,9.703522308,9.71505664,9.72292096,9.72685312,9.699459072,18.290311172,18.304466944,18.312593408,9.685762048,18.28519936,18.271502336,9.678913536,18.264653824,9.743368196,9.766436864,9.782165504,9.790029824,9.735241728,18.327011332,18.35532288,9.70784768,18.371575808,18.316787712,18.289393664,9.694150656,18.27569664,18.268848128,9.823059972,9.869197312,9.900654592,9.916383232,9.80680704,18.400411652,18.457034752,18.489540608,9.752018944,18.379964416,18.32517632,9.724624896,18.297782272,18.284085248,9.982443524,10.074718208,10.137632768,10.169090048,9.949937664,18.547212292,9.840361472,18.660458496,18.725470208,18.506317824,9.785573376,18.396741632,18.341953536,18.314559488,10.301210628,10.48576,10.61158912,10.67450368,10.236198912,18.840813572,19.067305984,10.017046528,19.197329408,18.75902464,18.539872256,9.907470336,18.430296064,18.375507968,10.938744836,11.307843584,11.559501824,11.685330944,10.808721408,19.428016132,19.88100096,10.37041664,20.141047808,19.264438272,18.826133504,10.151264256,18.60698112,18.497404928,12.213813252,12.952010752,13.455327232,13.706985472,11.9537664,20.602421252,11.077156864,21.508390912,22.028484608,20.275265536,10.638852096,19.398656,18.960351232,18.741198848,14.763950084,16.240345088,17.246978048,17.750294528,14.243856384,22.951231492,24.763170816,25.803358208,12.490637312,22.296920064,20.543700992,11.614027776,19.667091456,19.228786688,22.548578304,22.81701376,24.83027968,25.83691264,18.824036352,27.648851972,31.272730624,15.401484288,26.34022912,22.833790976,13.874757632,21.080571904,20.203962368,27.984396288,21.676163072,18.62270976,27.413970944,23.9075328,22.39758336,28.118614016,29.997662208,27.078426624],\"yaxis\":\"y\"},{\"customdata\":[[128,2,2,4,2],[128,2,2,4,4],[128,2,4,2,2],[128,2,2,4,8],[128,2,4,2,4],[128,2,2,4,16],[128,4,2,2,2],[128,4,2,2,4],[128,2,4,2,8],[128,4,2,2,8],[128,2,2,4,32],[128,4,2,2,16],[128,2,4,2,16],[128,2,2,4,64],[128,2,4,2,32],[128,4,2,2,32],[256,2,2,4,2],[256,2,2,4,4],[128,2,4,2,64],[256,2,2,4,8],[256,2,4,2,2],[256,2,4,2,4],[256,2,2,4,16],[256,4,2,2,2],[256,2,4,2,8],[256,4,2,2,4],[256,4,2,2,8],[256,2,4,2,16],[256,2,2,4,32],[256,4,2,2,16],[256,2,2,4,64],[256,2,4,2,32],[256,4,2,2,32],[256,2,2,4,128],[256,2,4,2,64],[256,4,2,2,64],[512,2,2,4,2],[512,2,2,4,4],[512,2,4,2,2],[512,2,2,4,8],[512,2,2,4,16],[512,2,4,2,4],[512,2,4,2,8],[512,4,2,2,2],[512,2,2,4,32],[512,2,4,2,16],[512,4,2,2,4],[512,4,2,2,8],[512,2,2,4,64],[512,4,2,2,16],[512,2,4,2,32],[512,4,2,2,32],[256,2,4,2,128],[512,2,2,4,128],[512,2,4,2,64],[512,4,2,2,64],[512,2,4,2,128],[1024,2,2,4,2],[1024,2,2,4,4],[1024,2,2,4,8],[1024,2,4,2,2],[1024,2,4,2,4],[1024,2,2,4,16],[1024,2,4,2,8],[1024,4,2,2,2],[1024,2,2,4,32],[1024,4,2,2,4],[1024,2,4,2,16],[1024,4,2,2,8],[1024,2,2,4,64],[512,4,2,2,128],[1024,4,2,2,16],[1024,2,4,2,32],[1024,4,2,2,32],[1024,2,2,4,128],[1024,2,4,2,64],[1024,4,2,2,64],[1024,2,4,2,128],[2048,2,2,4,2],[2048,2,2,4,4],[2048,2,2,4,8],[2048,2,4,2,2],[2048,2,4,2,4],[2048,2,2,4,16],[2048,2,4,2,8],[2048,4,2,2,2],[1024,4,2,2,128],[2048,2,2,4,32],[2048,2,4,2,16],[2048,4,2,2,4],[2048,4,2,2,8],[2048,2,2,4,64],[2048,4,2,2,16],[2048,2,4,2,32],[2048,4,2,2,32],[2048,2,2,4,128],[2048,2,4,2,64],[2048,4,2,2,64],[2048,4,2,2,128],[4096,2,2,4,2],[4096,2,2,4,4],[4096,2,2,4,8],[2048,2,4,2,128],[4096,2,4,2,2],[4096,2,2,4,16],[4096,2,4,2,4],[4096,2,4,2,8],[4096,4,2,2,2],[4096,2,2,4,32],[4096,4,2,2,4],[4096,4,2,2,8],[4096,2,4,2,16],[4096,4,2,2,16],[4096,2,4,2,32],[4096,2,2,4,64],[4096,4,2,2,32],[4096,2,2,4,128],[4096,2,4,2,64],[4096,4,2,2,64],[8192,2,2,4,2],[4096,2,4,2,128],[8192,2,2,4,4],[8192,2,2,4,8],[8192,2,4,2,2],[8192,2,4,2,4],[4096,4,2,2,128],[8192,2,2,4,16],[8192,2,4,2,8],[8192,4,2,2,2],[8192,2,2,4,32],[8192,4,2,2,4],[8192,2,4,2,16],[8192,4,2,2,8],[8192,4,2,2,16],[8192,2,2,4,64],[8192,2,4,2,32],[8192,4,2,2,32],[8192,2,2,4,128],[8192,2,4,2,64],[8192,4,2,2,64],[16384,2,2,4,2],[16384,2,2,4,4],[8192,2,4,2,128],[8192,4,2,2,128],[16384,2,4,2,2],[16384,2,2,4,8],[16384,2,2,4,16],[16384,2,4,2,4],[16384,2,4,2,8],[16384,4,2,2,2],[16384,4,2,2,4],[16384,2,2,4,32],[16384,2,4,2,16],[16384,4,2,2,8],[16384,2,2,4,64],[16384,4,2,2,16],[16384,4,2,2,32],[16384,2,4,2,32],[16384,2,2,4,128],[16384,2,4,2,64],[16384,4,2,2,64],[16384,2,4,2,128],[32768,2,2,4,2],[32768,2,2,4,4],[32768,2,2,4,8],[32768,2,4,2,2],[32768,2,4,2,4],[32768,2,2,4,16],[32768,2,4,2,8],[32768,4,2,2,2],[16384,4,2,2,128],[32768,2,2,4,32],[32768,4,2,2,4],[32768,2,4,2,16],[32768,4,2,2,8],[32768,2,2,4,64],[32768,4,2,2,16],[32768,2,4,2,32],[32768,4,2,2,32],[32768,2,2,4,128],[32768,2,4,2,64],[32768,4,2,2,64],[32768,2,4,2,128],[65536,2,2,4,2],[65536,2,2,4,4],[65536,2,2,4,8],[65536,2,2,4,16],[65536,2,4,2,8],[65536,2,2,4,32],[32768,4,2,2,128],[65536,2,4,2,16],[65536,4,2,2,8],[65536,4,2,2,16],[65536,2,4,2,32],[65536,2,2,4,64],[65536,4,2,2,32],[65536,2,2,4,128],[65536,2,4,2,64],[65536,4,2,2,64],[65536,2,4,2,128],[131072,2,2,4,32],[131072,2,4,2,16],[65536,4,2,2,128],[131072,2,2,4,64],[131072,4,2,2,16],[131072,2,4,2,32],[131072,4,2,2,32],[131072,2,2,4,128],[131072,2,4,2,64],[131072,4,2,2,64],[131072,4,2,2,128],[131072,2,4,2,128],[262144,2,2,4,64],[262144,4,2,2,32],[262144,2,2,4,128],[262144,2,4,2,64],[262144,4,2,2,64],[262144,4,2,2,128],[262144,2,4,2,128]],\"hovertemplate\":\"Parallelism style=D/T/P<br>Throughput (samples / second)=%{x}<br>Peak Memory (GB)=%{y}<br>dummy_column_for_size=%{marker.size}<br>batch_size=%{customdata[0]}<br>dp_degree=%{customdata[1]}<br>hp_degree=%{customdata[2]}<br>pp_degree=%{customdata[3]}<br>num_microbatches=%{customdata[4]}<extra></extra>\",\"legendgroup\":\"D/T/P\",\"marker\":{\"color\":\"#e377c2\",\"size\":[1.0,1.0,1.0,1.0,1.0,1.0,1.0,1.0,1.0,1.0,1.0,1.0,1.0,1.0,1.0,1.0,1.0,1.0,1.0,1.0,1.0,1.0,1.0,1.0,1.0,1.0,1.0,1.0,1.0,1.0,1.0,1.0,1.0,1.0,1.0,1.0,1.0,1.0,1.0,1.0,1.0,1.0,1.0,1.0,1.0,1.0,1.0,1.0,1.0,1.0,1.0,1.0,1.0,1.0,1.0,1.0,1.0,1.0,1.0,1.0,1.0,1.0,1.0,1.0,1.0,1.0,1.0,1.0,1.0,1.0,1.0,1.0,1.0,1.0,1.0,1.0,1.0,1.0,1.0,1.0,1.0,1.0,1.0,1.0,1.0,1.0,1.0,1.0,1.0,1.0,1.0,1.0,1.0,1.0,1.0,1.0,1.0,1.0,1.0,1.0,1.0,1.0,1.0,1.0,1.0,1.0,1.0,1.0,1.0,1.0,1.0,1.0,1.0,1.0,1.0,1.0,1.0,1.0,1.0,1.0,1.0,1.0,1.0,1.0,1.0,1.0,1.0,1.0,1.0,1.0,1.0,1.0,1.0,1.0,1.0,1.0,1.0,1.0,1.0,1.0,1.0,1.0,1.0,1.0,1.0,1.0,1.0,1.0,1.0,1.0,1.0,1.0,1.0,1.0,1.0,1.0,1.0,1.0,1.0,1.0,1.0,1.0,1.0,1.0,1.0,1.0,1.0,1.0,1.0,1.0,1.0,1.0,1.0,1.0,1.0,1.0,1.0,1.0,1.0,1.0,1.0,1.0,1.0,1.0,1.0,1.0,1.0,1.0,1.0,1.0,1.0,1.0,1.0,1.0,1.0,1.0,1.0,1.0,1.0,1.0,1.0,1.0,1.0,1.0,1.0,1.0,1.0,1.0,1.0,1.0,1.0,1.0,1.0,1.0,1.0,1.0,1.0,1.0,1.0],\"sizemode\":\"area\",\"sizeref\":0.01,\"symbol\":\"diamond\"},\"mode\":\"markers\",\"name\":\"D/T/P\",\"orientation\":\"v\",\"showlegend\":true,\"type\":\"scatter\",\"x\":[1044.033135115174,911.3215545089928,1323.0174722243514,687.2389681613535,1039.7860236658512,452.4579240421105,673.0060380423116,539.9469817321144,713.5196462674528,383.0582303065889,267.380344561423,241.5024408755128,435.7238457907904,146.8528099498109,244.5534219221992,138.74149925550387,1764.955053721853,1639.2260305315615,130.1965708968313,1289.0218751107825,2303.969330729493,1895.2036265721488,872.0451592463618,1257.1982312607463,1346.1374634562203,1031.1782676377436,743.6802684823356,842.248575025162,524.0100007736163,474.4806235686223,290.57179538889346,480.0401829433078,274.73074641359847,153.54653416035848,257.839634360917,149.07743128721424,2695.650325272788,2729.1665230597346,3661.308802853919,2292.925487322119,1625.9653024873728,3219.538599699373,2418.1006092116245,2221.265208965972,1007.5105470556964,1578.7036474559354,1891.6830112210573,1405.0641971665018,569.0011619835514,916.6079396458356,925.7584659077248,538.7736954395823,133.85858475666936,303.74456067690227,505.7599461709216,295.0271283626452,265.0392216237057,3660.876045302341,4088.278706371463,3755.2325104845177,5190.146616527144,4948.5015337806735,2863.982791192894,4017.8635473991344,3602.551224398614,1870.424828118973,3246.094774604816,2805.0672619836164,2530.140705943214,1092.354940783248,154.84524381667248,1716.1941224475129,1727.970540950212,1037.1974961739138,594.5238807508933,974.0474126366772,577.9289594035812,519.6817939333963,4459.22938821646,5443.5531271474165,5512.023517063136,6559.7002914465065,6764.970360057575,4624.56558605385,6003.882941952568,5228.08416847808,306.3430355520487,3271.3507471047337,4586.504140570978,5056.15312847748,4219.466652851159,2022.4605931017527,3043.7924992882395,3049.034504697749,1929.8634606633907,1140.3713698841775,1813.714143401745,1110.228714037014,599.7212673104975,5004.963418374293,6525.095751906758,7194.43543167595,1000.1315927895308,7556.717415574849,6673.594696591443,8285.706168211089,7974.858823128595,6751.21656123628,5229.927421528468,7010.804082678581,6334.016836865437,6720.537270522375,4963.6677527883085,4935.779916941577,3521.8195027739403,3387.66248804966,2108.139692864848,3187.655703416256,2057.974258916519,5331.18683307772,1859.858141021953,7244.80646441147,8490.061213168205,8178.226930692432,9334.932170948994,1150.7417662498867,8572.08942393789,9540.92271326636,7902.33659469187,7459.589549983151,8690.658695473896,8758.028365222706,8451.788042410068,7250.204836238721,5596.202635500039,7147.0942221239,5443.732153025746,3662.009127856999,5131.1562343389705,3590.478167397024,5510.783202081465,7667.674389085984,3261.80295140742,2128.6269510475104,8528.963340339307,9330.184660446206,9993.51241390709,9965.92920686906,10579.7195859652,8638.820068124936,9873.557303491483,9479.719612099385,10322.835154705335,10148.32909108607,7926.36036354929,9419.855349811236,7815.439510691069,9210.275047679628,5799.277302077023,7381.343605801822,5720.356162430713,5234.761794045568,5605.196793575934,7898.176438780983,9815.84187212533,8715.860178236206,10314.53600590224,10896.98050970678,11188.828384134327,9061.057133762666,3701.2737913848023,10964.312789470858,10594.579357989063,11335.498274935691,11280.506194484267,10009.640094312948,11077.31972277606,10763.905252883264,9992.102783637492,8182.358782787956,9454.377409526864,8132.447184304795,7504.32245961549,5653.627228236023,8018.703703354905,10078.136777555184,11412.87355675932,11520.46362726807,11895.79704508042,5869.485525671744,11920.17900885788,11946.92292529201,12145.87981901681,11755.380189370428,11524.053709681124,11608.655064002964,10297.45625380344,10998.883262694506,10305.115876549107,9581.345884847737,12423.523533405094,12235.736346236346,8300.794436555154,12467.166904962956,12761.385541694626,12322.918871591744,12630.3423488484,11825.917121412982,11977.205999882884,11893.906969532289,10469.09354071672,11120.26193318097,12999.080620778996,13211.729961722343,12773.941005719496,12534.669512037231,12887.361345130896,12041.855295596397,12091.288222958328],\"xaxis\":\"x\",\"y\":[9.15511706,9.165078528,8.90345882,9.17110784,8.921808896,9.151053824,17.743478788,17.754750976,8.892186624,17.736794112,9.141026816,17.72781568,8.877375488,9.136013312,8.86996992,17.723326464,9.183428612,9.203351552,8.866267136,9.215410176,8.948547588,8.985247744,9.175302144,17.770217476,8.9260032,17.792761856,17.756848128,8.896380928,9.155248128,17.738891264,9.14522112,8.881569792,17.729912832,9.140207616,8.874164224,17.725423616,9.240051716,9.2798976,9.038725124,9.304014848,9.223798784,9.11212544,8.993636352,17.823694852,9.183690752,8.934391808,17.868783616,17.79695616,9.163636736,17.761042432,8.904769536,17.743085568,8.87046144,9.153609728,8.8899584,17.734107136,8.882552832,9.353297924,9.432989696,9.481224192,9.219080196,9.365880832,9.320792064,9.128902656,17.930649604,9.240576,18.020827136,9.010413568,17.877172224,9.200467968,17.72961792,17.805344768,8.951169024,17.76943104,9.180413952,8.921546752,17.751474176,8.906735616,9.57979034,9.739173888,9.83564288,9.57979034,9.873391616,9.514778624,9.399435264,18.144559108,17.742495744,9.354346496,9.162457088,18.324914176,18.037604352,9.274130432,17.89394944,9.043968,17.822121984,9.2340224,8.984723456,17.786208256,17.768251392,10.032775172,10.351542272,10.544480256,8.955101184,10.301210628,9.902751744,10.888413184,9.94050048,18.572378116,9.581887488,18.933088256,18.358468608,9.466544128,18.071158784,9.229565952,9.42145536,17.927503872,9.341239296,9.111076864,17.855676416,10.938744836,9.05183232,11.57627904,11.962155008,11.744051204,12.91845632,17.819762688,10.678697984,11.022630912,19.428016132,10.036969472,20.149436416,10.074718208,19.00019712,18.425577472,9.716105216,9.600761856,18.138267648,9.555673088,9.36378368,17.994612736,12.750684164,14.025752576,9.245294592,17.92278528,15.300820992,14.797504512,12.230590464,16.978542592,13.186891776,21.139292164,22.582132736,10.94713344,11.291066368,20.283654144,10.305404928,19.134414848,18.5597952,10.343153664,9.984540672,9.869197312,18.272485376,9.684647936,17.716740096,18.924699648,20.46820352,26.306674688,25.232932864,15.334375424,17.515413504,24.561844228,18.128830464,12.767461376,27.447525376,13.723762688,22.850568192,11.525947392,20.5520896,11.82793728,19.402850304,10.997465088,10.955522048,18.828230656,10.645143552,31.138512896,30.601641984,31.809601536,21.541945344,26.306674688,16.408117248,18.540920832,18.589155328,27.984396288,23.387439104,14.797504512,14.193524736,21.088960512,13.136560128,13.186891776,19.939721216,12.566134784,23.756537856,28.454158336,19.436404736,19.528679424,29.058138112,20.736638976,24.461180928,17.414750208,17.649631232,22.179479552,21.424504832,16.408117248,30.1989888,31.20562176,25.971130368,26.575110144,26.910654464,25.400705024,24.092082176],\"yaxis\":\"y\"}],                        {\"legend\":{\"itemsizing\":\"constant\",\"title\":{\"text\":\"Parallelism style\"},\"tracegroupgap\":0},\"margin\":{\"t\":60},\"template\":{\"data\":{\"bar\":[{\"error_x\":{\"color\":\"#2a3f5f\"},\"error_y\":{\"color\":\"#2a3f5f\"},\"marker\":{\"line\":{\"color\":\"#E5ECF6\",\"width\":0.5},\"pattern\":{\"fillmode\":\"overlay\",\"size\":10,\"solidity\":0.2}},\"type\":\"bar\"}],\"barpolar\":[{\"marker\":{\"line\":{\"color\":\"#E5ECF6\",\"width\":0.5},\"pattern\":{\"fillmode\":\"overlay\",\"size\":10,\"solidity\":0.2}},\"type\":\"barpolar\"}],\"carpet\":[{\"aaxis\":{\"endlinecolor\":\"#2a3f5f\",\"gridcolor\":\"white\",\"linecolor\":\"white\",\"minorgridcolor\":\"white\",\"startlinecolor\":\"#2a3f5f\"},\"baxis\":{\"endlinecolor\":\"#2a3f5f\",\"gridcolor\":\"white\",\"linecolor\":\"white\",\"minorgridcolor\":\"white\",\"startlinecolor\":\"#2a3f5f\"},\"type\":\"carpet\"}],\"choropleth\":[{\"colorbar\":{\"outlinewidth\":0,\"ticks\":\"\"},\"type\":\"choropleth\"}],\"contour\":[{\"colorbar\":{\"outlinewidth\":0,\"ticks\":\"\"},\"colorscale\":[[0.0,\"#0d0887\"],[0.1111111111111111,\"#46039f\"],[0.2222222222222222,\"#7201a8\"],[0.3333333333333333,\"#9c179e\"],[0.4444444444444444,\"#bd3786\"],[0.5555555555555556,\"#d8576b\"],[0.6666666666666666,\"#ed7953\"],[0.7777777777777778,\"#fb9f3a\"],[0.8888888888888888,\"#fdca26\"],[1.0,\"#f0f921\"]],\"type\":\"contour\"}],\"contourcarpet\":[{\"colorbar\":{\"outlinewidth\":0,\"ticks\":\"\"},\"type\":\"contourcarpet\"}],\"heatmap\":[{\"colorbar\":{\"outlinewidth\":0,\"ticks\":\"\"},\"colorscale\":[[0.0,\"#0d0887\"],[0.1111111111111111,\"#46039f\"],[0.2222222222222222,\"#7201a8\"],[0.3333333333333333,\"#9c179e\"],[0.4444444444444444,\"#bd3786\"],[0.5555555555555556,\"#d8576b\"],[0.6666666666666666,\"#ed7953\"],[0.7777777777777778,\"#fb9f3a\"],[0.8888888888888888,\"#fdca26\"],[1.0,\"#f0f921\"]],\"type\":\"heatmap\"}],\"heatmapgl\":[{\"colorbar\":{\"outlinewidth\":0,\"ticks\":\"\"},\"colorscale\":[[0.0,\"#0d0887\"],[0.1111111111111111,\"#46039f\"],[0.2222222222222222,\"#7201a8\"],[0.3333333333333333,\"#9c179e\"],[0.4444444444444444,\"#bd3786\"],[0.5555555555555556,\"#d8576b\"],[0.6666666666666666,\"#ed7953\"],[0.7777777777777778,\"#fb9f3a\"],[0.8888888888888888,\"#fdca26\"],[1.0,\"#f0f921\"]],\"type\":\"heatmapgl\"}],\"histogram\":[{\"marker\":{\"pattern\":{\"fillmode\":\"overlay\",\"size\":10,\"solidity\":0.2}},\"type\":\"histogram\"}],\"histogram2d\":[{\"colorbar\":{\"outlinewidth\":0,\"ticks\":\"\"},\"colorscale\":[[0.0,\"#0d0887\"],[0.1111111111111111,\"#46039f\"],[0.2222222222222222,\"#7201a8\"],[0.3333333333333333,\"#9c179e\"],[0.4444444444444444,\"#bd3786\"],[0.5555555555555556,\"#d8576b\"],[0.6666666666666666,\"#ed7953\"],[0.7777777777777778,\"#fb9f3a\"],[0.8888888888888888,\"#fdca26\"],[1.0,\"#f0f921\"]],\"type\":\"histogram2d\"}],\"histogram2dcontour\":[{\"colorbar\":{\"outlinewidth\":0,\"ticks\":\"\"},\"colorscale\":[[0.0,\"#0d0887\"],[0.1111111111111111,\"#46039f\"],[0.2222222222222222,\"#7201a8\"],[0.3333333333333333,\"#9c179e\"],[0.4444444444444444,\"#bd3786\"],[0.5555555555555556,\"#d8576b\"],[0.6666666666666666,\"#ed7953\"],[0.7777777777777778,\"#fb9f3a\"],[0.8888888888888888,\"#fdca26\"],[1.0,\"#f0f921\"]],\"type\":\"histogram2dcontour\"}],\"mesh3d\":[{\"colorbar\":{\"outlinewidth\":0,\"ticks\":\"\"},\"type\":\"mesh3d\"}],\"parcoords\":[{\"line\":{\"colorbar\":{\"outlinewidth\":0,\"ticks\":\"\"}},\"type\":\"parcoords\"}],\"pie\":[{\"automargin\":true,\"type\":\"pie\"}],\"scatter\":[{\"marker\":{\"colorbar\":{\"outlinewidth\":0,\"ticks\":\"\"}},\"type\":\"scatter\"}],\"scatter3d\":[{\"line\":{\"colorbar\":{\"outlinewidth\":0,\"ticks\":\"\"}},\"marker\":{\"colorbar\":{\"outlinewidth\":0,\"ticks\":\"\"}},\"type\":\"scatter3d\"}],\"scattercarpet\":[{\"marker\":{\"colorbar\":{\"outlinewidth\":0,\"ticks\":\"\"}},\"type\":\"scattercarpet\"}],\"scattergeo\":[{\"marker\":{\"colorbar\":{\"outlinewidth\":0,\"ticks\":\"\"}},\"type\":\"scattergeo\"}],\"scattergl\":[{\"marker\":{\"colorbar\":{\"outlinewidth\":0,\"ticks\":\"\"}},\"type\":\"scattergl\"}],\"scattermapbox\":[{\"marker\":{\"colorbar\":{\"outlinewidth\":0,\"ticks\":\"\"}},\"type\":\"scattermapbox\"}],\"scatterpolar\":[{\"marker\":{\"colorbar\":{\"outlinewidth\":0,\"ticks\":\"\"}},\"type\":\"scatterpolar\"}],\"scatterpolargl\":[{\"marker\":{\"colorbar\":{\"outlinewidth\":0,\"ticks\":\"\"}},\"type\":\"scatterpolargl\"}],\"scatterternary\":[{\"marker\":{\"colorbar\":{\"outlinewidth\":0,\"ticks\":\"\"}},\"type\":\"scatterternary\"}],\"surface\":[{\"colorbar\":{\"outlinewidth\":0,\"ticks\":\"\"},\"colorscale\":[[0.0,\"#0d0887\"],[0.1111111111111111,\"#46039f\"],[0.2222222222222222,\"#7201a8\"],[0.3333333333333333,\"#9c179e\"],[0.4444444444444444,\"#bd3786\"],[0.5555555555555556,\"#d8576b\"],[0.6666666666666666,\"#ed7953\"],[0.7777777777777778,\"#fb9f3a\"],[0.8888888888888888,\"#fdca26\"],[1.0,\"#f0f921\"]],\"type\":\"surface\"}],\"table\":[{\"cells\":{\"fill\":{\"color\":\"#EBF0F8\"},\"line\":{\"color\":\"white\"}},\"header\":{\"fill\":{\"color\":\"#C8D4E3\"},\"line\":{\"color\":\"white\"}},\"type\":\"table\"}]},\"layout\":{\"annotationdefaults\":{\"arrowcolor\":\"#2a3f5f\",\"arrowhead\":0,\"arrowwidth\":1},\"autotypenumbers\":\"strict\",\"coloraxis\":{\"colorbar\":{\"outlinewidth\":0,\"ticks\":\"\"}},\"colorscale\":{\"diverging\":[[0,\"#8e0152\"],[0.1,\"#c51b7d\"],[0.2,\"#de77ae\"],[0.3,\"#f1b6da\"],[0.4,\"#fde0ef\"],[0.5,\"#f7f7f7\"],[0.6,\"#e6f5d0\"],[0.7,\"#b8e186\"],[0.8,\"#7fbc41\"],[0.9,\"#4d9221\"],[1,\"#276419\"]],\"sequential\":[[0.0,\"#0d0887\"],[0.1111111111111111,\"#46039f\"],[0.2222222222222222,\"#7201a8\"],[0.3333333333333333,\"#9c179e\"],[0.4444444444444444,\"#bd3786\"],[0.5555555555555556,\"#d8576b\"],[0.6666666666666666,\"#ed7953\"],[0.7777777777777778,\"#fb9f3a\"],[0.8888888888888888,\"#fdca26\"],[1.0,\"#f0f921\"]],\"sequentialminus\":[[0.0,\"#0d0887\"],[0.1111111111111111,\"#46039f\"],[0.2222222222222222,\"#7201a8\"],[0.3333333333333333,\"#9c179e\"],[0.4444444444444444,\"#bd3786\"],[0.5555555555555556,\"#d8576b\"],[0.6666666666666666,\"#ed7953\"],[0.7777777777777778,\"#fb9f3a\"],[0.8888888888888888,\"#fdca26\"],[1.0,\"#f0f921\"]]},\"colorway\":[\"#636efa\",\"#EF553B\",\"#00cc96\",\"#ab63fa\",\"#FFA15A\",\"#19d3f3\",\"#FF6692\",\"#B6E880\",\"#FF97FF\",\"#FECB52\"],\"font\":{\"color\":\"#2a3f5f\"},\"geo\":{\"bgcolor\":\"white\",\"lakecolor\":\"white\",\"landcolor\":\"#E5ECF6\",\"showlakes\":true,\"showland\":true,\"subunitcolor\":\"white\"},\"hoverlabel\":{\"align\":\"left\"},\"hovermode\":\"closest\",\"mapbox\":{\"style\":\"light\"},\"paper_bgcolor\":\"white\",\"plot_bgcolor\":\"#E5ECF6\",\"polar\":{\"angularaxis\":{\"gridcolor\":\"white\",\"linecolor\":\"white\",\"ticks\":\"\"},\"bgcolor\":\"#E5ECF6\",\"radialaxis\":{\"gridcolor\":\"white\",\"linecolor\":\"white\",\"ticks\":\"\"}},\"scene\":{\"xaxis\":{\"backgroundcolor\":\"#E5ECF6\",\"gridcolor\":\"white\",\"gridwidth\":2,\"linecolor\":\"white\",\"showbackground\":true,\"ticks\":\"\",\"zerolinecolor\":\"white\"},\"yaxis\":{\"backgroundcolor\":\"#E5ECF6\",\"gridcolor\":\"white\",\"gridwidth\":2,\"linecolor\":\"white\",\"showbackground\":true,\"ticks\":\"\",\"zerolinecolor\":\"white\"},\"zaxis\":{\"backgroundcolor\":\"#E5ECF6\",\"gridcolor\":\"white\",\"gridwidth\":2,\"linecolor\":\"white\",\"showbackground\":true,\"ticks\":\"\",\"zerolinecolor\":\"white\"}},\"shapedefaults\":{\"line\":{\"color\":\"#2a3f5f\"}},\"ternary\":{\"aaxis\":{\"gridcolor\":\"white\",\"linecolor\":\"white\",\"ticks\":\"\"},\"baxis\":{\"gridcolor\":\"white\",\"linecolor\":\"white\",\"ticks\":\"\"},\"bgcolor\":\"#E5ECF6\",\"caxis\":{\"gridcolor\":\"white\",\"linecolor\":\"white\",\"ticks\":\"\"}},\"title\":{\"x\":0.05},\"xaxis\":{\"automargin\":true,\"gridcolor\":\"white\",\"linecolor\":\"white\",\"ticks\":\"\",\"title\":{\"standoff\":15},\"zerolinecolor\":\"white\",\"zerolinewidth\":2},\"yaxis\":{\"automargin\":true,\"gridcolor\":\"white\",\"linecolor\":\"white\",\"ticks\":\"\",\"title\":{\"standoff\":15},\"zerolinecolor\":\"white\",\"zerolinewidth\":2}}},\"xaxis\":{\"anchor\":\"y\",\"domain\":[0.0,1.0],\"title\":{\"text\":\"Throughput (samples / second)\"}},\"yaxis\":{\"anchor\":\"x\",\"domain\":[0.0,1.0],\"title\":{\"text\":\"Peak Memory (GB)\"}}},                        {\"responsive\": true}                    ).then(function(){\n",
       "                            \n",
       "var gd = document.getElementById('c478da42-9908-4352-b6ba-8e6397831722');\n",
       "var x = new MutationObserver(function (mutations, observer) {{\n",
       "        var display = window.getComputedStyle(gd).display;\n",
       "        if (!display || display === 'none') {{\n",
       "            console.log([gd, 'removed!']);\n",
       "            Plotly.purge(gd);\n",
       "            observer.disconnect();\n",
       "        }}\n",
       "}});\n",
       "\n",
       "// Listen for the removal of the full notebook cells\n",
       "var notebookContainer = gd.closest('#notebook-container');\n",
       "if (notebookContainer) {{\n",
       "    x.observe(notebookContainer, {childList: true});\n",
       "}}\n",
       "\n",
       "// Listen for the clearing of the current output cell\n",
       "var outputEl = gd.closest('.output');\n",
       "if (outputEl) {{\n",
       "    x.observe(outputEl, {childList: true});\n",
       "}}\n",
       "\n",
       "                        })                };                });            </script>        </div>"
      ]
     },
     "metadata": {},
     "output_type": "display_data"
    }
   ],
   "source": [
    "simulation_filename = \"~/Downloads/mlp_dgx_simulated_grid_search_results_v2.csv\"\n",
    "plot_memory_usage_vs_metric(\n",
    "    simulation_filename,\n",
    "    \"mlp-medium\",\n",
    "    0,\n",
    "    \"throughput\",\n",
    "    \"Throughput (samples / second)\",\n",
    "    \"Peak Memory (GB)\",\n",
    "    os.path.join(FIGURES_DIR, \"mlp-medium_memory_vs_throughput.pdf\"),\n",
    "    None,\n",
    ")"
   ]
  },
  {
   "cell_type": "code",
   "execution_count": 21,
   "id": "prospective-still",
   "metadata": {},
   "outputs": [
    {
     "data": {
      "application/vnd.plotly.v1+json": {
       "config": {
        "plotlyServerURL": "https://plot.ly"
       },
       "data": [
        {
         "customdata": [
          [
           128,
           1,
           16,
           1,
           1
          ],
          [
           256,
           1,
           16,
           1,
           1
          ],
          [
           512,
           1,
           16,
           1,
           1
          ],
          [
           1024,
           1,
           16,
           1,
           1
          ],
          [
           2048,
           1,
           16,
           1,
           1
          ]
         ],
         "hovertemplate": "Parallelism style=T<br>Throughput (samples / second)=%{x}<br>Peak Memory (GB)=%{y}<br>dummy_column_for_size=%{marker.size}<br>batch_size=%{customdata[0]}<br>dp_degree=%{customdata[1]}<br>hp_degree=%{customdata[2]}<br>pp_degree=%{customdata[3]}<br>num_microbatches=%{customdata[4]}<extra></extra>",
         "legendgroup": "T",
         "marker": {
          "color": "#ff7f0e",
          "size": [
           1,
           1,
           1,
           1,
           1
          ],
          "sizemode": "area",
          "sizeref": 0.01,
          "symbol": "diamond"
         },
         "mode": "markers",
         "name": "T",
         "orientation": "v",
         "showlegend": true,
         "type": "scatter",
         "x": [
          1263.2779521670986,
          1544.6067903104215,
          1738.1473191281052,
          1854.3213295529267,
          1918.4332973454452
         ],
         "xaxis": "x",
         "y": [
          25.81174682,
          25.85368986,
          25.93757594,
          26.1053481,
          27.11198106
         ],
         "yaxis": "y"
        },
        {
         "customdata": [
          [
           128,
           1,
           1,
           16,
           2
          ],
          [
           128,
           1,
           1,
           16,
           4
          ],
          [
           128,
           1,
           1,
           16,
           8
          ],
          [
           128,
           1,
           1,
           16,
           16
          ],
          [
           128,
           1,
           1,
           16,
           32
          ],
          [
           128,
           1,
           1,
           16,
           64
          ],
          [
           128,
           1,
           1,
           16,
           128
          ],
          [
           256,
           1,
           1,
           16,
           2
          ],
          [
           256,
           1,
           1,
           16,
           4
          ],
          [
           256,
           1,
           1,
           16,
           8
          ],
          [
           256,
           1,
           1,
           16,
           16
          ],
          [
           256,
           1,
           1,
           16,
           32
          ],
          [
           256,
           1,
           1,
           16,
           64
          ],
          [
           256,
           1,
           1,
           16,
           128
          ],
          [
           512,
           1,
           1,
           16,
           2
          ],
          [
           512,
           1,
           1,
           16,
           4
          ],
          [
           512,
           1,
           1,
           16,
           8
          ],
          [
           512,
           1,
           1,
           16,
           16
          ],
          [
           512,
           1,
           1,
           16,
           32
          ],
          [
           512,
           1,
           1,
           16,
           64
          ],
          [
           512,
           1,
           1,
           16,
           128
          ],
          [
           1024,
           1,
           1,
           16,
           2
          ],
          [
           1024,
           1,
           1,
           16,
           4
          ],
          [
           1024,
           1,
           1,
           16,
           8
          ],
          [
           1024,
           1,
           1,
           16,
           16
          ],
          [
           1024,
           1,
           1,
           16,
           32
          ],
          [
           1024,
           1,
           1,
           16,
           64
          ],
          [
           1024,
           1,
           1,
           16,
           128
          ],
          [
           2048,
           1,
           1,
           16,
           2
          ],
          [
           2048,
           1,
           1,
           16,
           4
          ],
          [
           2048,
           1,
           1,
           16,
           8
          ],
          [
           2048,
           1,
           1,
           16,
           16
          ],
          [
           2048,
           1,
           1,
           16,
           32
          ],
          [
           2048,
           1,
           1,
           16,
           64
          ],
          [
           2048,
           1,
           1,
           16,
           128
          ],
          [
           4096,
           1,
           1,
           16,
           64
          ],
          [
           4096,
           1,
           1,
           16,
           128
          ]
         ],
         "hovertemplate": "Parallelism style=P<br>Throughput (samples / second)=%{x}<br>Peak Memory (GB)=%{y}<br>dummy_column_for_size=%{marker.size}<br>batch_size=%{customdata[0]}<br>dp_degree=%{customdata[1]}<br>hp_degree=%{customdata[2]}<br>pp_degree=%{customdata[3]}<br>num_microbatches=%{customdata[4]}<extra></extra>",
         "legendgroup": "P",
         "marker": {
          "color": "#2ca02c",
          "size": [
           1,
           1,
           1,
           1,
           1,
           1,
           1,
           1,
           1,
           1,
           1,
           1,
           1,
           1,
           1,
           1,
           1,
           1,
           1,
           1,
           1,
           1,
           1,
           1,
           1,
           1,
           1,
           1,
           1,
           1,
           1,
           1,
           1,
           1,
           1,
           1,
           1
          ],
          "sizemode": "area",
          "sizeref": 0.01,
          "symbol": "square"
         },
         "mode": "markers",
         "name": "P",
         "orientation": "v",
         "showlegend": true,
         "type": "scatter",
         "x": [
          132.82346642267476,
          153.3482679961323,
          147.91244848130887,
          119.4645485009322,
          82.26490504295008,
          49.97790145829664,
          27.889215169807304,
          182.78265780551584,
          237.2499743869593,
          252.6596423657112,
          218.6069319223242,
          156.91725196095507,
          97.54030681360494,
          55.08952038467823,
          225.120130120127,
          326.592283568993,
          391.1404692698223,
          373.6517978332765,
          287.2529414421657,
          186.0867998277904,
          107.5230429500388,
          254.60712350294096,
          402.3495989529085,
          538.781909114656,
          578.8682999225316,
          491.28319794536645,
          340.7539940202996,
          205.15506832906465,
          272.4503564789387,
          455.1370719547039,
          664.1212632018635,
          797.9847167151254,
          761.6437276459758,
          583.0616357322996,
          375.7454111623941,
          904.4286081522682,
          643.1348389836674
         ],
         "xaxis": "x",
         "y": [
          30.127685636,
          30.142365696,
          30.153900032,
          30.1596672,
          30.162550784,
          30.122049536,
          30.101798912,
          30.190600196,
          30.21996032,
          30.243028992,
          30.254563328,
          30.260330496,
          30.179328,
          30.138826752,
          30.316429316,
          30.375149568,
          30.421286912,
          30.444355584,
          30.45588992,
          30.293884928,
          30.212882432,
          30.568087556,
          30.685528064,
          30.777802752,
          30.823940096,
          30.847008768,
          30.522998784,
          30.360993792,
          31.071404036,
          31.306285056,
          31.490834432,
          31.58310912,
          31.629246464,
          30.981226496,
          30.657216512,
          31.89768192,
          31.249661952
         ],
         "yaxis": "y"
        },
        {
         "customdata": [
          [
           128,
           1,
           2,
           8,
           2
          ],
          [
           128,
           1,
           2,
           8,
           4
          ],
          [
           128,
           1,
           2,
           8,
           8
          ],
          [
           128,
           1,
           4,
           4,
           2
          ],
          [
           128,
           1,
           4,
           4,
           4
          ],
          [
           128,
           1,
           2,
           8,
           16
          ],
          [
           128,
           1,
           4,
           4,
           8
          ],
          [
           128,
           1,
           8,
           2,
           2
          ],
          [
           128,
           1,
           8,
           2,
           4
          ],
          [
           128,
           1,
           4,
           4,
           16
          ],
          [
           128,
           1,
           2,
           8,
           32
          ],
          [
           128,
           1,
           8,
           2,
           8
          ],
          [
           128,
           1,
           2,
           8,
           64
          ],
          [
           128,
           1,
           4,
           4,
           32
          ],
          [
           128,
           1,
           8,
           2,
           16
          ],
          [
           128,
           1,
           2,
           8,
           128
          ],
          [
           128,
           1,
           4,
           4,
           64
          ],
          [
           128,
           1,
           8,
           2,
           32
          ],
          [
           256,
           1,
           2,
           8,
           4
          ],
          [
           256,
           1,
           2,
           8,
           2
          ],
          [
           256,
           1,
           2,
           8,
           8
          ],
          [
           256,
           1,
           4,
           4,
           2
          ],
          [
           256,
           1,
           4,
           4,
           4
          ],
          [
           256,
           1,
           4,
           4,
           8
          ],
          [
           256,
           1,
           2,
           8,
           16
          ],
          [
           256,
           1,
           2,
           8,
           32
          ],
          [
           256,
           1,
           8,
           2,
           2
          ],
          [
           256,
           1,
           4,
           4,
           16
          ],
          [
           256,
           1,
           8,
           2,
           4
          ],
          [
           256,
           1,
           2,
           8,
           64
          ],
          [
           128,
           1,
           4,
           4,
           128
          ],
          [
           256,
           1,
           4,
           4,
           32
          ],
          [
           256,
           1,
           8,
           2,
           8
          ],
          [
           256,
           1,
           8,
           2,
           16
          ],
          [
           256,
           1,
           2,
           8,
           128
          ],
          [
           256,
           1,
           4,
           4,
           64
          ],
          [
           128,
           1,
           8,
           2,
           64
          ],
          [
           256,
           1,
           8,
           2,
           32
          ],
          [
           256,
           1,
           4,
           4,
           128
          ],
          [
           512,
           1,
           2,
           8,
           2
          ],
          [
           512,
           1,
           2,
           8,
           4
          ],
          [
           512,
           1,
           2,
           8,
           8
          ],
          [
           512,
           1,
           4,
           4,
           2
          ],
          [
           512,
           1,
           4,
           4,
           4
          ],
          [
           512,
           1,
           2,
           8,
           16
          ],
          [
           512,
           1,
           4,
           4,
           8
          ],
          [
           512,
           1,
           2,
           8,
           32
          ],
          [
           512,
           1,
           8,
           2,
           2
          ],
          [
           512,
           1,
           4,
           4,
           16
          ],
          [
           512,
           1,
           8,
           2,
           4
          ],
          [
           512,
           1,
           2,
           8,
           64
          ],
          [
           512,
           1,
           8,
           2,
           8
          ],
          [
           256,
           1,
           8,
           2,
           64
          ],
          [
           512,
           1,
           4,
           4,
           32
          ],
          [
           128,
           1,
           8,
           2,
           128
          ],
          [
           512,
           1,
           2,
           8,
           128
          ],
          [
           512,
           1,
           8,
           2,
           16
          ],
          [
           512,
           1,
           4,
           4,
           64
          ],
          [
           512,
           1,
           8,
           2,
           32
          ],
          [
           512,
           1,
           4,
           4,
           128
          ],
          [
           1024,
           1,
           2,
           8,
           2
          ],
          [
           1024,
           1,
           2,
           8,
           4
          ],
          [
           1024,
           1,
           2,
           8,
           8
          ],
          [
           1024,
           1,
           4,
           4,
           2
          ],
          [
           1024,
           1,
           4,
           4,
           4
          ],
          [
           1024,
           1,
           2,
           8,
           16
          ],
          [
           1024,
           1,
           4,
           4,
           8
          ],
          [
           1024,
           1,
           8,
           2,
           2
          ],
          [
           1024,
           1,
           2,
           8,
           32
          ],
          [
           512,
           1,
           8,
           2,
           64
          ],
          [
           256,
           1,
           8,
           2,
           128
          ],
          [
           1024,
           1,
           8,
           2,
           4
          ],
          [
           1024,
           1,
           4,
           4,
           16
          ],
          [
           1024,
           1,
           2,
           8,
           64
          ],
          [
           1024,
           1,
           8,
           2,
           8
          ],
          [
           1024,
           1,
           4,
           4,
           32
          ],
          [
           1024,
           1,
           8,
           2,
           16
          ],
          [
           1024,
           1,
           4,
           4,
           64
          ],
          [
           1024,
           1,
           2,
           8,
           128
          ],
          [
           1024,
           1,
           8,
           2,
           32
          ],
          [
           1024,
           1,
           4,
           4,
           128
          ],
          [
           512,
           1,
           8,
           2,
           128
          ],
          [
           2048,
           1,
           2,
           8,
           2
          ],
          [
           2048,
           1,
           2,
           8,
           4
          ],
          [
           2048,
           1,
           4,
           4,
           2
          ],
          [
           2048,
           1,
           2,
           8,
           8
          ],
          [
           2048,
           1,
           2,
           8,
           16
          ],
          [
           2048,
           1,
           4,
           4,
           4
          ],
          [
           2048,
           1,
           4,
           4,
           8
          ],
          [
           2048,
           1,
           8,
           2,
           2
          ],
          [
           1024,
           1,
           8,
           2,
           64
          ],
          [
           2048,
           1,
           2,
           8,
           32
          ],
          [
           2048,
           1,
           8,
           2,
           4
          ],
          [
           2048,
           1,
           4,
           4,
           16
          ],
          [
           2048,
           1,
           2,
           8,
           64
          ],
          [
           2048,
           1,
           8,
           2,
           8
          ],
          [
           2048,
           1,
           4,
           4,
           32
          ],
          [
           2048,
           1,
           2,
           8,
           128
          ],
          [
           2048,
           1,
           4,
           4,
           64
          ],
          [
           2048,
           1,
           8,
           2,
           16
          ],
          [
           2048,
           1,
           8,
           2,
           32
          ],
          [
           2048,
           1,
           4,
           4,
           128
          ],
          [
           1024,
           1,
           8,
           2,
           128
          ],
          [
           2048,
           1,
           8,
           2,
           64
          ],
          [
           4096,
           1,
           2,
           8,
           2
          ],
          [
           4096,
           1,
           2,
           8,
           4
          ],
          [
           4096,
           1,
           4,
           4,
           2
          ],
          [
           4096,
           1,
           2,
           8,
           32
          ],
          [
           4096,
           1,
           4,
           4,
           16
          ],
          [
           4096,
           1,
           2,
           8,
           64
          ],
          [
           4096,
           1,
           4,
           4,
           32
          ],
          [
           4096,
           1,
           8,
           2,
           16
          ],
          [
           4096,
           1,
           2,
           8,
           128
          ],
          [
           4096,
           1,
           4,
           4,
           64
          ],
          [
           4096,
           1,
           8,
           2,
           32
          ],
          [
           2048,
           1,
           8,
           2,
           128
          ],
          [
           4096,
           1,
           4,
           4,
           128
          ],
          [
           4096,
           1,
           8,
           2,
           64
          ],
          [
           8192,
           1,
           2,
           8,
           64
          ],
          [
           8192,
           1,
           4,
           4,
           32
          ],
          [
           8192,
           1,
           4,
           4,
           64
          ],
          [
           8192,
           1,
           2,
           8,
           128
          ],
          [
           8192,
           1,
           8,
           2,
           32
          ],
          [
           4096,
           1,
           8,
           2,
           128
          ],
          [
           8192,
           1,
           4,
           4,
           128
          ],
          [
           8192,
           1,
           8,
           2,
           64
          ],
          [
           8192,
           1,
           8,
           2,
           128
          ],
          [
           16384,
           1,
           4,
           4,
           128
          ],
          [
           16384,
           1,
           8,
           2,
           64
          ],
          [
           16384,
           1,
           8,
           2,
           128
          ]
         ],
         "hovertemplate": "Parallelism style=T/P<br>Throughput (samples / second)=%{x}<br>Peak Memory (GB)=%{y}<br>dummy_column_for_size=%{marker.size}<br>batch_size=%{customdata[0]}<br>dp_degree=%{customdata[1]}<br>hp_degree=%{customdata[2]}<br>pp_degree=%{customdata[3]}<br>num_microbatches=%{customdata[4]}<extra></extra>",
         "legendgroup": "T/P",
         "marker": {
          "color": "#9467bd",
          "size": [
           1,
           1,
           1,
           1,
           1,
           1,
           1,
           1,
           1,
           1,
           1,
           1,
           1,
           1,
           1,
           1,
           1,
           1,
           1,
           1,
           1,
           1,
           1,
           1,
           1,
           1,
           1,
           1,
           1,
           1,
           1,
           1,
           1,
           1,
           1,
           1,
           1,
           1,
           1,
           1,
           1,
           1,
           1,
           1,
           1,
           1,
           1,
           1,
           1,
           1,
           1,
           1,
           1,
           1,
           1,
           1,
           1,
           1,
           1,
           1,
           1,
           1,
           1,
           1,
           1,
           1,
           1,
           1,
           1,
           1,
           1,
           1,
           1,
           1,
           1,
           1,
           1,
           1,
           1,
           1,
           1,
           1,
           1,
           1,
           1,
           1,
           1,
           1,
           1,
           1,
           1,
           1,
           1,
           1,
           1,
           1,
           1,
           1,
           1,
           1,
           1,
           1,
           1,
           1,
           1,
           1,
           1,
           1,
           1,
           1,
           1,
           1,
           1,
           1,
           1,
           1,
           1,
           1,
           1,
           1,
           1,
           1,
           1,
           1,
           1,
           1,
           1,
           1,
           1,
           1
          ],
          "sizemode": "area",
          "sizeref": 0.01,
          "symbol": "cross"
         },
         "mode": "markers",
         "name": "T/P",
         "orientation": "v",
         "showlegend": true,
         "type": "scatter",
         "x": [
          247.8313550327535,
          261.10499620372025,
          222.4751748339056,
          438.3272577484753,
          400.0186486861373,
          157.1407499486939,
          292.93464640683106,
          691.1551930245621,
          518.2115299395787,
          182.4782476250272,
          96.42447843051366,
          326.30773406015186,
          53.99657081242405,
          102.75175077623666,
          184.53842634670497,
          28.66576699744468,
          54.65662910628874,
          98.32955559915608,
          403.35987394639,
          340.0972928726245,
          379.93210518307626,
          598.4652268429021,
          616.825700446389,
          500.3638427522562,
          287.63204213210724,
          183.98226610375207,
          941.3911203595256,
          334.2298549624331,
          801.7299490236037,
          105.40409509899874,
          28.205901471955123,
          196.1512201591953,
          559.7383463359267,
          339.02676950402923,
          56.62952671231013,
          106.7226006978056,
          50.77961941631423,
          188.03885814623663,
          55.729308501214405,
          417.8852124699102,
          554.3687674010922,
          587.960014512631,
          732.2192992107194,
          846.1010773805152,
          491.8511750120408,
          774.5231137955824,
          336.9778146898138,
          1149.478033879008,
          572.122701638064,
          1103.6343275640854,
          201.16276724202507,
          871.4386930390006,
          99.24519511578248,
          359.5746004528194,
          25.80669942549106,
          110.55170898768375,
          583.1017389414928,
          203.7859939881521,
          345.765506083183,
          108.82538368201358,
          471.8461380957252,
          682.0387816527574,
          809.5754829883126,
          824.3369523646943,
          1039.2460139513678,
          762.3943993221147,
          1066.725019808517,
          1292.3048109909482,
          576.8082532547838,
          189.83934953731008,
          51.013546212366016,
          1359.629581554847,
          888.0009539693937,
          368.5957109116036,
          1207.7047202707836,
          616.3167273532453,
          911.0454419033764,
          373.7452032801091,
          211.0152030585764,
          595.53041292531,
          207.8306801137299,
          99.709439576661,
          504.4132204693139,
          770.7950590239045,
          879.6709365334807,
          997.5765461095953,
          1051.573347667518,
          1173.146910468511,
          1314.718761980494,
          1377.9099423719042,
          349.23634071277024,
          895.1849014426185,
          1538.0047492071938,
          1226.5618923417014,
          631.3330952110854,
          1496.4199121399097,
          958.1950535413424,
          386.7391584063088,
          641.0769502418425,
          1267.4643286529276,
          932.2303007468032,
          381.25776443974985,
          190.75258735088957,
          601.945575853779,
          522.4428688785674,
          824.4387179274047,
          910.2204112863332,
          1236.3592376738989,
          1515.4493614226017,
          980.5815850986036,
          1325.8973751556423,
          1575.6835113352156,
          662.6529007817886,
          997.6248408055563,
          1299.6181619113568,
          350.99802032293354,
          654.2184023070597,
          943.1965405488672,
          1355.4513832247462,
          1640.6999858069607,
          1381.8534081677874,
          1029.695799555821,
          1618.5498503813585,
          605.2052669699149,
          1018.5822019322032,
          1316.314712187171,
          948.7769834453388,
          1411.640711365912,
          1640.869712498522,
          1324.8249062968432
         ],
         "xaxis": "x",
         "y": [
          28.005367812,
          28.032630784,
          28.050456576,
          26.981957636,
          27.034386432,
          28.059369472,
          27.064795136,
          26.54575002,
          26.648510464,
          26.962558976,
          27.996717056,
          26.485981184,
          27.965390848,
          26.911440896,
          26.404716544,
          27.949727744,
          26.885881856,
          26.364084224,
          28.147974144,
          28.093448196,
          28.183625728,
          27.120369668,
          27.225227264,
          27.286044672,
          28.20145152,
          28.076146688,
          26.784825348,
          27.081572352,
          26.99034624,
          28.013494272,
          26.873102336,
          26.979336192,
          26.66528768,
          26.5027584,
          27.982168064,
          26.928218112,
          26.343768064,
          26.42149376,
          26.902659072,
          28.269608964,
          28.378660864,
          28.449964032,
          27.397193732,
          27.606908928,
          28.485615616,
          27.728543744,
          28.235005952,
          27.262976004,
          27.319599104,
          27.674017792,
          28.10970112,
          27.023900672,
          26.38086144,
          27.115126784,
          26.333609984,
          28.047048704,
          26.698842112,
          27.012890624,
          26.536312832,
          26.961772544,
          28.6219305,
          28.840034304,
          28.98264064,
          27.95084186,
          28.370272256,
          29.053943808,
          28.613541888,
          28.219277316,
          28.55272448,
          26.455048192,
          26.36054528,
          29.041360896,
          27.795652608,
          28.302114816,
          27.741126656,
          27.386707968,
          27.091009536,
          27.182235648,
          28.176809984,
          26.765950976,
          27.079999488,
          26.414415872,
          29.326573572,
          29.762781184,
          29.058138116,
          30.047993856,
          30.190600192,
          29.896998912,
          30.383538176,
          30.13187994,
          26.603421696,
          29.188161536,
          31.776047104,
          28.747759616,
          28.686942208,
          29.175578624,
          27.929870336,
          28.436332544,
          27.520925696,
          27.875344384,
          27.225227264,
          27.316453376,
          26.522157056,
          26.900168704,
          30.735859716,
          31.608274944,
          31.272730628,
          30.459035648,
          30.651973632,
          29.456596992,
          29.016195072,
          29.44401408,
          28.955377664,
          28.198305792,
          28.14377984,
          26.737639424,
          27.789361152,
          27.49366272,
          30.99590656,
          31.188844544,
          29.553065984,
          29.993467904,
          29.980884992,
          27.16860416,
          28.735176704,
          28.680650752,
          28.076670976,
          30.886854656,
          31.054626816,
          30.11510272
         ],
         "yaxis": "y"
        }
       ],
       "layout": {
        "legend": {
         "itemsizing": "constant",
         "title": {
          "text": "Parallelism style"
         },
         "tracegroupgap": 0
        },
        "margin": {
         "t": 60
        },
        "template": {
         "data": {
          "bar": [
           {
            "error_x": {
             "color": "#2a3f5f"
            },
            "error_y": {
             "color": "#2a3f5f"
            },
            "marker": {
             "line": {
              "color": "#E5ECF6",
              "width": 0.5
             },
             "pattern": {
              "fillmode": "overlay",
              "size": 10,
              "solidity": 0.2
             }
            },
            "type": "bar"
           }
          ],
          "barpolar": [
           {
            "marker": {
             "line": {
              "color": "#E5ECF6",
              "width": 0.5
             },
             "pattern": {
              "fillmode": "overlay",
              "size": 10,
              "solidity": 0.2
             }
            },
            "type": "barpolar"
           }
          ],
          "carpet": [
           {
            "aaxis": {
             "endlinecolor": "#2a3f5f",
             "gridcolor": "white",
             "linecolor": "white",
             "minorgridcolor": "white",
             "startlinecolor": "#2a3f5f"
            },
            "baxis": {
             "endlinecolor": "#2a3f5f",
             "gridcolor": "white",
             "linecolor": "white",
             "minorgridcolor": "white",
             "startlinecolor": "#2a3f5f"
            },
            "type": "carpet"
           }
          ],
          "choropleth": [
           {
            "colorbar": {
             "outlinewidth": 0,
             "ticks": ""
            },
            "type": "choropleth"
           }
          ],
          "contour": [
           {
            "colorbar": {
             "outlinewidth": 0,
             "ticks": ""
            },
            "colorscale": [
             [
              0,
              "#0d0887"
             ],
             [
              0.1111111111111111,
              "#46039f"
             ],
             [
              0.2222222222222222,
              "#7201a8"
             ],
             [
              0.3333333333333333,
              "#9c179e"
             ],
             [
              0.4444444444444444,
              "#bd3786"
             ],
             [
              0.5555555555555556,
              "#d8576b"
             ],
             [
              0.6666666666666666,
              "#ed7953"
             ],
             [
              0.7777777777777778,
              "#fb9f3a"
             ],
             [
              0.8888888888888888,
              "#fdca26"
             ],
             [
              1,
              "#f0f921"
             ]
            ],
            "type": "contour"
           }
          ],
          "contourcarpet": [
           {
            "colorbar": {
             "outlinewidth": 0,
             "ticks": ""
            },
            "type": "contourcarpet"
           }
          ],
          "heatmap": [
           {
            "colorbar": {
             "outlinewidth": 0,
             "ticks": ""
            },
            "colorscale": [
             [
              0,
              "#0d0887"
             ],
             [
              0.1111111111111111,
              "#46039f"
             ],
             [
              0.2222222222222222,
              "#7201a8"
             ],
             [
              0.3333333333333333,
              "#9c179e"
             ],
             [
              0.4444444444444444,
              "#bd3786"
             ],
             [
              0.5555555555555556,
              "#d8576b"
             ],
             [
              0.6666666666666666,
              "#ed7953"
             ],
             [
              0.7777777777777778,
              "#fb9f3a"
             ],
             [
              0.8888888888888888,
              "#fdca26"
             ],
             [
              1,
              "#f0f921"
             ]
            ],
            "type": "heatmap"
           }
          ],
          "heatmapgl": [
           {
            "colorbar": {
             "outlinewidth": 0,
             "ticks": ""
            },
            "colorscale": [
             [
              0,
              "#0d0887"
             ],
             [
              0.1111111111111111,
              "#46039f"
             ],
             [
              0.2222222222222222,
              "#7201a8"
             ],
             [
              0.3333333333333333,
              "#9c179e"
             ],
             [
              0.4444444444444444,
              "#bd3786"
             ],
             [
              0.5555555555555556,
              "#d8576b"
             ],
             [
              0.6666666666666666,
              "#ed7953"
             ],
             [
              0.7777777777777778,
              "#fb9f3a"
             ],
             [
              0.8888888888888888,
              "#fdca26"
             ],
             [
              1,
              "#f0f921"
             ]
            ],
            "type": "heatmapgl"
           }
          ],
          "histogram": [
           {
            "marker": {
             "pattern": {
              "fillmode": "overlay",
              "size": 10,
              "solidity": 0.2
             }
            },
            "type": "histogram"
           }
          ],
          "histogram2d": [
           {
            "colorbar": {
             "outlinewidth": 0,
             "ticks": ""
            },
            "colorscale": [
             [
              0,
              "#0d0887"
             ],
             [
              0.1111111111111111,
              "#46039f"
             ],
             [
              0.2222222222222222,
              "#7201a8"
             ],
             [
              0.3333333333333333,
              "#9c179e"
             ],
             [
              0.4444444444444444,
              "#bd3786"
             ],
             [
              0.5555555555555556,
              "#d8576b"
             ],
             [
              0.6666666666666666,
              "#ed7953"
             ],
             [
              0.7777777777777778,
              "#fb9f3a"
             ],
             [
              0.8888888888888888,
              "#fdca26"
             ],
             [
              1,
              "#f0f921"
             ]
            ],
            "type": "histogram2d"
           }
          ],
          "histogram2dcontour": [
           {
            "colorbar": {
             "outlinewidth": 0,
             "ticks": ""
            },
            "colorscale": [
             [
              0,
              "#0d0887"
             ],
             [
              0.1111111111111111,
              "#46039f"
             ],
             [
              0.2222222222222222,
              "#7201a8"
             ],
             [
              0.3333333333333333,
              "#9c179e"
             ],
             [
              0.4444444444444444,
              "#bd3786"
             ],
             [
              0.5555555555555556,
              "#d8576b"
             ],
             [
              0.6666666666666666,
              "#ed7953"
             ],
             [
              0.7777777777777778,
              "#fb9f3a"
             ],
             [
              0.8888888888888888,
              "#fdca26"
             ],
             [
              1,
              "#f0f921"
             ]
            ],
            "type": "histogram2dcontour"
           }
          ],
          "mesh3d": [
           {
            "colorbar": {
             "outlinewidth": 0,
             "ticks": ""
            },
            "type": "mesh3d"
           }
          ],
          "parcoords": [
           {
            "line": {
             "colorbar": {
              "outlinewidth": 0,
              "ticks": ""
             }
            },
            "type": "parcoords"
           }
          ],
          "pie": [
           {
            "automargin": true,
            "type": "pie"
           }
          ],
          "scatter": [
           {
            "marker": {
             "colorbar": {
              "outlinewidth": 0,
              "ticks": ""
             }
            },
            "type": "scatter"
           }
          ],
          "scatter3d": [
           {
            "line": {
             "colorbar": {
              "outlinewidth": 0,
              "ticks": ""
             }
            },
            "marker": {
             "colorbar": {
              "outlinewidth": 0,
              "ticks": ""
             }
            },
            "type": "scatter3d"
           }
          ],
          "scattercarpet": [
           {
            "marker": {
             "colorbar": {
              "outlinewidth": 0,
              "ticks": ""
             }
            },
            "type": "scattercarpet"
           }
          ],
          "scattergeo": [
           {
            "marker": {
             "colorbar": {
              "outlinewidth": 0,
              "ticks": ""
             }
            },
            "type": "scattergeo"
           }
          ],
          "scattergl": [
           {
            "marker": {
             "colorbar": {
              "outlinewidth": 0,
              "ticks": ""
             }
            },
            "type": "scattergl"
           }
          ],
          "scattermapbox": [
           {
            "marker": {
             "colorbar": {
              "outlinewidth": 0,
              "ticks": ""
             }
            },
            "type": "scattermapbox"
           }
          ],
          "scatterpolar": [
           {
            "marker": {
             "colorbar": {
              "outlinewidth": 0,
              "ticks": ""
             }
            },
            "type": "scatterpolar"
           }
          ],
          "scatterpolargl": [
           {
            "marker": {
             "colorbar": {
              "outlinewidth": 0,
              "ticks": ""
             }
            },
            "type": "scatterpolargl"
           }
          ],
          "scatterternary": [
           {
            "marker": {
             "colorbar": {
              "outlinewidth": 0,
              "ticks": ""
             }
            },
            "type": "scatterternary"
           }
          ],
          "surface": [
           {
            "colorbar": {
             "outlinewidth": 0,
             "ticks": ""
            },
            "colorscale": [
             [
              0,
              "#0d0887"
             ],
             [
              0.1111111111111111,
              "#46039f"
             ],
             [
              0.2222222222222222,
              "#7201a8"
             ],
             [
              0.3333333333333333,
              "#9c179e"
             ],
             [
              0.4444444444444444,
              "#bd3786"
             ],
             [
              0.5555555555555556,
              "#d8576b"
             ],
             [
              0.6666666666666666,
              "#ed7953"
             ],
             [
              0.7777777777777778,
              "#fb9f3a"
             ],
             [
              0.8888888888888888,
              "#fdca26"
             ],
             [
              1,
              "#f0f921"
             ]
            ],
            "type": "surface"
           }
          ],
          "table": [
           {
            "cells": {
             "fill": {
              "color": "#EBF0F8"
             },
             "line": {
              "color": "white"
             }
            },
            "header": {
             "fill": {
              "color": "#C8D4E3"
             },
             "line": {
              "color": "white"
             }
            },
            "type": "table"
           }
          ]
         },
         "layout": {
          "annotationdefaults": {
           "arrowcolor": "#2a3f5f",
           "arrowhead": 0,
           "arrowwidth": 1
          },
          "autotypenumbers": "strict",
          "coloraxis": {
           "colorbar": {
            "outlinewidth": 0,
            "ticks": ""
           }
          },
          "colorscale": {
           "diverging": [
            [
             0,
             "#8e0152"
            ],
            [
             0.1,
             "#c51b7d"
            ],
            [
             0.2,
             "#de77ae"
            ],
            [
             0.3,
             "#f1b6da"
            ],
            [
             0.4,
             "#fde0ef"
            ],
            [
             0.5,
             "#f7f7f7"
            ],
            [
             0.6,
             "#e6f5d0"
            ],
            [
             0.7,
             "#b8e186"
            ],
            [
             0.8,
             "#7fbc41"
            ],
            [
             0.9,
             "#4d9221"
            ],
            [
             1,
             "#276419"
            ]
           ],
           "sequential": [
            [
             0,
             "#0d0887"
            ],
            [
             0.1111111111111111,
             "#46039f"
            ],
            [
             0.2222222222222222,
             "#7201a8"
            ],
            [
             0.3333333333333333,
             "#9c179e"
            ],
            [
             0.4444444444444444,
             "#bd3786"
            ],
            [
             0.5555555555555556,
             "#d8576b"
            ],
            [
             0.6666666666666666,
             "#ed7953"
            ],
            [
             0.7777777777777778,
             "#fb9f3a"
            ],
            [
             0.8888888888888888,
             "#fdca26"
            ],
            [
             1,
             "#f0f921"
            ]
           ],
           "sequentialminus": [
            [
             0,
             "#0d0887"
            ],
            [
             0.1111111111111111,
             "#46039f"
            ],
            [
             0.2222222222222222,
             "#7201a8"
            ],
            [
             0.3333333333333333,
             "#9c179e"
            ],
            [
             0.4444444444444444,
             "#bd3786"
            ],
            [
             0.5555555555555556,
             "#d8576b"
            ],
            [
             0.6666666666666666,
             "#ed7953"
            ],
            [
             0.7777777777777778,
             "#fb9f3a"
            ],
            [
             0.8888888888888888,
             "#fdca26"
            ],
            [
             1,
             "#f0f921"
            ]
           ]
          },
          "colorway": [
           "#636efa",
           "#EF553B",
           "#00cc96",
           "#ab63fa",
           "#FFA15A",
           "#19d3f3",
           "#FF6692",
           "#B6E880",
           "#FF97FF",
           "#FECB52"
          ],
          "font": {
           "color": "#2a3f5f"
          },
          "geo": {
           "bgcolor": "white",
           "lakecolor": "white",
           "landcolor": "#E5ECF6",
           "showlakes": true,
           "showland": true,
           "subunitcolor": "white"
          },
          "hoverlabel": {
           "align": "left"
          },
          "hovermode": "closest",
          "mapbox": {
           "style": "light"
          },
          "paper_bgcolor": "white",
          "plot_bgcolor": "#E5ECF6",
          "polar": {
           "angularaxis": {
            "gridcolor": "white",
            "linecolor": "white",
            "ticks": ""
           },
           "bgcolor": "#E5ECF6",
           "radialaxis": {
            "gridcolor": "white",
            "linecolor": "white",
            "ticks": ""
           }
          },
          "scene": {
           "xaxis": {
            "backgroundcolor": "#E5ECF6",
            "gridcolor": "white",
            "gridwidth": 2,
            "linecolor": "white",
            "showbackground": true,
            "ticks": "",
            "zerolinecolor": "white"
           },
           "yaxis": {
            "backgroundcolor": "#E5ECF6",
            "gridcolor": "white",
            "gridwidth": 2,
            "linecolor": "white",
            "showbackground": true,
            "ticks": "",
            "zerolinecolor": "white"
           },
           "zaxis": {
            "backgroundcolor": "#E5ECF6",
            "gridcolor": "white",
            "gridwidth": 2,
            "linecolor": "white",
            "showbackground": true,
            "ticks": "",
            "zerolinecolor": "white"
           }
          },
          "shapedefaults": {
           "line": {
            "color": "#2a3f5f"
           }
          },
          "ternary": {
           "aaxis": {
            "gridcolor": "white",
            "linecolor": "white",
            "ticks": ""
           },
           "baxis": {
            "gridcolor": "white",
            "linecolor": "white",
            "ticks": ""
           },
           "bgcolor": "#E5ECF6",
           "caxis": {
            "gridcolor": "white",
            "linecolor": "white",
            "ticks": ""
           }
          },
          "title": {
           "x": 0.05
          },
          "xaxis": {
           "automargin": true,
           "gridcolor": "white",
           "linecolor": "white",
           "ticks": "",
           "title": {
            "standoff": 15
           },
           "zerolinecolor": "white",
           "zerolinewidth": 2
          },
          "yaxis": {
           "automargin": true,
           "gridcolor": "white",
           "linecolor": "white",
           "ticks": "",
           "title": {
            "standoff": 15
           },
           "zerolinecolor": "white",
           "zerolinewidth": 2
          }
         }
        },
        "xaxis": {
         "anchor": "y",
         "domain": [
          0,
          1
         ],
         "title": {
          "text": "Throughput (samples / second)"
         }
        },
        "yaxis": {
         "anchor": "x",
         "domain": [
          0,
          1
         ],
         "title": {
          "text": "Peak Memory (GB)"
         }
        }
       }
      },
      "text/html": [
       "<div>                            <div id=\"b1beaf10-9a7b-4561-981b-73ef4cd8e98d\" class=\"plotly-graph-div\" style=\"height:525px; width:100%;\"></div>            <script type=\"text/javascript\">                require([\"plotly\"], function(Plotly) {                    window.PLOTLYENV=window.PLOTLYENV || {};                                    if (document.getElementById(\"b1beaf10-9a7b-4561-981b-73ef4cd8e98d\")) {                    Plotly.newPlot(                        \"b1beaf10-9a7b-4561-981b-73ef4cd8e98d\",                        [{\"customdata\":[[128,1,16,1,1],[256,1,16,1,1],[512,1,16,1,1],[1024,1,16,1,1],[2048,1,16,1,1]],\"hovertemplate\":\"Parallelism style=T<br>Throughput (samples / second)=%{x}<br>Peak Memory (GB)=%{y}<br>dummy_column_for_size=%{marker.size}<br>batch_size=%{customdata[0]}<br>dp_degree=%{customdata[1]}<br>hp_degree=%{customdata[2]}<br>pp_degree=%{customdata[3]}<br>num_microbatches=%{customdata[4]}<extra></extra>\",\"legendgroup\":\"T\",\"marker\":{\"color\":\"#ff7f0e\",\"size\":[1.0,1.0,1.0,1.0,1.0],\"sizemode\":\"area\",\"sizeref\":0.01,\"symbol\":\"diamond\"},\"mode\":\"markers\",\"name\":\"T\",\"orientation\":\"v\",\"showlegend\":true,\"type\":\"scatter\",\"x\":[1263.2779521670986,1544.6067903104215,1738.1473191281052,1854.3213295529267,1918.4332973454452],\"xaxis\":\"x\",\"y\":[25.81174682,25.85368986,25.93757594,26.1053481,27.11198106],\"yaxis\":\"y\"},{\"customdata\":[[128,1,1,16,2],[128,1,1,16,4],[128,1,1,16,8],[128,1,1,16,16],[128,1,1,16,32],[128,1,1,16,64],[128,1,1,16,128],[256,1,1,16,2],[256,1,1,16,4],[256,1,1,16,8],[256,1,1,16,16],[256,1,1,16,32],[256,1,1,16,64],[256,1,1,16,128],[512,1,1,16,2],[512,1,1,16,4],[512,1,1,16,8],[512,1,1,16,16],[512,1,1,16,32],[512,1,1,16,64],[512,1,1,16,128],[1024,1,1,16,2],[1024,1,1,16,4],[1024,1,1,16,8],[1024,1,1,16,16],[1024,1,1,16,32],[1024,1,1,16,64],[1024,1,1,16,128],[2048,1,1,16,2],[2048,1,1,16,4],[2048,1,1,16,8],[2048,1,1,16,16],[2048,1,1,16,32],[2048,1,1,16,64],[2048,1,1,16,128],[4096,1,1,16,64],[4096,1,1,16,128]],\"hovertemplate\":\"Parallelism style=P<br>Throughput (samples / second)=%{x}<br>Peak Memory (GB)=%{y}<br>dummy_column_for_size=%{marker.size}<br>batch_size=%{customdata[0]}<br>dp_degree=%{customdata[1]}<br>hp_degree=%{customdata[2]}<br>pp_degree=%{customdata[3]}<br>num_microbatches=%{customdata[4]}<extra></extra>\",\"legendgroup\":\"P\",\"marker\":{\"color\":\"#2ca02c\",\"size\":[1.0,1.0,1.0,1.0,1.0,1.0,1.0,1.0,1.0,1.0,1.0,1.0,1.0,1.0,1.0,1.0,1.0,1.0,1.0,1.0,1.0,1.0,1.0,1.0,1.0,1.0,1.0,1.0,1.0,1.0,1.0,1.0,1.0,1.0,1.0,1.0,1.0],\"sizemode\":\"area\",\"sizeref\":0.01,\"symbol\":\"square\"},\"mode\":\"markers\",\"name\":\"P\",\"orientation\":\"v\",\"showlegend\":true,\"type\":\"scatter\",\"x\":[132.82346642267476,153.3482679961323,147.91244848130887,119.4645485009322,82.26490504295008,49.97790145829664,27.889215169807304,182.78265780551584,237.2499743869593,252.6596423657112,218.6069319223242,156.91725196095507,97.54030681360494,55.08952038467823,225.120130120127,326.592283568993,391.1404692698223,373.6517978332765,287.2529414421657,186.0867998277904,107.5230429500388,254.60712350294096,402.3495989529085,538.781909114656,578.8682999225316,491.28319794536645,340.7539940202996,205.15506832906465,272.4503564789387,455.1370719547039,664.1212632018635,797.9847167151254,761.6437276459758,583.0616357322996,375.7454111623941,904.4286081522682,643.1348389836674],\"xaxis\":\"x\",\"y\":[30.127685636,30.142365696,30.153900032,30.1596672,30.162550784,30.122049536,30.101798912,30.190600196,30.21996032,30.243028992,30.254563328,30.260330496,30.179328,30.138826752,30.316429316,30.375149568,30.421286912,30.444355584,30.45588992,30.293884928,30.212882432,30.568087556,30.685528064,30.777802752,30.823940096,30.847008768,30.522998784,30.360993792,31.071404036,31.306285056,31.490834432,31.58310912,31.629246464,30.981226496,30.657216512,31.89768192,31.249661952],\"yaxis\":\"y\"},{\"customdata\":[[128,1,2,8,2],[128,1,2,8,4],[128,1,2,8,8],[128,1,4,4,2],[128,1,4,4,4],[128,1,2,8,16],[128,1,4,4,8],[128,1,8,2,2],[128,1,8,2,4],[128,1,4,4,16],[128,1,2,8,32],[128,1,8,2,8],[128,1,2,8,64],[128,1,4,4,32],[128,1,8,2,16],[128,1,2,8,128],[128,1,4,4,64],[128,1,8,2,32],[256,1,2,8,4],[256,1,2,8,2],[256,1,2,8,8],[256,1,4,4,2],[256,1,4,4,4],[256,1,4,4,8],[256,1,2,8,16],[256,1,2,8,32],[256,1,8,2,2],[256,1,4,4,16],[256,1,8,2,4],[256,1,2,8,64],[128,1,4,4,128],[256,1,4,4,32],[256,1,8,2,8],[256,1,8,2,16],[256,1,2,8,128],[256,1,4,4,64],[128,1,8,2,64],[256,1,8,2,32],[256,1,4,4,128],[512,1,2,8,2],[512,1,2,8,4],[512,1,2,8,8],[512,1,4,4,2],[512,1,4,4,4],[512,1,2,8,16],[512,1,4,4,8],[512,1,2,8,32],[512,1,8,2,2],[512,1,4,4,16],[512,1,8,2,4],[512,1,2,8,64],[512,1,8,2,8],[256,1,8,2,64],[512,1,4,4,32],[128,1,8,2,128],[512,1,2,8,128],[512,1,8,2,16],[512,1,4,4,64],[512,1,8,2,32],[512,1,4,4,128],[1024,1,2,8,2],[1024,1,2,8,4],[1024,1,2,8,8],[1024,1,4,4,2],[1024,1,4,4,4],[1024,1,2,8,16],[1024,1,4,4,8],[1024,1,8,2,2],[1024,1,2,8,32],[512,1,8,2,64],[256,1,8,2,128],[1024,1,8,2,4],[1024,1,4,4,16],[1024,1,2,8,64],[1024,1,8,2,8],[1024,1,4,4,32],[1024,1,8,2,16],[1024,1,4,4,64],[1024,1,2,8,128],[1024,1,8,2,32],[1024,1,4,4,128],[512,1,8,2,128],[2048,1,2,8,2],[2048,1,2,8,4],[2048,1,4,4,2],[2048,1,2,8,8],[2048,1,2,8,16],[2048,1,4,4,4],[2048,1,4,4,8],[2048,1,8,2,2],[1024,1,8,2,64],[2048,1,2,8,32],[2048,1,8,2,4],[2048,1,4,4,16],[2048,1,2,8,64],[2048,1,8,2,8],[2048,1,4,4,32],[2048,1,2,8,128],[2048,1,4,4,64],[2048,1,8,2,16],[2048,1,8,2,32],[2048,1,4,4,128],[1024,1,8,2,128],[2048,1,8,2,64],[4096,1,2,8,2],[4096,1,2,8,4],[4096,1,4,4,2],[4096,1,2,8,32],[4096,1,4,4,16],[4096,1,2,8,64],[4096,1,4,4,32],[4096,1,8,2,16],[4096,1,2,8,128],[4096,1,4,4,64],[4096,1,8,2,32],[2048,1,8,2,128],[4096,1,4,4,128],[4096,1,8,2,64],[8192,1,2,8,64],[8192,1,4,4,32],[8192,1,4,4,64],[8192,1,2,8,128],[8192,1,8,2,32],[4096,1,8,2,128],[8192,1,4,4,128],[8192,1,8,2,64],[8192,1,8,2,128],[16384,1,4,4,128],[16384,1,8,2,64],[16384,1,8,2,128]],\"hovertemplate\":\"Parallelism style=T/P<br>Throughput (samples / second)=%{x}<br>Peak Memory (GB)=%{y}<br>dummy_column_for_size=%{marker.size}<br>batch_size=%{customdata[0]}<br>dp_degree=%{customdata[1]}<br>hp_degree=%{customdata[2]}<br>pp_degree=%{customdata[3]}<br>num_microbatches=%{customdata[4]}<extra></extra>\",\"legendgroup\":\"T/P\",\"marker\":{\"color\":\"#9467bd\",\"size\":[1.0,1.0,1.0,1.0,1.0,1.0,1.0,1.0,1.0,1.0,1.0,1.0,1.0,1.0,1.0,1.0,1.0,1.0,1.0,1.0,1.0,1.0,1.0,1.0,1.0,1.0,1.0,1.0,1.0,1.0,1.0,1.0,1.0,1.0,1.0,1.0,1.0,1.0,1.0,1.0,1.0,1.0,1.0,1.0,1.0,1.0,1.0,1.0,1.0,1.0,1.0,1.0,1.0,1.0,1.0,1.0,1.0,1.0,1.0,1.0,1.0,1.0,1.0,1.0,1.0,1.0,1.0,1.0,1.0,1.0,1.0,1.0,1.0,1.0,1.0,1.0,1.0,1.0,1.0,1.0,1.0,1.0,1.0,1.0,1.0,1.0,1.0,1.0,1.0,1.0,1.0,1.0,1.0,1.0,1.0,1.0,1.0,1.0,1.0,1.0,1.0,1.0,1.0,1.0,1.0,1.0,1.0,1.0,1.0,1.0,1.0,1.0,1.0,1.0,1.0,1.0,1.0,1.0,1.0,1.0,1.0,1.0,1.0,1.0,1.0,1.0,1.0,1.0,1.0,1.0],\"sizemode\":\"area\",\"sizeref\":0.01,\"symbol\":\"cross\"},\"mode\":\"markers\",\"name\":\"T/P\",\"orientation\":\"v\",\"showlegend\":true,\"type\":\"scatter\",\"x\":[247.8313550327535,261.10499620372025,222.4751748339056,438.3272577484753,400.0186486861373,157.1407499486939,292.93464640683106,691.1551930245621,518.2115299395787,182.4782476250272,96.42447843051366,326.30773406015186,53.99657081242405,102.75175077623666,184.53842634670497,28.66576699744468,54.65662910628874,98.32955559915608,403.35987394639,340.0972928726245,379.93210518307626,598.4652268429021,616.825700446389,500.3638427522562,287.63204213210724,183.98226610375207,941.3911203595256,334.2298549624331,801.7299490236037,105.40409509899874,28.205901471955123,196.1512201591953,559.7383463359267,339.02676950402923,56.62952671231013,106.7226006978056,50.77961941631423,188.03885814623663,55.729308501214405,417.8852124699102,554.3687674010922,587.960014512631,732.2192992107194,846.1010773805152,491.8511750120408,774.5231137955824,336.9778146898138,1149.478033879008,572.122701638064,1103.6343275640854,201.16276724202507,871.4386930390006,99.24519511578248,359.5746004528194,25.80669942549106,110.55170898768375,583.1017389414928,203.7859939881521,345.765506083183,108.82538368201358,471.8461380957252,682.0387816527574,809.5754829883126,824.3369523646943,1039.2460139513678,762.3943993221147,1066.725019808517,1292.3048109909482,576.8082532547838,189.83934953731008,51.013546212366016,1359.629581554847,888.0009539693937,368.5957109116036,1207.7047202707836,616.3167273532453,911.0454419033764,373.7452032801091,211.0152030585764,595.53041292531,207.8306801137299,99.709439576661,504.4132204693139,770.7950590239045,879.6709365334807,997.5765461095953,1051.573347667518,1173.146910468511,1314.718761980494,1377.9099423719042,349.23634071277024,895.1849014426185,1538.0047492071938,1226.5618923417014,631.3330952110854,1496.4199121399097,958.1950535413424,386.7391584063088,641.0769502418425,1267.4643286529276,932.2303007468032,381.25776443974985,190.75258735088957,601.945575853779,522.4428688785674,824.4387179274047,910.2204112863332,1236.3592376738989,1515.4493614226017,980.5815850986036,1325.8973751556423,1575.6835113352156,662.6529007817886,997.6248408055563,1299.6181619113568,350.99802032293354,654.2184023070597,943.1965405488672,1355.4513832247462,1640.6999858069607,1381.8534081677874,1029.695799555821,1618.5498503813585,605.2052669699149,1018.5822019322032,1316.314712187171,948.7769834453388,1411.640711365912,1640.869712498522,1324.8249062968432],\"xaxis\":\"x\",\"y\":[28.005367812,28.032630784,28.050456576,26.981957636,27.034386432,28.059369472,27.064795136,26.54575002,26.648510464,26.962558976,27.996717056,26.485981184,27.965390848,26.911440896,26.404716544,27.949727744,26.885881856,26.364084224,28.147974144,28.093448196,28.183625728,27.120369668,27.225227264,27.286044672,28.20145152,28.076146688,26.784825348,27.081572352,26.99034624,28.013494272,26.873102336,26.979336192,26.66528768,26.5027584,27.982168064,26.928218112,26.343768064,26.42149376,26.902659072,28.269608964,28.378660864,28.449964032,27.397193732,27.606908928,28.485615616,27.728543744,28.235005952,27.262976004,27.319599104,27.674017792,28.10970112,27.023900672,26.38086144,27.115126784,26.333609984,28.047048704,26.698842112,27.012890624,26.536312832,26.961772544,28.6219305,28.840034304,28.98264064,27.95084186,28.370272256,29.053943808,28.613541888,28.219277316,28.55272448,26.455048192,26.36054528,29.041360896,27.795652608,28.302114816,27.741126656,27.386707968,27.091009536,27.182235648,28.176809984,26.765950976,27.079999488,26.414415872,29.326573572,29.762781184,29.058138116,30.047993856,30.190600192,29.896998912,30.383538176,30.13187994,26.603421696,29.188161536,31.776047104,28.747759616,28.686942208,29.175578624,27.929870336,28.436332544,27.520925696,27.875344384,27.225227264,27.316453376,26.522157056,26.900168704,30.735859716,31.608274944,31.272730628,30.459035648,30.651973632,29.456596992,29.016195072,29.44401408,28.955377664,28.198305792,28.14377984,26.737639424,27.789361152,27.49366272,30.99590656,31.188844544,29.553065984,29.993467904,29.980884992,27.16860416,28.735176704,28.680650752,28.076670976,30.886854656,31.054626816,30.11510272],\"yaxis\":\"y\"}],                        {\"legend\":{\"itemsizing\":\"constant\",\"title\":{\"text\":\"Parallelism style\"},\"tracegroupgap\":0},\"margin\":{\"t\":60},\"template\":{\"data\":{\"bar\":[{\"error_x\":{\"color\":\"#2a3f5f\"},\"error_y\":{\"color\":\"#2a3f5f\"},\"marker\":{\"line\":{\"color\":\"#E5ECF6\",\"width\":0.5},\"pattern\":{\"fillmode\":\"overlay\",\"size\":10,\"solidity\":0.2}},\"type\":\"bar\"}],\"barpolar\":[{\"marker\":{\"line\":{\"color\":\"#E5ECF6\",\"width\":0.5},\"pattern\":{\"fillmode\":\"overlay\",\"size\":10,\"solidity\":0.2}},\"type\":\"barpolar\"}],\"carpet\":[{\"aaxis\":{\"endlinecolor\":\"#2a3f5f\",\"gridcolor\":\"white\",\"linecolor\":\"white\",\"minorgridcolor\":\"white\",\"startlinecolor\":\"#2a3f5f\"},\"baxis\":{\"endlinecolor\":\"#2a3f5f\",\"gridcolor\":\"white\",\"linecolor\":\"white\",\"minorgridcolor\":\"white\",\"startlinecolor\":\"#2a3f5f\"},\"type\":\"carpet\"}],\"choropleth\":[{\"colorbar\":{\"outlinewidth\":0,\"ticks\":\"\"},\"type\":\"choropleth\"}],\"contour\":[{\"colorbar\":{\"outlinewidth\":0,\"ticks\":\"\"},\"colorscale\":[[0.0,\"#0d0887\"],[0.1111111111111111,\"#46039f\"],[0.2222222222222222,\"#7201a8\"],[0.3333333333333333,\"#9c179e\"],[0.4444444444444444,\"#bd3786\"],[0.5555555555555556,\"#d8576b\"],[0.6666666666666666,\"#ed7953\"],[0.7777777777777778,\"#fb9f3a\"],[0.8888888888888888,\"#fdca26\"],[1.0,\"#f0f921\"]],\"type\":\"contour\"}],\"contourcarpet\":[{\"colorbar\":{\"outlinewidth\":0,\"ticks\":\"\"},\"type\":\"contourcarpet\"}],\"heatmap\":[{\"colorbar\":{\"outlinewidth\":0,\"ticks\":\"\"},\"colorscale\":[[0.0,\"#0d0887\"],[0.1111111111111111,\"#46039f\"],[0.2222222222222222,\"#7201a8\"],[0.3333333333333333,\"#9c179e\"],[0.4444444444444444,\"#bd3786\"],[0.5555555555555556,\"#d8576b\"],[0.6666666666666666,\"#ed7953\"],[0.7777777777777778,\"#fb9f3a\"],[0.8888888888888888,\"#fdca26\"],[1.0,\"#f0f921\"]],\"type\":\"heatmap\"}],\"heatmapgl\":[{\"colorbar\":{\"outlinewidth\":0,\"ticks\":\"\"},\"colorscale\":[[0.0,\"#0d0887\"],[0.1111111111111111,\"#46039f\"],[0.2222222222222222,\"#7201a8\"],[0.3333333333333333,\"#9c179e\"],[0.4444444444444444,\"#bd3786\"],[0.5555555555555556,\"#d8576b\"],[0.6666666666666666,\"#ed7953\"],[0.7777777777777778,\"#fb9f3a\"],[0.8888888888888888,\"#fdca26\"],[1.0,\"#f0f921\"]],\"type\":\"heatmapgl\"}],\"histogram\":[{\"marker\":{\"pattern\":{\"fillmode\":\"overlay\",\"size\":10,\"solidity\":0.2}},\"type\":\"histogram\"}],\"histogram2d\":[{\"colorbar\":{\"outlinewidth\":0,\"ticks\":\"\"},\"colorscale\":[[0.0,\"#0d0887\"],[0.1111111111111111,\"#46039f\"],[0.2222222222222222,\"#7201a8\"],[0.3333333333333333,\"#9c179e\"],[0.4444444444444444,\"#bd3786\"],[0.5555555555555556,\"#d8576b\"],[0.6666666666666666,\"#ed7953\"],[0.7777777777777778,\"#fb9f3a\"],[0.8888888888888888,\"#fdca26\"],[1.0,\"#f0f921\"]],\"type\":\"histogram2d\"}],\"histogram2dcontour\":[{\"colorbar\":{\"outlinewidth\":0,\"ticks\":\"\"},\"colorscale\":[[0.0,\"#0d0887\"],[0.1111111111111111,\"#46039f\"],[0.2222222222222222,\"#7201a8\"],[0.3333333333333333,\"#9c179e\"],[0.4444444444444444,\"#bd3786\"],[0.5555555555555556,\"#d8576b\"],[0.6666666666666666,\"#ed7953\"],[0.7777777777777778,\"#fb9f3a\"],[0.8888888888888888,\"#fdca26\"],[1.0,\"#f0f921\"]],\"type\":\"histogram2dcontour\"}],\"mesh3d\":[{\"colorbar\":{\"outlinewidth\":0,\"ticks\":\"\"},\"type\":\"mesh3d\"}],\"parcoords\":[{\"line\":{\"colorbar\":{\"outlinewidth\":0,\"ticks\":\"\"}},\"type\":\"parcoords\"}],\"pie\":[{\"automargin\":true,\"type\":\"pie\"}],\"scatter\":[{\"marker\":{\"colorbar\":{\"outlinewidth\":0,\"ticks\":\"\"}},\"type\":\"scatter\"}],\"scatter3d\":[{\"line\":{\"colorbar\":{\"outlinewidth\":0,\"ticks\":\"\"}},\"marker\":{\"colorbar\":{\"outlinewidth\":0,\"ticks\":\"\"}},\"type\":\"scatter3d\"}],\"scattercarpet\":[{\"marker\":{\"colorbar\":{\"outlinewidth\":0,\"ticks\":\"\"}},\"type\":\"scattercarpet\"}],\"scattergeo\":[{\"marker\":{\"colorbar\":{\"outlinewidth\":0,\"ticks\":\"\"}},\"type\":\"scattergeo\"}],\"scattergl\":[{\"marker\":{\"colorbar\":{\"outlinewidth\":0,\"ticks\":\"\"}},\"type\":\"scattergl\"}],\"scattermapbox\":[{\"marker\":{\"colorbar\":{\"outlinewidth\":0,\"ticks\":\"\"}},\"type\":\"scattermapbox\"}],\"scatterpolar\":[{\"marker\":{\"colorbar\":{\"outlinewidth\":0,\"ticks\":\"\"}},\"type\":\"scatterpolar\"}],\"scatterpolargl\":[{\"marker\":{\"colorbar\":{\"outlinewidth\":0,\"ticks\":\"\"}},\"type\":\"scatterpolargl\"}],\"scatterternary\":[{\"marker\":{\"colorbar\":{\"outlinewidth\":0,\"ticks\":\"\"}},\"type\":\"scatterternary\"}],\"surface\":[{\"colorbar\":{\"outlinewidth\":0,\"ticks\":\"\"},\"colorscale\":[[0.0,\"#0d0887\"],[0.1111111111111111,\"#46039f\"],[0.2222222222222222,\"#7201a8\"],[0.3333333333333333,\"#9c179e\"],[0.4444444444444444,\"#bd3786\"],[0.5555555555555556,\"#d8576b\"],[0.6666666666666666,\"#ed7953\"],[0.7777777777777778,\"#fb9f3a\"],[0.8888888888888888,\"#fdca26\"],[1.0,\"#f0f921\"]],\"type\":\"surface\"}],\"table\":[{\"cells\":{\"fill\":{\"color\":\"#EBF0F8\"},\"line\":{\"color\":\"white\"}},\"header\":{\"fill\":{\"color\":\"#C8D4E3\"},\"line\":{\"color\":\"white\"}},\"type\":\"table\"}]},\"layout\":{\"annotationdefaults\":{\"arrowcolor\":\"#2a3f5f\",\"arrowhead\":0,\"arrowwidth\":1},\"autotypenumbers\":\"strict\",\"coloraxis\":{\"colorbar\":{\"outlinewidth\":0,\"ticks\":\"\"}},\"colorscale\":{\"diverging\":[[0,\"#8e0152\"],[0.1,\"#c51b7d\"],[0.2,\"#de77ae\"],[0.3,\"#f1b6da\"],[0.4,\"#fde0ef\"],[0.5,\"#f7f7f7\"],[0.6,\"#e6f5d0\"],[0.7,\"#b8e186\"],[0.8,\"#7fbc41\"],[0.9,\"#4d9221\"],[1,\"#276419\"]],\"sequential\":[[0.0,\"#0d0887\"],[0.1111111111111111,\"#46039f\"],[0.2222222222222222,\"#7201a8\"],[0.3333333333333333,\"#9c179e\"],[0.4444444444444444,\"#bd3786\"],[0.5555555555555556,\"#d8576b\"],[0.6666666666666666,\"#ed7953\"],[0.7777777777777778,\"#fb9f3a\"],[0.8888888888888888,\"#fdca26\"],[1.0,\"#f0f921\"]],\"sequentialminus\":[[0.0,\"#0d0887\"],[0.1111111111111111,\"#46039f\"],[0.2222222222222222,\"#7201a8\"],[0.3333333333333333,\"#9c179e\"],[0.4444444444444444,\"#bd3786\"],[0.5555555555555556,\"#d8576b\"],[0.6666666666666666,\"#ed7953\"],[0.7777777777777778,\"#fb9f3a\"],[0.8888888888888888,\"#fdca26\"],[1.0,\"#f0f921\"]]},\"colorway\":[\"#636efa\",\"#EF553B\",\"#00cc96\",\"#ab63fa\",\"#FFA15A\",\"#19d3f3\",\"#FF6692\",\"#B6E880\",\"#FF97FF\",\"#FECB52\"],\"font\":{\"color\":\"#2a3f5f\"},\"geo\":{\"bgcolor\":\"white\",\"lakecolor\":\"white\",\"landcolor\":\"#E5ECF6\",\"showlakes\":true,\"showland\":true,\"subunitcolor\":\"white\"},\"hoverlabel\":{\"align\":\"left\"},\"hovermode\":\"closest\",\"mapbox\":{\"style\":\"light\"},\"paper_bgcolor\":\"white\",\"plot_bgcolor\":\"#E5ECF6\",\"polar\":{\"angularaxis\":{\"gridcolor\":\"white\",\"linecolor\":\"white\",\"ticks\":\"\"},\"bgcolor\":\"#E5ECF6\",\"radialaxis\":{\"gridcolor\":\"white\",\"linecolor\":\"white\",\"ticks\":\"\"}},\"scene\":{\"xaxis\":{\"backgroundcolor\":\"#E5ECF6\",\"gridcolor\":\"white\",\"gridwidth\":2,\"linecolor\":\"white\",\"showbackground\":true,\"ticks\":\"\",\"zerolinecolor\":\"white\"},\"yaxis\":{\"backgroundcolor\":\"#E5ECF6\",\"gridcolor\":\"white\",\"gridwidth\":2,\"linecolor\":\"white\",\"showbackground\":true,\"ticks\":\"\",\"zerolinecolor\":\"white\"},\"zaxis\":{\"backgroundcolor\":\"#E5ECF6\",\"gridcolor\":\"white\",\"gridwidth\":2,\"linecolor\":\"white\",\"showbackground\":true,\"ticks\":\"\",\"zerolinecolor\":\"white\"}},\"shapedefaults\":{\"line\":{\"color\":\"#2a3f5f\"}},\"ternary\":{\"aaxis\":{\"gridcolor\":\"white\",\"linecolor\":\"white\",\"ticks\":\"\"},\"baxis\":{\"gridcolor\":\"white\",\"linecolor\":\"white\",\"ticks\":\"\"},\"bgcolor\":\"#E5ECF6\",\"caxis\":{\"gridcolor\":\"white\",\"linecolor\":\"white\",\"ticks\":\"\"}},\"title\":{\"x\":0.05},\"xaxis\":{\"automargin\":true,\"gridcolor\":\"white\",\"linecolor\":\"white\",\"ticks\":\"\",\"title\":{\"standoff\":15},\"zerolinecolor\":\"white\",\"zerolinewidth\":2},\"yaxis\":{\"automargin\":true,\"gridcolor\":\"white\",\"linecolor\":\"white\",\"ticks\":\"\",\"title\":{\"standoff\":15},\"zerolinecolor\":\"white\",\"zerolinewidth\":2}}},\"xaxis\":{\"anchor\":\"y\",\"domain\":[0.0,1.0],\"title\":{\"text\":\"Throughput (samples / second)\"}},\"yaxis\":{\"anchor\":\"x\",\"domain\":[0.0,1.0],\"title\":{\"text\":\"Peak Memory (GB)\"}}},                        {\"responsive\": true}                    ).then(function(){\n",
       "                            \n",
       "var gd = document.getElementById('b1beaf10-9a7b-4561-981b-73ef4cd8e98d');\n",
       "var x = new MutationObserver(function (mutations, observer) {{\n",
       "        var display = window.getComputedStyle(gd).display;\n",
       "        if (!display || display === 'none') {{\n",
       "            console.log([gd, 'removed!']);\n",
       "            Plotly.purge(gd);\n",
       "            observer.disconnect();\n",
       "        }}\n",
       "}});\n",
       "\n",
       "// Listen for the removal of the full notebook cells\n",
       "var notebookContainer = gd.closest('#notebook-container');\n",
       "if (notebookContainer) {{\n",
       "    x.observe(notebookContainer, {childList: true});\n",
       "}}\n",
       "\n",
       "// Listen for the clearing of the current output cell\n",
       "var outputEl = gd.closest('.output');\n",
       "if (outputEl) {{\n",
       "    x.observe(outputEl, {childList: true});\n",
       "}}\n",
       "\n",
       "                        })                };                });            </script>        </div>"
      ]
     },
     "metadata": {},
     "output_type": "display_data"
    }
   ],
   "source": [
    "simulation_filename = \"~/Downloads/mlp_dgx_simulated_grid_search_results_v2.csv\"\n",
    "plot_memory_usage_vs_metric(\n",
    "    simulation_filename,\n",
    "    \"mlp-large\",\n",
    "    0,\n",
    "    \"throughput\",\n",
    "    \"Throughput (samples / second)\",\n",
    "    \"Peak Memory (GB)\",\n",
    "    os.path.join(FIGURES_DIR, \"mlp-large_memory_vs_throughput.pdf\"),\n",
    "    None,\n",
    ")"
   ]
  },
  {
   "cell_type": "markdown",
   "id": "compact-motorcycle",
   "metadata": {},
   "source": [
    "### GPT-2 Inference"
   ]
  },
  {
   "cell_type": "code",
   "execution_count": 18,
   "id": "forward-commerce",
   "metadata": {},
   "outputs": [
    {
     "data": {
      "application/vnd.plotly.v1+json": {
       "config": {
        "plotlyServerURL": "https://plot.ly"
       },
       "data": [
        {
         "customdata": [
          [
           65536,
           16,
           1,
           1,
           1
          ],
          [
           131072,
           16,
           1,
           1,
           1
          ],
          [
           262144,
           16,
           1,
           1,
           1
          ],
          [
           524288,
           16,
           1,
           1,
           1
          ]
         ],
         "hovertemplate": "Parallelism style=D<br>Throughput (samples / second)=%{x}<br>Peak Memory (GB)=%{y}<br>dummy_column_for_size=%{marker.size}<br>batch_size=%{customdata[0]}<br>dp_degree=%{customdata[1]}<br>hp_degree=%{customdata[2]}<br>pp_degree=%{customdata[3]}<br>num_microbatches=%{customdata[4]}<extra></extra>",
         "legendgroup": "D",
         "marker": {
          "color": "#1f77b4",
          "size": [
           1,
           1,
           1,
           1
          ],
          "sizemode": "area",
          "sizeref": 0.01,
          "symbol": "circle"
         },
         "mode": "markers",
         "name": "D",
         "orientation": "v",
         "showlegend": true,
         "type": "scatter",
         "x": [
          60264.17586194277,
          61366.213754307486,
          61932.48671960886,
          62219.56044338242
         ],
         "xaxis": "x",
         "y": [
          4.959548773,
          7.241512293,
          11.805439333,
          20.933293413
         ],
         "yaxis": "y"
        },
        {
         "customdata": [
          [
           65536,
           1,
           16,
           1,
           1
          ],
          [
           131072,
           1,
           16,
           1,
           1
          ],
          [
           262144,
           1,
           16,
           1,
           1
          ]
         ],
         "hovertemplate": "Parallelism style=T<br>Throughput (samples / second)=%{x}<br>Peak Memory (GB)=%{y}<br>dummy_column_for_size=%{marker.size}<br>batch_size=%{customdata[0]}<br>dp_degree=%{customdata[1]}<br>hp_degree=%{customdata[2]}<br>pp_degree=%{customdata[3]}<br>num_microbatches=%{customdata[4]}<extra></extra>",
         "legendgroup": "T",
         "marker": {
          "color": "#ff7f0e",
          "size": [
           1,
           1,
           1
          ],
          "sizemode": "area",
          "sizeref": 0.01,
          "symbol": "diamond"
         },
         "mode": "markers",
         "name": "T",
         "orientation": "v",
         "showlegend": true,
         "type": "scatter",
         "x": [
          18231.15835585478,
          18348.060188318188,
          18407.075111252678
         ],
         "xaxis": "x",
         "y": [
          6.859709796,
          13.30740362,
          26.202791268
         ],
         "yaxis": "y"
        },
        {
         "customdata": [
          [
           65536,
           1,
           1,
           16,
           2
          ],
          [
           65536,
           1,
           1,
           16,
           4
          ],
          [
           65536,
           1,
           1,
           16,
           8
          ],
          [
           65536,
           1,
           1,
           16,
           16
          ],
          [
           65536,
           1,
           1,
           16,
           32
          ],
          [
           65536,
           1,
           1,
           16,
           64
          ],
          [
           65536,
           1,
           1,
           16,
           128
          ],
          [
           131072,
           1,
           1,
           16,
           4
          ],
          [
           131072,
           1,
           1,
           16,
           8
          ],
          [
           131072,
           1,
           1,
           16,
           16
          ],
          [
           131072,
           1,
           1,
           16,
           32
          ],
          [
           131072,
           1,
           1,
           16,
           64
          ],
          [
           131072,
           1,
           1,
           16,
           128
          ],
          [
           262144,
           1,
           1,
           16,
           8
          ],
          [
           262144,
           1,
           1,
           16,
           16
          ],
          [
           262144,
           1,
           1,
           16,
           32
          ],
          [
           262144,
           1,
           1,
           16,
           64
          ],
          [
           262144,
           1,
           1,
           16,
           128
          ]
         ],
         "hovertemplate": "Parallelism style=P<br>Throughput (samples / second)=%{x}<br>Peak Memory (GB)=%{y}<br>dummy_column_for_size=%{marker.size}<br>batch_size=%{customdata[0]}<br>dp_degree=%{customdata[1]}<br>hp_degree=%{customdata[2]}<br>pp_degree=%{customdata[3]}<br>num_microbatches=%{customdata[4]}<extra></extra>",
         "legendgroup": "P",
         "marker": {
          "color": "#2ca02c",
          "size": [
           1,
           1,
           1,
           1,
           1,
           1,
           1,
           1,
           1,
           1,
           1,
           1,
           1,
           1,
           1,
           1,
           1,
           1
          ],
          "sizemode": "area",
          "sizeref": 0.01,
          "symbol": "square"
         },
         "mode": "markers",
         "name": "P",
         "orientation": "v",
         "showlegend": true,
         "type": "scatter",
         "x": [
          6895.287639348955,
          11777.794119115826,
          18465.564624521903,
          25592.12985532367,
          31129.0070116998,
          33523.98795845899,
          32214.375975703733,
          11829.802128760928,
          18627.787101043858,
          26037.449938484875,
          32192.92455848873,
          35738.51447119501,
          36205.33529856546,
          18709.97191481323,
          26265.972636377777,
          32752.6291589807,
          36959.240632623085,
          38596.12447476764
         ],
         "xaxis": "x",
         "y": [
          18.673479933,
          9.546674429,
          4.983271677,
          4.294975496,
          4.294975496,
          4.294975496,
          4.294975496,
          18.677674237,
          9.550868733,
          8.589942792,
          8.589942792,
          8.589942792,
          8.589942792,
          18.686062845,
          17.179877384,
          17.179877384,
          17.179877384,
          17.179877384
         ],
         "yaxis": "y"
        },
        {
         "customdata": [
          [
           65536,
           2,
           8,
           1,
           1
          ],
          [
           65536,
           4,
           4,
           1,
           1
          ],
          [
           65536,
           8,
           2,
           1,
           1
          ],
          [
           131072,
           2,
           8,
           1,
           1
          ],
          [
           131072,
           4,
           4,
           1,
           1
          ],
          [
           131072,
           8,
           2,
           1,
           1
          ],
          [
           262144,
           2,
           8,
           1,
           1
          ],
          [
           262144,
           4,
           4,
           1,
           1
          ],
          [
           262144,
           8,
           2,
           1,
           1
          ],
          [
           524288,
           2,
           8,
           1,
           1
          ],
          [
           524288,
           4,
           4,
           1,
           1
          ],
          [
           524288,
           8,
           2,
           1,
           1
          ]
         ],
         "hovertemplate": "Parallelism style=D/T<br>Throughput (samples / second)=%{x}<br>Peak Memory (GB)=%{y}<br>dummy_column_for_size=%{marker.size}<br>batch_size=%{customdata[0]}<br>dp_degree=%{customdata[1]}<br>hp_degree=%{customdata[2]}<br>pp_degree=%{customdata[3]}<br>num_microbatches=%{customdata[4]}<extra></extra>",
         "legendgroup": "D/T",
         "marker": {
          "color": "#d62728",
          "size": [
           1,
           1,
           1,
           1,
           1,
           1,
           1,
           1,
           1,
           1,
           1,
           1
          ],
          "sizemode": "area",
          "sizeref": 0.01,
          "symbol": "x"
         },
         "mode": "markers",
         "name": "D/T",
         "orientation": "v",
         "showlegend": true,
         "type": "scatter",
         "x": [
          28456.858535812764,
          40247.11258247807,
          50947.36888831611,
          28716.12202378808,
          40758.86233180907,
          51768.96073618541,
          28847.53343959274,
          41019.64867873302,
          52189.77435312693,
          28913.69120794588,
          41151.29730533064,
          52402.75712746629
         ],
         "xaxis": "x",
         "y": [
          3.786900836,
          3.550532965,
          3.885725029,
          7.010747748,
          6.235936101,
          6.302168421,
          13.458441572,
          11.606742373,
          11.135055205,
          26.35382922,
          22.348354917,
          20.800828773
         ],
         "yaxis": "y"
        },
        {
         "customdata": [
          [
           65536,
           1,
           2,
           8,
           2
          ],
          [
           65536,
           1,
           2,
           8,
           4
          ],
          [
           65536,
           1,
           2,
           8,
           8
          ],
          [
           65536,
           1,
           2,
           8,
           16
          ],
          [
           65536,
           1,
           4,
           4,
           2
          ],
          [
           65536,
           1,
           2,
           8,
           32
          ],
          [
           65536,
           1,
           4,
           4,
           4
          ],
          [
           65536,
           1,
           8,
           2,
           2
          ],
          [
           65536,
           1,
           4,
           4,
           8
          ],
          [
           65536,
           1,
           8,
           2,
           4
          ],
          [
           65536,
           1,
           4,
           4,
           16
          ],
          [
           65536,
           1,
           2,
           8,
           64
          ],
          [
           65536,
           1,
           8,
           2,
           8
          ],
          [
           65536,
           1,
           4,
           4,
           32
          ],
          [
           65536,
           1,
           8,
           2,
           16
          ],
          [
           65536,
           1,
           4,
           4,
           64
          ],
          [
           65536,
           1,
           2,
           8,
           128
          ],
          [
           65536,
           1,
           8,
           2,
           32
          ],
          [
           65536,
           1,
           4,
           4,
           128
          ],
          [
           65536,
           1,
           8,
           2,
           64
          ],
          [
           65536,
           1,
           8,
           2,
           128
          ],
          [
           131072,
           1,
           2,
           8,
           2
          ],
          [
           131072,
           1,
           2,
           8,
           4
          ],
          [
           131072,
           1,
           2,
           8,
           8
          ],
          [
           131072,
           1,
           2,
           8,
           16
          ],
          [
           131072,
           1,
           4,
           4,
           2
          ],
          [
           131072,
           1,
           4,
           4,
           4
          ],
          [
           131072,
           1,
           2,
           8,
           32
          ],
          [
           131072,
           1,
           4,
           4,
           8
          ],
          [
           131072,
           1,
           8,
           2,
           2
          ],
          [
           131072,
           1,
           4,
           4,
           16
          ],
          [
           131072,
           1,
           2,
           8,
           64
          ],
          [
           131072,
           1,
           8,
           2,
           4
          ],
          [
           131072,
           1,
           8,
           2,
           8
          ],
          [
           131072,
           1,
           4,
           4,
           32
          ],
          [
           131072,
           1,
           8,
           2,
           16
          ],
          [
           131072,
           1,
           2,
           8,
           128
          ],
          [
           131072,
           1,
           4,
           4,
           64
          ],
          [
           131072,
           1,
           8,
           2,
           32
          ],
          [
           131072,
           1,
           8,
           2,
           64
          ],
          [
           131072,
           1,
           4,
           4,
           128
          ],
          [
           131072,
           1,
           8,
           2,
           128
          ],
          [
           262144,
           1,
           2,
           8,
           4
          ],
          [
           262144,
           1,
           2,
           8,
           8
          ],
          [
           262144,
           1,
           2,
           8,
           16
          ],
          [
           262144,
           1,
           4,
           4,
           2
          ],
          [
           262144,
           1,
           4,
           4,
           4
          ],
          [
           262144,
           1,
           2,
           8,
           32
          ],
          [
           262144,
           1,
           4,
           4,
           8
          ],
          [
           262144,
           1,
           8,
           2,
           2
          ],
          [
           262144,
           1,
           8,
           2,
           4
          ],
          [
           262144,
           1,
           4,
           4,
           16
          ],
          [
           262144,
           1,
           2,
           8,
           64
          ],
          [
           262144,
           1,
           8,
           2,
           8
          ],
          [
           262144,
           1,
           4,
           4,
           32
          ],
          [
           262144,
           1,
           8,
           2,
           16
          ],
          [
           262144,
           1,
           2,
           8,
           128
          ],
          [
           262144,
           1,
           4,
           4,
           64
          ],
          [
           262144,
           1,
           8,
           2,
           32
          ],
          [
           262144,
           1,
           4,
           4,
           128
          ],
          [
           262144,
           1,
           8,
           2,
           64
          ],
          [
           262144,
           1,
           8,
           2,
           128
          ]
         ],
         "hovertemplate": "Parallelism style=T/P<br>Throughput (samples / second)=%{x}<br>Peak Memory (GB)=%{y}<br>dummy_column_for_size=%{marker.size}<br>batch_size=%{customdata[0]}<br>dp_degree=%{customdata[1]}<br>hp_degree=%{customdata[2]}<br>pp_degree=%{customdata[3]}<br>num_microbatches=%{customdata[4]}<extra></extra>",
         "legendgroup": "T/P",
         "marker": {
          "color": "#9467bd",
          "size": [
           1,
           1,
           1,
           1,
           1,
           1,
           1,
           1,
           1,
           1,
           1,
           1,
           1,
           1,
           1,
           1,
           1,
           1,
           1,
           1,
           1,
           1,
           1,
           1,
           1,
           1,
           1,
           1,
           1,
           1,
           1,
           1,
           1,
           1,
           1,
           1,
           1,
           1,
           1,
           1,
           1,
           1,
           1,
           1,
           1,
           1,
           1,
           1,
           1,
           1,
           1,
           1,
           1,
           1,
           1,
           1,
           1,
           1,
           1,
           1,
           1,
           1
          ],
          "sizemode": "area",
          "sizeref": 0.01,
          "symbol": "cross"
         },
         "mode": "markers",
         "name": "T/P",
         "orientation": "v",
         "showlegend": true,
         "type": "scatter",
         "x": [
          10951.616293936191,
          16915.5001300879,
          23074.474766533127,
          27714.141333802658,
          15552.392757789035,
          29652.529644945407,
          21165.085135104546,
          18322.318113684814,
          25463.780648655887,
          21133.002756208065,
          27485.943737869147,
          28504.330941565404,
          22361.3302265939,
          26928.550409509666,
          21987.339016014143,
          23862.232017989896,
          24487.44958613947,
          20007.33657179457,
          18838.08403017547,
          16536.20463655748,
          12165.201265927708,
          10995.503114063646,
          17051.117533054177,
          23443.222425568634,
          28589.38797302881,
          15650.632920619995,
          21431.23092275586,
          31472.91840215105,
          26097.09915648127,
          18487.976212948408,
          28821.236449823034,
          31806.693024470715,
          21511.42301421382,
          23147.683824520387,
          29425.105665312298,
          23480.798763956493,
          29576.14975172061,
          27912.49434039536,
          22552.05459392636,
          20267.774758011397,
          24305.786787266632,
          16644.63665536395,
          17119.744985285623,
          23632.05150529665,
          29048.07492361662,
          15700.219893596406,
          21566.82973681039,
          32469.58318748765,
          26425.72078352509,
          18571.93369081016,
          21705.761222004447,
          29538.74633557807,
          33762.46390086066,
          23561.971363956804,
          30855.413723697133,
          24306.28421893616,
          33005.568601982995,
          30501.04592727032,
          24083.64489273341,
          28431.93238837565,
          22845.431870105287,
          20400.55312747956
         ],
         "xaxis": "x",
         "y": [
          10.842361981,
          6.547394685,
          4.399911037,
          4.399911032,
          6.578932861,
          4.399911032,
          4.431449213,
          4.457290364,
          4.431449208,
          4.456766072,
          4.431449208,
          4.399911032,
          4.456766072,
          4.431449208,
          4.456766072,
          4.431449208,
          4.399911032,
          4.456766072,
          4.431449208,
          4.456766072,
          4.456766072,
          21.579780221,
          12.989845629,
          8.694878333,
          8.694878328,
          13.021383805,
          8.726416509,
          8.694878328,
          8.726416504,
          8.752781948,
          8.726416504,
          8.694878328,
          8.751733368,
          8.751733368,
          8.726416504,
          8.751733368,
          8.694878328,
          8.726416504,
          8.751733368,
          8.751733368,
          8.726416504,
          8.751733368,
          25.874747517,
          17.284812925,
          17.28481292,
          25.906285693,
          17.316351101,
          17.28481292,
          17.316351096,
          17.343765116,
          17.34166796,
          17.316351096,
          17.28481292,
          17.34166796,
          17.316351096,
          17.34166796,
          17.28481292,
          17.316351096,
          17.34166796,
          17.316351096,
          17.34166796,
          17.34166796
         ],
         "yaxis": "y"
        },
        {
         "customdata": [
          [
           65536,
           2,
           1,
           8,
           2
          ],
          [
           65536,
           2,
           1,
           8,
           4
          ],
          [
           65536,
           2,
           1,
           8,
           8
          ],
          [
           65536,
           2,
           1,
           8,
           16
          ],
          [
           65536,
           2,
           1,
           8,
           32
          ],
          [
           65536,
           2,
           1,
           8,
           64
          ],
          [
           65536,
           4,
           1,
           4,
           2
          ],
          [
           65536,
           4,
           1,
           4,
           4
          ],
          [
           65536,
           4,
           1,
           4,
           8
          ],
          [
           65536,
           4,
           1,
           4,
           16
          ],
          [
           65536,
           2,
           1,
           8,
           128
          ],
          [
           65536,
           8,
           1,
           2,
           2
          ],
          [
           65536,
           4,
           1,
           4,
           32
          ],
          [
           65536,
           8,
           1,
           2,
           4
          ],
          [
           65536,
           8,
           1,
           2,
           8
          ],
          [
           65536,
           8,
           1,
           2,
           16
          ],
          [
           65536,
           4,
           1,
           4,
           64
          ],
          [
           65536,
           8,
           1,
           2,
           32
          ],
          [
           65536,
           4,
           1,
           4,
           128
          ],
          [
           65536,
           8,
           1,
           2,
           64
          ],
          [
           65536,
           8,
           1,
           2,
           128
          ],
          [
           131072,
           2,
           1,
           8,
           2
          ],
          [
           131072,
           2,
           1,
           8,
           4
          ],
          [
           131072,
           2,
           1,
           8,
           8
          ],
          [
           131072,
           2,
           1,
           8,
           16
          ],
          [
           131072,
           2,
           1,
           8,
           32
          ],
          [
           131072,
           2,
           1,
           8,
           64
          ],
          [
           131072,
           4,
           1,
           4,
           2
          ],
          [
           131072,
           4,
           1,
           4,
           4
          ],
          [
           131072,
           4,
           1,
           4,
           8
          ],
          [
           131072,
           4,
           1,
           4,
           16
          ],
          [
           131072,
           2,
           1,
           8,
           128
          ],
          [
           131072,
           4,
           1,
           4,
           32
          ],
          [
           131072,
           8,
           1,
           2,
           2
          ],
          [
           131072,
           8,
           1,
           2,
           4
          ],
          [
           131072,
           8,
           1,
           2,
           8
          ],
          [
           131072,
           4,
           1,
           4,
           64
          ],
          [
           131072,
           8,
           1,
           2,
           16
          ],
          [
           131072,
           8,
           1,
           2,
           32
          ],
          [
           131072,
           4,
           1,
           4,
           128
          ],
          [
           131072,
           8,
           1,
           2,
           64
          ],
          [
           131072,
           8,
           1,
           2,
           128
          ],
          [
           262144,
           2,
           1,
           8,
           4
          ],
          [
           262144,
           2,
           1,
           8,
           8
          ],
          [
           262144,
           2,
           1,
           8,
           16
          ],
          [
           262144,
           2,
           1,
           8,
           32
          ],
          [
           262144,
           2,
           1,
           8,
           64
          ],
          [
           262144,
           4,
           1,
           4,
           2
          ],
          [
           262144,
           4,
           1,
           4,
           4
          ],
          [
           262144,
           4,
           1,
           4,
           8
          ],
          [
           262144,
           4,
           1,
           4,
           16
          ],
          [
           262144,
           2,
           1,
           8,
           128
          ],
          [
           262144,
           8,
           1,
           2,
           2
          ],
          [
           262144,
           8,
           1,
           2,
           4
          ],
          [
           262144,
           4,
           1,
           4,
           32
          ],
          [
           262144,
           8,
           1,
           2,
           8
          ],
          [
           262144,
           8,
           1,
           2,
           16
          ],
          [
           262144,
           4,
           1,
           4,
           64
          ],
          [
           262144,
           8,
           1,
           2,
           32
          ],
          [
           262144,
           4,
           1,
           4,
           128
          ],
          [
           262144,
           8,
           1,
           2,
           64
          ],
          [
           262144,
           8,
           1,
           2,
           128
          ],
          [
           524288,
           2,
           1,
           8,
           8
          ],
          [
           524288,
           2,
           1,
           8,
           16
          ],
          [
           524288,
           2,
           1,
           8,
           32
          ],
          [
           524288,
           2,
           1,
           8,
           64
          ],
          [
           524288,
           4,
           1,
           4,
           4
          ],
          [
           524288,
           4,
           1,
           4,
           8
          ],
          [
           524288,
           4,
           1,
           4,
           16
          ],
          [
           524288,
           2,
           1,
           8,
           128
          ],
          [
           524288,
           4,
           1,
           4,
           32
          ],
          [
           524288,
           8,
           1,
           2,
           2
          ],
          [
           524288,
           8,
           1,
           2,
           4
          ],
          [
           524288,
           8,
           1,
           2,
           8
          ],
          [
           524288,
           4,
           1,
           4,
           64
          ],
          [
           524288,
           8,
           1,
           2,
           16
          ],
          [
           524288,
           8,
           1,
           2,
           32
          ],
          [
           524288,
           4,
           1,
           4,
           128
          ],
          [
           524288,
           8,
           1,
           2,
           64
          ],
          [
           524288,
           8,
           1,
           2,
           128
          ],
          [
           1048576,
           4,
           1,
           4,
           8
          ],
          [
           1048576,
           4,
           1,
           4,
           16
          ],
          [
           1048576,
           4,
           1,
           4,
           32
          ],
          [
           1048576,
           8,
           1,
           2,
           4
          ],
          [
           1048576,
           8,
           1,
           2,
           8
          ],
          [
           1048576,
           4,
           1,
           4,
           64
          ],
          [
           1048576,
           8,
           1,
           2,
           16
          ],
          [
           1048576,
           8,
           1,
           2,
           32
          ],
          [
           1048576,
           4,
           1,
           4,
           128
          ],
          [
           1048576,
           8,
           1,
           2,
           64
          ],
          [
           1048576,
           8,
           1,
           2,
           128
          ]
         ],
         "hovertemplate": "Parallelism style=D/P<br>Throughput (samples / second)=%{x}<br>Peak Memory (GB)=%{y}<br>dummy_column_for_size=%{marker.size}<br>batch_size=%{customdata[0]}<br>dp_degree=%{customdata[1]}<br>hp_degree=%{customdata[2]}<br>pp_degree=%{customdata[3]}<br>num_microbatches=%{customdata[4]}<extra></extra>",
         "legendgroup": "D/P",
         "marker": {
          "color": "#8c564b",
          "size": [
           1,
           1,
           1,
           1,
           1,
           1,
           1,
           1,
           1,
           1,
           1,
           1,
           1,
           1,
           1,
           1,
           1,
           1,
           1,
           1,
           1,
           1,
           1,
           1,
           1,
           1,
           1,
           1,
           1,
           1,
           1,
           1,
           1,
           1,
           1,
           1,
           1,
           1,
           1,
           1,
           1,
           1,
           1,
           1,
           1,
           1,
           1,
           1,
           1,
           1,
           1,
           1,
           1,
           1,
           1,
           1,
           1,
           1,
           1,
           1,
           1,
           1,
           1,
           1,
           1,
           1,
           1,
           1,
           1,
           1,
           1,
           1,
           1,
           1,
           1,
           1,
           1,
           1,
           1,
           1,
           1,
           1,
           1,
           1,
           1,
           1,
           1,
           1,
           1,
           1,
           1
          ],
          "sizemode": "area",
          "sizeref": 0.01,
          "symbol": "circle"
         },
         "mode": "markers",
         "name": "D/P",
         "orientation": "v",
         "showlegend": true,
         "type": "scatter",
         "x": [
          13106.39799121888,
          20212.815684072146,
          27499.15544951339,
          32875.507678668226,
          34892.85713256858,
          33102.080695250384,
          23625.330235273675,
          31968.441930232995,
          38048.08970896305,
          40268.463009553,
          27898.47470256632,
          39013.74302349722,
          38155.33944691247,
          44235.780675246446,
          45329.44933566671,
          42153.147705673575,
          32158.31475950649,
          35181.277425205946,
          23843.814917541167,
          25963.995074387796,
          16937.569910375427,
          13166.570137617364,
          20398.324733774232,
          28001.520196966,
          34059.458625997555,
          37324.72930241452,
          37421.66392680416,
          23842.51543160502,
          32551.77816892277,
          39413.55688290594,
          43061.115891650064,
          34343.58436311127,
          43106.82661976758,
          39725.62111729957,
          45820.464913726486,
          48463.976037653,
          39547.90263430696,
          47605.04207988131,
          43238.86128957871,
          32755.26878834514,
          35640.50820431028,
          26134.67591250966,
          20492.36206812644,
          28259.649060037496,
          34683.99884127689,
          38672.37284604945,
          40033.72006109366,
          23952.612365009263,
          32851.50300759189,
          40133.71485433246,
          44607.91470460519,
          38828.68904218479,
          40091.39201641241,
          46656.1603715808,
          46097.93251552987,
          50199.625475148525,
          50896.394974441246,
          44681.53848367877,
          48830.72250915765,
          40283.01126373412,
          43802.96476053699,
          35874.6489777781,
          28390.506404361746,
          35004.93745947843,
          39383.35897291319,
          41481.43545600773,
          33003.44481737341,
          40503.7537885201,
          45423.748181182425,
          41541.23010277544,
          47754.74070188371,
          40276.81500570118,
          47085.54466394896,
          51114.919562005234,
          47782.83674959201,
          52718.852645640894,
          52206.52415029404,
          45512.840808679015,
          49467.53945490918,
          44090.57229844842,
          40691.34396808654,
          45842.958770573015,
          48628.622627410834,
          47303.21428173347,
          51585.19823908297,
          49500.73349343939,
          53679.91654560381,
          54075.72569136728,
          48672.33679738325,
          52887.2116433657,
          49792.21750845883
         ],
         "xaxis": "x",
         "y": [
          9.869312125,
          5.574344829,
          3.426861181,
          2.353119357,
          2.353119352,
          2.353119352,
          5.494194989,
          3.212493613,
          2.124689533,
          1.587818621,
          2.353119352,
          3.828852061,
          1.587818616,
          2.688001373,
          2.117576029,
          1.832363357,
          1.587818616,
          1.689757021,
          1.587818616,
          1.66782988,
          1.66782988,
          19.532988541,
          10.943053949,
          6.648086653,
          4.500603005,
          4.500603,
          4.500603,
          10.177753213,
          5.882785917,
          3.735302269,
          2.661560445,
          4.500603,
          2.66156044,
          6.111077725,
          3.829376349,
          2.741571709,
          2.66156044,
          2.204700797,
          2.204700792,
          2.66156044,
          2.204700792,
          2.204700792,
          21.680472189,
          13.090537597,
          8.795570301,
          8.795570296,
          8.795570296,
          19.841429629,
          11.251495037,
          6.956527741,
          4.809044093,
          8.795570296,
          10.794635389,
          6.499668093,
          4.809044088,
          4.352184445,
          3.278442621,
          4.809044088,
          3.278442616,
          4.809044088,
          3.278442616,
          3.278442616,
          25.975439485,
          17.385504893,
          17.385504888,
          17.385504888,
          21.988913277,
          13.398978685,
          9.104011389,
          17.385504888,
          9.104011384,
          20.458311805,
          11.868377213,
          7.573409917,
          9.104011384,
          5.425926269,
          5.425926264,
          9.104011384,
          5.425926264,
          5.425926264,
          26.283880573,
          17.693945981,
          17.693945976,
          22.605795453,
          14.015860861,
          17.693945976,
          9.720893565,
          9.72089356,
          17.693945976,
          9.72089356,
          9.72089356
         ],
         "yaxis": "y"
        },
        {
         "customdata": [
          [
           65536,
           2,
           2,
           4,
           2
          ],
          [
           65536,
           2,
           2,
           4,
           4
          ],
          [
           65536,
           2,
           2,
           4,
           8
          ],
          [
           65536,
           2,
           4,
           2,
           2
          ],
          [
           65536,
           2,
           2,
           4,
           16
          ],
          [
           65536,
           2,
           4,
           2,
           4
          ],
          [
           65536,
           2,
           4,
           2,
           8
          ],
          [
           65536,
           2,
           2,
           4,
           32
          ],
          [
           65536,
           4,
           2,
           2,
           2
          ],
          [
           65536,
           4,
           2,
           2,
           4
          ],
          [
           65536,
           2,
           4,
           2,
           16
          ],
          [
           65536,
           4,
           2,
           2,
           8
          ],
          [
           65536,
           2,
           2,
           4,
           64
          ],
          [
           65536,
           4,
           2,
           2,
           16
          ],
          [
           65536,
           2,
           4,
           2,
           32
          ],
          [
           65536,
           4,
           2,
           2,
           32
          ],
          [
           65536,
           2,
           4,
           2,
           64
          ],
          [
           65536,
           2,
           2,
           4,
           128
          ],
          [
           65536,
           4,
           2,
           2,
           64
          ],
          [
           65536,
           2,
           4,
           2,
           128
          ],
          [
           65536,
           4,
           2,
           2,
           128
          ],
          [
           131072,
           2,
           2,
           4,
           2
          ],
          [
           131072,
           2,
           2,
           4,
           4
          ],
          [
           131072,
           2,
           2,
           4,
           8
          ],
          [
           131072,
           2,
           2,
           4,
           16
          ],
          [
           131072,
           2,
           4,
           2,
           2
          ],
          [
           131072,
           2,
           4,
           2,
           4
          ],
          [
           131072,
           2,
           4,
           2,
           8
          ],
          [
           131072,
           2,
           2,
           4,
           32
          ],
          [
           131072,
           4,
           2,
           2,
           2
          ],
          [
           131072,
           2,
           4,
           2,
           16
          ],
          [
           131072,
           4,
           2,
           2,
           4
          ],
          [
           131072,
           4,
           2,
           2,
           8
          ],
          [
           131072,
           2,
           2,
           4,
           64
          ],
          [
           131072,
           4,
           2,
           2,
           16
          ],
          [
           131072,
           2,
           4,
           2,
           32
          ],
          [
           131072,
           4,
           2,
           2,
           32
          ],
          [
           131072,
           2,
           2,
           4,
           128
          ],
          [
           131072,
           2,
           4,
           2,
           64
          ],
          [
           131072,
           4,
           2,
           2,
           64
          ],
          [
           131072,
           2,
           4,
           2,
           128
          ],
          [
           131072,
           4,
           2,
           2,
           128
          ],
          [
           262144,
           2,
           2,
           4,
           2
          ],
          [
           262144,
           2,
           2,
           4,
           4
          ],
          [
           262144,
           2,
           2,
           4,
           8
          ],
          [
           262144,
           2,
           2,
           4,
           16
          ],
          [
           262144,
           2,
           4,
           2,
           2
          ],
          [
           262144,
           2,
           4,
           2,
           4
          ],
          [
           262144,
           2,
           2,
           4,
           32
          ],
          [
           262144,
           2,
           4,
           2,
           8
          ],
          [
           262144,
           4,
           2,
           2,
           2
          ],
          [
           262144,
           2,
           4,
           2,
           16
          ],
          [
           262144,
           4,
           2,
           2,
           4
          ],
          [
           262144,
           4,
           2,
           2,
           8
          ],
          [
           262144,
           2,
           2,
           4,
           64
          ],
          [
           262144,
           4,
           2,
           2,
           16
          ],
          [
           262144,
           2,
           4,
           2,
           32
          ],
          [
           262144,
           4,
           2,
           2,
           32
          ],
          [
           262144,
           2,
           2,
           4,
           128
          ],
          [
           262144,
           2,
           4,
           2,
           64
          ],
          [
           262144,
           4,
           2,
           2,
           64
          ],
          [
           262144,
           2,
           4,
           2,
           128
          ],
          [
           262144,
           4,
           2,
           2,
           128
          ],
          [
           524288,
           2,
           2,
           4,
           4
          ],
          [
           524288,
           2,
           2,
           4,
           8
          ],
          [
           524288,
           2,
           4,
           2,
           2
          ],
          [
           524288,
           2,
           2,
           4,
           16
          ],
          [
           524288,
           2,
           4,
           2,
           4
          ],
          [
           524288,
           2,
           2,
           4,
           32
          ],
          [
           524288,
           2,
           4,
           2,
           8
          ],
          [
           524288,
           4,
           2,
           2,
           2
          ],
          [
           524288,
           4,
           2,
           2,
           4
          ],
          [
           524288,
           2,
           4,
           2,
           16
          ],
          [
           524288,
           4,
           2,
           2,
           8
          ],
          [
           524288,
           2,
           2,
           4,
           64
          ],
          [
           524288,
           2,
           4,
           2,
           32
          ],
          [
           524288,
           4,
           2,
           2,
           16
          ],
          [
           524288,
           4,
           2,
           2,
           32
          ],
          [
           524288,
           2,
           2,
           4,
           128
          ],
          [
           524288,
           2,
           4,
           2,
           64
          ],
          [
           524288,
           4,
           2,
           2,
           64
          ],
          [
           524288,
           2,
           4,
           2,
           128
          ],
          [
           524288,
           4,
           2,
           2,
           128
          ],
          [
           1048576,
           4,
           2,
           2,
           4
          ],
          [
           1048576,
           4,
           2,
           2,
           8
          ],
          [
           1048576,
           4,
           2,
           2,
           16
          ],
          [
           1048576,
           4,
           2,
           2,
           32
          ],
          [
           1048576,
           4,
           2,
           2,
           64
          ],
          [
           1048576,
           4,
           2,
           2,
           128
          ]
         ],
         "hovertemplate": "Parallelism style=D/T/P<br>Throughput (samples / second)=%{x}<br>Peak Memory (GB)=%{y}<br>dummy_column_for_size=%{marker.size}<br>batch_size=%{customdata[0]}<br>dp_degree=%{customdata[1]}<br>hp_degree=%{customdata[2]}<br>pp_degree=%{customdata[3]}<br>num_microbatches=%{customdata[4]}<extra></extra>",
         "legendgroup": "D/T/P",
         "marker": {
          "color": "#e377c2",
          "size": [
           1,
           1,
           1,
           1,
           1,
           1,
           1,
           1,
           1,
           1,
           1,
           1,
           1,
           1,
           1,
           1,
           1,
           1,
           1,
           1,
           1,
           1,
           1,
           1,
           1,
           1,
           1,
           1,
           1,
           1,
           1,
           1,
           1,
           1,
           1,
           1,
           1,
           1,
           1,
           1,
           1,
           1,
           1,
           1,
           1,
           1,
           1,
           1,
           1,
           1,
           1,
           1,
           1,
           1,
           1,
           1,
           1,
           1,
           1,
           1,
           1,
           1,
           1,
           1,
           1,
           1,
           1,
           1,
           1,
           1,
           1,
           1,
           1,
           1,
           1,
           1,
           1,
           1,
           1,
           1,
           1,
           1,
           1,
           1,
           1,
           1,
           1,
           1,
           1
          ],
          "sizemode": "area",
          "sizeref": 0.01,
          "symbol": "diamond"
         },
         "mode": "markers",
         "name": "D/T/P",
         "orientation": "v",
         "showlegend": true,
         "type": "scatter",
         "x": [
          19856.712464648823,
          26928.97424964664,
          32185.070114282884,
          25969.792883676564,
          34322.57081391336,
          29751.66977329702,
          31078.000422287227,
          32935.51301334448,
          32937.50660958972,
          37495.33721566703,
          29863.513891431456,
          38705.487386894914,
          28276.65365777246,
          36440.43963769143,
          26183.78700907015,
          30968.69970943337,
          20555.9419084168,
          21438.93914048696,
          23361.032026717803,
          14268.94951281835,
          15564.965413375374,
          20016.90018426363,
          27360.657133842557,
          33202.00382109444,
          36426.945988657855,
          26298.19676622704,
          30494.247458023976,
          32590.96983004043,
          36742.78981763144,
          33466.78292117744,
          32635.59999868756,
          38680.690619555535,
          41076.93753302567,
          34138.16364964828,
          40647.24545551704,
          30631.428106621,
          37378.39064742366,
          28801.86401708746,
          26525.0387003058,
          31372.69159357733,
          20690.88882894521,
          23514.519683749844,
          20097.967166903414,
          27581.73055623341,
          33734.95611623096,
          37578.96098514239,
          26465.53317680116,
          30879.61257171077,
          38996.76211469691,
          33404.07463622226,
          33737.85149066364,
          34224.02570326017,
          39301.92344739418,
          42375.0788792028,
          38085.57127582052,
          43137.19632130583,
          33474.45375839467,
          41693.06413868414,
          34773.03786744817,
          31030.38778655821,
          37865.70886065972,
          26699.02205941912,
          31578.66609272659,
          27693.612402530267,
          34007.90031293971,
          26550.002506763907,
          38182.732161426335,
          31075.97083650333,
          40230.7314825852,
          33826.03370529458,
          33875.03913761695,
          39620.08343988577,
          35077.66819518228,
          43055.41210245509,
          40422.61152556446,
          35103.50214484392,
          44500.18250542074,
          44246.820183403695,
          38794.45144441452,
          33910.26237051697,
          42236.417495517446,
          31233.79036648888,
          38114.16426642539,
          39781.10298187764,
          43403.83708675269,
          45214.493296800254,
          45644.720323912254,
          44823.31828467773,
          42513.43983389001
         ],
         "xaxis": "x",
         "y": [
          5.631055997,
          3.483572349,
          2.409830525,
          3.521475709,
          2.40983052,
          2.447733885,
          2.44773388,
          2.40983052,
          3.309096285,
          2.187765885,
          2.44773388,
          1.650894973,
          2.40983052,
          1.650894968,
          2.44773388,
          1.650894968,
          2.44773388,
          2.40983052,
          1.650894968,
          2.44773388,
          1.650894968,
          10.999765117,
          6.704797821,
          4.557314173,
          4.557314168,
          6.742701181,
          4.595217533,
          4.595217528,
          4.557314168,
          5.945862269,
          4.595217528,
          3.798378621,
          2.724636797,
          4.557314168,
          2.724636792,
          4.595217528,
          2.724636792,
          4.557314168,
          4.595217528,
          2.724636792,
          4.595217528,
          2.724636792,
          21.737183357,
          13.147248765,
          8.852281469,
          8.852281464,
          13.185152125,
          8.890184829,
          8.852281464,
          8.890184824,
          11.314571389,
          8.890184824,
          7.019604093,
          4.872120445,
          8.852281464,
          4.87212044,
          8.890184824,
          4.87212044,
          8.852281464,
          8.890184824,
          4.87212044,
          8.890184824,
          4.87212044,
          26.032150653,
          17.442216061,
          26.070054013,
          17.442216056,
          17.480119421,
          17.442216056,
          17.480119416,
          22.051989629,
          13.462055037,
          17.480119416,
          9.167087741,
          17.442216056,
          17.480119416,
          9.167087736,
          9.167087736,
          17.442216056,
          17.480119416,
          9.167087736,
          17.480119416,
          9.167087736,
          26.346956925,
          17.757022333,
          17.757022328,
          17.757022328,
          17.757022328,
          17.757022328
         ],
         "yaxis": "y"
        }
       ],
       "layout": {
        "legend": {
         "itemsizing": "constant",
         "title": {
          "text": "Parallelism style"
         },
         "tracegroupgap": 0
        },
        "margin": {
         "t": 60
        },
        "template": {
         "data": {
          "bar": [
           {
            "error_x": {
             "color": "#2a3f5f"
            },
            "error_y": {
             "color": "#2a3f5f"
            },
            "marker": {
             "line": {
              "color": "#E5ECF6",
              "width": 0.5
             },
             "pattern": {
              "fillmode": "overlay",
              "size": 10,
              "solidity": 0.2
             }
            },
            "type": "bar"
           }
          ],
          "barpolar": [
           {
            "marker": {
             "line": {
              "color": "#E5ECF6",
              "width": 0.5
             },
             "pattern": {
              "fillmode": "overlay",
              "size": 10,
              "solidity": 0.2
             }
            },
            "type": "barpolar"
           }
          ],
          "carpet": [
           {
            "aaxis": {
             "endlinecolor": "#2a3f5f",
             "gridcolor": "white",
             "linecolor": "white",
             "minorgridcolor": "white",
             "startlinecolor": "#2a3f5f"
            },
            "baxis": {
             "endlinecolor": "#2a3f5f",
             "gridcolor": "white",
             "linecolor": "white",
             "minorgridcolor": "white",
             "startlinecolor": "#2a3f5f"
            },
            "type": "carpet"
           }
          ],
          "choropleth": [
           {
            "colorbar": {
             "outlinewidth": 0,
             "ticks": ""
            },
            "type": "choropleth"
           }
          ],
          "contour": [
           {
            "colorbar": {
             "outlinewidth": 0,
             "ticks": ""
            },
            "colorscale": [
             [
              0,
              "#0d0887"
             ],
             [
              0.1111111111111111,
              "#46039f"
             ],
             [
              0.2222222222222222,
              "#7201a8"
             ],
             [
              0.3333333333333333,
              "#9c179e"
             ],
             [
              0.4444444444444444,
              "#bd3786"
             ],
             [
              0.5555555555555556,
              "#d8576b"
             ],
             [
              0.6666666666666666,
              "#ed7953"
             ],
             [
              0.7777777777777778,
              "#fb9f3a"
             ],
             [
              0.8888888888888888,
              "#fdca26"
             ],
             [
              1,
              "#f0f921"
             ]
            ],
            "type": "contour"
           }
          ],
          "contourcarpet": [
           {
            "colorbar": {
             "outlinewidth": 0,
             "ticks": ""
            },
            "type": "contourcarpet"
           }
          ],
          "heatmap": [
           {
            "colorbar": {
             "outlinewidth": 0,
             "ticks": ""
            },
            "colorscale": [
             [
              0,
              "#0d0887"
             ],
             [
              0.1111111111111111,
              "#46039f"
             ],
             [
              0.2222222222222222,
              "#7201a8"
             ],
             [
              0.3333333333333333,
              "#9c179e"
             ],
             [
              0.4444444444444444,
              "#bd3786"
             ],
             [
              0.5555555555555556,
              "#d8576b"
             ],
             [
              0.6666666666666666,
              "#ed7953"
             ],
             [
              0.7777777777777778,
              "#fb9f3a"
             ],
             [
              0.8888888888888888,
              "#fdca26"
             ],
             [
              1,
              "#f0f921"
             ]
            ],
            "type": "heatmap"
           }
          ],
          "heatmapgl": [
           {
            "colorbar": {
             "outlinewidth": 0,
             "ticks": ""
            },
            "colorscale": [
             [
              0,
              "#0d0887"
             ],
             [
              0.1111111111111111,
              "#46039f"
             ],
             [
              0.2222222222222222,
              "#7201a8"
             ],
             [
              0.3333333333333333,
              "#9c179e"
             ],
             [
              0.4444444444444444,
              "#bd3786"
             ],
             [
              0.5555555555555556,
              "#d8576b"
             ],
             [
              0.6666666666666666,
              "#ed7953"
             ],
             [
              0.7777777777777778,
              "#fb9f3a"
             ],
             [
              0.8888888888888888,
              "#fdca26"
             ],
             [
              1,
              "#f0f921"
             ]
            ],
            "type": "heatmapgl"
           }
          ],
          "histogram": [
           {
            "marker": {
             "pattern": {
              "fillmode": "overlay",
              "size": 10,
              "solidity": 0.2
             }
            },
            "type": "histogram"
           }
          ],
          "histogram2d": [
           {
            "colorbar": {
             "outlinewidth": 0,
             "ticks": ""
            },
            "colorscale": [
             [
              0,
              "#0d0887"
             ],
             [
              0.1111111111111111,
              "#46039f"
             ],
             [
              0.2222222222222222,
              "#7201a8"
             ],
             [
              0.3333333333333333,
              "#9c179e"
             ],
             [
              0.4444444444444444,
              "#bd3786"
             ],
             [
              0.5555555555555556,
              "#d8576b"
             ],
             [
              0.6666666666666666,
              "#ed7953"
             ],
             [
              0.7777777777777778,
              "#fb9f3a"
             ],
             [
              0.8888888888888888,
              "#fdca26"
             ],
             [
              1,
              "#f0f921"
             ]
            ],
            "type": "histogram2d"
           }
          ],
          "histogram2dcontour": [
           {
            "colorbar": {
             "outlinewidth": 0,
             "ticks": ""
            },
            "colorscale": [
             [
              0,
              "#0d0887"
             ],
             [
              0.1111111111111111,
              "#46039f"
             ],
             [
              0.2222222222222222,
              "#7201a8"
             ],
             [
              0.3333333333333333,
              "#9c179e"
             ],
             [
              0.4444444444444444,
              "#bd3786"
             ],
             [
              0.5555555555555556,
              "#d8576b"
             ],
             [
              0.6666666666666666,
              "#ed7953"
             ],
             [
              0.7777777777777778,
              "#fb9f3a"
             ],
             [
              0.8888888888888888,
              "#fdca26"
             ],
             [
              1,
              "#f0f921"
             ]
            ],
            "type": "histogram2dcontour"
           }
          ],
          "mesh3d": [
           {
            "colorbar": {
             "outlinewidth": 0,
             "ticks": ""
            },
            "type": "mesh3d"
           }
          ],
          "parcoords": [
           {
            "line": {
             "colorbar": {
              "outlinewidth": 0,
              "ticks": ""
             }
            },
            "type": "parcoords"
           }
          ],
          "pie": [
           {
            "automargin": true,
            "type": "pie"
           }
          ],
          "scatter": [
           {
            "marker": {
             "colorbar": {
              "outlinewidth": 0,
              "ticks": ""
             }
            },
            "type": "scatter"
           }
          ],
          "scatter3d": [
           {
            "line": {
             "colorbar": {
              "outlinewidth": 0,
              "ticks": ""
             }
            },
            "marker": {
             "colorbar": {
              "outlinewidth": 0,
              "ticks": ""
             }
            },
            "type": "scatter3d"
           }
          ],
          "scattercarpet": [
           {
            "marker": {
             "colorbar": {
              "outlinewidth": 0,
              "ticks": ""
             }
            },
            "type": "scattercarpet"
           }
          ],
          "scattergeo": [
           {
            "marker": {
             "colorbar": {
              "outlinewidth": 0,
              "ticks": ""
             }
            },
            "type": "scattergeo"
           }
          ],
          "scattergl": [
           {
            "marker": {
             "colorbar": {
              "outlinewidth": 0,
              "ticks": ""
             }
            },
            "type": "scattergl"
           }
          ],
          "scattermapbox": [
           {
            "marker": {
             "colorbar": {
              "outlinewidth": 0,
              "ticks": ""
             }
            },
            "type": "scattermapbox"
           }
          ],
          "scatterpolar": [
           {
            "marker": {
             "colorbar": {
              "outlinewidth": 0,
              "ticks": ""
             }
            },
            "type": "scatterpolar"
           }
          ],
          "scatterpolargl": [
           {
            "marker": {
             "colorbar": {
              "outlinewidth": 0,
              "ticks": ""
             }
            },
            "type": "scatterpolargl"
           }
          ],
          "scatterternary": [
           {
            "marker": {
             "colorbar": {
              "outlinewidth": 0,
              "ticks": ""
             }
            },
            "type": "scatterternary"
           }
          ],
          "surface": [
           {
            "colorbar": {
             "outlinewidth": 0,
             "ticks": ""
            },
            "colorscale": [
             [
              0,
              "#0d0887"
             ],
             [
              0.1111111111111111,
              "#46039f"
             ],
             [
              0.2222222222222222,
              "#7201a8"
             ],
             [
              0.3333333333333333,
              "#9c179e"
             ],
             [
              0.4444444444444444,
              "#bd3786"
             ],
             [
              0.5555555555555556,
              "#d8576b"
             ],
             [
              0.6666666666666666,
              "#ed7953"
             ],
             [
              0.7777777777777778,
              "#fb9f3a"
             ],
             [
              0.8888888888888888,
              "#fdca26"
             ],
             [
              1,
              "#f0f921"
             ]
            ],
            "type": "surface"
           }
          ],
          "table": [
           {
            "cells": {
             "fill": {
              "color": "#EBF0F8"
             },
             "line": {
              "color": "white"
             }
            },
            "header": {
             "fill": {
              "color": "#C8D4E3"
             },
             "line": {
              "color": "white"
             }
            },
            "type": "table"
           }
          ]
         },
         "layout": {
          "annotationdefaults": {
           "arrowcolor": "#2a3f5f",
           "arrowhead": 0,
           "arrowwidth": 1
          },
          "autotypenumbers": "strict",
          "coloraxis": {
           "colorbar": {
            "outlinewidth": 0,
            "ticks": ""
           }
          },
          "colorscale": {
           "diverging": [
            [
             0,
             "#8e0152"
            ],
            [
             0.1,
             "#c51b7d"
            ],
            [
             0.2,
             "#de77ae"
            ],
            [
             0.3,
             "#f1b6da"
            ],
            [
             0.4,
             "#fde0ef"
            ],
            [
             0.5,
             "#f7f7f7"
            ],
            [
             0.6,
             "#e6f5d0"
            ],
            [
             0.7,
             "#b8e186"
            ],
            [
             0.8,
             "#7fbc41"
            ],
            [
             0.9,
             "#4d9221"
            ],
            [
             1,
             "#276419"
            ]
           ],
           "sequential": [
            [
             0,
             "#0d0887"
            ],
            [
             0.1111111111111111,
             "#46039f"
            ],
            [
             0.2222222222222222,
             "#7201a8"
            ],
            [
             0.3333333333333333,
             "#9c179e"
            ],
            [
             0.4444444444444444,
             "#bd3786"
            ],
            [
             0.5555555555555556,
             "#d8576b"
            ],
            [
             0.6666666666666666,
             "#ed7953"
            ],
            [
             0.7777777777777778,
             "#fb9f3a"
            ],
            [
             0.8888888888888888,
             "#fdca26"
            ],
            [
             1,
             "#f0f921"
            ]
           ],
           "sequentialminus": [
            [
             0,
             "#0d0887"
            ],
            [
             0.1111111111111111,
             "#46039f"
            ],
            [
             0.2222222222222222,
             "#7201a8"
            ],
            [
             0.3333333333333333,
             "#9c179e"
            ],
            [
             0.4444444444444444,
             "#bd3786"
            ],
            [
             0.5555555555555556,
             "#d8576b"
            ],
            [
             0.6666666666666666,
             "#ed7953"
            ],
            [
             0.7777777777777778,
             "#fb9f3a"
            ],
            [
             0.8888888888888888,
             "#fdca26"
            ],
            [
             1,
             "#f0f921"
            ]
           ]
          },
          "colorway": [
           "#636efa",
           "#EF553B",
           "#00cc96",
           "#ab63fa",
           "#FFA15A",
           "#19d3f3",
           "#FF6692",
           "#B6E880",
           "#FF97FF",
           "#FECB52"
          ],
          "font": {
           "color": "#2a3f5f"
          },
          "geo": {
           "bgcolor": "white",
           "lakecolor": "white",
           "landcolor": "#E5ECF6",
           "showlakes": true,
           "showland": true,
           "subunitcolor": "white"
          },
          "hoverlabel": {
           "align": "left"
          },
          "hovermode": "closest",
          "mapbox": {
           "style": "light"
          },
          "paper_bgcolor": "white",
          "plot_bgcolor": "#E5ECF6",
          "polar": {
           "angularaxis": {
            "gridcolor": "white",
            "linecolor": "white",
            "ticks": ""
           },
           "bgcolor": "#E5ECF6",
           "radialaxis": {
            "gridcolor": "white",
            "linecolor": "white",
            "ticks": ""
           }
          },
          "scene": {
           "xaxis": {
            "backgroundcolor": "#E5ECF6",
            "gridcolor": "white",
            "gridwidth": 2,
            "linecolor": "white",
            "showbackground": true,
            "ticks": "",
            "zerolinecolor": "white"
           },
           "yaxis": {
            "backgroundcolor": "#E5ECF6",
            "gridcolor": "white",
            "gridwidth": 2,
            "linecolor": "white",
            "showbackground": true,
            "ticks": "",
            "zerolinecolor": "white"
           },
           "zaxis": {
            "backgroundcolor": "#E5ECF6",
            "gridcolor": "white",
            "gridwidth": 2,
            "linecolor": "white",
            "showbackground": true,
            "ticks": "",
            "zerolinecolor": "white"
           }
          },
          "shapedefaults": {
           "line": {
            "color": "#2a3f5f"
           }
          },
          "ternary": {
           "aaxis": {
            "gridcolor": "white",
            "linecolor": "white",
            "ticks": ""
           },
           "baxis": {
            "gridcolor": "white",
            "linecolor": "white",
            "ticks": ""
           },
           "bgcolor": "#E5ECF6",
           "caxis": {
            "gridcolor": "white",
            "linecolor": "white",
            "ticks": ""
           }
          },
          "title": {
           "x": 0.05
          },
          "xaxis": {
           "automargin": true,
           "gridcolor": "white",
           "linecolor": "white",
           "ticks": "",
           "title": {
            "standoff": 15
           },
           "zerolinecolor": "white",
           "zerolinewidth": 2
          },
          "yaxis": {
           "automargin": true,
           "gridcolor": "white",
           "linecolor": "white",
           "ticks": "",
           "title": {
            "standoff": 15
           },
           "zerolinecolor": "white",
           "zerolinewidth": 2
          }
         }
        },
        "xaxis": {
         "anchor": "y",
         "domain": [
          0,
          1
         ],
         "title": {
          "text": "Throughput (samples / second)"
         }
        },
        "yaxis": {
         "anchor": "x",
         "domain": [
          0,
          1
         ],
         "title": {
          "text": "Peak Memory (GB)"
         }
        }
       }
      },
      "text/html": [
       "<div>                            <div id=\"8075622d-6736-4dc5-b94f-b9c9d892cc53\" class=\"plotly-graph-div\" style=\"height:525px; width:100%;\"></div>            <script type=\"text/javascript\">                require([\"plotly\"], function(Plotly) {                    window.PLOTLYENV=window.PLOTLYENV || {};                                    if (document.getElementById(\"8075622d-6736-4dc5-b94f-b9c9d892cc53\")) {                    Plotly.newPlot(                        \"8075622d-6736-4dc5-b94f-b9c9d892cc53\",                        [{\"customdata\":[[65536,16,1,1,1],[131072,16,1,1,1],[262144,16,1,1,1],[524288,16,1,1,1]],\"hovertemplate\":\"Parallelism style=D<br>Throughput (samples / second)=%{x}<br>Peak Memory (GB)=%{y}<br>dummy_column_for_size=%{marker.size}<br>batch_size=%{customdata[0]}<br>dp_degree=%{customdata[1]}<br>hp_degree=%{customdata[2]}<br>pp_degree=%{customdata[3]}<br>num_microbatches=%{customdata[4]}<extra></extra>\",\"legendgroup\":\"D\",\"marker\":{\"color\":\"#1f77b4\",\"size\":[1.0,1.0,1.0,1.0],\"sizemode\":\"area\",\"sizeref\":0.01,\"symbol\":\"circle\"},\"mode\":\"markers\",\"name\":\"D\",\"orientation\":\"v\",\"showlegend\":true,\"type\":\"scatter\",\"x\":[60264.17586194277,61366.213754307486,61932.48671960886,62219.56044338242],\"xaxis\":\"x\",\"y\":[4.959548773,7.241512293,11.805439333,20.933293413],\"yaxis\":\"y\"},{\"customdata\":[[65536,1,16,1,1],[131072,1,16,1,1],[262144,1,16,1,1]],\"hovertemplate\":\"Parallelism style=T<br>Throughput (samples / second)=%{x}<br>Peak Memory (GB)=%{y}<br>dummy_column_for_size=%{marker.size}<br>batch_size=%{customdata[0]}<br>dp_degree=%{customdata[1]}<br>hp_degree=%{customdata[2]}<br>pp_degree=%{customdata[3]}<br>num_microbatches=%{customdata[4]}<extra></extra>\",\"legendgroup\":\"T\",\"marker\":{\"color\":\"#ff7f0e\",\"size\":[1.0,1.0,1.0],\"sizemode\":\"area\",\"sizeref\":0.01,\"symbol\":\"diamond\"},\"mode\":\"markers\",\"name\":\"T\",\"orientation\":\"v\",\"showlegend\":true,\"type\":\"scatter\",\"x\":[18231.15835585478,18348.060188318188,18407.075111252678],\"xaxis\":\"x\",\"y\":[6.859709796,13.30740362,26.202791268],\"yaxis\":\"y\"},{\"customdata\":[[65536,1,1,16,2],[65536,1,1,16,4],[65536,1,1,16,8],[65536,1,1,16,16],[65536,1,1,16,32],[65536,1,1,16,64],[65536,1,1,16,128],[131072,1,1,16,4],[131072,1,1,16,8],[131072,1,1,16,16],[131072,1,1,16,32],[131072,1,1,16,64],[131072,1,1,16,128],[262144,1,1,16,8],[262144,1,1,16,16],[262144,1,1,16,32],[262144,1,1,16,64],[262144,1,1,16,128]],\"hovertemplate\":\"Parallelism style=P<br>Throughput (samples / second)=%{x}<br>Peak Memory (GB)=%{y}<br>dummy_column_for_size=%{marker.size}<br>batch_size=%{customdata[0]}<br>dp_degree=%{customdata[1]}<br>hp_degree=%{customdata[2]}<br>pp_degree=%{customdata[3]}<br>num_microbatches=%{customdata[4]}<extra></extra>\",\"legendgroup\":\"P\",\"marker\":{\"color\":\"#2ca02c\",\"size\":[1.0,1.0,1.0,1.0,1.0,1.0,1.0,1.0,1.0,1.0,1.0,1.0,1.0,1.0,1.0,1.0,1.0,1.0],\"sizemode\":\"area\",\"sizeref\":0.01,\"symbol\":\"square\"},\"mode\":\"markers\",\"name\":\"P\",\"orientation\":\"v\",\"showlegend\":true,\"type\":\"scatter\",\"x\":[6895.287639348955,11777.794119115826,18465.564624521903,25592.12985532367,31129.0070116998,33523.98795845899,32214.375975703733,11829.802128760928,18627.787101043858,26037.449938484875,32192.92455848873,35738.51447119501,36205.33529856546,18709.97191481323,26265.972636377777,32752.6291589807,36959.240632623085,38596.12447476764],\"xaxis\":\"x\",\"y\":[18.673479933,9.546674429,4.983271677,4.294975496,4.294975496,4.294975496,4.294975496,18.677674237,9.550868733,8.589942792,8.589942792,8.589942792,8.589942792,18.686062845,17.179877384,17.179877384,17.179877384,17.179877384],\"yaxis\":\"y\"},{\"customdata\":[[65536,2,8,1,1],[65536,4,4,1,1],[65536,8,2,1,1],[131072,2,8,1,1],[131072,4,4,1,1],[131072,8,2,1,1],[262144,2,8,1,1],[262144,4,4,1,1],[262144,8,2,1,1],[524288,2,8,1,1],[524288,4,4,1,1],[524288,8,2,1,1]],\"hovertemplate\":\"Parallelism style=D/T<br>Throughput (samples / second)=%{x}<br>Peak Memory (GB)=%{y}<br>dummy_column_for_size=%{marker.size}<br>batch_size=%{customdata[0]}<br>dp_degree=%{customdata[1]}<br>hp_degree=%{customdata[2]}<br>pp_degree=%{customdata[3]}<br>num_microbatches=%{customdata[4]}<extra></extra>\",\"legendgroup\":\"D/T\",\"marker\":{\"color\":\"#d62728\",\"size\":[1.0,1.0,1.0,1.0,1.0,1.0,1.0,1.0,1.0,1.0,1.0,1.0],\"sizemode\":\"area\",\"sizeref\":0.01,\"symbol\":\"x\"},\"mode\":\"markers\",\"name\":\"D/T\",\"orientation\":\"v\",\"showlegend\":true,\"type\":\"scatter\",\"x\":[28456.858535812764,40247.11258247807,50947.36888831611,28716.12202378808,40758.86233180907,51768.96073618541,28847.53343959274,41019.64867873302,52189.77435312693,28913.69120794588,41151.29730533064,52402.75712746629],\"xaxis\":\"x\",\"y\":[3.786900836,3.550532965,3.885725029,7.010747748,6.235936101,6.302168421,13.458441572,11.606742373,11.135055205,26.35382922,22.348354917,20.800828773],\"yaxis\":\"y\"},{\"customdata\":[[65536,1,2,8,2],[65536,1,2,8,4],[65536,1,2,8,8],[65536,1,2,8,16],[65536,1,4,4,2],[65536,1,2,8,32],[65536,1,4,4,4],[65536,1,8,2,2],[65536,1,4,4,8],[65536,1,8,2,4],[65536,1,4,4,16],[65536,1,2,8,64],[65536,1,8,2,8],[65536,1,4,4,32],[65536,1,8,2,16],[65536,1,4,4,64],[65536,1,2,8,128],[65536,1,8,2,32],[65536,1,4,4,128],[65536,1,8,2,64],[65536,1,8,2,128],[131072,1,2,8,2],[131072,1,2,8,4],[131072,1,2,8,8],[131072,1,2,8,16],[131072,1,4,4,2],[131072,1,4,4,4],[131072,1,2,8,32],[131072,1,4,4,8],[131072,1,8,2,2],[131072,1,4,4,16],[131072,1,2,8,64],[131072,1,8,2,4],[131072,1,8,2,8],[131072,1,4,4,32],[131072,1,8,2,16],[131072,1,2,8,128],[131072,1,4,4,64],[131072,1,8,2,32],[131072,1,8,2,64],[131072,1,4,4,128],[131072,1,8,2,128],[262144,1,2,8,4],[262144,1,2,8,8],[262144,1,2,8,16],[262144,1,4,4,2],[262144,1,4,4,4],[262144,1,2,8,32],[262144,1,4,4,8],[262144,1,8,2,2],[262144,1,8,2,4],[262144,1,4,4,16],[262144,1,2,8,64],[262144,1,8,2,8],[262144,1,4,4,32],[262144,1,8,2,16],[262144,1,2,8,128],[262144,1,4,4,64],[262144,1,8,2,32],[262144,1,4,4,128],[262144,1,8,2,64],[262144,1,8,2,128]],\"hovertemplate\":\"Parallelism style=T/P<br>Throughput (samples / second)=%{x}<br>Peak Memory (GB)=%{y}<br>dummy_column_for_size=%{marker.size}<br>batch_size=%{customdata[0]}<br>dp_degree=%{customdata[1]}<br>hp_degree=%{customdata[2]}<br>pp_degree=%{customdata[3]}<br>num_microbatches=%{customdata[4]}<extra></extra>\",\"legendgroup\":\"T/P\",\"marker\":{\"color\":\"#9467bd\",\"size\":[1.0,1.0,1.0,1.0,1.0,1.0,1.0,1.0,1.0,1.0,1.0,1.0,1.0,1.0,1.0,1.0,1.0,1.0,1.0,1.0,1.0,1.0,1.0,1.0,1.0,1.0,1.0,1.0,1.0,1.0,1.0,1.0,1.0,1.0,1.0,1.0,1.0,1.0,1.0,1.0,1.0,1.0,1.0,1.0,1.0,1.0,1.0,1.0,1.0,1.0,1.0,1.0,1.0,1.0,1.0,1.0,1.0,1.0,1.0,1.0,1.0,1.0],\"sizemode\":\"area\",\"sizeref\":0.01,\"symbol\":\"cross\"},\"mode\":\"markers\",\"name\":\"T/P\",\"orientation\":\"v\",\"showlegend\":true,\"type\":\"scatter\",\"x\":[10951.616293936191,16915.5001300879,23074.474766533127,27714.141333802658,15552.392757789035,29652.529644945407,21165.085135104546,18322.318113684814,25463.780648655887,21133.002756208065,27485.943737869147,28504.330941565404,22361.3302265939,26928.550409509666,21987.339016014143,23862.232017989896,24487.44958613947,20007.33657179457,18838.08403017547,16536.20463655748,12165.201265927708,10995.503114063646,17051.117533054177,23443.222425568634,28589.38797302881,15650.632920619995,21431.23092275586,31472.91840215105,26097.09915648127,18487.976212948408,28821.236449823034,31806.693024470715,21511.42301421382,23147.683824520387,29425.105665312298,23480.798763956493,29576.14975172061,27912.49434039536,22552.05459392636,20267.774758011397,24305.786787266632,16644.63665536395,17119.744985285623,23632.05150529665,29048.07492361662,15700.219893596406,21566.82973681039,32469.58318748765,26425.72078352509,18571.93369081016,21705.761222004447,29538.74633557807,33762.46390086066,23561.971363956804,30855.413723697133,24306.28421893616,33005.568601982995,30501.04592727032,24083.64489273341,28431.93238837565,22845.431870105287,20400.55312747956],\"xaxis\":\"x\",\"y\":[10.842361981,6.547394685,4.399911037,4.399911032,6.578932861,4.399911032,4.431449213,4.457290364,4.431449208,4.456766072,4.431449208,4.399911032,4.456766072,4.431449208,4.456766072,4.431449208,4.399911032,4.456766072,4.431449208,4.456766072,4.456766072,21.579780221,12.989845629,8.694878333,8.694878328,13.021383805,8.726416509,8.694878328,8.726416504,8.752781948,8.726416504,8.694878328,8.751733368,8.751733368,8.726416504,8.751733368,8.694878328,8.726416504,8.751733368,8.751733368,8.726416504,8.751733368,25.874747517,17.284812925,17.28481292,25.906285693,17.316351101,17.28481292,17.316351096,17.343765116,17.34166796,17.316351096,17.28481292,17.34166796,17.316351096,17.34166796,17.28481292,17.316351096,17.34166796,17.316351096,17.34166796,17.34166796],\"yaxis\":\"y\"},{\"customdata\":[[65536,2,1,8,2],[65536,2,1,8,4],[65536,2,1,8,8],[65536,2,1,8,16],[65536,2,1,8,32],[65536,2,1,8,64],[65536,4,1,4,2],[65536,4,1,4,4],[65536,4,1,4,8],[65536,4,1,4,16],[65536,2,1,8,128],[65536,8,1,2,2],[65536,4,1,4,32],[65536,8,1,2,4],[65536,8,1,2,8],[65536,8,1,2,16],[65536,4,1,4,64],[65536,8,1,2,32],[65536,4,1,4,128],[65536,8,1,2,64],[65536,8,1,2,128],[131072,2,1,8,2],[131072,2,1,8,4],[131072,2,1,8,8],[131072,2,1,8,16],[131072,2,1,8,32],[131072,2,1,8,64],[131072,4,1,4,2],[131072,4,1,4,4],[131072,4,1,4,8],[131072,4,1,4,16],[131072,2,1,8,128],[131072,4,1,4,32],[131072,8,1,2,2],[131072,8,1,2,4],[131072,8,1,2,8],[131072,4,1,4,64],[131072,8,1,2,16],[131072,8,1,2,32],[131072,4,1,4,128],[131072,8,1,2,64],[131072,8,1,2,128],[262144,2,1,8,4],[262144,2,1,8,8],[262144,2,1,8,16],[262144,2,1,8,32],[262144,2,1,8,64],[262144,4,1,4,2],[262144,4,1,4,4],[262144,4,1,4,8],[262144,4,1,4,16],[262144,2,1,8,128],[262144,8,1,2,2],[262144,8,1,2,4],[262144,4,1,4,32],[262144,8,1,2,8],[262144,8,1,2,16],[262144,4,1,4,64],[262144,8,1,2,32],[262144,4,1,4,128],[262144,8,1,2,64],[262144,8,1,2,128],[524288,2,1,8,8],[524288,2,1,8,16],[524288,2,1,8,32],[524288,2,1,8,64],[524288,4,1,4,4],[524288,4,1,4,8],[524288,4,1,4,16],[524288,2,1,8,128],[524288,4,1,4,32],[524288,8,1,2,2],[524288,8,1,2,4],[524288,8,1,2,8],[524288,4,1,4,64],[524288,8,1,2,16],[524288,8,1,2,32],[524288,4,1,4,128],[524288,8,1,2,64],[524288,8,1,2,128],[1048576,4,1,4,8],[1048576,4,1,4,16],[1048576,4,1,4,32],[1048576,8,1,2,4],[1048576,8,1,2,8],[1048576,4,1,4,64],[1048576,8,1,2,16],[1048576,8,1,2,32],[1048576,4,1,4,128],[1048576,8,1,2,64],[1048576,8,1,2,128]],\"hovertemplate\":\"Parallelism style=D/P<br>Throughput (samples / second)=%{x}<br>Peak Memory (GB)=%{y}<br>dummy_column_for_size=%{marker.size}<br>batch_size=%{customdata[0]}<br>dp_degree=%{customdata[1]}<br>hp_degree=%{customdata[2]}<br>pp_degree=%{customdata[3]}<br>num_microbatches=%{customdata[4]}<extra></extra>\",\"legendgroup\":\"D/P\",\"marker\":{\"color\":\"#8c564b\",\"size\":[1.0,1.0,1.0,1.0,1.0,1.0,1.0,1.0,1.0,1.0,1.0,1.0,1.0,1.0,1.0,1.0,1.0,1.0,1.0,1.0,1.0,1.0,1.0,1.0,1.0,1.0,1.0,1.0,1.0,1.0,1.0,1.0,1.0,1.0,1.0,1.0,1.0,1.0,1.0,1.0,1.0,1.0,1.0,1.0,1.0,1.0,1.0,1.0,1.0,1.0,1.0,1.0,1.0,1.0,1.0,1.0,1.0,1.0,1.0,1.0,1.0,1.0,1.0,1.0,1.0,1.0,1.0,1.0,1.0,1.0,1.0,1.0,1.0,1.0,1.0,1.0,1.0,1.0,1.0,1.0,1.0,1.0,1.0,1.0,1.0,1.0,1.0,1.0,1.0,1.0,1.0],\"sizemode\":\"area\",\"sizeref\":0.01,\"symbol\":\"circle\"},\"mode\":\"markers\",\"name\":\"D/P\",\"orientation\":\"v\",\"showlegend\":true,\"type\":\"scatter\",\"x\":[13106.39799121888,20212.815684072146,27499.15544951339,32875.507678668226,34892.85713256858,33102.080695250384,23625.330235273675,31968.441930232995,38048.08970896305,40268.463009553,27898.47470256632,39013.74302349722,38155.33944691247,44235.780675246446,45329.44933566671,42153.147705673575,32158.31475950649,35181.277425205946,23843.814917541167,25963.995074387796,16937.569910375427,13166.570137617364,20398.324733774232,28001.520196966,34059.458625997555,37324.72930241452,37421.66392680416,23842.51543160502,32551.77816892277,39413.55688290594,43061.115891650064,34343.58436311127,43106.82661976758,39725.62111729957,45820.464913726486,48463.976037653,39547.90263430696,47605.04207988131,43238.86128957871,32755.26878834514,35640.50820431028,26134.67591250966,20492.36206812644,28259.649060037496,34683.99884127689,38672.37284604945,40033.72006109366,23952.612365009263,32851.50300759189,40133.71485433246,44607.91470460519,38828.68904218479,40091.39201641241,46656.1603715808,46097.93251552987,50199.625475148525,50896.394974441246,44681.53848367877,48830.72250915765,40283.01126373412,43802.96476053699,35874.6489777781,28390.506404361746,35004.93745947843,39383.35897291319,41481.43545600773,33003.44481737341,40503.7537885201,45423.748181182425,41541.23010277544,47754.74070188371,40276.81500570118,47085.54466394896,51114.919562005234,47782.83674959201,52718.852645640894,52206.52415029404,45512.840808679015,49467.53945490918,44090.57229844842,40691.34396808654,45842.958770573015,48628.622627410834,47303.21428173347,51585.19823908297,49500.73349343939,53679.91654560381,54075.72569136728,48672.33679738325,52887.2116433657,49792.21750845883],\"xaxis\":\"x\",\"y\":[9.869312125,5.574344829,3.426861181,2.353119357,2.353119352,2.353119352,5.494194989,3.212493613,2.124689533,1.587818621,2.353119352,3.828852061,1.587818616,2.688001373,2.117576029,1.832363357,1.587818616,1.689757021,1.587818616,1.66782988,1.66782988,19.532988541,10.943053949,6.648086653,4.500603005,4.500603,4.500603,10.177753213,5.882785917,3.735302269,2.661560445,4.500603,2.66156044,6.111077725,3.829376349,2.741571709,2.66156044,2.204700797,2.204700792,2.66156044,2.204700792,2.204700792,21.680472189,13.090537597,8.795570301,8.795570296,8.795570296,19.841429629,11.251495037,6.956527741,4.809044093,8.795570296,10.794635389,6.499668093,4.809044088,4.352184445,3.278442621,4.809044088,3.278442616,4.809044088,3.278442616,3.278442616,25.975439485,17.385504893,17.385504888,17.385504888,21.988913277,13.398978685,9.104011389,17.385504888,9.104011384,20.458311805,11.868377213,7.573409917,9.104011384,5.425926269,5.425926264,9.104011384,5.425926264,5.425926264,26.283880573,17.693945981,17.693945976,22.605795453,14.015860861,17.693945976,9.720893565,9.72089356,17.693945976,9.72089356,9.72089356],\"yaxis\":\"y\"},{\"customdata\":[[65536,2,2,4,2],[65536,2,2,4,4],[65536,2,2,4,8],[65536,2,4,2,2],[65536,2,2,4,16],[65536,2,4,2,4],[65536,2,4,2,8],[65536,2,2,4,32],[65536,4,2,2,2],[65536,4,2,2,4],[65536,2,4,2,16],[65536,4,2,2,8],[65536,2,2,4,64],[65536,4,2,2,16],[65536,2,4,2,32],[65536,4,2,2,32],[65536,2,4,2,64],[65536,2,2,4,128],[65536,4,2,2,64],[65536,2,4,2,128],[65536,4,2,2,128],[131072,2,2,4,2],[131072,2,2,4,4],[131072,2,2,4,8],[131072,2,2,4,16],[131072,2,4,2,2],[131072,2,4,2,4],[131072,2,4,2,8],[131072,2,2,4,32],[131072,4,2,2,2],[131072,2,4,2,16],[131072,4,2,2,4],[131072,4,2,2,8],[131072,2,2,4,64],[131072,4,2,2,16],[131072,2,4,2,32],[131072,4,2,2,32],[131072,2,2,4,128],[131072,2,4,2,64],[131072,4,2,2,64],[131072,2,4,2,128],[131072,4,2,2,128],[262144,2,2,4,2],[262144,2,2,4,4],[262144,2,2,4,8],[262144,2,2,4,16],[262144,2,4,2,2],[262144,2,4,2,4],[262144,2,2,4,32],[262144,2,4,2,8],[262144,4,2,2,2],[262144,2,4,2,16],[262144,4,2,2,4],[262144,4,2,2,8],[262144,2,2,4,64],[262144,4,2,2,16],[262144,2,4,2,32],[262144,4,2,2,32],[262144,2,2,4,128],[262144,2,4,2,64],[262144,4,2,2,64],[262144,2,4,2,128],[262144,4,2,2,128],[524288,2,2,4,4],[524288,2,2,4,8],[524288,2,4,2,2],[524288,2,2,4,16],[524288,2,4,2,4],[524288,2,2,4,32],[524288,2,4,2,8],[524288,4,2,2,2],[524288,4,2,2,4],[524288,2,4,2,16],[524288,4,2,2,8],[524288,2,2,4,64],[524288,2,4,2,32],[524288,4,2,2,16],[524288,4,2,2,32],[524288,2,2,4,128],[524288,2,4,2,64],[524288,4,2,2,64],[524288,2,4,2,128],[524288,4,2,2,128],[1048576,4,2,2,4],[1048576,4,2,2,8],[1048576,4,2,2,16],[1048576,4,2,2,32],[1048576,4,2,2,64],[1048576,4,2,2,128]],\"hovertemplate\":\"Parallelism style=D/T/P<br>Throughput (samples / second)=%{x}<br>Peak Memory (GB)=%{y}<br>dummy_column_for_size=%{marker.size}<br>batch_size=%{customdata[0]}<br>dp_degree=%{customdata[1]}<br>hp_degree=%{customdata[2]}<br>pp_degree=%{customdata[3]}<br>num_microbatches=%{customdata[4]}<extra></extra>\",\"legendgroup\":\"D/T/P\",\"marker\":{\"color\":\"#e377c2\",\"size\":[1.0,1.0,1.0,1.0,1.0,1.0,1.0,1.0,1.0,1.0,1.0,1.0,1.0,1.0,1.0,1.0,1.0,1.0,1.0,1.0,1.0,1.0,1.0,1.0,1.0,1.0,1.0,1.0,1.0,1.0,1.0,1.0,1.0,1.0,1.0,1.0,1.0,1.0,1.0,1.0,1.0,1.0,1.0,1.0,1.0,1.0,1.0,1.0,1.0,1.0,1.0,1.0,1.0,1.0,1.0,1.0,1.0,1.0,1.0,1.0,1.0,1.0,1.0,1.0,1.0,1.0,1.0,1.0,1.0,1.0,1.0,1.0,1.0,1.0,1.0,1.0,1.0,1.0,1.0,1.0,1.0,1.0,1.0,1.0,1.0,1.0,1.0,1.0,1.0],\"sizemode\":\"area\",\"sizeref\":0.01,\"symbol\":\"diamond\"},\"mode\":\"markers\",\"name\":\"D/T/P\",\"orientation\":\"v\",\"showlegend\":true,\"type\":\"scatter\",\"x\":[19856.712464648823,26928.97424964664,32185.070114282884,25969.792883676564,34322.57081391336,29751.66977329702,31078.000422287227,32935.51301334448,32937.50660958972,37495.33721566703,29863.513891431456,38705.487386894914,28276.65365777246,36440.43963769143,26183.78700907015,30968.69970943337,20555.9419084168,21438.93914048696,23361.032026717803,14268.94951281835,15564.965413375374,20016.90018426363,27360.657133842557,33202.00382109444,36426.945988657855,26298.19676622704,30494.247458023976,32590.96983004043,36742.78981763144,33466.78292117744,32635.59999868756,38680.690619555535,41076.93753302567,34138.16364964828,40647.24545551704,30631.428106621,37378.39064742366,28801.86401708746,26525.0387003058,31372.69159357733,20690.88882894521,23514.519683749844,20097.967166903414,27581.73055623341,33734.95611623096,37578.96098514239,26465.53317680116,30879.61257171077,38996.76211469691,33404.07463622226,33737.85149066364,34224.02570326017,39301.92344739418,42375.0788792028,38085.57127582052,43137.19632130583,33474.45375839467,41693.06413868414,34773.03786744817,31030.38778655821,37865.70886065972,26699.02205941912,31578.66609272659,27693.612402530267,34007.90031293971,26550.002506763907,38182.732161426335,31075.97083650333,40230.7314825852,33826.03370529458,33875.03913761695,39620.08343988577,35077.66819518228,43055.41210245509,40422.61152556446,35103.50214484392,44500.18250542074,44246.820183403695,38794.45144441452,33910.26237051697,42236.417495517446,31233.79036648888,38114.16426642539,39781.10298187764,43403.83708675269,45214.493296800254,45644.720323912254,44823.31828467773,42513.43983389001],\"xaxis\":\"x\",\"y\":[5.631055997,3.483572349,2.409830525,3.521475709,2.40983052,2.447733885,2.44773388,2.40983052,3.309096285,2.187765885,2.44773388,1.650894973,2.40983052,1.650894968,2.44773388,1.650894968,2.44773388,2.40983052,1.650894968,2.44773388,1.650894968,10.999765117,6.704797821,4.557314173,4.557314168,6.742701181,4.595217533,4.595217528,4.557314168,5.945862269,4.595217528,3.798378621,2.724636797,4.557314168,2.724636792,4.595217528,2.724636792,4.557314168,4.595217528,2.724636792,4.595217528,2.724636792,21.737183357,13.147248765,8.852281469,8.852281464,13.185152125,8.890184829,8.852281464,8.890184824,11.314571389,8.890184824,7.019604093,4.872120445,8.852281464,4.87212044,8.890184824,4.87212044,8.852281464,8.890184824,4.87212044,8.890184824,4.87212044,26.032150653,17.442216061,26.070054013,17.442216056,17.480119421,17.442216056,17.480119416,22.051989629,13.462055037,17.480119416,9.167087741,17.442216056,17.480119416,9.167087736,9.167087736,17.442216056,17.480119416,9.167087736,17.480119416,9.167087736,26.346956925,17.757022333,17.757022328,17.757022328,17.757022328,17.757022328],\"yaxis\":\"y\"}],                        {\"legend\":{\"itemsizing\":\"constant\",\"title\":{\"text\":\"Parallelism style\"},\"tracegroupgap\":0},\"margin\":{\"t\":60},\"template\":{\"data\":{\"bar\":[{\"error_x\":{\"color\":\"#2a3f5f\"},\"error_y\":{\"color\":\"#2a3f5f\"},\"marker\":{\"line\":{\"color\":\"#E5ECF6\",\"width\":0.5},\"pattern\":{\"fillmode\":\"overlay\",\"size\":10,\"solidity\":0.2}},\"type\":\"bar\"}],\"barpolar\":[{\"marker\":{\"line\":{\"color\":\"#E5ECF6\",\"width\":0.5},\"pattern\":{\"fillmode\":\"overlay\",\"size\":10,\"solidity\":0.2}},\"type\":\"barpolar\"}],\"carpet\":[{\"aaxis\":{\"endlinecolor\":\"#2a3f5f\",\"gridcolor\":\"white\",\"linecolor\":\"white\",\"minorgridcolor\":\"white\",\"startlinecolor\":\"#2a3f5f\"},\"baxis\":{\"endlinecolor\":\"#2a3f5f\",\"gridcolor\":\"white\",\"linecolor\":\"white\",\"minorgridcolor\":\"white\",\"startlinecolor\":\"#2a3f5f\"},\"type\":\"carpet\"}],\"choropleth\":[{\"colorbar\":{\"outlinewidth\":0,\"ticks\":\"\"},\"type\":\"choropleth\"}],\"contour\":[{\"colorbar\":{\"outlinewidth\":0,\"ticks\":\"\"},\"colorscale\":[[0.0,\"#0d0887\"],[0.1111111111111111,\"#46039f\"],[0.2222222222222222,\"#7201a8\"],[0.3333333333333333,\"#9c179e\"],[0.4444444444444444,\"#bd3786\"],[0.5555555555555556,\"#d8576b\"],[0.6666666666666666,\"#ed7953\"],[0.7777777777777778,\"#fb9f3a\"],[0.8888888888888888,\"#fdca26\"],[1.0,\"#f0f921\"]],\"type\":\"contour\"}],\"contourcarpet\":[{\"colorbar\":{\"outlinewidth\":0,\"ticks\":\"\"},\"type\":\"contourcarpet\"}],\"heatmap\":[{\"colorbar\":{\"outlinewidth\":0,\"ticks\":\"\"},\"colorscale\":[[0.0,\"#0d0887\"],[0.1111111111111111,\"#46039f\"],[0.2222222222222222,\"#7201a8\"],[0.3333333333333333,\"#9c179e\"],[0.4444444444444444,\"#bd3786\"],[0.5555555555555556,\"#d8576b\"],[0.6666666666666666,\"#ed7953\"],[0.7777777777777778,\"#fb9f3a\"],[0.8888888888888888,\"#fdca26\"],[1.0,\"#f0f921\"]],\"type\":\"heatmap\"}],\"heatmapgl\":[{\"colorbar\":{\"outlinewidth\":0,\"ticks\":\"\"},\"colorscale\":[[0.0,\"#0d0887\"],[0.1111111111111111,\"#46039f\"],[0.2222222222222222,\"#7201a8\"],[0.3333333333333333,\"#9c179e\"],[0.4444444444444444,\"#bd3786\"],[0.5555555555555556,\"#d8576b\"],[0.6666666666666666,\"#ed7953\"],[0.7777777777777778,\"#fb9f3a\"],[0.8888888888888888,\"#fdca26\"],[1.0,\"#f0f921\"]],\"type\":\"heatmapgl\"}],\"histogram\":[{\"marker\":{\"pattern\":{\"fillmode\":\"overlay\",\"size\":10,\"solidity\":0.2}},\"type\":\"histogram\"}],\"histogram2d\":[{\"colorbar\":{\"outlinewidth\":0,\"ticks\":\"\"},\"colorscale\":[[0.0,\"#0d0887\"],[0.1111111111111111,\"#46039f\"],[0.2222222222222222,\"#7201a8\"],[0.3333333333333333,\"#9c179e\"],[0.4444444444444444,\"#bd3786\"],[0.5555555555555556,\"#d8576b\"],[0.6666666666666666,\"#ed7953\"],[0.7777777777777778,\"#fb9f3a\"],[0.8888888888888888,\"#fdca26\"],[1.0,\"#f0f921\"]],\"type\":\"histogram2d\"}],\"histogram2dcontour\":[{\"colorbar\":{\"outlinewidth\":0,\"ticks\":\"\"},\"colorscale\":[[0.0,\"#0d0887\"],[0.1111111111111111,\"#46039f\"],[0.2222222222222222,\"#7201a8\"],[0.3333333333333333,\"#9c179e\"],[0.4444444444444444,\"#bd3786\"],[0.5555555555555556,\"#d8576b\"],[0.6666666666666666,\"#ed7953\"],[0.7777777777777778,\"#fb9f3a\"],[0.8888888888888888,\"#fdca26\"],[1.0,\"#f0f921\"]],\"type\":\"histogram2dcontour\"}],\"mesh3d\":[{\"colorbar\":{\"outlinewidth\":0,\"ticks\":\"\"},\"type\":\"mesh3d\"}],\"parcoords\":[{\"line\":{\"colorbar\":{\"outlinewidth\":0,\"ticks\":\"\"}},\"type\":\"parcoords\"}],\"pie\":[{\"automargin\":true,\"type\":\"pie\"}],\"scatter\":[{\"marker\":{\"colorbar\":{\"outlinewidth\":0,\"ticks\":\"\"}},\"type\":\"scatter\"}],\"scatter3d\":[{\"line\":{\"colorbar\":{\"outlinewidth\":0,\"ticks\":\"\"}},\"marker\":{\"colorbar\":{\"outlinewidth\":0,\"ticks\":\"\"}},\"type\":\"scatter3d\"}],\"scattercarpet\":[{\"marker\":{\"colorbar\":{\"outlinewidth\":0,\"ticks\":\"\"}},\"type\":\"scattercarpet\"}],\"scattergeo\":[{\"marker\":{\"colorbar\":{\"outlinewidth\":0,\"ticks\":\"\"}},\"type\":\"scattergeo\"}],\"scattergl\":[{\"marker\":{\"colorbar\":{\"outlinewidth\":0,\"ticks\":\"\"}},\"type\":\"scattergl\"}],\"scattermapbox\":[{\"marker\":{\"colorbar\":{\"outlinewidth\":0,\"ticks\":\"\"}},\"type\":\"scattermapbox\"}],\"scatterpolar\":[{\"marker\":{\"colorbar\":{\"outlinewidth\":0,\"ticks\":\"\"}},\"type\":\"scatterpolar\"}],\"scatterpolargl\":[{\"marker\":{\"colorbar\":{\"outlinewidth\":0,\"ticks\":\"\"}},\"type\":\"scatterpolargl\"}],\"scatterternary\":[{\"marker\":{\"colorbar\":{\"outlinewidth\":0,\"ticks\":\"\"}},\"type\":\"scatterternary\"}],\"surface\":[{\"colorbar\":{\"outlinewidth\":0,\"ticks\":\"\"},\"colorscale\":[[0.0,\"#0d0887\"],[0.1111111111111111,\"#46039f\"],[0.2222222222222222,\"#7201a8\"],[0.3333333333333333,\"#9c179e\"],[0.4444444444444444,\"#bd3786\"],[0.5555555555555556,\"#d8576b\"],[0.6666666666666666,\"#ed7953\"],[0.7777777777777778,\"#fb9f3a\"],[0.8888888888888888,\"#fdca26\"],[1.0,\"#f0f921\"]],\"type\":\"surface\"}],\"table\":[{\"cells\":{\"fill\":{\"color\":\"#EBF0F8\"},\"line\":{\"color\":\"white\"}},\"header\":{\"fill\":{\"color\":\"#C8D4E3\"},\"line\":{\"color\":\"white\"}},\"type\":\"table\"}]},\"layout\":{\"annotationdefaults\":{\"arrowcolor\":\"#2a3f5f\",\"arrowhead\":0,\"arrowwidth\":1},\"autotypenumbers\":\"strict\",\"coloraxis\":{\"colorbar\":{\"outlinewidth\":0,\"ticks\":\"\"}},\"colorscale\":{\"diverging\":[[0,\"#8e0152\"],[0.1,\"#c51b7d\"],[0.2,\"#de77ae\"],[0.3,\"#f1b6da\"],[0.4,\"#fde0ef\"],[0.5,\"#f7f7f7\"],[0.6,\"#e6f5d0\"],[0.7,\"#b8e186\"],[0.8,\"#7fbc41\"],[0.9,\"#4d9221\"],[1,\"#276419\"]],\"sequential\":[[0.0,\"#0d0887\"],[0.1111111111111111,\"#46039f\"],[0.2222222222222222,\"#7201a8\"],[0.3333333333333333,\"#9c179e\"],[0.4444444444444444,\"#bd3786\"],[0.5555555555555556,\"#d8576b\"],[0.6666666666666666,\"#ed7953\"],[0.7777777777777778,\"#fb9f3a\"],[0.8888888888888888,\"#fdca26\"],[1.0,\"#f0f921\"]],\"sequentialminus\":[[0.0,\"#0d0887\"],[0.1111111111111111,\"#46039f\"],[0.2222222222222222,\"#7201a8\"],[0.3333333333333333,\"#9c179e\"],[0.4444444444444444,\"#bd3786\"],[0.5555555555555556,\"#d8576b\"],[0.6666666666666666,\"#ed7953\"],[0.7777777777777778,\"#fb9f3a\"],[0.8888888888888888,\"#fdca26\"],[1.0,\"#f0f921\"]]},\"colorway\":[\"#636efa\",\"#EF553B\",\"#00cc96\",\"#ab63fa\",\"#FFA15A\",\"#19d3f3\",\"#FF6692\",\"#B6E880\",\"#FF97FF\",\"#FECB52\"],\"font\":{\"color\":\"#2a3f5f\"},\"geo\":{\"bgcolor\":\"white\",\"lakecolor\":\"white\",\"landcolor\":\"#E5ECF6\",\"showlakes\":true,\"showland\":true,\"subunitcolor\":\"white\"},\"hoverlabel\":{\"align\":\"left\"},\"hovermode\":\"closest\",\"mapbox\":{\"style\":\"light\"},\"paper_bgcolor\":\"white\",\"plot_bgcolor\":\"#E5ECF6\",\"polar\":{\"angularaxis\":{\"gridcolor\":\"white\",\"linecolor\":\"white\",\"ticks\":\"\"},\"bgcolor\":\"#E5ECF6\",\"radialaxis\":{\"gridcolor\":\"white\",\"linecolor\":\"white\",\"ticks\":\"\"}},\"scene\":{\"xaxis\":{\"backgroundcolor\":\"#E5ECF6\",\"gridcolor\":\"white\",\"gridwidth\":2,\"linecolor\":\"white\",\"showbackground\":true,\"ticks\":\"\",\"zerolinecolor\":\"white\"},\"yaxis\":{\"backgroundcolor\":\"#E5ECF6\",\"gridcolor\":\"white\",\"gridwidth\":2,\"linecolor\":\"white\",\"showbackground\":true,\"ticks\":\"\",\"zerolinecolor\":\"white\"},\"zaxis\":{\"backgroundcolor\":\"#E5ECF6\",\"gridcolor\":\"white\",\"gridwidth\":2,\"linecolor\":\"white\",\"showbackground\":true,\"ticks\":\"\",\"zerolinecolor\":\"white\"}},\"shapedefaults\":{\"line\":{\"color\":\"#2a3f5f\"}},\"ternary\":{\"aaxis\":{\"gridcolor\":\"white\",\"linecolor\":\"white\",\"ticks\":\"\"},\"baxis\":{\"gridcolor\":\"white\",\"linecolor\":\"white\",\"ticks\":\"\"},\"bgcolor\":\"#E5ECF6\",\"caxis\":{\"gridcolor\":\"white\",\"linecolor\":\"white\",\"ticks\":\"\"}},\"title\":{\"x\":0.05},\"xaxis\":{\"automargin\":true,\"gridcolor\":\"white\",\"linecolor\":\"white\",\"ticks\":\"\",\"title\":{\"standoff\":15},\"zerolinecolor\":\"white\",\"zerolinewidth\":2},\"yaxis\":{\"automargin\":true,\"gridcolor\":\"white\",\"linecolor\":\"white\",\"ticks\":\"\",\"title\":{\"standoff\":15},\"zerolinecolor\":\"white\",\"zerolinewidth\":2}}},\"xaxis\":{\"anchor\":\"y\",\"domain\":[0.0,1.0],\"title\":{\"text\":\"Throughput (samples / second)\"}},\"yaxis\":{\"anchor\":\"x\",\"domain\":[0.0,1.0],\"title\":{\"text\":\"Peak Memory (GB)\"}}},                        {\"responsive\": true}                    ).then(function(){\n",
       "                            \n",
       "var gd = document.getElementById('8075622d-6736-4dc5-b94f-b9c9d892cc53');\n",
       "var x = new MutationObserver(function (mutations, observer) {{\n",
       "        var display = window.getComputedStyle(gd).display;\n",
       "        if (!display || display === 'none') {{\n",
       "            console.log([gd, 'removed!']);\n",
       "            Plotly.purge(gd);\n",
       "            observer.disconnect();\n",
       "        }}\n",
       "}});\n",
       "\n",
       "// Listen for the removal of the full notebook cells\n",
       "var notebookContainer = gd.closest('#notebook-container');\n",
       "if (notebookContainer) {{\n",
       "    x.observe(notebookContainer, {childList: true});\n",
       "}}\n",
       "\n",
       "// Listen for the clearing of the current output cell\n",
       "var outputEl = gd.closest('.output');\n",
       "if (outputEl) {{\n",
       "    x.observe(outputEl, {childList: true});\n",
       "}}\n",
       "\n",
       "                        })                };                });            </script>        </div>"
      ]
     },
     "metadata": {},
     "output_type": "display_data"
    }
   ],
   "source": [
    "simulation_filename = \"~/Downloads/gpt2_dgx_simulated_grid_search_results.csv\"\n",
    "plot_memory_usage_vs_metric(\n",
    "    simulation_filename,\n",
    "    \"gpt3-xl\",\n",
    "    131072,\n",
    "    \"throughput\",\n",
    "    \"Throughput (samples / second)\",\n",
    "    \"Peak Memory (GB)\",\n",
    "    os.path.join(FIGURES_DIR, \"gpt3-xl_memory_vs_throughput.pdf\"),\n",
    "    None,\n",
    ")"
   ]
  },
  {
   "cell_type": "code",
   "execution_count": 19,
   "id": "subtle-prince",
   "metadata": {},
   "outputs": [
    {
     "data": {
      "application/vnd.plotly.v1+json": {
       "config": {
        "plotlyServerURL": "https://plot.ly"
       },
       "data": [
        {
         "customdata": [
          [
           8192,
           16,
           1,
           1,
           1
          ],
          [
           16384,
           16,
           1,
           1,
           1
          ],
          [
           32768,
           16,
           1,
           1,
           1
          ],
          [
           65536,
           16,
           1,
           1,
           1
          ]
         ],
         "hovertemplate": "Parallelism style=D<br>Throughput (samples / second)=%{x}<br>Peak Memory (GB)=%{y}<br>dummy_column_for_size=%{marker.size}<br>batch_size=%{customdata[0]}<br>dp_degree=%{customdata[1]}<br>hp_degree=%{customdata[2]}<br>pp_degree=%{customdata[3]}<br>num_microbatches=%{customdata[4]}<extra></extra>",
         "legendgroup": "D",
         "marker": {
          "color": "#1f77b4",
          "size": [
           1,
           1,
           1,
           1
          ],
          "sizemode": "area",
          "sizeref": 0.01,
          "symbol": "circle"
         },
         "mode": "markers",
         "name": "D",
         "orientation": "v",
         "showlegend": true,
         "type": "scatter",
         "x": [
          6495.359573609559,
          6701.770431090694,
          6809.974813367697,
          6865.3979400498265
         ],
         "xaxis": "x",
         "y": [
          26.493238629,
          27.206303077,
          28.632431973,
          31.484689765
         ],
         "yaxis": "y"
        },
        {
         "customdata": [
          [
           8192,
           1,
           16,
           1,
           1
          ],
          [
           16384,
           1,
           16,
           1,
           1
          ],
          [
           32768,
           1,
           16,
           1,
           1
          ],
          [
           65536,
           1,
           16,
           1,
           1
          ]
         ],
         "hovertemplate": "Parallelism style=T<br>Throughput (samples / second)=%{x}<br>Peak Memory (GB)=%{y}<br>dummy_column_for_size=%{marker.size}<br>batch_size=%{customdata[0]}<br>dp_degree=%{customdata[1]}<br>hp_degree=%{customdata[2]}<br>pp_degree=%{customdata[3]}<br>num_microbatches=%{customdata[4]}<extra></extra>",
         "legendgroup": "T",
         "marker": {
          "color": "#ff7f0e",
          "size": [
           1,
           1,
           1,
           1
          ],
          "sizemode": "area",
          "sizeref": 0.01,
          "symbol": "diamond"
         },
         "mode": "markers",
         "name": "T",
         "orientation": "v",
         "showlegend": true,
         "type": "scatter",
         "x": [
          3201.196317924935,
          3250.020293726526,
          3274.995063130224,
          3287.626941909059
         ],
         "xaxis": "x",
         "y": [
          4.19844746,
          6.21236874,
          10.2402113,
          18.29589642
         ],
         "yaxis": "y"
        },
        {
         "customdata": [
          [
           8192,
           1,
           1,
           16,
           2
          ],
          [
           8192,
           1,
           1,
           16,
           4
          ],
          [
           8192,
           1,
           1,
           16,
           8
          ],
          [
           8192,
           1,
           1,
           16,
           16
          ],
          [
           8192,
           1,
           1,
           16,
           32
          ],
          [
           8192,
           1,
           1,
           16,
           64
          ],
          [
           8192,
           1,
           1,
           16,
           128
          ],
          [
           16384,
           1,
           1,
           16,
           2
          ],
          [
           16384,
           1,
           1,
           16,
           4
          ],
          [
           16384,
           1,
           1,
           16,
           8
          ],
          [
           16384,
           1,
           1,
           16,
           16
          ],
          [
           16384,
           1,
           1,
           16,
           32
          ],
          [
           16384,
           1,
           1,
           16,
           64
          ],
          [
           16384,
           1,
           1,
           16,
           128
          ],
          [
           32768,
           1,
           1,
           16,
           2
          ],
          [
           32768,
           1,
           1,
           16,
           4
          ],
          [
           32768,
           1,
           1,
           16,
           8
          ],
          [
           32768,
           1,
           1,
           16,
           16
          ],
          [
           32768,
           1,
           1,
           16,
           32
          ],
          [
           32768,
           1,
           1,
           16,
           64
          ],
          [
           32768,
           1,
           1,
           16,
           128
          ],
          [
           65536,
           1,
           1,
           16,
           4
          ],
          [
           65536,
           1,
           1,
           16,
           8
          ],
          [
           65536,
           1,
           1,
           16,
           16
          ],
          [
           65536,
           1,
           1,
           16,
           32
          ],
          [
           65536,
           1,
           1,
           16,
           64
          ],
          [
           65536,
           1,
           1,
           16,
           128
          ],
          [
           131072,
           1,
           1,
           16,
           16
          ],
          [
           131072,
           1,
           1,
           16,
           32
          ],
          [
           131072,
           1,
           1,
           16,
           64
          ],
          [
           131072,
           1,
           1,
           16,
           128
          ]
         ],
         "hovertemplate": "Parallelism style=P<br>Throughput (samples / second)=%{x}<br>Peak Memory (GB)=%{y}<br>dummy_column_for_size=%{marker.size}<br>batch_size=%{customdata[0]}<br>dp_degree=%{customdata[1]}<br>hp_degree=%{customdata[2]}<br>pp_degree=%{customdata[3]}<br>num_microbatches=%{customdata[4]}<extra></extra>",
         "legendgroup": "P",
         "marker": {
          "color": "#2ca02c",
          "size": [
           1,
           1,
           1,
           1,
           1,
           1,
           1,
           1,
           1,
           1,
           1,
           1,
           1,
           1,
           1,
           1,
           1,
           1,
           1,
           1,
           1,
           1,
           1,
           1,
           1,
           1,
           1,
           1,
           1,
           1,
           1
          ],
          "sizemode": "area",
          "sizeref": 0.01,
          "symbol": "square"
         },
         "mode": "markers",
         "name": "P",
         "orientation": "v",
         "showlegend": true,
         "type": "scatter",
         "x": [
          789.2577091988553,
          1369.9040906190437,
          2166.896926086792,
          3013.2728206950023,
          3626.707789608856,
          3776.787257613923,
          3403.7343052600218,
          792.45238865469,
          1380.9053370345298,
          2201.389642424117,
          3107.4873818463084,
          3846.021542381302,
          4207.027587738796,
          4107.4896693432265,
          794.0594463814309,
          1386.472487900069,
          2219.051096247394,
          3156.83907108996,
          3965.935276718282,
          4460.813607972095,
          4574.843424659359,
          1389.2729304028503,
          2227.9885227837167,
          3182.1074566116527,
          4028.740610218401,
          4599.545812880525,
          4850.517143161774,
          3194.8939513049063,
          4060.895178840694,
          4672.1989792215245,
          5001.199825031206
         ],
         "xaxis": "x",
         "y": [
          8.124023149,
          5.271896429,
          3.845833069,
          3.132801389,
          2.776285549,
          2.598027629,
          2.508898669,
          13.828800877,
          8.124547437,
          5.272420717,
          3.846357357,
          3.315751032,
          3.315751032,
          3.315751032,
          25.238356333,
          14.053169277,
          8.684460157,
          6.000105597,
          6.000105592,
          6.000105592,
          6.000105592,
          27.474942077,
          16.737523837,
          11.368814717,
          11.368814712,
          11.368814712,
          11.368814712,
          22.106232957,
          22.106232952,
          22.106232952,
          22.106232952
         ],
         "yaxis": "y"
        },
        {
         "customdata": [
          [
           8192,
           2,
           8,
           1,
           1
          ],
          [
           8192,
           4,
           4,
           1,
           1
          ],
          [
           8192,
           8,
           2,
           1,
           1
          ],
          [
           16384,
           2,
           8,
           1,
           1
          ],
          [
           16384,
           4,
           4,
           1,
           1
          ],
          [
           16384,
           8,
           2,
           1,
           1
          ],
          [
           32768,
           2,
           8,
           1,
           1
          ],
          [
           32768,
           4,
           4,
           1,
           1
          ],
          [
           32768,
           8,
           2,
           1,
           1
          ],
          [
           65536,
           2,
           8,
           1,
           1
          ],
          [
           65536,
           4,
           4,
           1,
           1
          ],
          [
           65536,
           8,
           2,
           1,
           1
          ],
          [
           131072,
           2,
           8,
           1,
           1
          ],
          [
           131072,
           4,
           4,
           1,
           1
          ],
          [
           131072,
           8,
           2,
           1,
           1
          ]
         ],
         "hovertemplate": "Parallelism style=D/T<br>Throughput (samples / second)=%{x}<br>Peak Memory (GB)=%{y}<br>dummy_column_for_size=%{marker.size}<br>batch_size=%{customdata[0]}<br>dp_degree=%{customdata[1]}<br>hp_degree=%{customdata[2]}<br>pp_degree=%{customdata[3]}<br>num_microbatches=%{customdata[4]}<extra></extra>",
         "legendgroup": "D/T",
         "marker": {
          "color": "#d62728",
          "size": [
           1,
           1,
           1,
           1,
           1,
           1,
           1,
           1,
           1,
           1,
           1,
           1,
           1,
           1,
           1
          ],
          "sizemode": "area",
          "sizeref": 0.01,
          "symbol": "x"
         },
         "mode": "markers",
         "name": "D/T",
         "orientation": "v",
         "showlegend": true,
         "type": "scatter",
         "x": [
          4347.613818251683,
          5338.050467219769,
          6022.8759049959845,
          4430.683938946851,
          5464.6421218585465,
          6191.800116263746,
          4473.420901072936,
          5530.216554741869,
          6279.866137453614,
          4495.100050755664,
          5563.5974918814345,
          6324.845299385317,
          4506.0186133222605,
          5580.439535905768,
          6347.577369154757
         ],
         "xaxis": "x",
         "y": [
          4.76453002,
          7.742647653,
          13.950868837,
          5.77149066,
          8.581639525,
          14.705909093,
          7.78541194,
          10.259623269,
          16.215989605,
          11.8132545,
          13.615590757,
          19.236150629,
          19.86893962,
          20.327525733,
          25.276472677
         ],
         "yaxis": "y"
        },
        {
         "customdata": [
          [
           8192,
           1,
           2,
           8,
           2
          ],
          [
           8192,
           1,
           2,
           8,
           4
          ],
          [
           8192,
           1,
           2,
           8,
           8
          ],
          [
           8192,
           1,
           4,
           4,
           2
          ],
          [
           8192,
           1,
           4,
           4,
           4
          ],
          [
           8192,
           1,
           2,
           8,
           16
          ],
          [
           8192,
           1,
           4,
           4,
           8
          ],
          [
           8192,
           1,
           2,
           8,
           32
          ],
          [
           8192,
           1,
           8,
           2,
           2
          ],
          [
           8192,
           1,
           8,
           2,
           4
          ],
          [
           8192,
           1,
           4,
           4,
           16
          ],
          [
           8192,
           1,
           2,
           8,
           64
          ],
          [
           8192,
           1,
           8,
           2,
           8
          ],
          [
           8192,
           1,
           4,
           4,
           32
          ],
          [
           8192,
           1,
           8,
           2,
           16
          ],
          [
           8192,
           1,
           2,
           8,
           128
          ],
          [
           8192,
           1,
           4,
           4,
           64
          ],
          [
           8192,
           1,
           8,
           2,
           32
          ],
          [
           8192,
           1,
           4,
           4,
           128
          ],
          [
           8192,
           1,
           8,
           2,
           64
          ],
          [
           8192,
           1,
           8,
           2,
           128
          ],
          [
           16384,
           1,
           2,
           8,
           2
          ],
          [
           16384,
           1,
           2,
           8,
           4
          ],
          [
           16384,
           1,
           2,
           8,
           8
          ],
          [
           16384,
           1,
           2,
           8,
           16
          ],
          [
           16384,
           1,
           4,
           4,
           2
          ],
          [
           16384,
           1,
           4,
           4,
           4
          ],
          [
           16384,
           1,
           4,
           4,
           8
          ],
          [
           16384,
           1,
           2,
           8,
           32
          ],
          [
           16384,
           1,
           8,
           2,
           2
          ],
          [
           16384,
           1,
           8,
           2,
           4
          ],
          [
           16384,
           1,
           4,
           4,
           16
          ],
          [
           16384,
           1,
           8,
           2,
           8
          ],
          [
           16384,
           1,
           2,
           8,
           64
          ],
          [
           16384,
           1,
           4,
           4,
           32
          ],
          [
           16384,
           1,
           8,
           2,
           16
          ],
          [
           16384,
           1,
           4,
           4,
           64
          ],
          [
           16384,
           1,
           2,
           8,
           128
          ],
          [
           16384,
           1,
           8,
           2,
           32
          ],
          [
           16384,
           1,
           4,
           4,
           128
          ],
          [
           16384,
           1,
           8,
           2,
           64
          ],
          [
           16384,
           1,
           8,
           2,
           128
          ],
          [
           32768,
           1,
           2,
           8,
           2
          ],
          [
           32768,
           1,
           2,
           8,
           4
          ],
          [
           32768,
           1,
           2,
           8,
           8
          ],
          [
           32768,
           1,
           4,
           4,
           2
          ],
          [
           32768,
           1,
           2,
           8,
           16
          ],
          [
           32768,
           1,
           4,
           4,
           4
          ],
          [
           32768,
           1,
           2,
           8,
           32
          ],
          [
           32768,
           1,
           4,
           4,
           8
          ],
          [
           32768,
           1,
           8,
           2,
           2
          ],
          [
           32768,
           1,
           4,
           4,
           16
          ],
          [
           32768,
           1,
           8,
           2,
           4
          ],
          [
           32768,
           1,
           2,
           8,
           64
          ],
          [
           32768,
           1,
           8,
           2,
           8
          ],
          [
           32768,
           1,
           4,
           4,
           32
          ],
          [
           32768,
           1,
           8,
           2,
           16
          ],
          [
           32768,
           1,
           2,
           8,
           128
          ],
          [
           32768,
           1,
           4,
           4,
           64
          ],
          [
           32768,
           1,
           8,
           2,
           32
          ],
          [
           32768,
           1,
           8,
           2,
           64
          ],
          [
           32768,
           1,
           4,
           4,
           128
          ],
          [
           32768,
           1,
           8,
           2,
           128
          ],
          [
           65536,
           1,
           2,
           8,
           2
          ],
          [
           65536,
           1,
           2,
           8,
           4
          ],
          [
           65536,
           1,
           2,
           8,
           8
          ],
          [
           65536,
           1,
           4,
           4,
           2
          ],
          [
           65536,
           1,
           2,
           8,
           16
          ],
          [
           65536,
           1,
           4,
           4,
           4
          ],
          [
           65536,
           1,
           4,
           4,
           8
          ],
          [
           65536,
           1,
           2,
           8,
           32
          ],
          [
           65536,
           1,
           8,
           2,
           2
          ],
          [
           65536,
           1,
           8,
           2,
           4
          ],
          [
           65536,
           1,
           4,
           4,
           16
          ],
          [
           65536,
           1,
           8,
           2,
           8
          ],
          [
           65536,
           1,
           2,
           8,
           64
          ],
          [
           65536,
           1,
           4,
           4,
           32
          ],
          [
           65536,
           1,
           8,
           2,
           16
          ],
          [
           65536,
           1,
           2,
           8,
           128
          ],
          [
           65536,
           1,
           4,
           4,
           64
          ],
          [
           65536,
           1,
           8,
           2,
           32
          ],
          [
           65536,
           1,
           4,
           4,
           128
          ],
          [
           65536,
           1,
           8,
           2,
           64
          ],
          [
           65536,
           1,
           8,
           2,
           128
          ],
          [
           131072,
           1,
           2,
           8,
           8
          ],
          [
           131072,
           1,
           2,
           8,
           16
          ],
          [
           131072,
           1,
           4,
           4,
           4
          ],
          [
           131072,
           1,
           4,
           4,
           8
          ],
          [
           131072,
           1,
           2,
           8,
           32
          ],
          [
           131072,
           1,
           8,
           2,
           2
          ],
          [
           131072,
           1,
           4,
           4,
           16
          ],
          [
           131072,
           1,
           8,
           2,
           4
          ],
          [
           131072,
           1,
           8,
           2,
           8
          ],
          [
           131072,
           1,
           2,
           8,
           64
          ],
          [
           131072,
           1,
           4,
           4,
           32
          ],
          [
           131072,
           1,
           8,
           2,
           16
          ],
          [
           131072,
           1,
           2,
           8,
           128
          ],
          [
           131072,
           1,
           8,
           2,
           32
          ],
          [
           131072,
           1,
           4,
           4,
           64
          ],
          [
           131072,
           1,
           4,
           4,
           128
          ],
          [
           131072,
           1,
           8,
           2,
           64
          ],
          [
           131072,
           1,
           8,
           2,
           128
          ]
         ],
         "hovertemplate": "Parallelism style=T/P<br>Throughput (samples / second)=%{x}<br>Peak Memory (GB)=%{y}<br>dummy_column_for_size=%{marker.size}<br>batch_size=%{customdata[0]}<br>dp_degree=%{customdata[1]}<br>hp_degree=%{customdata[2]}<br>pp_degree=%{customdata[3]}<br>num_microbatches=%{customdata[4]}<extra></extra>",
         "legendgroup": "T/P",
         "marker": {
          "color": "#9467bd",
          "size": [
           1,
           1,
           1,
           1,
           1,
           1,
           1,
           1,
           1,
           1,
           1,
           1,
           1,
           1,
           1,
           1,
           1,
           1,
           1,
           1,
           1,
           1,
           1,
           1,
           1,
           1,
           1,
           1,
           1,
           1,
           1,
           1,
           1,
           1,
           1,
           1,
           1,
           1,
           1,
           1,
           1,
           1,
           1,
           1,
           1,
           1,
           1,
           1,
           1,
           1,
           1,
           1,
           1,
           1,
           1,
           1,
           1,
           1,
           1,
           1,
           1,
           1,
           1,
           1,
           1,
           1,
           1,
           1,
           1,
           1,
           1,
           1,
           1,
           1,
           1,
           1,
           1,
           1,
           1,
           1,
           1,
           1,
           1,
           1,
           1,
           1,
           1,
           1,
           1,
           1,
           1,
           1,
           1,
           1,
           1,
           1,
           1,
           1,
           1,
           1,
           1,
           1
          ],
          "sizemode": "area",
          "sizeref": 0.01,
          "symbol": "cross"
         },
         "mode": "markers",
         "name": "T/P",
         "orientation": "v",
         "showlegend": true,
         "type": "scatter",
         "x": [
          1356.389586212754,
          2121.683586956487,
          2919.748392103712,
          2132.447012629877,
          2910.637213758968,
          3492.652441772446,
          3471.384756563484,
          3639.9354538467737,
          2842.689769171639,
          3245.058931030891,
          3640.306029194707,
          3311.951802267328,
          3334.1084745827475,
          3369.4785253482,
          3096.238411362993,
          2620.967480035748,
          2737.1144939268133,
          2571.9580221838705,
          1942.9372362838276,
          1885.52145124686,
          1221.9082480622617,
          1366.0577015880967,
          2151.782263845629,
          3001.001141141036,
          3683.4710267581872,
          2157.934764213254,
          2979.4568215397194,
          3631.8751177566505,
          4017.874305701688,
          2896.843490607078,
          3366.341775495627,
          3962.20379217364,
          3574.297124250844,
          3935.536489197196,
          3917.130539993545,
          3512.314686744485,
          3502.574564966569,
          3451.8735738994183,
          3181.281610204969,
          2792.2154696253647,
          2607.786577837146,
          1898.7532739961853,
          1370.9436286512164,
          2167.154129925292,
          3043.3473131843875,
          2170.908492526148,
          3785.995069808028,
          3015.101612551828,
          4237.65556160339,
          3717.816869254437,
          2924.701520196424,
          4145.488301787705,
          3430.447613509255,
          4344.5381311513,
          3707.853723536319,
          4263.6204026965415,
          3765.308017254532,
          4102.103457856849,
          4071.9550172018367,
          3608.757716138603,
          3225.5794906656783,
          3573.1450481103243,
          2626.077812426334,
          1373.3997221466316,
          2174.9227181600054,
          3064.9717335412915,
          2177.454032618818,
          3839.427501829065,
          3033.2457605793024,
          3762.3312491235656,
          4355.288161089313,
          2938.8324321906007,
          3463.424918189205,
          4243.639924382701,
          3778.446122140259,
          4582.395164348645,
          4460.915593087014,
          3905.982709400185,
          4528.633063966573,
          4432.205937527038,
          3868.679376253905,
          4154.04936075572,
          3658.993017155041,
          3248.194295048168,
          3075.899593383466,
          3866.713313412564,
          3042.399972035937,
          3784.9905831547735,
          4416.58794265465,
          2945.94921810015,
          4294.479548719285,
          3480.152479952363,
          3814.759995101081,
          4709.578259153623,
          4566.5726083809,
          3980.336874028763,
          4776.675933744371,
          4013.205429204445,
          4637.341625594699,
          4521.599001876462,
          3922.523118060554,
          3684.6388147494217
         ],
         "xaxis": "x",
         "y": [
          5.446144701,
          3.936195261,
          3.181220541,
          3.957456621,
          3.118595821,
          2.803733181,
          2.777364088,
          2.614989501,
          3.229367388,
          2.877602168,
          2.777364088,
          2.609266808,
          2.877602168,
          2.777364088,
          2.877602168,
          2.609266808,
          2.777364088,
          2.877602168,
          2.777364088,
          2.877602168,
          2.877602168,
          8.466567869,
          5.446668989,
          3.951444093,
          3.951444088,
          5.635702509,
          4.119541373,
          4.119541368,
          3.951444088,
          4.236590172,
          4.219779448,
          4.119541368,
          4.219779448,
          3.951444088,
          4.119541368,
          4.219779448,
          4.119541368,
          3.951444088,
          4.219779448,
          4.119541368,
          4.219779448,
          4.219779448,
          14.688862333,
          9.320153213,
          6.635798653,
          9.488250493,
          6.635798648,
          6.803895933,
          6.635798648,
          6.803895928,
          6.904396156,
          6.803895928,
          6.904134008,
          6.635798648,
          6.904134008,
          6.803895928,
          6.904134008,
          6.635798648,
          6.803895928,
          6.904134008,
          6.904134008,
          6.803895928,
          6.904134008,
          28.110635133,
          17.373216893,
          12.004507773,
          17.541314173,
          12.004507768,
          12.172605053,
          12.172605048,
          12.004507768,
          12.27336742,
          12.272843128,
          12.172605048,
          12.272843128,
          12.004507768,
          12.172605048,
          12.272843128,
          12.004507768,
          12.172605048,
          12.272843128,
          12.172605048,
          12.272843128,
          12.272843128,
          22.741926013,
          22.741926008,
          22.910023293,
          22.910023288,
          22.741926008,
          23.011309948,
          22.910023288,
          23.010261368,
          23.010261368,
          22.741926008,
          22.910023288,
          23.010261368,
          22.741926008,
          23.010261368,
          22.910023288,
          22.910023288,
          23.010261368,
          23.010261368
         ],
         "yaxis": "y"
        },
        {
         "customdata": [
          [
           8192,
           2,
           1,
           8,
           2
          ],
          [
           8192,
           2,
           1,
           8,
           4
          ],
          [
           8192,
           2,
           1,
           8,
           8
          ],
          [
           8192,
           2,
           1,
           8,
           16
          ],
          [
           8192,
           2,
           1,
           8,
           32
          ],
          [
           8192,
           4,
           1,
           4,
           2
          ],
          [
           8192,
           2,
           1,
           8,
           64
          ],
          [
           8192,
           4,
           1,
           4,
           4
          ],
          [
           8192,
           4,
           1,
           4,
           8
          ],
          [
           8192,
           4,
           1,
           4,
           16
          ],
          [
           8192,
           8,
           1,
           2,
           2
          ],
          [
           8192,
           8,
           1,
           2,
           4
          ],
          [
           8192,
           8,
           1,
           2,
           8
          ],
          [
           8192,
           4,
           1,
           4,
           32
          ],
          [
           8192,
           2,
           1,
           8,
           128
          ],
          [
           8192,
           8,
           1,
           2,
           16
          ],
          [
           8192,
           4,
           1,
           4,
           64
          ],
          [
           8192,
           8,
           1,
           2,
           32
          ],
          [
           8192,
           4,
           1,
           4,
           128
          ],
          [
           8192,
           8,
           1,
           2,
           64
          ],
          [
           8192,
           8,
           1,
           2,
           128
          ],
          [
           16384,
           2,
           1,
           8,
           2
          ],
          [
           16384,
           2,
           1,
           8,
           4
          ],
          [
           16384,
           2,
           1,
           8,
           8
          ],
          [
           16384,
           2,
           1,
           8,
           16
          ],
          [
           16384,
           2,
           1,
           8,
           32
          ],
          [
           16384,
           4,
           1,
           4,
           2
          ],
          [
           16384,
           4,
           1,
           4,
           4
          ],
          [
           16384,
           2,
           1,
           8,
           64
          ],
          [
           16384,
           4,
           1,
           4,
           8
          ],
          [
           16384,
           4,
           1,
           4,
           16
          ],
          [
           16384,
           8,
           1,
           2,
           2
          ],
          [
           16384,
           8,
           1,
           2,
           4
          ],
          [
           16384,
           4,
           1,
           4,
           32
          ],
          [
           16384,
           2,
           1,
           8,
           128
          ],
          [
           16384,
           8,
           1,
           2,
           8
          ],
          [
           16384,
           8,
           1,
           2,
           16
          ],
          [
           16384,
           4,
           1,
           4,
           64
          ],
          [
           16384,
           8,
           1,
           2,
           32
          ],
          [
           16384,
           4,
           1,
           4,
           128
          ],
          [
           16384,
           8,
           1,
           2,
           64
          ],
          [
           16384,
           8,
           1,
           2,
           128
          ],
          [
           32768,
           2,
           1,
           8,
           2
          ],
          [
           32768,
           2,
           1,
           8,
           4
          ],
          [
           32768,
           2,
           1,
           8,
           8
          ],
          [
           32768,
           2,
           1,
           8,
           16
          ],
          [
           32768,
           2,
           1,
           8,
           32
          ],
          [
           32768,
           4,
           1,
           4,
           2
          ],
          [
           32768,
           2,
           1,
           8,
           64
          ],
          [
           32768,
           4,
           1,
           4,
           4
          ],
          [
           32768,
           4,
           1,
           4,
           8
          ],
          [
           32768,
           4,
           1,
           4,
           16
          ],
          [
           32768,
           8,
           1,
           2,
           2
          ],
          [
           32768,
           8,
           1,
           2,
           4
          ],
          [
           32768,
           2,
           1,
           8,
           128
          ],
          [
           32768,
           8,
           1,
           2,
           8
          ],
          [
           32768,
           4,
           1,
           4,
           32
          ],
          [
           32768,
           8,
           1,
           2,
           16
          ],
          [
           32768,
           4,
           1,
           4,
           64
          ],
          [
           32768,
           8,
           1,
           2,
           32
          ],
          [
           32768,
           4,
           1,
           4,
           128
          ],
          [
           32768,
           8,
           1,
           2,
           64
          ],
          [
           32768,
           8,
           1,
           2,
           128
          ],
          [
           65536,
           2,
           1,
           8,
           2
          ],
          [
           65536,
           2,
           1,
           8,
           4
          ],
          [
           65536,
           2,
           1,
           8,
           8
          ],
          [
           65536,
           2,
           1,
           8,
           16
          ],
          [
           65536,
           2,
           1,
           8,
           32
          ],
          [
           65536,
           4,
           1,
           4,
           2
          ],
          [
           65536,
           4,
           1,
           4,
           4
          ],
          [
           65536,
           2,
           1,
           8,
           64
          ],
          [
           65536,
           4,
           1,
           4,
           8
          ],
          [
           65536,
           4,
           1,
           4,
           16
          ],
          [
           65536,
           8,
           1,
           2,
           2
          ],
          [
           65536,
           8,
           1,
           2,
           4
          ],
          [
           65536,
           2,
           1,
           8,
           128
          ],
          [
           65536,
           4,
           1,
           4,
           32
          ],
          [
           65536,
           8,
           1,
           2,
           8
          ],
          [
           65536,
           8,
           1,
           2,
           16
          ],
          [
           65536,
           4,
           1,
           4,
           64
          ],
          [
           65536,
           8,
           1,
           2,
           32
          ],
          [
           65536,
           4,
           1,
           4,
           128
          ],
          [
           65536,
           8,
           1,
           2,
           64
          ],
          [
           65536,
           8,
           1,
           2,
           128
          ],
          [
           131072,
           2,
           1,
           8,
           4
          ],
          [
           131072,
           2,
           1,
           8,
           8
          ],
          [
           131072,
           2,
           1,
           8,
           16
          ],
          [
           131072,
           2,
           1,
           8,
           32
          ],
          [
           131072,
           4,
           1,
           4,
           2
          ],
          [
           131072,
           2,
           1,
           8,
           64
          ],
          [
           131072,
           4,
           1,
           4,
           4
          ],
          [
           131072,
           4,
           1,
           4,
           8
          ],
          [
           131072,
           4,
           1,
           4,
           16
          ],
          [
           131072,
           8,
           1,
           2,
           2
          ],
          [
           131072,
           8,
           1,
           2,
           4
          ],
          [
           131072,
           4,
           1,
           4,
           32
          ],
          [
           131072,
           2,
           1,
           8,
           128
          ],
          [
           131072,
           8,
           1,
           2,
           8
          ],
          [
           131072,
           8,
           1,
           2,
           16
          ],
          [
           131072,
           4,
           1,
           4,
           64
          ],
          [
           131072,
           8,
           1,
           2,
           32
          ],
          [
           131072,
           4,
           1,
           4,
           128
          ],
          [
           131072,
           8,
           1,
           2,
           64
          ],
          [
           131072,
           8,
           1,
           2,
           128
          ],
          [
           262144,
           2,
           1,
           8,
           16
          ],
          [
           262144,
           2,
           1,
           8,
           32
          ],
          [
           262144,
           2,
           1,
           8,
           64
          ],
          [
           262144,
           4,
           1,
           4,
           8
          ],
          [
           262144,
           4,
           1,
           4,
           16
          ],
          [
           262144,
           8,
           1,
           2,
           4
          ],
          [
           262144,
           4,
           1,
           4,
           32
          ],
          [
           262144,
           8,
           1,
           2,
           8
          ],
          [
           262144,
           2,
           1,
           8,
           128
          ],
          [
           262144,
           8,
           1,
           2,
           16
          ],
          [
           262144,
           4,
           1,
           4,
           64
          ],
          [
           262144,
           8,
           1,
           2,
           32
          ],
          [
           262144,
           4,
           1,
           4,
           128
          ],
          [
           262144,
           8,
           1,
           2,
           64
          ],
          [
           262144,
           8,
           1,
           2,
           128
          ],
          [
           524288,
           4,
           1,
           4,
           16
          ],
          [
           524288,
           4,
           1,
           4,
           32
          ],
          [
           524288,
           8,
           1,
           2,
           8
          ],
          [
           524288,
           8,
           1,
           2,
           16
          ],
          [
           524288,
           4,
           1,
           4,
           64
          ],
          [
           524288,
           8,
           1,
           2,
           32
          ],
          [
           524288,
           4,
           1,
           4,
           128
          ],
          [
           524288,
           8,
           1,
           2,
           64
          ],
          [
           524288,
           8,
           1,
           2,
           128
          ]
         ],
         "hovertemplate": "Parallelism style=D/P<br>Throughput (samples / second)=%{x}<br>Peak Memory (GB)=%{y}<br>dummy_column_for_size=%{marker.size}<br>batch_size=%{customdata[0]}<br>dp_degree=%{customdata[1]}<br>hp_degree=%{customdata[2]}<br>pp_degree=%{customdata[3]}<br>num_microbatches=%{customdata[4]}<extra></extra>",
         "legendgroup": "D/P",
         "marker": {
          "color": "#8c564b",
          "size": [
           1,
           1,
           1,
           1,
           1,
           1,
           1,
           1,
           1,
           1,
           1,
           1,
           1,
           1,
           1,
           1,
           1,
           1,
           1,
           1,
           1,
           1,
           1,
           1,
           1,
           1,
           1,
           1,
           1,
           1,
           1,
           1,
           1,
           1,
           1,
           1,
           1,
           1,
           1,
           1,
           1,
           1,
           1,
           1,
           1,
           1,
           1,
           1,
           1,
           1,
           1,
           1,
           1,
           1,
           1,
           1,
           1,
           1,
           1,
           1,
           1,
           1,
           1,
           1,
           1,
           1,
           1,
           1,
           1,
           1,
           1,
           1,
           1,
           1,
           1,
           1,
           1,
           1,
           1,
           1,
           1,
           1,
           1,
           1,
           1,
           1,
           1,
           1,
           1,
           1,
           1,
           1,
           1,
           1,
           1,
           1,
           1,
           1,
           1,
           1,
           1,
           1,
           1,
           1,
           1,
           1,
           1,
           1,
           1,
           1,
           1,
           1,
           1,
           1,
           1,
           1,
           1,
           1,
           1,
           1,
           1,
           1,
           1,
           1,
           1,
           1,
           1,
           1
          ],
          "sizemode": "area",
          "sizeref": 0.01,
          "symbol": "circle"
         },
         "mode": "markers",
         "name": "D/P",
         "orientation": "v",
         "showlegend": true,
         "type": "scatter",
         "x": [
          1475.2218524869704,
          2302.9409842492446,
          3157.31590859181,
          3750.869022583605,
          3863.8691334779423,
          2624.106474099418,
          3455.002302435148,
          3553.483219418091,
          4176.512899130547,
          4270.717268474254,
          4256.966883067941,
          4749.704439584845,
          4688.545657273856,
          3803.310890002808,
          2675.220018474074,
          4089.624538752338,
          2939.8746570848825,
          3126.3329922799467,
          1982.440247363813,
          2096.5066964526022,
          1258.744316365862,
          1487.204504637762,
          2340.1276137180685,
          3257.8335431147875,
          3982.902933880177,
          4314.667696869069,
          2666.448446928539,
          3666.4345081180422,
          4177.497985533527,
          4434.0279491318925,
          4767.01677517551,
          4392.16516069961,
          5042.064218032119,
          4595.454340791221,
          3600.8946309325106,
          5232.213291585696,
          4939.467409623318,
          3953.5230596691576,
          4202.088321427892,
          2999.049643267857,
          3169.928995299013,
          2111.230320254422,
          1493.2691261983894,
          2359.174946057477,
          3310.1781880164217,
          4109.942143058505,
          4581.956705506596,
          2688.1360162562214,
          4665.291102102041,
          3725.64634763202,
          4575.072654593303,
          5061.091152433973,
          4463.036614467606,
          5202.169454964867,
          4354.21292517607,
          5554.238491038167,
          5129.649165932441,
          5512.197457007012,
          4777.074072455285,
          5075.276832158336,
          4033.168265308431,
          4260.672098068183,
          3192.186150482339,
          1496.320022912192,
          2368.815363360384,
          3336.986397475785,
          4175.988079856989,
          4728.27324656082,
          2699.112638086069,
          3755.975296090635,
          4954.554888538737,
          4649.014323827184,
          5222.167321820189,
          4499.336997345125,
          5286.09656360085,
          4862.877424092232,
          5446.193305503275,
          5730.587729271433,
          5851.43361053077,
          5332.472803065889,
          5663.735257640296,
          4873.375891169102,
          5146.021114690608,
          4290.580849493141,
          2373.665178099645,
          3350.5539984160187,
          4209.813504519005,
          4804.062940772667,
          2704.6346338820126,
          5112.900703327528,
          3771.32569868691,
          4686.888736194869,
          5306.6124322970745,
          4517.709531551234,
          5329.083879329186,
          5619.581940127083,
          5164.541460663859,
          5823.029457391673,
          6037.206969177255,
          5661.590604824808,
          6012.285721611018,
          5440.0205831463945,
          5742.672189799272,
          5182.138025023874,
          4226.932541437577,
          4842.876276309754,
          5194.843632515937,
          4706.058304238146,
          5349.867475860934,
          5350.840791992261,
          5710.483313730017,
          5870.377818138828,
          5329.666220866154,
          6134.588498654439,
          5841.869368118919,
          6203.159229011989,
          5775.807383572461,
          6096.074283771547,
          5782.971569377949,
          5371.760513841316,
          5757.045796167127,
          5894.341927370673,
          6184.46693183585,
          5936.383790203618,
          6303.214069473891,
          5959.740719588487,
          6289.60434004498,
          6138.8504822799005
         ],
         "xaxis": "x",
         "y": [
          7.165762237,
          5.739698877,
          5.026667197,
          4.670151357,
          4.491893437,
          8.896447725,
          4.402764477,
          8.183416045,
          7.826900205,
          7.648642285,
          14.497109341,
          14.140593501,
          13.962335581,
          7.559513325,
          4.358199997,
          13.873206621,
          7.514948845,
          13.828642141,
          7.492666605,
          13.806359901,
          13.795218781,
          10.018151101,
          7.166024381,
          5.739961021,
          5.026929341,
          4.670413501,
          10.322642157,
          8.896578797,
          4.492155581,
          8.183547117,
          7.827031277,
          15.210206557,
          14.497174877,
          7.648773357,
          4.403026621,
          14.140659037,
          13.962401117,
          7.559644397,
          13.873272157,
          7.515079917,
          13.828707677,
          13.806425437,
          15.722928829,
          10.018675389,
          7.166548669,
          5.740485309,
          5.209878648,
          13.175031021,
          5.209878648,
          10.322904301,
          8.896840941,
          8.183809261,
          16.636400989,
          15.210337629,
          5.209878648,
          14.497305949,
          7.827293421,
          14.140790109,
          7.649035501,
          13.962532189,
          7.559906541,
          13.873403229,
          13.828838749,
          27.132484285,
          15.947296893,
          10.578587773,
          7.894233213,
          7.894233208,
          18.879808749,
          13.175555309,
          7.894233208,
          10.323428589,
          8.897365229,
          19.488789853,
          16.636663133,
          7.894233208,
          8.366758008,
          15.210599773,
          14.497568093,
          8.366758008,
          14.141052253,
          8.366758008,
          13.962794333,
          13.873665373,
          29.369069693,
          18.631651453,
          13.262942333,
          13.262942328,
          30.289364205,
          13.262942328,
          19.104176253,
          13.735467133,
          11.051112573,
          25.193567581,
          19.489314141,
          11.051112568,
          13.262942328,
          16.637187421,
          15.211124061,
          11.051112568,
          14.680516728,
          11.051112568,
          14.680516728,
          14.680516728,
          24.000360573,
          24.000360568,
          24.000360568,
          21.788530813,
          16.419821693,
          25.417934973,
          16.419821688,
          20.049225853,
          24.000360568,
          17.364871293,
          16.419821688,
          17.364871288,
          16.419821688,
          17.364871288,
          17.364871288,
          27.157239933,
          27.157239928,
          28.102289533,
          22.733580413,
          27.157239928,
          22.733580408,
          27.157239928,
          22.733580408,
          22.733580408
         ],
         "yaxis": "y"
        },
        {
         "customdata": [
          [
           8192,
           2,
           2,
           4,
           2
          ],
          [
           8192,
           2,
           2,
           4,
           4
          ],
          [
           8192,
           2,
           2,
           4,
           8
          ],
          [
           8192,
           2,
           4,
           2,
           2
          ],
          [
           8192,
           2,
           2,
           4,
           16
          ],
          [
           8192,
           2,
           4,
           2,
           4
          ],
          [
           8192,
           2,
           4,
           2,
           8
          ],
          [
           8192,
           2,
           2,
           4,
           32
          ],
          [
           8192,
           4,
           2,
           2,
           2
          ],
          [
           8192,
           4,
           2,
           2,
           4
          ],
          [
           8192,
           2,
           4,
           2,
           16
          ],
          [
           8192,
           4,
           2,
           2,
           8
          ],
          [
           8192,
           2,
           2,
           4,
           64
          ],
          [
           8192,
           4,
           2,
           2,
           16
          ],
          [
           8192,
           2,
           4,
           2,
           32
          ],
          [
           8192,
           4,
           2,
           2,
           32
          ],
          [
           8192,
           2,
           2,
           4,
           128
          ],
          [
           8192,
           2,
           4,
           2,
           64
          ],
          [
           8192,
           4,
           2,
           2,
           64
          ],
          [
           8192,
           2,
           4,
           2,
           128
          ],
          [
           8192,
           4,
           2,
           2,
           128
          ],
          [
           16384,
           2,
           2,
           4,
           2
          ],
          [
           16384,
           2,
           2,
           4,
           4
          ],
          [
           16384,
           2,
           4,
           2,
           2
          ],
          [
           16384,
           2,
           2,
           4,
           8
          ],
          [
           16384,
           2,
           4,
           2,
           4
          ],
          [
           16384,
           2,
           2,
           4,
           16
          ],
          [
           16384,
           2,
           4,
           2,
           8
          ],
          [
           16384,
           2,
           2,
           4,
           32
          ],
          [
           16384,
           4,
           2,
           2,
           2
          ],
          [
           16384,
           4,
           2,
           2,
           4
          ],
          [
           16384,
           2,
           4,
           2,
           16
          ],
          [
           16384,
           4,
           2,
           2,
           8
          ],
          [
           16384,
           2,
           2,
           4,
           64
          ],
          [
           16384,
           4,
           2,
           2,
           16
          ],
          [
           16384,
           2,
           4,
           2,
           32
          ],
          [
           16384,
           4,
           2,
           2,
           32
          ],
          [
           16384,
           2,
           2,
           4,
           128
          ],
          [
           16384,
           2,
           4,
           2,
           64
          ],
          [
           16384,
           4,
           2,
           2,
           64
          ],
          [
           16384,
           2,
           4,
           2,
           128
          ],
          [
           16384,
           4,
           2,
           2,
           128
          ],
          [
           32768,
           2,
           2,
           4,
           2
          ],
          [
           32768,
           2,
           2,
           4,
           4
          ],
          [
           32768,
           2,
           2,
           4,
           8
          ],
          [
           32768,
           2,
           4,
           2,
           2
          ],
          [
           32768,
           2,
           4,
           2,
           4
          ],
          [
           32768,
           2,
           2,
           4,
           16
          ],
          [
           32768,
           2,
           4,
           2,
           8
          ],
          [
           32768,
           4,
           2,
           2,
           2
          ],
          [
           32768,
           2,
           2,
           4,
           32
          ],
          [
           32768,
           4,
           2,
           2,
           4
          ],
          [
           32768,
           2,
           4,
           2,
           16
          ],
          [
           32768,
           4,
           2,
           2,
           8
          ],
          [
           32768,
           4,
           2,
           2,
           16
          ],
          [
           32768,
           2,
           2,
           4,
           64
          ],
          [
           32768,
           2,
           4,
           2,
           32
          ],
          [
           32768,
           4,
           2,
           2,
           32
          ],
          [
           32768,
           2,
           2,
           4,
           128
          ],
          [
           32768,
           2,
           4,
           2,
           64
          ],
          [
           32768,
           4,
           2,
           2,
           64
          ],
          [
           32768,
           2,
           4,
           2,
           128
          ],
          [
           32768,
           4,
           2,
           2,
           128
          ],
          [
           65536,
           2,
           2,
           4,
           2
          ],
          [
           65536,
           2,
           2,
           4,
           4
          ],
          [
           65536,
           2,
           2,
           4,
           8
          ],
          [
           65536,
           2,
           4,
           2,
           2
          ],
          [
           65536,
           2,
           2,
           4,
           16
          ],
          [
           65536,
           2,
           4,
           2,
           4
          ],
          [
           65536,
           2,
           4,
           2,
           8
          ],
          [
           65536,
           2,
           2,
           4,
           32
          ],
          [
           65536,
           4,
           2,
           2,
           2
          ],
          [
           65536,
           2,
           4,
           2,
           16
          ],
          [
           65536,
           4,
           2,
           2,
           4
          ],
          [
           65536,
           4,
           2,
           2,
           8
          ],
          [
           65536,
           2,
           2,
           4,
           64
          ],
          [
           65536,
           4,
           2,
           2,
           16
          ],
          [
           65536,
           2,
           4,
           2,
           32
          ],
          [
           65536,
           4,
           2,
           2,
           32
          ],
          [
           65536,
           2,
           2,
           4,
           128
          ],
          [
           65536,
           2,
           4,
           2,
           64
          ],
          [
           65536,
           4,
           2,
           2,
           64
          ],
          [
           65536,
           4,
           2,
           2,
           128
          ],
          [
           65536,
           2,
           4,
           2,
           128
          ],
          [
           131072,
           2,
           2,
           4,
           2
          ],
          [
           131072,
           2,
           2,
           4,
           4
          ],
          [
           131072,
           2,
           4,
           2,
           2
          ],
          [
           131072,
           2,
           2,
           4,
           8
          ],
          [
           131072,
           2,
           2,
           4,
           16
          ],
          [
           131072,
           2,
           4,
           2,
           4
          ],
          [
           131072,
           2,
           4,
           2,
           8
          ],
          [
           131072,
           2,
           2,
           4,
           32
          ],
          [
           131072,
           4,
           2,
           2,
           2
          ],
          [
           131072,
           4,
           2,
           2,
           4
          ],
          [
           131072,
           2,
           4,
           2,
           16
          ],
          [
           131072,
           4,
           2,
           2,
           8
          ],
          [
           131072,
           2,
           2,
           4,
           64
          ],
          [
           131072,
           4,
           2,
           2,
           16
          ],
          [
           131072,
           2,
           4,
           2,
           32
          ],
          [
           131072,
           4,
           2,
           2,
           32
          ],
          [
           131072,
           2,
           2,
           4,
           128
          ],
          [
           131072,
           2,
           4,
           2,
           64
          ],
          [
           131072,
           4,
           2,
           2,
           64
          ],
          [
           131072,
           2,
           4,
           2,
           128
          ],
          [
           131072,
           4,
           2,
           2,
           128
          ],
          [
           262144,
           2,
           2,
           4,
           8
          ],
          [
           262144,
           2,
           2,
           4,
           16
          ],
          [
           262144,
           2,
           4,
           2,
           4
          ],
          [
           262144,
           2,
           4,
           2,
           8
          ],
          [
           262144,
           2,
           2,
           4,
           32
          ],
          [
           262144,
           2,
           4,
           2,
           16
          ],
          [
           262144,
           4,
           2,
           2,
           4
          ],
          [
           262144,
           4,
           2,
           2,
           8
          ],
          [
           262144,
           4,
           2,
           2,
           16
          ],
          [
           262144,
           2,
           2,
           4,
           64
          ],
          [
           262144,
           2,
           4,
           2,
           32
          ],
          [
           262144,
           4,
           2,
           2,
           32
          ],
          [
           262144,
           2,
           2,
           4,
           128
          ],
          [
           262144,
           2,
           4,
           2,
           64
          ],
          [
           262144,
           4,
           2,
           2,
           64
          ],
          [
           262144,
           2,
           4,
           2,
           128
          ],
          [
           262144,
           4,
           2,
           2,
           128
          ],
          [
           524288,
           4,
           2,
           2,
           8
          ],
          [
           524288,
           4,
           2,
           2,
           16
          ],
          [
           524288,
           4,
           2,
           2,
           32
          ],
          [
           524288,
           4,
           2,
           2,
           64
          ],
          [
           524288,
           4,
           2,
           2,
           128
          ]
         ],
         "hovertemplate": "Parallelism style=D/T/P<br>Throughput (samples / second)=%{x}<br>Peak Memory (GB)=%{y}<br>dummy_column_for_size=%{marker.size}<br>batch_size=%{customdata[0]}<br>dp_degree=%{customdata[1]}<br>hp_degree=%{customdata[2]}<br>pp_degree=%{customdata[3]}<br>num_microbatches=%{customdata[4]}<extra></extra>",
         "legendgroup": "D/T/P",
         "marker": {
          "color": "#e377c2",
          "size": [
           1,
           1,
           1,
           1,
           1,
           1,
           1,
           1,
           1,
           1,
           1,
           1,
           1,
           1,
           1,
           1,
           1,
           1,
           1,
           1,
           1,
           1,
           1,
           1,
           1,
           1,
           1,
           1,
           1,
           1,
           1,
           1,
           1,
           1,
           1,
           1,
           1,
           1,
           1,
           1,
           1,
           1,
           1,
           1,
           1,
           1,
           1,
           1,
           1,
           1,
           1,
           1,
           1,
           1,
           1,
           1,
           1,
           1,
           1,
           1,
           1,
           1,
           1,
           1,
           1,
           1,
           1,
           1,
           1,
           1,
           1,
           1,
           1,
           1,
           1,
           1,
           1,
           1,
           1,
           1,
           1,
           1,
           1,
           1,
           1,
           1,
           1,
           1,
           1,
           1,
           1,
           1,
           1,
           1,
           1,
           1,
           1,
           1,
           1,
           1,
           1,
           1,
           1,
           1,
           1,
           1,
           1,
           1,
           1,
           1,
           1,
           1,
           1,
           1,
           1,
           1,
           1,
           1,
           1,
           1,
           1,
           1,
           1,
           1,
           1,
           1,
           1
          ],
          "sizemode": "area",
          "sizeref": 0.01,
          "symbol": "diamond"
         },
         "mode": "markers",
         "name": "D/T/P",
         "orientation": "v",
         "showlegend": true,
         "type": "scatter",
         "x": [
          2421.337053005655,
          3290.899548745168,
          3893.9402316436426,
          3494.173365136093,
          4027.573471412792,
          3955.320752557576,
          4003.1173505789698,
          3649.030547725788,
          3945.489766047984,
          4431.476958245031,
          3628.113366480788,
          4424.312305481101,
          2882.1886524026104,
          3925.6797553556953,
          2913.803047914881,
          3066.164675662843,
          1986.158378078524,
          2056.360985945468,
          2101.062402970085,
          1287.8601831459528,
          1283.5888432788734,
          2455.7117888910766,
          3383.112578396257,
          3576.883891718668,
          4106.3731921282,
          4138.193575360838,
          4444.4980334253805,
          4356.864380931274,
          4333.832405198267,
          4056.031144383901,
          4672.974289186083,
          4217.214982471704,
          4881.5470075335925,
          3793.156336167389,
          4661.035290132338,
          3727.825380146814,
          4033.611563054328,
          2940.2044898476784,
          2954.4153790733044,
          3108.9143363022845,
          2070.7977726271038,
          2115.8163920273973,
          2473.2677764980426,
          3431.184528940513,
          4221.525335120322,
          3619.7251219084937,
          4236.121343589647,
          4687.0964160847125,
          4558.266578846503,
          4113.657625620621,
          4782.6000059078615,
          4803.869899134616,
          4589.84458182963,
          5147.535445182365,
          5142.698609886769,
          4505.118258105257,
          4333.08765424149,
          4789.157304690543,
          3869.574646408568,
          3779.765324367765,
          4089.834079023573,
          2975.1490623437617,
          3130.739329101066,
          2482.140239357469,
          3455.73647467874,
          4281.55769467566,
          3641.5328956224016,
          4818.605751119235,
          4286.844088511734,
          4666.115461376386,
          5043.739167891998,
          4143.089310177599,
          4801.994705876948,
          4872.106672456056,
          5291.704097370973,
          4971.70379759992,
          5422.894896314494,
          4715.935209924048,
          5284.040655973442,
          4595.940834069593,
          4393.445048659037,
          4855.896473127355,
          4118.537205265133,
          3806.281865196402,
          2486.6003851150413,
          3468.1446823007605,
          3652.5356192523504,
          4312.218728858992,
          4887.16718550311,
          4312.663714981918,
          4721.976597463986,
          5185.302925997949,
          4157.963648984279,
          4906.957213174517,
          4915.598200437924,
          5366.859766255657,
          5243.218294728881,
          5574.763411672939,
          4933.901264357694,
          5571.925671427793,
          5071.976663537177,
          4781.614644499765,
          5357.6657600499375,
          4424.258725904245,
          4889.968483035698,
          4327.714514752839,
          4922.184788812904,
          4325.690514065814,
          4750.411748643525,
          5259.107196419386,
          4974.439762653013,
          4924.570121003168,
          5405.243877650464,
          5653.932784703781,
          5390.408691074938,
          5050.61866762431,
          5727.9610098255625,
          5348.994254548525,
          5002.609904852936,
          5649.555577841296,
          4815.145216988409,
          5395.253100534866,
          5424.642566420683,
          5694.36673778474,
          5809.302409623869,
          5807.761264161556,
          5689.187395543701
         ],
         "xaxis": "x",
         "y": [
          5.519769837,
          4.764795117,
          4.387307757,
          4.712962909,
          4.198564077,
          4.293532509,
          4.083817309,
          4.104192237,
          7.932336477,
          7.554849117,
          3.978959709,
          7.366105437,
          4.057006317,
          7.271733597,
          3.926530909,
          7.224547677,
          4.033413357,
          3.900316509,
          7.200954717,
          3.887209309,
          7.189158237,
          7.029981421,
          5.520031981,
          5.552085853,
          4.765057261,
          4.713225053,
          4.387569901,
          4.371993208,
          4.198826221,
          8.687442269,
          7.932467549,
          4.371993208,
          7.554980189,
          4.193102968,
          7.366236509,
          4.371993208,
          7.271864669,
          4.193102968,
          4.371993208,
          7.224678749,
          4.371993208,
          7.201085789,
          10.050404589,
          7.030505709,
          5.535280253,
          7.230331741,
          5.714170493,
          5.535280248,
          5.714170488,
          10.197653853,
          5.535280248,
          8.687704413,
          5.714170488,
          7.932729693,
          7.555242333,
          5.535280248,
          5.714170488,
          7.366498653,
          5.535280248,
          5.714170488,
          7.360775288,
          5.714170488,
          7.360775288,
          16.272698493,
          10.903989373,
          8.219634813,
          11.082879613,
          8.219634808,
          8.398525053,
          8.398525048,
          8.219634808,
          13.218077021,
          8.398525048,
          10.198178141,
          8.702952573,
          8.219634808,
          8.702952568,
          8.398525048,
          8.702952568,
          8.219634808,
          8.398525048,
          8.702952568,
          8.702952568,
          8.398525048,
          29.694471293,
          18.957053053,
          19.135943293,
          13.588343933,
          13.588343928,
          13.767234173,
          13.767234168,
          13.588343928,
          19.440370813,
          14.071661693,
          13.767234168,
          11.387307133,
          13.588343928,
          11.387307128,
          13.767234168,
          11.387307128,
          13.588343928,
          13.767234168,
          11.387307128,
          13.767234168,
          11.387307128,
          24.325762173,
          24.325762168,
          24.504652413,
          24.504652408,
          24.325762168,
          24.504652408,
          22.124725373,
          16.756016253,
          16.756016248,
          24.325762168,
          24.504652408,
          16.756016248,
          24.325762168,
          24.504652408,
          16.756016248,
          24.504652408,
          16.756016248,
          27.493434493,
          27.493434488,
          27.493434488,
          27.493434488,
          27.493434488
         ],
         "yaxis": "y"
        }
       ],
       "layout": {
        "legend": {
         "itemsizing": "constant",
         "title": {
          "text": "Parallelism style"
         },
         "tracegroupgap": 0
        },
        "margin": {
         "t": 60
        },
        "template": {
         "data": {
          "bar": [
           {
            "error_x": {
             "color": "#2a3f5f"
            },
            "error_y": {
             "color": "#2a3f5f"
            },
            "marker": {
             "line": {
              "color": "#E5ECF6",
              "width": 0.5
             },
             "pattern": {
              "fillmode": "overlay",
              "size": 10,
              "solidity": 0.2
             }
            },
            "type": "bar"
           }
          ],
          "barpolar": [
           {
            "marker": {
             "line": {
              "color": "#E5ECF6",
              "width": 0.5
             },
             "pattern": {
              "fillmode": "overlay",
              "size": 10,
              "solidity": 0.2
             }
            },
            "type": "barpolar"
           }
          ],
          "carpet": [
           {
            "aaxis": {
             "endlinecolor": "#2a3f5f",
             "gridcolor": "white",
             "linecolor": "white",
             "minorgridcolor": "white",
             "startlinecolor": "#2a3f5f"
            },
            "baxis": {
             "endlinecolor": "#2a3f5f",
             "gridcolor": "white",
             "linecolor": "white",
             "minorgridcolor": "white",
             "startlinecolor": "#2a3f5f"
            },
            "type": "carpet"
           }
          ],
          "choropleth": [
           {
            "colorbar": {
             "outlinewidth": 0,
             "ticks": ""
            },
            "type": "choropleth"
           }
          ],
          "contour": [
           {
            "colorbar": {
             "outlinewidth": 0,
             "ticks": ""
            },
            "colorscale": [
             [
              0,
              "#0d0887"
             ],
             [
              0.1111111111111111,
              "#46039f"
             ],
             [
              0.2222222222222222,
              "#7201a8"
             ],
             [
              0.3333333333333333,
              "#9c179e"
             ],
             [
              0.4444444444444444,
              "#bd3786"
             ],
             [
              0.5555555555555556,
              "#d8576b"
             ],
             [
              0.6666666666666666,
              "#ed7953"
             ],
             [
              0.7777777777777778,
              "#fb9f3a"
             ],
             [
              0.8888888888888888,
              "#fdca26"
             ],
             [
              1,
              "#f0f921"
             ]
            ],
            "type": "contour"
           }
          ],
          "contourcarpet": [
           {
            "colorbar": {
             "outlinewidth": 0,
             "ticks": ""
            },
            "type": "contourcarpet"
           }
          ],
          "heatmap": [
           {
            "colorbar": {
             "outlinewidth": 0,
             "ticks": ""
            },
            "colorscale": [
             [
              0,
              "#0d0887"
             ],
             [
              0.1111111111111111,
              "#46039f"
             ],
             [
              0.2222222222222222,
              "#7201a8"
             ],
             [
              0.3333333333333333,
              "#9c179e"
             ],
             [
              0.4444444444444444,
              "#bd3786"
             ],
             [
              0.5555555555555556,
              "#d8576b"
             ],
             [
              0.6666666666666666,
              "#ed7953"
             ],
             [
              0.7777777777777778,
              "#fb9f3a"
             ],
             [
              0.8888888888888888,
              "#fdca26"
             ],
             [
              1,
              "#f0f921"
             ]
            ],
            "type": "heatmap"
           }
          ],
          "heatmapgl": [
           {
            "colorbar": {
             "outlinewidth": 0,
             "ticks": ""
            },
            "colorscale": [
             [
              0,
              "#0d0887"
             ],
             [
              0.1111111111111111,
              "#46039f"
             ],
             [
              0.2222222222222222,
              "#7201a8"
             ],
             [
              0.3333333333333333,
              "#9c179e"
             ],
             [
              0.4444444444444444,
              "#bd3786"
             ],
             [
              0.5555555555555556,
              "#d8576b"
             ],
             [
              0.6666666666666666,
              "#ed7953"
             ],
             [
              0.7777777777777778,
              "#fb9f3a"
             ],
             [
              0.8888888888888888,
              "#fdca26"
             ],
             [
              1,
              "#f0f921"
             ]
            ],
            "type": "heatmapgl"
           }
          ],
          "histogram": [
           {
            "marker": {
             "pattern": {
              "fillmode": "overlay",
              "size": 10,
              "solidity": 0.2
             }
            },
            "type": "histogram"
           }
          ],
          "histogram2d": [
           {
            "colorbar": {
             "outlinewidth": 0,
             "ticks": ""
            },
            "colorscale": [
             [
              0,
              "#0d0887"
             ],
             [
              0.1111111111111111,
              "#46039f"
             ],
             [
              0.2222222222222222,
              "#7201a8"
             ],
             [
              0.3333333333333333,
              "#9c179e"
             ],
             [
              0.4444444444444444,
              "#bd3786"
             ],
             [
              0.5555555555555556,
              "#d8576b"
             ],
             [
              0.6666666666666666,
              "#ed7953"
             ],
             [
              0.7777777777777778,
              "#fb9f3a"
             ],
             [
              0.8888888888888888,
              "#fdca26"
             ],
             [
              1,
              "#f0f921"
             ]
            ],
            "type": "histogram2d"
           }
          ],
          "histogram2dcontour": [
           {
            "colorbar": {
             "outlinewidth": 0,
             "ticks": ""
            },
            "colorscale": [
             [
              0,
              "#0d0887"
             ],
             [
              0.1111111111111111,
              "#46039f"
             ],
             [
              0.2222222222222222,
              "#7201a8"
             ],
             [
              0.3333333333333333,
              "#9c179e"
             ],
             [
              0.4444444444444444,
              "#bd3786"
             ],
             [
              0.5555555555555556,
              "#d8576b"
             ],
             [
              0.6666666666666666,
              "#ed7953"
             ],
             [
              0.7777777777777778,
              "#fb9f3a"
             ],
             [
              0.8888888888888888,
              "#fdca26"
             ],
             [
              1,
              "#f0f921"
             ]
            ],
            "type": "histogram2dcontour"
           }
          ],
          "mesh3d": [
           {
            "colorbar": {
             "outlinewidth": 0,
             "ticks": ""
            },
            "type": "mesh3d"
           }
          ],
          "parcoords": [
           {
            "line": {
             "colorbar": {
              "outlinewidth": 0,
              "ticks": ""
             }
            },
            "type": "parcoords"
           }
          ],
          "pie": [
           {
            "automargin": true,
            "type": "pie"
           }
          ],
          "scatter": [
           {
            "marker": {
             "colorbar": {
              "outlinewidth": 0,
              "ticks": ""
             }
            },
            "type": "scatter"
           }
          ],
          "scatter3d": [
           {
            "line": {
             "colorbar": {
              "outlinewidth": 0,
              "ticks": ""
             }
            },
            "marker": {
             "colorbar": {
              "outlinewidth": 0,
              "ticks": ""
             }
            },
            "type": "scatter3d"
           }
          ],
          "scattercarpet": [
           {
            "marker": {
             "colorbar": {
              "outlinewidth": 0,
              "ticks": ""
             }
            },
            "type": "scattercarpet"
           }
          ],
          "scattergeo": [
           {
            "marker": {
             "colorbar": {
              "outlinewidth": 0,
              "ticks": ""
             }
            },
            "type": "scattergeo"
           }
          ],
          "scattergl": [
           {
            "marker": {
             "colorbar": {
              "outlinewidth": 0,
              "ticks": ""
             }
            },
            "type": "scattergl"
           }
          ],
          "scattermapbox": [
           {
            "marker": {
             "colorbar": {
              "outlinewidth": 0,
              "ticks": ""
             }
            },
            "type": "scattermapbox"
           }
          ],
          "scatterpolar": [
           {
            "marker": {
             "colorbar": {
              "outlinewidth": 0,
              "ticks": ""
             }
            },
            "type": "scatterpolar"
           }
          ],
          "scatterpolargl": [
           {
            "marker": {
             "colorbar": {
              "outlinewidth": 0,
              "ticks": ""
             }
            },
            "type": "scatterpolargl"
           }
          ],
          "scatterternary": [
           {
            "marker": {
             "colorbar": {
              "outlinewidth": 0,
              "ticks": ""
             }
            },
            "type": "scatterternary"
           }
          ],
          "surface": [
           {
            "colorbar": {
             "outlinewidth": 0,
             "ticks": ""
            },
            "colorscale": [
             [
              0,
              "#0d0887"
             ],
             [
              0.1111111111111111,
              "#46039f"
             ],
             [
              0.2222222222222222,
              "#7201a8"
             ],
             [
              0.3333333333333333,
              "#9c179e"
             ],
             [
              0.4444444444444444,
              "#bd3786"
             ],
             [
              0.5555555555555556,
              "#d8576b"
             ],
             [
              0.6666666666666666,
              "#ed7953"
             ],
             [
              0.7777777777777778,
              "#fb9f3a"
             ],
             [
              0.8888888888888888,
              "#fdca26"
             ],
             [
              1,
              "#f0f921"
             ]
            ],
            "type": "surface"
           }
          ],
          "table": [
           {
            "cells": {
             "fill": {
              "color": "#EBF0F8"
             },
             "line": {
              "color": "white"
             }
            },
            "header": {
             "fill": {
              "color": "#C8D4E3"
             },
             "line": {
              "color": "white"
             }
            },
            "type": "table"
           }
          ]
         },
         "layout": {
          "annotationdefaults": {
           "arrowcolor": "#2a3f5f",
           "arrowhead": 0,
           "arrowwidth": 1
          },
          "autotypenumbers": "strict",
          "coloraxis": {
           "colorbar": {
            "outlinewidth": 0,
            "ticks": ""
           }
          },
          "colorscale": {
           "diverging": [
            [
             0,
             "#8e0152"
            ],
            [
             0.1,
             "#c51b7d"
            ],
            [
             0.2,
             "#de77ae"
            ],
            [
             0.3,
             "#f1b6da"
            ],
            [
             0.4,
             "#fde0ef"
            ],
            [
             0.5,
             "#f7f7f7"
            ],
            [
             0.6,
             "#e6f5d0"
            ],
            [
             0.7,
             "#b8e186"
            ],
            [
             0.8,
             "#7fbc41"
            ],
            [
             0.9,
             "#4d9221"
            ],
            [
             1,
             "#276419"
            ]
           ],
           "sequential": [
            [
             0,
             "#0d0887"
            ],
            [
             0.1111111111111111,
             "#46039f"
            ],
            [
             0.2222222222222222,
             "#7201a8"
            ],
            [
             0.3333333333333333,
             "#9c179e"
            ],
            [
             0.4444444444444444,
             "#bd3786"
            ],
            [
             0.5555555555555556,
             "#d8576b"
            ],
            [
             0.6666666666666666,
             "#ed7953"
            ],
            [
             0.7777777777777778,
             "#fb9f3a"
            ],
            [
             0.8888888888888888,
             "#fdca26"
            ],
            [
             1,
             "#f0f921"
            ]
           ],
           "sequentialminus": [
            [
             0,
             "#0d0887"
            ],
            [
             0.1111111111111111,
             "#46039f"
            ],
            [
             0.2222222222222222,
             "#7201a8"
            ],
            [
             0.3333333333333333,
             "#9c179e"
            ],
            [
             0.4444444444444444,
             "#bd3786"
            ],
            [
             0.5555555555555556,
             "#d8576b"
            ],
            [
             0.6666666666666666,
             "#ed7953"
            ],
            [
             0.7777777777777778,
             "#fb9f3a"
            ],
            [
             0.8888888888888888,
             "#fdca26"
            ],
            [
             1,
             "#f0f921"
            ]
           ]
          },
          "colorway": [
           "#636efa",
           "#EF553B",
           "#00cc96",
           "#ab63fa",
           "#FFA15A",
           "#19d3f3",
           "#FF6692",
           "#B6E880",
           "#FF97FF",
           "#FECB52"
          ],
          "font": {
           "color": "#2a3f5f"
          },
          "geo": {
           "bgcolor": "white",
           "lakecolor": "white",
           "landcolor": "#E5ECF6",
           "showlakes": true,
           "showland": true,
           "subunitcolor": "white"
          },
          "hoverlabel": {
           "align": "left"
          },
          "hovermode": "closest",
          "mapbox": {
           "style": "light"
          },
          "paper_bgcolor": "white",
          "plot_bgcolor": "#E5ECF6",
          "polar": {
           "angularaxis": {
            "gridcolor": "white",
            "linecolor": "white",
            "ticks": ""
           },
           "bgcolor": "#E5ECF6",
           "radialaxis": {
            "gridcolor": "white",
            "linecolor": "white",
            "ticks": ""
           }
          },
          "scene": {
           "xaxis": {
            "backgroundcolor": "#E5ECF6",
            "gridcolor": "white",
            "gridwidth": 2,
            "linecolor": "white",
            "showbackground": true,
            "ticks": "",
            "zerolinecolor": "white"
           },
           "yaxis": {
            "backgroundcolor": "#E5ECF6",
            "gridcolor": "white",
            "gridwidth": 2,
            "linecolor": "white",
            "showbackground": true,
            "ticks": "",
            "zerolinecolor": "white"
           },
           "zaxis": {
            "backgroundcolor": "#E5ECF6",
            "gridcolor": "white",
            "gridwidth": 2,
            "linecolor": "white",
            "showbackground": true,
            "ticks": "",
            "zerolinecolor": "white"
           }
          },
          "shapedefaults": {
           "line": {
            "color": "#2a3f5f"
           }
          },
          "ternary": {
           "aaxis": {
            "gridcolor": "white",
            "linecolor": "white",
            "ticks": ""
           },
           "baxis": {
            "gridcolor": "white",
            "linecolor": "white",
            "ticks": ""
           },
           "bgcolor": "#E5ECF6",
           "caxis": {
            "gridcolor": "white",
            "linecolor": "white",
            "ticks": ""
           }
          },
          "title": {
           "x": 0.05
          },
          "xaxis": {
           "automargin": true,
           "gridcolor": "white",
           "linecolor": "white",
           "ticks": "",
           "title": {
            "standoff": 15
           },
           "zerolinecolor": "white",
           "zerolinewidth": 2
          },
          "yaxis": {
           "automargin": true,
           "gridcolor": "white",
           "linecolor": "white",
           "ticks": "",
           "title": {
            "standoff": 15
           },
           "zerolinecolor": "white",
           "zerolinewidth": 2
          }
         }
        },
        "xaxis": {
         "anchor": "y",
         "domain": [
          0,
          1
         ],
         "title": {
          "text": "Throughput (samples / second)"
         }
        },
        "yaxis": {
         "anchor": "x",
         "domain": [
          0,
          1
         ],
         "title": {
          "text": "Peak Memory (GB)"
         }
        }
       }
      },
      "text/html": [
       "<div>                            <div id=\"bdd5fe88-4bdf-4209-ab90-104adaa4378f\" class=\"plotly-graph-div\" style=\"height:525px; width:100%;\"></div>            <script type=\"text/javascript\">                require([\"plotly\"], function(Plotly) {                    window.PLOTLYENV=window.PLOTLYENV || {};                                    if (document.getElementById(\"bdd5fe88-4bdf-4209-ab90-104adaa4378f\")) {                    Plotly.newPlot(                        \"bdd5fe88-4bdf-4209-ab90-104adaa4378f\",                        [{\"customdata\":[[8192,16,1,1,1],[16384,16,1,1,1],[32768,16,1,1,1],[65536,16,1,1,1]],\"hovertemplate\":\"Parallelism style=D<br>Throughput (samples / second)=%{x}<br>Peak Memory (GB)=%{y}<br>dummy_column_for_size=%{marker.size}<br>batch_size=%{customdata[0]}<br>dp_degree=%{customdata[1]}<br>hp_degree=%{customdata[2]}<br>pp_degree=%{customdata[3]}<br>num_microbatches=%{customdata[4]}<extra></extra>\",\"legendgroup\":\"D\",\"marker\":{\"color\":\"#1f77b4\",\"size\":[1.0,1.0,1.0,1.0],\"sizemode\":\"area\",\"sizeref\":0.01,\"symbol\":\"circle\"},\"mode\":\"markers\",\"name\":\"D\",\"orientation\":\"v\",\"showlegend\":true,\"type\":\"scatter\",\"x\":[6495.359573609559,6701.770431090694,6809.974813367697,6865.3979400498265],\"xaxis\":\"x\",\"y\":[26.493238629,27.206303077,28.632431973,31.484689765],\"yaxis\":\"y\"},{\"customdata\":[[8192,1,16,1,1],[16384,1,16,1,1],[32768,1,16,1,1],[65536,1,16,1,1]],\"hovertemplate\":\"Parallelism style=T<br>Throughput (samples / second)=%{x}<br>Peak Memory (GB)=%{y}<br>dummy_column_for_size=%{marker.size}<br>batch_size=%{customdata[0]}<br>dp_degree=%{customdata[1]}<br>hp_degree=%{customdata[2]}<br>pp_degree=%{customdata[3]}<br>num_microbatches=%{customdata[4]}<extra></extra>\",\"legendgroup\":\"T\",\"marker\":{\"color\":\"#ff7f0e\",\"size\":[1.0,1.0,1.0,1.0],\"sizemode\":\"area\",\"sizeref\":0.01,\"symbol\":\"diamond\"},\"mode\":\"markers\",\"name\":\"T\",\"orientation\":\"v\",\"showlegend\":true,\"type\":\"scatter\",\"x\":[3201.196317924935,3250.020293726526,3274.995063130224,3287.626941909059],\"xaxis\":\"x\",\"y\":[4.19844746,6.21236874,10.2402113,18.29589642],\"yaxis\":\"y\"},{\"customdata\":[[8192,1,1,16,2],[8192,1,1,16,4],[8192,1,1,16,8],[8192,1,1,16,16],[8192,1,1,16,32],[8192,1,1,16,64],[8192,1,1,16,128],[16384,1,1,16,2],[16384,1,1,16,4],[16384,1,1,16,8],[16384,1,1,16,16],[16384,1,1,16,32],[16384,1,1,16,64],[16384,1,1,16,128],[32768,1,1,16,2],[32768,1,1,16,4],[32768,1,1,16,8],[32768,1,1,16,16],[32768,1,1,16,32],[32768,1,1,16,64],[32768,1,1,16,128],[65536,1,1,16,4],[65536,1,1,16,8],[65536,1,1,16,16],[65536,1,1,16,32],[65536,1,1,16,64],[65536,1,1,16,128],[131072,1,1,16,16],[131072,1,1,16,32],[131072,1,1,16,64],[131072,1,1,16,128]],\"hovertemplate\":\"Parallelism style=P<br>Throughput (samples / second)=%{x}<br>Peak Memory (GB)=%{y}<br>dummy_column_for_size=%{marker.size}<br>batch_size=%{customdata[0]}<br>dp_degree=%{customdata[1]}<br>hp_degree=%{customdata[2]}<br>pp_degree=%{customdata[3]}<br>num_microbatches=%{customdata[4]}<extra></extra>\",\"legendgroup\":\"P\",\"marker\":{\"color\":\"#2ca02c\",\"size\":[1.0,1.0,1.0,1.0,1.0,1.0,1.0,1.0,1.0,1.0,1.0,1.0,1.0,1.0,1.0,1.0,1.0,1.0,1.0,1.0,1.0,1.0,1.0,1.0,1.0,1.0,1.0,1.0,1.0,1.0,1.0],\"sizemode\":\"area\",\"sizeref\":0.01,\"symbol\":\"square\"},\"mode\":\"markers\",\"name\":\"P\",\"orientation\":\"v\",\"showlegend\":true,\"type\":\"scatter\",\"x\":[789.2577091988553,1369.9040906190437,2166.896926086792,3013.2728206950023,3626.707789608856,3776.787257613923,3403.7343052600218,792.45238865469,1380.9053370345298,2201.389642424117,3107.4873818463084,3846.021542381302,4207.027587738796,4107.4896693432265,794.0594463814309,1386.472487900069,2219.051096247394,3156.83907108996,3965.935276718282,4460.813607972095,4574.843424659359,1389.2729304028503,2227.9885227837167,3182.1074566116527,4028.740610218401,4599.545812880525,4850.517143161774,3194.8939513049063,4060.895178840694,4672.1989792215245,5001.199825031206],\"xaxis\":\"x\",\"y\":[8.124023149,5.271896429,3.845833069,3.132801389,2.776285549,2.598027629,2.508898669,13.828800877,8.124547437,5.272420717,3.846357357,3.315751032,3.315751032,3.315751032,25.238356333,14.053169277,8.684460157,6.000105597,6.000105592,6.000105592,6.000105592,27.474942077,16.737523837,11.368814717,11.368814712,11.368814712,11.368814712,22.106232957,22.106232952,22.106232952,22.106232952],\"yaxis\":\"y\"},{\"customdata\":[[8192,2,8,1,1],[8192,4,4,1,1],[8192,8,2,1,1],[16384,2,8,1,1],[16384,4,4,1,1],[16384,8,2,1,1],[32768,2,8,1,1],[32768,4,4,1,1],[32768,8,2,1,1],[65536,2,8,1,1],[65536,4,4,1,1],[65536,8,2,1,1],[131072,2,8,1,1],[131072,4,4,1,1],[131072,8,2,1,1]],\"hovertemplate\":\"Parallelism style=D/T<br>Throughput (samples / second)=%{x}<br>Peak Memory (GB)=%{y}<br>dummy_column_for_size=%{marker.size}<br>batch_size=%{customdata[0]}<br>dp_degree=%{customdata[1]}<br>hp_degree=%{customdata[2]}<br>pp_degree=%{customdata[3]}<br>num_microbatches=%{customdata[4]}<extra></extra>\",\"legendgroup\":\"D/T\",\"marker\":{\"color\":\"#d62728\",\"size\":[1.0,1.0,1.0,1.0,1.0,1.0,1.0,1.0,1.0,1.0,1.0,1.0,1.0,1.0,1.0],\"sizemode\":\"area\",\"sizeref\":0.01,\"symbol\":\"x\"},\"mode\":\"markers\",\"name\":\"D/T\",\"orientation\":\"v\",\"showlegend\":true,\"type\":\"scatter\",\"x\":[4347.613818251683,5338.050467219769,6022.8759049959845,4430.683938946851,5464.6421218585465,6191.800116263746,4473.420901072936,5530.216554741869,6279.866137453614,4495.100050755664,5563.5974918814345,6324.845299385317,4506.0186133222605,5580.439535905768,6347.577369154757],\"xaxis\":\"x\",\"y\":[4.76453002,7.742647653,13.950868837,5.77149066,8.581639525,14.705909093,7.78541194,10.259623269,16.215989605,11.8132545,13.615590757,19.236150629,19.86893962,20.327525733,25.276472677],\"yaxis\":\"y\"},{\"customdata\":[[8192,1,2,8,2],[8192,1,2,8,4],[8192,1,2,8,8],[8192,1,4,4,2],[8192,1,4,4,4],[8192,1,2,8,16],[8192,1,4,4,8],[8192,1,2,8,32],[8192,1,8,2,2],[8192,1,8,2,4],[8192,1,4,4,16],[8192,1,2,8,64],[8192,1,8,2,8],[8192,1,4,4,32],[8192,1,8,2,16],[8192,1,2,8,128],[8192,1,4,4,64],[8192,1,8,2,32],[8192,1,4,4,128],[8192,1,8,2,64],[8192,1,8,2,128],[16384,1,2,8,2],[16384,1,2,8,4],[16384,1,2,8,8],[16384,1,2,8,16],[16384,1,4,4,2],[16384,1,4,4,4],[16384,1,4,4,8],[16384,1,2,8,32],[16384,1,8,2,2],[16384,1,8,2,4],[16384,1,4,4,16],[16384,1,8,2,8],[16384,1,2,8,64],[16384,1,4,4,32],[16384,1,8,2,16],[16384,1,4,4,64],[16384,1,2,8,128],[16384,1,8,2,32],[16384,1,4,4,128],[16384,1,8,2,64],[16384,1,8,2,128],[32768,1,2,8,2],[32768,1,2,8,4],[32768,1,2,8,8],[32768,1,4,4,2],[32768,1,2,8,16],[32768,1,4,4,4],[32768,1,2,8,32],[32768,1,4,4,8],[32768,1,8,2,2],[32768,1,4,4,16],[32768,1,8,2,4],[32768,1,2,8,64],[32768,1,8,2,8],[32768,1,4,4,32],[32768,1,8,2,16],[32768,1,2,8,128],[32768,1,4,4,64],[32768,1,8,2,32],[32768,1,8,2,64],[32768,1,4,4,128],[32768,1,8,2,128],[65536,1,2,8,2],[65536,1,2,8,4],[65536,1,2,8,8],[65536,1,4,4,2],[65536,1,2,8,16],[65536,1,4,4,4],[65536,1,4,4,8],[65536,1,2,8,32],[65536,1,8,2,2],[65536,1,8,2,4],[65536,1,4,4,16],[65536,1,8,2,8],[65536,1,2,8,64],[65536,1,4,4,32],[65536,1,8,2,16],[65536,1,2,8,128],[65536,1,4,4,64],[65536,1,8,2,32],[65536,1,4,4,128],[65536,1,8,2,64],[65536,1,8,2,128],[131072,1,2,8,8],[131072,1,2,8,16],[131072,1,4,4,4],[131072,1,4,4,8],[131072,1,2,8,32],[131072,1,8,2,2],[131072,1,4,4,16],[131072,1,8,2,4],[131072,1,8,2,8],[131072,1,2,8,64],[131072,1,4,4,32],[131072,1,8,2,16],[131072,1,2,8,128],[131072,1,8,2,32],[131072,1,4,4,64],[131072,1,4,4,128],[131072,1,8,2,64],[131072,1,8,2,128]],\"hovertemplate\":\"Parallelism style=T/P<br>Throughput (samples / second)=%{x}<br>Peak Memory (GB)=%{y}<br>dummy_column_for_size=%{marker.size}<br>batch_size=%{customdata[0]}<br>dp_degree=%{customdata[1]}<br>hp_degree=%{customdata[2]}<br>pp_degree=%{customdata[3]}<br>num_microbatches=%{customdata[4]}<extra></extra>\",\"legendgroup\":\"T/P\",\"marker\":{\"color\":\"#9467bd\",\"size\":[1.0,1.0,1.0,1.0,1.0,1.0,1.0,1.0,1.0,1.0,1.0,1.0,1.0,1.0,1.0,1.0,1.0,1.0,1.0,1.0,1.0,1.0,1.0,1.0,1.0,1.0,1.0,1.0,1.0,1.0,1.0,1.0,1.0,1.0,1.0,1.0,1.0,1.0,1.0,1.0,1.0,1.0,1.0,1.0,1.0,1.0,1.0,1.0,1.0,1.0,1.0,1.0,1.0,1.0,1.0,1.0,1.0,1.0,1.0,1.0,1.0,1.0,1.0,1.0,1.0,1.0,1.0,1.0,1.0,1.0,1.0,1.0,1.0,1.0,1.0,1.0,1.0,1.0,1.0,1.0,1.0,1.0,1.0,1.0,1.0,1.0,1.0,1.0,1.0,1.0,1.0,1.0,1.0,1.0,1.0,1.0,1.0,1.0,1.0,1.0,1.0,1.0],\"sizemode\":\"area\",\"sizeref\":0.01,\"symbol\":\"cross\"},\"mode\":\"markers\",\"name\":\"T/P\",\"orientation\":\"v\",\"showlegend\":true,\"type\":\"scatter\",\"x\":[1356.389586212754,2121.683586956487,2919.748392103712,2132.447012629877,2910.637213758968,3492.652441772446,3471.384756563484,3639.9354538467737,2842.689769171639,3245.058931030891,3640.306029194707,3311.951802267328,3334.1084745827475,3369.4785253482,3096.238411362993,2620.967480035748,2737.1144939268133,2571.9580221838705,1942.9372362838276,1885.52145124686,1221.9082480622617,1366.0577015880967,2151.782263845629,3001.001141141036,3683.4710267581872,2157.934764213254,2979.4568215397194,3631.8751177566505,4017.874305701688,2896.843490607078,3366.341775495627,3962.20379217364,3574.297124250844,3935.536489197196,3917.130539993545,3512.314686744485,3502.574564966569,3451.8735738994183,3181.281610204969,2792.2154696253647,2607.786577837146,1898.7532739961853,1370.9436286512164,2167.154129925292,3043.3473131843875,2170.908492526148,3785.995069808028,3015.101612551828,4237.65556160339,3717.816869254437,2924.701520196424,4145.488301787705,3430.447613509255,4344.5381311513,3707.853723536319,4263.6204026965415,3765.308017254532,4102.103457856849,4071.9550172018367,3608.757716138603,3225.5794906656783,3573.1450481103243,2626.077812426334,1373.3997221466316,2174.9227181600054,3064.9717335412915,2177.454032618818,3839.427501829065,3033.2457605793024,3762.3312491235656,4355.288161089313,2938.8324321906007,3463.424918189205,4243.639924382701,3778.446122140259,4582.395164348645,4460.915593087014,3905.982709400185,4528.633063966573,4432.205937527038,3868.679376253905,4154.04936075572,3658.993017155041,3248.194295048168,3075.899593383466,3866.713313412564,3042.399972035937,3784.9905831547735,4416.58794265465,2945.94921810015,4294.479548719285,3480.152479952363,3814.759995101081,4709.578259153623,4566.5726083809,3980.336874028763,4776.675933744371,4013.205429204445,4637.341625594699,4521.599001876462,3922.523118060554,3684.6388147494217],\"xaxis\":\"x\",\"y\":[5.446144701,3.936195261,3.181220541,3.957456621,3.118595821,2.803733181,2.777364088,2.614989501,3.229367388,2.877602168,2.777364088,2.609266808,2.877602168,2.777364088,2.877602168,2.609266808,2.777364088,2.877602168,2.777364088,2.877602168,2.877602168,8.466567869,5.446668989,3.951444093,3.951444088,5.635702509,4.119541373,4.119541368,3.951444088,4.236590172,4.219779448,4.119541368,4.219779448,3.951444088,4.119541368,4.219779448,4.119541368,3.951444088,4.219779448,4.119541368,4.219779448,4.219779448,14.688862333,9.320153213,6.635798653,9.488250493,6.635798648,6.803895933,6.635798648,6.803895928,6.904396156,6.803895928,6.904134008,6.635798648,6.904134008,6.803895928,6.904134008,6.635798648,6.803895928,6.904134008,6.904134008,6.803895928,6.904134008,28.110635133,17.373216893,12.004507773,17.541314173,12.004507768,12.172605053,12.172605048,12.004507768,12.27336742,12.272843128,12.172605048,12.272843128,12.004507768,12.172605048,12.272843128,12.004507768,12.172605048,12.272843128,12.172605048,12.272843128,12.272843128,22.741926013,22.741926008,22.910023293,22.910023288,22.741926008,23.011309948,22.910023288,23.010261368,23.010261368,22.741926008,22.910023288,23.010261368,22.741926008,23.010261368,22.910023288,22.910023288,23.010261368,23.010261368],\"yaxis\":\"y\"},{\"customdata\":[[8192,2,1,8,2],[8192,2,1,8,4],[8192,2,1,8,8],[8192,2,1,8,16],[8192,2,1,8,32],[8192,4,1,4,2],[8192,2,1,8,64],[8192,4,1,4,4],[8192,4,1,4,8],[8192,4,1,4,16],[8192,8,1,2,2],[8192,8,1,2,4],[8192,8,1,2,8],[8192,4,1,4,32],[8192,2,1,8,128],[8192,8,1,2,16],[8192,4,1,4,64],[8192,8,1,2,32],[8192,4,1,4,128],[8192,8,1,2,64],[8192,8,1,2,128],[16384,2,1,8,2],[16384,2,1,8,4],[16384,2,1,8,8],[16384,2,1,8,16],[16384,2,1,8,32],[16384,4,1,4,2],[16384,4,1,4,4],[16384,2,1,8,64],[16384,4,1,4,8],[16384,4,1,4,16],[16384,8,1,2,2],[16384,8,1,2,4],[16384,4,1,4,32],[16384,2,1,8,128],[16384,8,1,2,8],[16384,8,1,2,16],[16384,4,1,4,64],[16384,8,1,2,32],[16384,4,1,4,128],[16384,8,1,2,64],[16384,8,1,2,128],[32768,2,1,8,2],[32768,2,1,8,4],[32768,2,1,8,8],[32768,2,1,8,16],[32768,2,1,8,32],[32768,4,1,4,2],[32768,2,1,8,64],[32768,4,1,4,4],[32768,4,1,4,8],[32768,4,1,4,16],[32768,8,1,2,2],[32768,8,1,2,4],[32768,2,1,8,128],[32768,8,1,2,8],[32768,4,1,4,32],[32768,8,1,2,16],[32768,4,1,4,64],[32768,8,1,2,32],[32768,4,1,4,128],[32768,8,1,2,64],[32768,8,1,2,128],[65536,2,1,8,2],[65536,2,1,8,4],[65536,2,1,8,8],[65536,2,1,8,16],[65536,2,1,8,32],[65536,4,1,4,2],[65536,4,1,4,4],[65536,2,1,8,64],[65536,4,1,4,8],[65536,4,1,4,16],[65536,8,1,2,2],[65536,8,1,2,4],[65536,2,1,8,128],[65536,4,1,4,32],[65536,8,1,2,8],[65536,8,1,2,16],[65536,4,1,4,64],[65536,8,1,2,32],[65536,4,1,4,128],[65536,8,1,2,64],[65536,8,1,2,128],[131072,2,1,8,4],[131072,2,1,8,8],[131072,2,1,8,16],[131072,2,1,8,32],[131072,4,1,4,2],[131072,2,1,8,64],[131072,4,1,4,4],[131072,4,1,4,8],[131072,4,1,4,16],[131072,8,1,2,2],[131072,8,1,2,4],[131072,4,1,4,32],[131072,2,1,8,128],[131072,8,1,2,8],[131072,8,1,2,16],[131072,4,1,4,64],[131072,8,1,2,32],[131072,4,1,4,128],[131072,8,1,2,64],[131072,8,1,2,128],[262144,2,1,8,16],[262144,2,1,8,32],[262144,2,1,8,64],[262144,4,1,4,8],[262144,4,1,4,16],[262144,8,1,2,4],[262144,4,1,4,32],[262144,8,1,2,8],[262144,2,1,8,128],[262144,8,1,2,16],[262144,4,1,4,64],[262144,8,1,2,32],[262144,4,1,4,128],[262144,8,1,2,64],[262144,8,1,2,128],[524288,4,1,4,16],[524288,4,1,4,32],[524288,8,1,2,8],[524288,8,1,2,16],[524288,4,1,4,64],[524288,8,1,2,32],[524288,4,1,4,128],[524288,8,1,2,64],[524288,8,1,2,128]],\"hovertemplate\":\"Parallelism style=D/P<br>Throughput (samples / second)=%{x}<br>Peak Memory (GB)=%{y}<br>dummy_column_for_size=%{marker.size}<br>batch_size=%{customdata[0]}<br>dp_degree=%{customdata[1]}<br>hp_degree=%{customdata[2]}<br>pp_degree=%{customdata[3]}<br>num_microbatches=%{customdata[4]}<extra></extra>\",\"legendgroup\":\"D/P\",\"marker\":{\"color\":\"#8c564b\",\"size\":[1.0,1.0,1.0,1.0,1.0,1.0,1.0,1.0,1.0,1.0,1.0,1.0,1.0,1.0,1.0,1.0,1.0,1.0,1.0,1.0,1.0,1.0,1.0,1.0,1.0,1.0,1.0,1.0,1.0,1.0,1.0,1.0,1.0,1.0,1.0,1.0,1.0,1.0,1.0,1.0,1.0,1.0,1.0,1.0,1.0,1.0,1.0,1.0,1.0,1.0,1.0,1.0,1.0,1.0,1.0,1.0,1.0,1.0,1.0,1.0,1.0,1.0,1.0,1.0,1.0,1.0,1.0,1.0,1.0,1.0,1.0,1.0,1.0,1.0,1.0,1.0,1.0,1.0,1.0,1.0,1.0,1.0,1.0,1.0,1.0,1.0,1.0,1.0,1.0,1.0,1.0,1.0,1.0,1.0,1.0,1.0,1.0,1.0,1.0,1.0,1.0,1.0,1.0,1.0,1.0,1.0,1.0,1.0,1.0,1.0,1.0,1.0,1.0,1.0,1.0,1.0,1.0,1.0,1.0,1.0,1.0,1.0,1.0,1.0,1.0,1.0,1.0,1.0],\"sizemode\":\"area\",\"sizeref\":0.01,\"symbol\":\"circle\"},\"mode\":\"markers\",\"name\":\"D/P\",\"orientation\":\"v\",\"showlegend\":true,\"type\":\"scatter\",\"x\":[1475.2218524869704,2302.9409842492446,3157.31590859181,3750.869022583605,3863.8691334779423,2624.106474099418,3455.002302435148,3553.483219418091,4176.512899130547,4270.717268474254,4256.966883067941,4749.704439584845,4688.545657273856,3803.310890002808,2675.220018474074,4089.624538752338,2939.8746570848825,3126.3329922799467,1982.440247363813,2096.5066964526022,1258.744316365862,1487.204504637762,2340.1276137180685,3257.8335431147875,3982.902933880177,4314.667696869069,2666.448446928539,3666.4345081180422,4177.497985533527,4434.0279491318925,4767.01677517551,4392.16516069961,5042.064218032119,4595.454340791221,3600.8946309325106,5232.213291585696,4939.467409623318,3953.5230596691576,4202.088321427892,2999.049643267857,3169.928995299013,2111.230320254422,1493.2691261983894,2359.174946057477,3310.1781880164217,4109.942143058505,4581.956705506596,2688.1360162562214,4665.291102102041,3725.64634763202,4575.072654593303,5061.091152433973,4463.036614467606,5202.169454964867,4354.21292517607,5554.238491038167,5129.649165932441,5512.197457007012,4777.074072455285,5075.276832158336,4033.168265308431,4260.672098068183,3192.186150482339,1496.320022912192,2368.815363360384,3336.986397475785,4175.988079856989,4728.27324656082,2699.112638086069,3755.975296090635,4954.554888538737,4649.014323827184,5222.167321820189,4499.336997345125,5286.09656360085,4862.877424092232,5446.193305503275,5730.587729271433,5851.43361053077,5332.472803065889,5663.735257640296,4873.375891169102,5146.021114690608,4290.580849493141,2373.665178099645,3350.5539984160187,4209.813504519005,4804.062940772667,2704.6346338820126,5112.900703327528,3771.32569868691,4686.888736194869,5306.6124322970745,4517.709531551234,5329.083879329186,5619.581940127083,5164.541460663859,5823.029457391673,6037.206969177255,5661.590604824808,6012.285721611018,5440.0205831463945,5742.672189799272,5182.138025023874,4226.932541437577,4842.876276309754,5194.843632515937,4706.058304238146,5349.867475860934,5350.840791992261,5710.483313730017,5870.377818138828,5329.666220866154,6134.588498654439,5841.869368118919,6203.159229011989,5775.807383572461,6096.074283771547,5782.971569377949,5371.760513841316,5757.045796167127,5894.341927370673,6184.46693183585,5936.383790203618,6303.214069473891,5959.740719588487,6289.60434004498,6138.8504822799005],\"xaxis\":\"x\",\"y\":[7.165762237,5.739698877,5.026667197,4.670151357,4.491893437,8.896447725,4.402764477,8.183416045,7.826900205,7.648642285,14.497109341,14.140593501,13.962335581,7.559513325,4.358199997,13.873206621,7.514948845,13.828642141,7.492666605,13.806359901,13.795218781,10.018151101,7.166024381,5.739961021,5.026929341,4.670413501,10.322642157,8.896578797,4.492155581,8.183547117,7.827031277,15.210206557,14.497174877,7.648773357,4.403026621,14.140659037,13.962401117,7.559644397,13.873272157,7.515079917,13.828707677,13.806425437,15.722928829,10.018675389,7.166548669,5.740485309,5.209878648,13.175031021,5.209878648,10.322904301,8.896840941,8.183809261,16.636400989,15.210337629,5.209878648,14.497305949,7.827293421,14.140790109,7.649035501,13.962532189,7.559906541,13.873403229,13.828838749,27.132484285,15.947296893,10.578587773,7.894233213,7.894233208,18.879808749,13.175555309,7.894233208,10.323428589,8.897365229,19.488789853,16.636663133,7.894233208,8.366758008,15.210599773,14.497568093,8.366758008,14.141052253,8.366758008,13.962794333,13.873665373,29.369069693,18.631651453,13.262942333,13.262942328,30.289364205,13.262942328,19.104176253,13.735467133,11.051112573,25.193567581,19.489314141,11.051112568,13.262942328,16.637187421,15.211124061,11.051112568,14.680516728,11.051112568,14.680516728,14.680516728,24.000360573,24.000360568,24.000360568,21.788530813,16.419821693,25.417934973,16.419821688,20.049225853,24.000360568,17.364871293,16.419821688,17.364871288,16.419821688,17.364871288,17.364871288,27.157239933,27.157239928,28.102289533,22.733580413,27.157239928,22.733580408,27.157239928,22.733580408,22.733580408],\"yaxis\":\"y\"},{\"customdata\":[[8192,2,2,4,2],[8192,2,2,4,4],[8192,2,2,4,8],[8192,2,4,2,2],[8192,2,2,4,16],[8192,2,4,2,4],[8192,2,4,2,8],[8192,2,2,4,32],[8192,4,2,2,2],[8192,4,2,2,4],[8192,2,4,2,16],[8192,4,2,2,8],[8192,2,2,4,64],[8192,4,2,2,16],[8192,2,4,2,32],[8192,4,2,2,32],[8192,2,2,4,128],[8192,2,4,2,64],[8192,4,2,2,64],[8192,2,4,2,128],[8192,4,2,2,128],[16384,2,2,4,2],[16384,2,2,4,4],[16384,2,4,2,2],[16384,2,2,4,8],[16384,2,4,2,4],[16384,2,2,4,16],[16384,2,4,2,8],[16384,2,2,4,32],[16384,4,2,2,2],[16384,4,2,2,4],[16384,2,4,2,16],[16384,4,2,2,8],[16384,2,2,4,64],[16384,4,2,2,16],[16384,2,4,2,32],[16384,4,2,2,32],[16384,2,2,4,128],[16384,2,4,2,64],[16384,4,2,2,64],[16384,2,4,2,128],[16384,4,2,2,128],[32768,2,2,4,2],[32768,2,2,4,4],[32768,2,2,4,8],[32768,2,4,2,2],[32768,2,4,2,4],[32768,2,2,4,16],[32768,2,4,2,8],[32768,4,2,2,2],[32768,2,2,4,32],[32768,4,2,2,4],[32768,2,4,2,16],[32768,4,2,2,8],[32768,4,2,2,16],[32768,2,2,4,64],[32768,2,4,2,32],[32768,4,2,2,32],[32768,2,2,4,128],[32768,2,4,2,64],[32768,4,2,2,64],[32768,2,4,2,128],[32768,4,2,2,128],[65536,2,2,4,2],[65536,2,2,4,4],[65536,2,2,4,8],[65536,2,4,2,2],[65536,2,2,4,16],[65536,2,4,2,4],[65536,2,4,2,8],[65536,2,2,4,32],[65536,4,2,2,2],[65536,2,4,2,16],[65536,4,2,2,4],[65536,4,2,2,8],[65536,2,2,4,64],[65536,4,2,2,16],[65536,2,4,2,32],[65536,4,2,2,32],[65536,2,2,4,128],[65536,2,4,2,64],[65536,4,2,2,64],[65536,4,2,2,128],[65536,2,4,2,128],[131072,2,2,4,2],[131072,2,2,4,4],[131072,2,4,2,2],[131072,2,2,4,8],[131072,2,2,4,16],[131072,2,4,2,4],[131072,2,4,2,8],[131072,2,2,4,32],[131072,4,2,2,2],[131072,4,2,2,4],[131072,2,4,2,16],[131072,4,2,2,8],[131072,2,2,4,64],[131072,4,2,2,16],[131072,2,4,2,32],[131072,4,2,2,32],[131072,2,2,4,128],[131072,2,4,2,64],[131072,4,2,2,64],[131072,2,4,2,128],[131072,4,2,2,128],[262144,2,2,4,8],[262144,2,2,4,16],[262144,2,4,2,4],[262144,2,4,2,8],[262144,2,2,4,32],[262144,2,4,2,16],[262144,4,2,2,4],[262144,4,2,2,8],[262144,4,2,2,16],[262144,2,2,4,64],[262144,2,4,2,32],[262144,4,2,2,32],[262144,2,2,4,128],[262144,2,4,2,64],[262144,4,2,2,64],[262144,2,4,2,128],[262144,4,2,2,128],[524288,4,2,2,8],[524288,4,2,2,16],[524288,4,2,2,32],[524288,4,2,2,64],[524288,4,2,2,128]],\"hovertemplate\":\"Parallelism style=D/T/P<br>Throughput (samples / second)=%{x}<br>Peak Memory (GB)=%{y}<br>dummy_column_for_size=%{marker.size}<br>batch_size=%{customdata[0]}<br>dp_degree=%{customdata[1]}<br>hp_degree=%{customdata[2]}<br>pp_degree=%{customdata[3]}<br>num_microbatches=%{customdata[4]}<extra></extra>\",\"legendgroup\":\"D/T/P\",\"marker\":{\"color\":\"#e377c2\",\"size\":[1.0,1.0,1.0,1.0,1.0,1.0,1.0,1.0,1.0,1.0,1.0,1.0,1.0,1.0,1.0,1.0,1.0,1.0,1.0,1.0,1.0,1.0,1.0,1.0,1.0,1.0,1.0,1.0,1.0,1.0,1.0,1.0,1.0,1.0,1.0,1.0,1.0,1.0,1.0,1.0,1.0,1.0,1.0,1.0,1.0,1.0,1.0,1.0,1.0,1.0,1.0,1.0,1.0,1.0,1.0,1.0,1.0,1.0,1.0,1.0,1.0,1.0,1.0,1.0,1.0,1.0,1.0,1.0,1.0,1.0,1.0,1.0,1.0,1.0,1.0,1.0,1.0,1.0,1.0,1.0,1.0,1.0,1.0,1.0,1.0,1.0,1.0,1.0,1.0,1.0,1.0,1.0,1.0,1.0,1.0,1.0,1.0,1.0,1.0,1.0,1.0,1.0,1.0,1.0,1.0,1.0,1.0,1.0,1.0,1.0,1.0,1.0,1.0,1.0,1.0,1.0,1.0,1.0,1.0,1.0,1.0,1.0,1.0,1.0,1.0,1.0,1.0],\"sizemode\":\"area\",\"sizeref\":0.01,\"symbol\":\"diamond\"},\"mode\":\"markers\",\"name\":\"D/T/P\",\"orientation\":\"v\",\"showlegend\":true,\"type\":\"scatter\",\"x\":[2421.337053005655,3290.899548745168,3893.9402316436426,3494.173365136093,4027.573471412792,3955.320752557576,4003.1173505789698,3649.030547725788,3945.489766047984,4431.476958245031,3628.113366480788,4424.312305481101,2882.1886524026104,3925.6797553556953,2913.803047914881,3066.164675662843,1986.158378078524,2056.360985945468,2101.062402970085,1287.8601831459528,1283.5888432788734,2455.7117888910766,3383.112578396257,3576.883891718668,4106.3731921282,4138.193575360838,4444.4980334253805,4356.864380931274,4333.832405198267,4056.031144383901,4672.974289186083,4217.214982471704,4881.5470075335925,3793.156336167389,4661.035290132338,3727.825380146814,4033.611563054328,2940.2044898476784,2954.4153790733044,3108.9143363022845,2070.7977726271038,2115.8163920273973,2473.2677764980426,3431.184528940513,4221.525335120322,3619.7251219084937,4236.121343589647,4687.0964160847125,4558.266578846503,4113.657625620621,4782.6000059078615,4803.869899134616,4589.84458182963,5147.535445182365,5142.698609886769,4505.118258105257,4333.08765424149,4789.157304690543,3869.574646408568,3779.765324367765,4089.834079023573,2975.1490623437617,3130.739329101066,2482.140239357469,3455.73647467874,4281.55769467566,3641.5328956224016,4818.605751119235,4286.844088511734,4666.115461376386,5043.739167891998,4143.089310177599,4801.994705876948,4872.106672456056,5291.704097370973,4971.70379759992,5422.894896314494,4715.935209924048,5284.040655973442,4595.940834069593,4393.445048659037,4855.896473127355,4118.537205265133,3806.281865196402,2486.6003851150413,3468.1446823007605,3652.5356192523504,4312.218728858992,4887.16718550311,4312.663714981918,4721.976597463986,5185.302925997949,4157.963648984279,4906.957213174517,4915.598200437924,5366.859766255657,5243.218294728881,5574.763411672939,4933.901264357694,5571.925671427793,5071.976663537177,4781.614644499765,5357.6657600499375,4424.258725904245,4889.968483035698,4327.714514752839,4922.184788812904,4325.690514065814,4750.411748643525,5259.107196419386,4974.439762653013,4924.570121003168,5405.243877650464,5653.932784703781,5390.408691074938,5050.61866762431,5727.9610098255625,5348.994254548525,5002.609904852936,5649.555577841296,4815.145216988409,5395.253100534866,5424.642566420683,5694.36673778474,5809.302409623869,5807.761264161556,5689.187395543701],\"xaxis\":\"x\",\"y\":[5.519769837,4.764795117,4.387307757,4.712962909,4.198564077,4.293532509,4.083817309,4.104192237,7.932336477,7.554849117,3.978959709,7.366105437,4.057006317,7.271733597,3.926530909,7.224547677,4.033413357,3.900316509,7.200954717,3.887209309,7.189158237,7.029981421,5.520031981,5.552085853,4.765057261,4.713225053,4.387569901,4.371993208,4.198826221,8.687442269,7.932467549,4.371993208,7.554980189,4.193102968,7.366236509,4.371993208,7.271864669,4.193102968,4.371993208,7.224678749,4.371993208,7.201085789,10.050404589,7.030505709,5.535280253,7.230331741,5.714170493,5.535280248,5.714170488,10.197653853,5.535280248,8.687704413,5.714170488,7.932729693,7.555242333,5.535280248,5.714170488,7.366498653,5.535280248,5.714170488,7.360775288,5.714170488,7.360775288,16.272698493,10.903989373,8.219634813,11.082879613,8.219634808,8.398525053,8.398525048,8.219634808,13.218077021,8.398525048,10.198178141,8.702952573,8.219634808,8.702952568,8.398525048,8.702952568,8.219634808,8.398525048,8.702952568,8.702952568,8.398525048,29.694471293,18.957053053,19.135943293,13.588343933,13.588343928,13.767234173,13.767234168,13.588343928,19.440370813,14.071661693,13.767234168,11.387307133,13.588343928,11.387307128,13.767234168,11.387307128,13.588343928,13.767234168,11.387307128,13.767234168,11.387307128,24.325762173,24.325762168,24.504652413,24.504652408,24.325762168,24.504652408,22.124725373,16.756016253,16.756016248,24.325762168,24.504652408,16.756016248,24.325762168,24.504652408,16.756016248,24.504652408,16.756016248,27.493434493,27.493434488,27.493434488,27.493434488,27.493434488],\"yaxis\":\"y\"}],                        {\"legend\":{\"itemsizing\":\"constant\",\"title\":{\"text\":\"Parallelism style\"},\"tracegroupgap\":0},\"margin\":{\"t\":60},\"template\":{\"data\":{\"bar\":[{\"error_x\":{\"color\":\"#2a3f5f\"},\"error_y\":{\"color\":\"#2a3f5f\"},\"marker\":{\"line\":{\"color\":\"#E5ECF6\",\"width\":0.5},\"pattern\":{\"fillmode\":\"overlay\",\"size\":10,\"solidity\":0.2}},\"type\":\"bar\"}],\"barpolar\":[{\"marker\":{\"line\":{\"color\":\"#E5ECF6\",\"width\":0.5},\"pattern\":{\"fillmode\":\"overlay\",\"size\":10,\"solidity\":0.2}},\"type\":\"barpolar\"}],\"carpet\":[{\"aaxis\":{\"endlinecolor\":\"#2a3f5f\",\"gridcolor\":\"white\",\"linecolor\":\"white\",\"minorgridcolor\":\"white\",\"startlinecolor\":\"#2a3f5f\"},\"baxis\":{\"endlinecolor\":\"#2a3f5f\",\"gridcolor\":\"white\",\"linecolor\":\"white\",\"minorgridcolor\":\"white\",\"startlinecolor\":\"#2a3f5f\"},\"type\":\"carpet\"}],\"choropleth\":[{\"colorbar\":{\"outlinewidth\":0,\"ticks\":\"\"},\"type\":\"choropleth\"}],\"contour\":[{\"colorbar\":{\"outlinewidth\":0,\"ticks\":\"\"},\"colorscale\":[[0.0,\"#0d0887\"],[0.1111111111111111,\"#46039f\"],[0.2222222222222222,\"#7201a8\"],[0.3333333333333333,\"#9c179e\"],[0.4444444444444444,\"#bd3786\"],[0.5555555555555556,\"#d8576b\"],[0.6666666666666666,\"#ed7953\"],[0.7777777777777778,\"#fb9f3a\"],[0.8888888888888888,\"#fdca26\"],[1.0,\"#f0f921\"]],\"type\":\"contour\"}],\"contourcarpet\":[{\"colorbar\":{\"outlinewidth\":0,\"ticks\":\"\"},\"type\":\"contourcarpet\"}],\"heatmap\":[{\"colorbar\":{\"outlinewidth\":0,\"ticks\":\"\"},\"colorscale\":[[0.0,\"#0d0887\"],[0.1111111111111111,\"#46039f\"],[0.2222222222222222,\"#7201a8\"],[0.3333333333333333,\"#9c179e\"],[0.4444444444444444,\"#bd3786\"],[0.5555555555555556,\"#d8576b\"],[0.6666666666666666,\"#ed7953\"],[0.7777777777777778,\"#fb9f3a\"],[0.8888888888888888,\"#fdca26\"],[1.0,\"#f0f921\"]],\"type\":\"heatmap\"}],\"heatmapgl\":[{\"colorbar\":{\"outlinewidth\":0,\"ticks\":\"\"},\"colorscale\":[[0.0,\"#0d0887\"],[0.1111111111111111,\"#46039f\"],[0.2222222222222222,\"#7201a8\"],[0.3333333333333333,\"#9c179e\"],[0.4444444444444444,\"#bd3786\"],[0.5555555555555556,\"#d8576b\"],[0.6666666666666666,\"#ed7953\"],[0.7777777777777778,\"#fb9f3a\"],[0.8888888888888888,\"#fdca26\"],[1.0,\"#f0f921\"]],\"type\":\"heatmapgl\"}],\"histogram\":[{\"marker\":{\"pattern\":{\"fillmode\":\"overlay\",\"size\":10,\"solidity\":0.2}},\"type\":\"histogram\"}],\"histogram2d\":[{\"colorbar\":{\"outlinewidth\":0,\"ticks\":\"\"},\"colorscale\":[[0.0,\"#0d0887\"],[0.1111111111111111,\"#46039f\"],[0.2222222222222222,\"#7201a8\"],[0.3333333333333333,\"#9c179e\"],[0.4444444444444444,\"#bd3786\"],[0.5555555555555556,\"#d8576b\"],[0.6666666666666666,\"#ed7953\"],[0.7777777777777778,\"#fb9f3a\"],[0.8888888888888888,\"#fdca26\"],[1.0,\"#f0f921\"]],\"type\":\"histogram2d\"}],\"histogram2dcontour\":[{\"colorbar\":{\"outlinewidth\":0,\"ticks\":\"\"},\"colorscale\":[[0.0,\"#0d0887\"],[0.1111111111111111,\"#46039f\"],[0.2222222222222222,\"#7201a8\"],[0.3333333333333333,\"#9c179e\"],[0.4444444444444444,\"#bd3786\"],[0.5555555555555556,\"#d8576b\"],[0.6666666666666666,\"#ed7953\"],[0.7777777777777778,\"#fb9f3a\"],[0.8888888888888888,\"#fdca26\"],[1.0,\"#f0f921\"]],\"type\":\"histogram2dcontour\"}],\"mesh3d\":[{\"colorbar\":{\"outlinewidth\":0,\"ticks\":\"\"},\"type\":\"mesh3d\"}],\"parcoords\":[{\"line\":{\"colorbar\":{\"outlinewidth\":0,\"ticks\":\"\"}},\"type\":\"parcoords\"}],\"pie\":[{\"automargin\":true,\"type\":\"pie\"}],\"scatter\":[{\"marker\":{\"colorbar\":{\"outlinewidth\":0,\"ticks\":\"\"}},\"type\":\"scatter\"}],\"scatter3d\":[{\"line\":{\"colorbar\":{\"outlinewidth\":0,\"ticks\":\"\"}},\"marker\":{\"colorbar\":{\"outlinewidth\":0,\"ticks\":\"\"}},\"type\":\"scatter3d\"}],\"scattercarpet\":[{\"marker\":{\"colorbar\":{\"outlinewidth\":0,\"ticks\":\"\"}},\"type\":\"scattercarpet\"}],\"scattergeo\":[{\"marker\":{\"colorbar\":{\"outlinewidth\":0,\"ticks\":\"\"}},\"type\":\"scattergeo\"}],\"scattergl\":[{\"marker\":{\"colorbar\":{\"outlinewidth\":0,\"ticks\":\"\"}},\"type\":\"scattergl\"}],\"scattermapbox\":[{\"marker\":{\"colorbar\":{\"outlinewidth\":0,\"ticks\":\"\"}},\"type\":\"scattermapbox\"}],\"scatterpolar\":[{\"marker\":{\"colorbar\":{\"outlinewidth\":0,\"ticks\":\"\"}},\"type\":\"scatterpolar\"}],\"scatterpolargl\":[{\"marker\":{\"colorbar\":{\"outlinewidth\":0,\"ticks\":\"\"}},\"type\":\"scatterpolargl\"}],\"scatterternary\":[{\"marker\":{\"colorbar\":{\"outlinewidth\":0,\"ticks\":\"\"}},\"type\":\"scatterternary\"}],\"surface\":[{\"colorbar\":{\"outlinewidth\":0,\"ticks\":\"\"},\"colorscale\":[[0.0,\"#0d0887\"],[0.1111111111111111,\"#46039f\"],[0.2222222222222222,\"#7201a8\"],[0.3333333333333333,\"#9c179e\"],[0.4444444444444444,\"#bd3786\"],[0.5555555555555556,\"#d8576b\"],[0.6666666666666666,\"#ed7953\"],[0.7777777777777778,\"#fb9f3a\"],[0.8888888888888888,\"#fdca26\"],[1.0,\"#f0f921\"]],\"type\":\"surface\"}],\"table\":[{\"cells\":{\"fill\":{\"color\":\"#EBF0F8\"},\"line\":{\"color\":\"white\"}},\"header\":{\"fill\":{\"color\":\"#C8D4E3\"},\"line\":{\"color\":\"white\"}},\"type\":\"table\"}]},\"layout\":{\"annotationdefaults\":{\"arrowcolor\":\"#2a3f5f\",\"arrowhead\":0,\"arrowwidth\":1},\"autotypenumbers\":\"strict\",\"coloraxis\":{\"colorbar\":{\"outlinewidth\":0,\"ticks\":\"\"}},\"colorscale\":{\"diverging\":[[0,\"#8e0152\"],[0.1,\"#c51b7d\"],[0.2,\"#de77ae\"],[0.3,\"#f1b6da\"],[0.4,\"#fde0ef\"],[0.5,\"#f7f7f7\"],[0.6,\"#e6f5d0\"],[0.7,\"#b8e186\"],[0.8,\"#7fbc41\"],[0.9,\"#4d9221\"],[1,\"#276419\"]],\"sequential\":[[0.0,\"#0d0887\"],[0.1111111111111111,\"#46039f\"],[0.2222222222222222,\"#7201a8\"],[0.3333333333333333,\"#9c179e\"],[0.4444444444444444,\"#bd3786\"],[0.5555555555555556,\"#d8576b\"],[0.6666666666666666,\"#ed7953\"],[0.7777777777777778,\"#fb9f3a\"],[0.8888888888888888,\"#fdca26\"],[1.0,\"#f0f921\"]],\"sequentialminus\":[[0.0,\"#0d0887\"],[0.1111111111111111,\"#46039f\"],[0.2222222222222222,\"#7201a8\"],[0.3333333333333333,\"#9c179e\"],[0.4444444444444444,\"#bd3786\"],[0.5555555555555556,\"#d8576b\"],[0.6666666666666666,\"#ed7953\"],[0.7777777777777778,\"#fb9f3a\"],[0.8888888888888888,\"#fdca26\"],[1.0,\"#f0f921\"]]},\"colorway\":[\"#636efa\",\"#EF553B\",\"#00cc96\",\"#ab63fa\",\"#FFA15A\",\"#19d3f3\",\"#FF6692\",\"#B6E880\",\"#FF97FF\",\"#FECB52\"],\"font\":{\"color\":\"#2a3f5f\"},\"geo\":{\"bgcolor\":\"white\",\"lakecolor\":\"white\",\"landcolor\":\"#E5ECF6\",\"showlakes\":true,\"showland\":true,\"subunitcolor\":\"white\"},\"hoverlabel\":{\"align\":\"left\"},\"hovermode\":\"closest\",\"mapbox\":{\"style\":\"light\"},\"paper_bgcolor\":\"white\",\"plot_bgcolor\":\"#E5ECF6\",\"polar\":{\"angularaxis\":{\"gridcolor\":\"white\",\"linecolor\":\"white\",\"ticks\":\"\"},\"bgcolor\":\"#E5ECF6\",\"radialaxis\":{\"gridcolor\":\"white\",\"linecolor\":\"white\",\"ticks\":\"\"}},\"scene\":{\"xaxis\":{\"backgroundcolor\":\"#E5ECF6\",\"gridcolor\":\"white\",\"gridwidth\":2,\"linecolor\":\"white\",\"showbackground\":true,\"ticks\":\"\",\"zerolinecolor\":\"white\"},\"yaxis\":{\"backgroundcolor\":\"#E5ECF6\",\"gridcolor\":\"white\",\"gridwidth\":2,\"linecolor\":\"white\",\"showbackground\":true,\"ticks\":\"\",\"zerolinecolor\":\"white\"},\"zaxis\":{\"backgroundcolor\":\"#E5ECF6\",\"gridcolor\":\"white\",\"gridwidth\":2,\"linecolor\":\"white\",\"showbackground\":true,\"ticks\":\"\",\"zerolinecolor\":\"white\"}},\"shapedefaults\":{\"line\":{\"color\":\"#2a3f5f\"}},\"ternary\":{\"aaxis\":{\"gridcolor\":\"white\",\"linecolor\":\"white\",\"ticks\":\"\"},\"baxis\":{\"gridcolor\":\"white\",\"linecolor\":\"white\",\"ticks\":\"\"},\"bgcolor\":\"#E5ECF6\",\"caxis\":{\"gridcolor\":\"white\",\"linecolor\":\"white\",\"ticks\":\"\"}},\"title\":{\"x\":0.05},\"xaxis\":{\"automargin\":true,\"gridcolor\":\"white\",\"linecolor\":\"white\",\"ticks\":\"\",\"title\":{\"standoff\":15},\"zerolinecolor\":\"white\",\"zerolinewidth\":2},\"yaxis\":{\"automargin\":true,\"gridcolor\":\"white\",\"linecolor\":\"white\",\"ticks\":\"\",\"title\":{\"standoff\":15},\"zerolinecolor\":\"white\",\"zerolinewidth\":2}}},\"xaxis\":{\"anchor\":\"y\",\"domain\":[0.0,1.0],\"title\":{\"text\":\"Throughput (samples / second)\"}},\"yaxis\":{\"anchor\":\"x\",\"domain\":[0.0,1.0],\"title\":{\"text\":\"Peak Memory (GB)\"}}},                        {\"responsive\": true}                    ).then(function(){\n",
       "                            \n",
       "var gd = document.getElementById('bdd5fe88-4bdf-4209-ab90-104adaa4378f');\n",
       "var x = new MutationObserver(function (mutations, observer) {{\n",
       "        var display = window.getComputedStyle(gd).display;\n",
       "        if (!display || display === 'none') {{\n",
       "            console.log([gd, 'removed!']);\n",
       "            Plotly.purge(gd);\n",
       "            observer.disconnect();\n",
       "        }}\n",
       "}});\n",
       "\n",
       "// Listen for the removal of the full notebook cells\n",
       "var notebookContainer = gd.closest('#notebook-container');\n",
       "if (notebookContainer) {{\n",
       "    x.observe(notebookContainer, {childList: true});\n",
       "}}\n",
       "\n",
       "// Listen for the clearing of the current output cell\n",
       "var outputEl = gd.closest('.output');\n",
       "if (outputEl) {{\n",
       "    x.observe(outputEl, {childList: true});\n",
       "}}\n",
       "\n",
       "                        })                };                });            </script>        </div>"
      ]
     },
     "metadata": {},
     "output_type": "display_data"
    }
   ],
   "source": [
    "simulation_filename = \"~/Downloads/gpt2_dgx_simulated_grid_search_results.csv\"\n",
    "plot_memory_usage_vs_metric(\n",
    "    simulation_filename,\n",
    "    \"gpt3-13B\",\n",
    "    16384,\n",
    "    \"throughput\",\n",
    "    \"Throughput (samples / second)\",\n",
    "    \"Peak Memory (GB)\",\n",
    "    os.path.join(FIGURES_DIR, \"gpt3-13B_memory_vs_throughput.pdf\"),\n",
    "    None,\n",
    ")"
   ]
  },
  {
   "cell_type": "code",
   "execution_count": 22,
   "id": "vulnerable-notice",
   "metadata": {},
   "outputs": [
    {
     "data": {
      "application/vnd.plotly.v1+json": {
       "config": {
        "plotlyServerURL": "https://plot.ly"
       },
       "data": [
        {
         "customdata": [
          [
           4096,
           1,
           16,
           1,
           1
          ],
          [
           8192,
           1,
           16,
           1,
           1
          ]
         ],
         "hovertemplate": "Parallelism style=T<br>Throughput (samples / second)=%{x}<br>Peak Memory (GB)=%{y}<br>dummy_column_for_size=%{marker.size}<br>batch_size=%{customdata[0]}<br>dp_degree=%{customdata[1]}<br>hp_degree=%{customdata[2]}<br>pp_degree=%{customdata[3]}<br>num_microbatches=%{customdata[4]}<extra></extra>",
         "legendgroup": "T",
         "marker": {
          "color": "#ff7f0e",
          "size": [
           1,
           1
          ],
          "sizemode": "area",
          "sizeref": 0.01,
          "symbol": "diamond"
         },
         "mode": "markers",
         "name": "T",
         "orientation": "v",
         "showlegend": true,
         "type": "scatter",
         "x": [
          352.51102177897246,
          355.4925632750623
         ],
         "xaxis": "x",
         "y": [
          25.636365668,
          28.052612452
         ],
         "yaxis": "y"
        },
        {
         "customdata": [
          [
           4096,
           1,
           1,
           16,
           4
          ],
          [
           4096,
           1,
           1,
           16,
           8
          ],
          [
           4096,
           1,
           1,
           16,
           16
          ],
          [
           4096,
           1,
           1,
           16,
           32
          ],
          [
           4096,
           1,
           1,
           16,
           64
          ],
          [
           4096,
           1,
           1,
           16,
           128
          ],
          [
           8192,
           1,
           1,
           16,
           8
          ],
          [
           8192,
           1,
           1,
           16,
           16
          ],
          [
           8192,
           1,
           1,
           16,
           32
          ],
          [
           8192,
           1,
           1,
           16,
           64
          ],
          [
           8192,
           1,
           1,
           16,
           128
          ],
          [
           16384,
           1,
           1,
           16,
           16
          ],
          [
           16384,
           1,
           1,
           16,
           32
          ],
          [
           16384,
           1,
           1,
           16,
           64
          ],
          [
           16384,
           1,
           1,
           16,
           128
          ],
          [
           32768,
           1,
           1,
           16,
           32
          ],
          [
           32768,
           1,
           1,
           16,
           64
          ],
          [
           32768,
           1,
           1,
           16,
           128
          ]
         ],
         "hovertemplate": "Parallelism style=P<br>Throughput (samples / second)=%{x}<br>Peak Memory (GB)=%{y}<br>dummy_column_for_size=%{marker.size}<br>batch_size=%{customdata[0]}<br>dp_degree=%{customdata[1]}<br>hp_degree=%{customdata[2]}<br>pp_degree=%{customdata[3]}<br>num_microbatches=%{customdata[4]}<extra></extra>",
         "legendgroup": "P",
         "marker": {
          "color": "#2ca02c",
          "size": [
           1,
           1,
           1,
           1,
           1,
           1,
           1,
           1,
           1,
           1,
           1,
           1,
           1,
           1,
           1,
           1,
           1,
           1
          ],
          "sizemode": "area",
          "sizeref": 0.01,
          "symbol": "square"
         },
         "mode": "markers",
         "name": "P",
         "orientation": "v",
         "showlegend": true,
         "type": "scatter",
         "x": [
          107.79624202755927,
          171.97006899445515,
          242.5518793714827,
          298.12612964555274,
          319.9938339661486,
          301.1555972356837,
          173.96374075367382,
          248.11408010859031,
          311.51481497444803,
          347.5202089573649,
          348.8838970997788,
          250.98425514816893,
          318.6646796281946,
          363.139108794318,
          378.9094089210512,
          322.35141772610973,
          371.4792657591625,
          395.94734292232766
         ],
         "xaxis": "x",
         "y": [
          30.067163949,
          28.355887917,
          27.500249901,
          27.072430893,
          26.858521389,
          26.751566637,
          30.067426093,
          28.356150061,
          27.500512045,
          27.072693037,
          26.858783533,
          30.067950381,
          28.356674349,
          27.501036333,
          27.073217325,
          31.01642764,
          31.01642764,
          31.01642764
         ],
         "yaxis": "y"
        },
        {
         "customdata": [
          [
           4096,
           1,
           2,
           8,
           2
          ],
          [
           4096,
           1,
           2,
           8,
           4
          ],
          [
           4096,
           1,
           2,
           8,
           8
          ],
          [
           4096,
           1,
           4,
           4,
           2
          ],
          [
           4096,
           1,
           2,
           8,
           16
          ],
          [
           4096,
           1,
           4,
           4,
           4
          ],
          [
           4096,
           1,
           4,
           4,
           8
          ],
          [
           4096,
           1,
           8,
           2,
           2
          ],
          [
           4096,
           1,
           2,
           8,
           32
          ],
          [
           4096,
           1,
           8,
           2,
           4
          ],
          [
           4096,
           1,
           4,
           4,
           16
          ],
          [
           4096,
           1,
           8,
           2,
           8
          ],
          [
           4096,
           1,
           2,
           8,
           64
          ],
          [
           4096,
           1,
           4,
           4,
           32
          ],
          [
           4096,
           1,
           8,
           2,
           16
          ],
          [
           4096,
           1,
           2,
           8,
           128
          ],
          [
           4096,
           1,
           4,
           4,
           64
          ],
          [
           4096,
           1,
           8,
           2,
           32
          ],
          [
           4096,
           1,
           4,
           4,
           128
          ],
          [
           4096,
           1,
           8,
           2,
           64
          ],
          [
           8192,
           1,
           2,
           8,
           4
          ],
          [
           8192,
           1,
           2,
           8,
           8
          ],
          [
           8192,
           1,
           4,
           4,
           2
          ],
          [
           8192,
           1,
           2,
           8,
           16
          ],
          [
           8192,
           1,
           4,
           4,
           4
          ],
          [
           8192,
           1,
           8,
           2,
           2
          ],
          [
           8192,
           1,
           4,
           4,
           8
          ],
          [
           8192,
           1,
           8,
           2,
           4
          ],
          [
           8192,
           1,
           2,
           8,
           32
          ],
          [
           8192,
           1,
           4,
           4,
           16
          ],
          [
           8192,
           1,
           8,
           2,
           8
          ],
          [
           8192,
           1,
           2,
           8,
           64
          ],
          [
           8192,
           1,
           4,
           4,
           32
          ],
          [
           8192,
           1,
           8,
           2,
           16
          ],
          [
           8192,
           1,
           8,
           2,
           32
          ],
          [
           8192,
           1,
           4,
           4,
           64
          ],
          [
           8192,
           1,
           2,
           8,
           128
          ],
          [
           4096,
           1,
           8,
           2,
           128
          ],
          [
           8192,
           1,
           4,
           4,
           128
          ],
          [
           8192,
           1,
           8,
           2,
           64
          ],
          [
           16384,
           1,
           2,
           8,
           8
          ],
          [
           16384,
           1,
           4,
           4,
           4
          ],
          [
           16384,
           1,
           2,
           8,
           16
          ],
          [
           16384,
           1,
           4,
           4,
           8
          ],
          [
           16384,
           1,
           8,
           2,
           2
          ],
          [
           16384,
           1,
           2,
           8,
           32
          ],
          [
           16384,
           1,
           8,
           2,
           4
          ],
          [
           16384,
           1,
           4,
           4,
           16
          ],
          [
           16384,
           1,
           8,
           2,
           8
          ],
          [
           16384,
           1,
           2,
           8,
           64
          ],
          [
           16384,
           1,
           4,
           4,
           32
          ],
          [
           16384,
           1,
           8,
           2,
           16
          ],
          [
           16384,
           1,
           4,
           4,
           64
          ],
          [
           16384,
           1,
           8,
           2,
           32
          ],
          [
           16384,
           1,
           2,
           8,
           128
          ],
          [
           8192,
           1,
           8,
           2,
           128
          ],
          [
           16384,
           1,
           4,
           4,
           128
          ],
          [
           16384,
           1,
           8,
           2,
           64
          ],
          [
           16384,
           1,
           8,
           2,
           128
          ]
         ],
         "hovertemplate": "Parallelism style=T/P<br>Throughput (samples / second)=%{x}<br>Peak Memory (GB)=%{y}<br>dummy_column_for_size=%{marker.size}<br>batch_size=%{customdata[0]}<br>dp_degree=%{customdata[1]}<br>hp_degree=%{customdata[2]}<br>pp_degree=%{customdata[3]}<br>num_microbatches=%{customdata[4]}<extra></extra>",
         "legendgroup": "T/P",
         "marker": {
          "color": "#9467bd",
          "size": [
           1,
           1,
           1,
           1,
           1,
           1,
           1,
           1,
           1,
           1,
           1,
           1,
           1,
           1,
           1,
           1,
           1,
           1,
           1,
           1,
           1,
           1,
           1,
           1,
           1,
           1,
           1,
           1,
           1,
           1,
           1,
           1,
           1,
           1,
           1,
           1,
           1,
           1,
           1,
           1,
           1,
           1,
           1,
           1,
           1,
           1,
           1,
           1,
           1,
           1,
           1,
           1,
           1,
           1,
           1,
           1,
           1,
           1,
           1
          ],
          "sizemode": "area",
          "sizeref": 0.01,
          "symbol": "cross"
         },
         "mode": "markers",
         "name": "T/P",
         "orientation": "v",
         "showlegend": true,
         "type": "scatter",
         "x": [
          111.83642504245428,
          179.1223008446592,
          254.4703494781205,
          188.6325637314717,
          316.8601341011,
          263.67271499614293,
          324.7747194192609,
          279.5355604461457,
          347.8741648779695,
          327.1461305528029,
          356.6358370069556,
          348.7023692414849,
          339.5635166306975,
          353.3803588912492,
          342.9363966397773,
          293.92683252451656,
          315.5104453741412,
          310.0295496314655,
          250.4524671007081,
          253.0974379287774,
          180.59527931137936,
          258.6244750558856,
          189.8107459141961,
          327.0460888433239,
          266.9471123900043,
          282.3128464521402,
          332.7444899542646,
          333.58217348969464,
          369.5541218858339,
          373.7234035819919,
          362.1570455788173,
          379.41634385557467,
          385.6992117016048,
          368.416681155486,
          352.91304414039826,
          368.38888219706286,
          355.68261476141294,
          183.3041989801578,
          322.3543113169836,
          314.6061419012237,
          260.7528172176206,
          268.61499875403325,
          332.38866035463764,
          336.8778772209981,
          283.7222877734536,
          381.4400340545405,
          336.8961019991629,
          382.8962983247464,
          369.2814046526608,
          403.0694395921725,
          404.18168839638577,
          382.6315029941464,
          402.0827029850563,
          379.134084088614,
          397.4342712863058,
          254.9796274225799,
          376.3815899410083,
          358.1222601707414,
          316.9454838270925
         ],
         "xaxis": "x",
         "y": [
          28.469933405,
          26.657994077,
          25.752024413,
          25.980243293,
          25.299039581,
          24.973610333,
          24.470293853,
          24.775833948,
          25.072547165,
          24.171837788,
          24.218635613,
          23.869839708,
          24.959300957,
          24.092806493,
          23.718840668,
          24.902677853,
          24.029891933,
          23.643341148,
          23.998434653,
          23.605591388,
          28.470195549,
          26.658256221,
          27.993771357,
          25.752286557,
          25.980505437,
          25.984088412,
          24.973872477,
          24.776096092,
          25.299301725,
          24.470555997,
          24.618069112,
          25.072809309,
          24.218897757,
          24.618069112,
          24.618069112,
          24.111192184,
          24.959563101,
          23.586716508,
          24.111192184,
          24.618069112,
          28.470719837,
          27.994295645,
          26.658780509,
          27.332417656,
          28.40059734,
          26.399469688,
          27.839294584,
          27.332417656,
          27.839294584,
          26.399469688,
          27.332417656,
          27.839294584,
          27.332417656,
          27.839294584,
          26.399469688,
          24.618069112,
          27.332417656,
          27.839294584,
          27.839294584
         ],
         "yaxis": "y"
        }
       ],
       "layout": {
        "legend": {
         "itemsizing": "constant",
         "title": {
          "text": "Parallelism style"
         },
         "tracegroupgap": 0
        },
        "margin": {
         "t": 60
        },
        "template": {
         "data": {
          "bar": [
           {
            "error_x": {
             "color": "#2a3f5f"
            },
            "error_y": {
             "color": "#2a3f5f"
            },
            "marker": {
             "line": {
              "color": "#E5ECF6",
              "width": 0.5
             },
             "pattern": {
              "fillmode": "overlay",
              "size": 10,
              "solidity": 0.2
             }
            },
            "type": "bar"
           }
          ],
          "barpolar": [
           {
            "marker": {
             "line": {
              "color": "#E5ECF6",
              "width": 0.5
             },
             "pattern": {
              "fillmode": "overlay",
              "size": 10,
              "solidity": 0.2
             }
            },
            "type": "barpolar"
           }
          ],
          "carpet": [
           {
            "aaxis": {
             "endlinecolor": "#2a3f5f",
             "gridcolor": "white",
             "linecolor": "white",
             "minorgridcolor": "white",
             "startlinecolor": "#2a3f5f"
            },
            "baxis": {
             "endlinecolor": "#2a3f5f",
             "gridcolor": "white",
             "linecolor": "white",
             "minorgridcolor": "white",
             "startlinecolor": "#2a3f5f"
            },
            "type": "carpet"
           }
          ],
          "choropleth": [
           {
            "colorbar": {
             "outlinewidth": 0,
             "ticks": ""
            },
            "type": "choropleth"
           }
          ],
          "contour": [
           {
            "colorbar": {
             "outlinewidth": 0,
             "ticks": ""
            },
            "colorscale": [
             [
              0,
              "#0d0887"
             ],
             [
              0.1111111111111111,
              "#46039f"
             ],
             [
              0.2222222222222222,
              "#7201a8"
             ],
             [
              0.3333333333333333,
              "#9c179e"
             ],
             [
              0.4444444444444444,
              "#bd3786"
             ],
             [
              0.5555555555555556,
              "#d8576b"
             ],
             [
              0.6666666666666666,
              "#ed7953"
             ],
             [
              0.7777777777777778,
              "#fb9f3a"
             ],
             [
              0.8888888888888888,
              "#fdca26"
             ],
             [
              1,
              "#f0f921"
             ]
            ],
            "type": "contour"
           }
          ],
          "contourcarpet": [
           {
            "colorbar": {
             "outlinewidth": 0,
             "ticks": ""
            },
            "type": "contourcarpet"
           }
          ],
          "heatmap": [
           {
            "colorbar": {
             "outlinewidth": 0,
             "ticks": ""
            },
            "colorscale": [
             [
              0,
              "#0d0887"
             ],
             [
              0.1111111111111111,
              "#46039f"
             ],
             [
              0.2222222222222222,
              "#7201a8"
             ],
             [
              0.3333333333333333,
              "#9c179e"
             ],
             [
              0.4444444444444444,
              "#bd3786"
             ],
             [
              0.5555555555555556,
              "#d8576b"
             ],
             [
              0.6666666666666666,
              "#ed7953"
             ],
             [
              0.7777777777777778,
              "#fb9f3a"
             ],
             [
              0.8888888888888888,
              "#fdca26"
             ],
             [
              1,
              "#f0f921"
             ]
            ],
            "type": "heatmap"
           }
          ],
          "heatmapgl": [
           {
            "colorbar": {
             "outlinewidth": 0,
             "ticks": ""
            },
            "colorscale": [
             [
              0,
              "#0d0887"
             ],
             [
              0.1111111111111111,
              "#46039f"
             ],
             [
              0.2222222222222222,
              "#7201a8"
             ],
             [
              0.3333333333333333,
              "#9c179e"
             ],
             [
              0.4444444444444444,
              "#bd3786"
             ],
             [
              0.5555555555555556,
              "#d8576b"
             ],
             [
              0.6666666666666666,
              "#ed7953"
             ],
             [
              0.7777777777777778,
              "#fb9f3a"
             ],
             [
              0.8888888888888888,
              "#fdca26"
             ],
             [
              1,
              "#f0f921"
             ]
            ],
            "type": "heatmapgl"
           }
          ],
          "histogram": [
           {
            "marker": {
             "pattern": {
              "fillmode": "overlay",
              "size": 10,
              "solidity": 0.2
             }
            },
            "type": "histogram"
           }
          ],
          "histogram2d": [
           {
            "colorbar": {
             "outlinewidth": 0,
             "ticks": ""
            },
            "colorscale": [
             [
              0,
              "#0d0887"
             ],
             [
              0.1111111111111111,
              "#46039f"
             ],
             [
              0.2222222222222222,
              "#7201a8"
             ],
             [
              0.3333333333333333,
              "#9c179e"
             ],
             [
              0.4444444444444444,
              "#bd3786"
             ],
             [
              0.5555555555555556,
              "#d8576b"
             ],
             [
              0.6666666666666666,
              "#ed7953"
             ],
             [
              0.7777777777777778,
              "#fb9f3a"
             ],
             [
              0.8888888888888888,
              "#fdca26"
             ],
             [
              1,
              "#f0f921"
             ]
            ],
            "type": "histogram2d"
           }
          ],
          "histogram2dcontour": [
           {
            "colorbar": {
             "outlinewidth": 0,
             "ticks": ""
            },
            "colorscale": [
             [
              0,
              "#0d0887"
             ],
             [
              0.1111111111111111,
              "#46039f"
             ],
             [
              0.2222222222222222,
              "#7201a8"
             ],
             [
              0.3333333333333333,
              "#9c179e"
             ],
             [
              0.4444444444444444,
              "#bd3786"
             ],
             [
              0.5555555555555556,
              "#d8576b"
             ],
             [
              0.6666666666666666,
              "#ed7953"
             ],
             [
              0.7777777777777778,
              "#fb9f3a"
             ],
             [
              0.8888888888888888,
              "#fdca26"
             ],
             [
              1,
              "#f0f921"
             ]
            ],
            "type": "histogram2dcontour"
           }
          ],
          "mesh3d": [
           {
            "colorbar": {
             "outlinewidth": 0,
             "ticks": ""
            },
            "type": "mesh3d"
           }
          ],
          "parcoords": [
           {
            "line": {
             "colorbar": {
              "outlinewidth": 0,
              "ticks": ""
             }
            },
            "type": "parcoords"
           }
          ],
          "pie": [
           {
            "automargin": true,
            "type": "pie"
           }
          ],
          "scatter": [
           {
            "marker": {
             "colorbar": {
              "outlinewidth": 0,
              "ticks": ""
             }
            },
            "type": "scatter"
           }
          ],
          "scatter3d": [
           {
            "line": {
             "colorbar": {
              "outlinewidth": 0,
              "ticks": ""
             }
            },
            "marker": {
             "colorbar": {
              "outlinewidth": 0,
              "ticks": ""
             }
            },
            "type": "scatter3d"
           }
          ],
          "scattercarpet": [
           {
            "marker": {
             "colorbar": {
              "outlinewidth": 0,
              "ticks": ""
             }
            },
            "type": "scattercarpet"
           }
          ],
          "scattergeo": [
           {
            "marker": {
             "colorbar": {
              "outlinewidth": 0,
              "ticks": ""
             }
            },
            "type": "scattergeo"
           }
          ],
          "scattergl": [
           {
            "marker": {
             "colorbar": {
              "outlinewidth": 0,
              "ticks": ""
             }
            },
            "type": "scattergl"
           }
          ],
          "scattermapbox": [
           {
            "marker": {
             "colorbar": {
              "outlinewidth": 0,
              "ticks": ""
             }
            },
            "type": "scattermapbox"
           }
          ],
          "scatterpolar": [
           {
            "marker": {
             "colorbar": {
              "outlinewidth": 0,
              "ticks": ""
             }
            },
            "type": "scatterpolar"
           }
          ],
          "scatterpolargl": [
           {
            "marker": {
             "colorbar": {
              "outlinewidth": 0,
              "ticks": ""
             }
            },
            "type": "scatterpolargl"
           }
          ],
          "scatterternary": [
           {
            "marker": {
             "colorbar": {
              "outlinewidth": 0,
              "ticks": ""
             }
            },
            "type": "scatterternary"
           }
          ],
          "surface": [
           {
            "colorbar": {
             "outlinewidth": 0,
             "ticks": ""
            },
            "colorscale": [
             [
              0,
              "#0d0887"
             ],
             [
              0.1111111111111111,
              "#46039f"
             ],
             [
              0.2222222222222222,
              "#7201a8"
             ],
             [
              0.3333333333333333,
              "#9c179e"
             ],
             [
              0.4444444444444444,
              "#bd3786"
             ],
             [
              0.5555555555555556,
              "#d8576b"
             ],
             [
              0.6666666666666666,
              "#ed7953"
             ],
             [
              0.7777777777777778,
              "#fb9f3a"
             ],
             [
              0.8888888888888888,
              "#fdca26"
             ],
             [
              1,
              "#f0f921"
             ]
            ],
            "type": "surface"
           }
          ],
          "table": [
           {
            "cells": {
             "fill": {
              "color": "#EBF0F8"
             },
             "line": {
              "color": "white"
             }
            },
            "header": {
             "fill": {
              "color": "#C8D4E3"
             },
             "line": {
              "color": "white"
             }
            },
            "type": "table"
           }
          ]
         },
         "layout": {
          "annotationdefaults": {
           "arrowcolor": "#2a3f5f",
           "arrowhead": 0,
           "arrowwidth": 1
          },
          "autotypenumbers": "strict",
          "coloraxis": {
           "colorbar": {
            "outlinewidth": 0,
            "ticks": ""
           }
          },
          "colorscale": {
           "diverging": [
            [
             0,
             "#8e0152"
            ],
            [
             0.1,
             "#c51b7d"
            ],
            [
             0.2,
             "#de77ae"
            ],
            [
             0.3,
             "#f1b6da"
            ],
            [
             0.4,
             "#fde0ef"
            ],
            [
             0.5,
             "#f7f7f7"
            ],
            [
             0.6,
             "#e6f5d0"
            ],
            [
             0.7,
             "#b8e186"
            ],
            [
             0.8,
             "#7fbc41"
            ],
            [
             0.9,
             "#4d9221"
            ],
            [
             1,
             "#276419"
            ]
           ],
           "sequential": [
            [
             0,
             "#0d0887"
            ],
            [
             0.1111111111111111,
             "#46039f"
            ],
            [
             0.2222222222222222,
             "#7201a8"
            ],
            [
             0.3333333333333333,
             "#9c179e"
            ],
            [
             0.4444444444444444,
             "#bd3786"
            ],
            [
             0.5555555555555556,
             "#d8576b"
            ],
            [
             0.6666666666666666,
             "#ed7953"
            ],
            [
             0.7777777777777778,
             "#fb9f3a"
            ],
            [
             0.8888888888888888,
             "#fdca26"
            ],
            [
             1,
             "#f0f921"
            ]
           ],
           "sequentialminus": [
            [
             0,
             "#0d0887"
            ],
            [
             0.1111111111111111,
             "#46039f"
            ],
            [
             0.2222222222222222,
             "#7201a8"
            ],
            [
             0.3333333333333333,
             "#9c179e"
            ],
            [
             0.4444444444444444,
             "#bd3786"
            ],
            [
             0.5555555555555556,
             "#d8576b"
            ],
            [
             0.6666666666666666,
             "#ed7953"
            ],
            [
             0.7777777777777778,
             "#fb9f3a"
            ],
            [
             0.8888888888888888,
             "#fdca26"
            ],
            [
             1,
             "#f0f921"
            ]
           ]
          },
          "colorway": [
           "#636efa",
           "#EF553B",
           "#00cc96",
           "#ab63fa",
           "#FFA15A",
           "#19d3f3",
           "#FF6692",
           "#B6E880",
           "#FF97FF",
           "#FECB52"
          ],
          "font": {
           "color": "#2a3f5f"
          },
          "geo": {
           "bgcolor": "white",
           "lakecolor": "white",
           "landcolor": "#E5ECF6",
           "showlakes": true,
           "showland": true,
           "subunitcolor": "white"
          },
          "hoverlabel": {
           "align": "left"
          },
          "hovermode": "closest",
          "mapbox": {
           "style": "light"
          },
          "paper_bgcolor": "white",
          "plot_bgcolor": "#E5ECF6",
          "polar": {
           "angularaxis": {
            "gridcolor": "white",
            "linecolor": "white",
            "ticks": ""
           },
           "bgcolor": "#E5ECF6",
           "radialaxis": {
            "gridcolor": "white",
            "linecolor": "white",
            "ticks": ""
           }
          },
          "scene": {
           "xaxis": {
            "backgroundcolor": "#E5ECF6",
            "gridcolor": "white",
            "gridwidth": 2,
            "linecolor": "white",
            "showbackground": true,
            "ticks": "",
            "zerolinecolor": "white"
           },
           "yaxis": {
            "backgroundcolor": "#E5ECF6",
            "gridcolor": "white",
            "gridwidth": 2,
            "linecolor": "white",
            "showbackground": true,
            "ticks": "",
            "zerolinecolor": "white"
           },
           "zaxis": {
            "backgroundcolor": "#E5ECF6",
            "gridcolor": "white",
            "gridwidth": 2,
            "linecolor": "white",
            "showbackground": true,
            "ticks": "",
            "zerolinecolor": "white"
           }
          },
          "shapedefaults": {
           "line": {
            "color": "#2a3f5f"
           }
          },
          "ternary": {
           "aaxis": {
            "gridcolor": "white",
            "linecolor": "white",
            "ticks": ""
           },
           "baxis": {
            "gridcolor": "white",
            "linecolor": "white",
            "ticks": ""
           },
           "bgcolor": "#E5ECF6",
           "caxis": {
            "gridcolor": "white",
            "linecolor": "white",
            "ticks": ""
           }
          },
          "title": {
           "x": 0.05
          },
          "xaxis": {
           "automargin": true,
           "gridcolor": "white",
           "linecolor": "white",
           "ticks": "",
           "title": {
            "standoff": 15
           },
           "zerolinecolor": "white",
           "zerolinewidth": 2
          },
          "yaxis": {
           "automargin": true,
           "gridcolor": "white",
           "linecolor": "white",
           "ticks": "",
           "title": {
            "standoff": 15
           },
           "zerolinecolor": "white",
           "zerolinewidth": 2
          }
         }
        },
        "xaxis": {
         "anchor": "y",
         "domain": [
          0,
          1
         ],
         "title": {
          "text": "Throughput (samples / second)"
         }
        },
        "yaxis": {
         "anchor": "x",
         "domain": [
          0,
          1
         ],
         "title": {
          "text": "Peak Memory (GB)"
         }
        }
       }
      },
      "text/html": [
       "<div>                            <div id=\"a6c3373e-ee1e-4e24-84b6-b0367a43334a\" class=\"plotly-graph-div\" style=\"height:525px; width:100%;\"></div>            <script type=\"text/javascript\">                require([\"plotly\"], function(Plotly) {                    window.PLOTLYENV=window.PLOTLYENV || {};                                    if (document.getElementById(\"a6c3373e-ee1e-4e24-84b6-b0367a43334a\")) {                    Plotly.newPlot(                        \"a6c3373e-ee1e-4e24-84b6-b0367a43334a\",                        [{\"customdata\":[[4096,1,16,1,1],[8192,1,16,1,1]],\"hovertemplate\":\"Parallelism style=T<br>Throughput (samples / second)=%{x}<br>Peak Memory (GB)=%{y}<br>dummy_column_for_size=%{marker.size}<br>batch_size=%{customdata[0]}<br>dp_degree=%{customdata[1]}<br>hp_degree=%{customdata[2]}<br>pp_degree=%{customdata[3]}<br>num_microbatches=%{customdata[4]}<extra></extra>\",\"legendgroup\":\"T\",\"marker\":{\"color\":\"#ff7f0e\",\"size\":[1.0,1.0],\"sizemode\":\"area\",\"sizeref\":0.01,\"symbol\":\"diamond\"},\"mode\":\"markers\",\"name\":\"T\",\"orientation\":\"v\",\"showlegend\":true,\"type\":\"scatter\",\"x\":[352.51102177897246,355.4925632750623],\"xaxis\":\"x\",\"y\":[25.636365668,28.052612452],\"yaxis\":\"y\"},{\"customdata\":[[4096,1,1,16,4],[4096,1,1,16,8],[4096,1,1,16,16],[4096,1,1,16,32],[4096,1,1,16,64],[4096,1,1,16,128],[8192,1,1,16,8],[8192,1,1,16,16],[8192,1,1,16,32],[8192,1,1,16,64],[8192,1,1,16,128],[16384,1,1,16,16],[16384,1,1,16,32],[16384,1,1,16,64],[16384,1,1,16,128],[32768,1,1,16,32],[32768,1,1,16,64],[32768,1,1,16,128]],\"hovertemplate\":\"Parallelism style=P<br>Throughput (samples / second)=%{x}<br>Peak Memory (GB)=%{y}<br>dummy_column_for_size=%{marker.size}<br>batch_size=%{customdata[0]}<br>dp_degree=%{customdata[1]}<br>hp_degree=%{customdata[2]}<br>pp_degree=%{customdata[3]}<br>num_microbatches=%{customdata[4]}<extra></extra>\",\"legendgroup\":\"P\",\"marker\":{\"color\":\"#2ca02c\",\"size\":[1.0,1.0,1.0,1.0,1.0,1.0,1.0,1.0,1.0,1.0,1.0,1.0,1.0,1.0,1.0,1.0,1.0,1.0],\"sizemode\":\"area\",\"sizeref\":0.01,\"symbol\":\"square\"},\"mode\":\"markers\",\"name\":\"P\",\"orientation\":\"v\",\"showlegend\":true,\"type\":\"scatter\",\"x\":[107.79624202755927,171.97006899445515,242.5518793714827,298.12612964555274,319.9938339661486,301.1555972356837,173.96374075367382,248.11408010859031,311.51481497444803,347.5202089573649,348.8838970997788,250.98425514816893,318.6646796281946,363.139108794318,378.9094089210512,322.35141772610973,371.4792657591625,395.94734292232766],\"xaxis\":\"x\",\"y\":[30.067163949,28.355887917,27.500249901,27.072430893,26.858521389,26.751566637,30.067426093,28.356150061,27.500512045,27.072693037,26.858783533,30.067950381,28.356674349,27.501036333,27.073217325,31.01642764,31.01642764,31.01642764],\"yaxis\":\"y\"},{\"customdata\":[[4096,1,2,8,2],[4096,1,2,8,4],[4096,1,2,8,8],[4096,1,4,4,2],[4096,1,2,8,16],[4096,1,4,4,4],[4096,1,4,4,8],[4096,1,8,2,2],[4096,1,2,8,32],[4096,1,8,2,4],[4096,1,4,4,16],[4096,1,8,2,8],[4096,1,2,8,64],[4096,1,4,4,32],[4096,1,8,2,16],[4096,1,2,8,128],[4096,1,4,4,64],[4096,1,8,2,32],[4096,1,4,4,128],[4096,1,8,2,64],[8192,1,2,8,4],[8192,1,2,8,8],[8192,1,4,4,2],[8192,1,2,8,16],[8192,1,4,4,4],[8192,1,8,2,2],[8192,1,4,4,8],[8192,1,8,2,4],[8192,1,2,8,32],[8192,1,4,4,16],[8192,1,8,2,8],[8192,1,2,8,64],[8192,1,4,4,32],[8192,1,8,2,16],[8192,1,8,2,32],[8192,1,4,4,64],[8192,1,2,8,128],[4096,1,8,2,128],[8192,1,4,4,128],[8192,1,8,2,64],[16384,1,2,8,8],[16384,1,4,4,4],[16384,1,2,8,16],[16384,1,4,4,8],[16384,1,8,2,2],[16384,1,2,8,32],[16384,1,8,2,4],[16384,1,4,4,16],[16384,1,8,2,8],[16384,1,2,8,64],[16384,1,4,4,32],[16384,1,8,2,16],[16384,1,4,4,64],[16384,1,8,2,32],[16384,1,2,8,128],[8192,1,8,2,128],[16384,1,4,4,128],[16384,1,8,2,64],[16384,1,8,2,128]],\"hovertemplate\":\"Parallelism style=T/P<br>Throughput (samples / second)=%{x}<br>Peak Memory (GB)=%{y}<br>dummy_column_for_size=%{marker.size}<br>batch_size=%{customdata[0]}<br>dp_degree=%{customdata[1]}<br>hp_degree=%{customdata[2]}<br>pp_degree=%{customdata[3]}<br>num_microbatches=%{customdata[4]}<extra></extra>\",\"legendgroup\":\"T/P\",\"marker\":{\"color\":\"#9467bd\",\"size\":[1.0,1.0,1.0,1.0,1.0,1.0,1.0,1.0,1.0,1.0,1.0,1.0,1.0,1.0,1.0,1.0,1.0,1.0,1.0,1.0,1.0,1.0,1.0,1.0,1.0,1.0,1.0,1.0,1.0,1.0,1.0,1.0,1.0,1.0,1.0,1.0,1.0,1.0,1.0,1.0,1.0,1.0,1.0,1.0,1.0,1.0,1.0,1.0,1.0,1.0,1.0,1.0,1.0,1.0,1.0,1.0,1.0,1.0,1.0],\"sizemode\":\"area\",\"sizeref\":0.01,\"symbol\":\"cross\"},\"mode\":\"markers\",\"name\":\"T/P\",\"orientation\":\"v\",\"showlegend\":true,\"type\":\"scatter\",\"x\":[111.83642504245428,179.1223008446592,254.4703494781205,188.6325637314717,316.8601341011,263.67271499614293,324.7747194192609,279.5355604461457,347.8741648779695,327.1461305528029,356.6358370069556,348.7023692414849,339.5635166306975,353.3803588912492,342.9363966397773,293.92683252451656,315.5104453741412,310.0295496314655,250.4524671007081,253.0974379287774,180.59527931137936,258.6244750558856,189.8107459141961,327.0460888433239,266.9471123900043,282.3128464521402,332.7444899542646,333.58217348969464,369.5541218858339,373.7234035819919,362.1570455788173,379.41634385557467,385.6992117016048,368.416681155486,352.91304414039826,368.38888219706286,355.68261476141294,183.3041989801578,322.3543113169836,314.6061419012237,260.7528172176206,268.61499875403325,332.38866035463764,336.8778772209981,283.7222877734536,381.4400340545405,336.8961019991629,382.8962983247464,369.2814046526608,403.0694395921725,404.18168839638577,382.6315029941464,402.0827029850563,379.134084088614,397.4342712863058,254.9796274225799,376.3815899410083,358.1222601707414,316.9454838270925],\"xaxis\":\"x\",\"y\":[28.469933405,26.657994077,25.752024413,25.980243293,25.299039581,24.973610333,24.470293853,24.775833948,25.072547165,24.171837788,24.218635613,23.869839708,24.959300957,24.092806493,23.718840668,24.902677853,24.029891933,23.643341148,23.998434653,23.605591388,28.470195549,26.658256221,27.993771357,25.752286557,25.980505437,25.984088412,24.973872477,24.776096092,25.299301725,24.470555997,24.618069112,25.072809309,24.218897757,24.618069112,24.618069112,24.111192184,24.959563101,23.586716508,24.111192184,24.618069112,28.470719837,27.994295645,26.658780509,27.332417656,28.40059734,26.399469688,27.839294584,27.332417656,27.839294584,26.399469688,27.332417656,27.839294584,27.332417656,27.839294584,26.399469688,24.618069112,27.332417656,27.839294584,27.839294584],\"yaxis\":\"y\"}],                        {\"legend\":{\"itemsizing\":\"constant\",\"title\":{\"text\":\"Parallelism style\"},\"tracegroupgap\":0},\"margin\":{\"t\":60},\"template\":{\"data\":{\"bar\":[{\"error_x\":{\"color\":\"#2a3f5f\"},\"error_y\":{\"color\":\"#2a3f5f\"},\"marker\":{\"line\":{\"color\":\"#E5ECF6\",\"width\":0.5},\"pattern\":{\"fillmode\":\"overlay\",\"size\":10,\"solidity\":0.2}},\"type\":\"bar\"}],\"barpolar\":[{\"marker\":{\"line\":{\"color\":\"#E5ECF6\",\"width\":0.5},\"pattern\":{\"fillmode\":\"overlay\",\"size\":10,\"solidity\":0.2}},\"type\":\"barpolar\"}],\"carpet\":[{\"aaxis\":{\"endlinecolor\":\"#2a3f5f\",\"gridcolor\":\"white\",\"linecolor\":\"white\",\"minorgridcolor\":\"white\",\"startlinecolor\":\"#2a3f5f\"},\"baxis\":{\"endlinecolor\":\"#2a3f5f\",\"gridcolor\":\"white\",\"linecolor\":\"white\",\"minorgridcolor\":\"white\",\"startlinecolor\":\"#2a3f5f\"},\"type\":\"carpet\"}],\"choropleth\":[{\"colorbar\":{\"outlinewidth\":0,\"ticks\":\"\"},\"type\":\"choropleth\"}],\"contour\":[{\"colorbar\":{\"outlinewidth\":0,\"ticks\":\"\"},\"colorscale\":[[0.0,\"#0d0887\"],[0.1111111111111111,\"#46039f\"],[0.2222222222222222,\"#7201a8\"],[0.3333333333333333,\"#9c179e\"],[0.4444444444444444,\"#bd3786\"],[0.5555555555555556,\"#d8576b\"],[0.6666666666666666,\"#ed7953\"],[0.7777777777777778,\"#fb9f3a\"],[0.8888888888888888,\"#fdca26\"],[1.0,\"#f0f921\"]],\"type\":\"contour\"}],\"contourcarpet\":[{\"colorbar\":{\"outlinewidth\":0,\"ticks\":\"\"},\"type\":\"contourcarpet\"}],\"heatmap\":[{\"colorbar\":{\"outlinewidth\":0,\"ticks\":\"\"},\"colorscale\":[[0.0,\"#0d0887\"],[0.1111111111111111,\"#46039f\"],[0.2222222222222222,\"#7201a8\"],[0.3333333333333333,\"#9c179e\"],[0.4444444444444444,\"#bd3786\"],[0.5555555555555556,\"#d8576b\"],[0.6666666666666666,\"#ed7953\"],[0.7777777777777778,\"#fb9f3a\"],[0.8888888888888888,\"#fdca26\"],[1.0,\"#f0f921\"]],\"type\":\"heatmap\"}],\"heatmapgl\":[{\"colorbar\":{\"outlinewidth\":0,\"ticks\":\"\"},\"colorscale\":[[0.0,\"#0d0887\"],[0.1111111111111111,\"#46039f\"],[0.2222222222222222,\"#7201a8\"],[0.3333333333333333,\"#9c179e\"],[0.4444444444444444,\"#bd3786\"],[0.5555555555555556,\"#d8576b\"],[0.6666666666666666,\"#ed7953\"],[0.7777777777777778,\"#fb9f3a\"],[0.8888888888888888,\"#fdca26\"],[1.0,\"#f0f921\"]],\"type\":\"heatmapgl\"}],\"histogram\":[{\"marker\":{\"pattern\":{\"fillmode\":\"overlay\",\"size\":10,\"solidity\":0.2}},\"type\":\"histogram\"}],\"histogram2d\":[{\"colorbar\":{\"outlinewidth\":0,\"ticks\":\"\"},\"colorscale\":[[0.0,\"#0d0887\"],[0.1111111111111111,\"#46039f\"],[0.2222222222222222,\"#7201a8\"],[0.3333333333333333,\"#9c179e\"],[0.4444444444444444,\"#bd3786\"],[0.5555555555555556,\"#d8576b\"],[0.6666666666666666,\"#ed7953\"],[0.7777777777777778,\"#fb9f3a\"],[0.8888888888888888,\"#fdca26\"],[1.0,\"#f0f921\"]],\"type\":\"histogram2d\"}],\"histogram2dcontour\":[{\"colorbar\":{\"outlinewidth\":0,\"ticks\":\"\"},\"colorscale\":[[0.0,\"#0d0887\"],[0.1111111111111111,\"#46039f\"],[0.2222222222222222,\"#7201a8\"],[0.3333333333333333,\"#9c179e\"],[0.4444444444444444,\"#bd3786\"],[0.5555555555555556,\"#d8576b\"],[0.6666666666666666,\"#ed7953\"],[0.7777777777777778,\"#fb9f3a\"],[0.8888888888888888,\"#fdca26\"],[1.0,\"#f0f921\"]],\"type\":\"histogram2dcontour\"}],\"mesh3d\":[{\"colorbar\":{\"outlinewidth\":0,\"ticks\":\"\"},\"type\":\"mesh3d\"}],\"parcoords\":[{\"line\":{\"colorbar\":{\"outlinewidth\":0,\"ticks\":\"\"}},\"type\":\"parcoords\"}],\"pie\":[{\"automargin\":true,\"type\":\"pie\"}],\"scatter\":[{\"marker\":{\"colorbar\":{\"outlinewidth\":0,\"ticks\":\"\"}},\"type\":\"scatter\"}],\"scatter3d\":[{\"line\":{\"colorbar\":{\"outlinewidth\":0,\"ticks\":\"\"}},\"marker\":{\"colorbar\":{\"outlinewidth\":0,\"ticks\":\"\"}},\"type\":\"scatter3d\"}],\"scattercarpet\":[{\"marker\":{\"colorbar\":{\"outlinewidth\":0,\"ticks\":\"\"}},\"type\":\"scattercarpet\"}],\"scattergeo\":[{\"marker\":{\"colorbar\":{\"outlinewidth\":0,\"ticks\":\"\"}},\"type\":\"scattergeo\"}],\"scattergl\":[{\"marker\":{\"colorbar\":{\"outlinewidth\":0,\"ticks\":\"\"}},\"type\":\"scattergl\"}],\"scattermapbox\":[{\"marker\":{\"colorbar\":{\"outlinewidth\":0,\"ticks\":\"\"}},\"type\":\"scattermapbox\"}],\"scatterpolar\":[{\"marker\":{\"colorbar\":{\"outlinewidth\":0,\"ticks\":\"\"}},\"type\":\"scatterpolar\"}],\"scatterpolargl\":[{\"marker\":{\"colorbar\":{\"outlinewidth\":0,\"ticks\":\"\"}},\"type\":\"scatterpolargl\"}],\"scatterternary\":[{\"marker\":{\"colorbar\":{\"outlinewidth\":0,\"ticks\":\"\"}},\"type\":\"scatterternary\"}],\"surface\":[{\"colorbar\":{\"outlinewidth\":0,\"ticks\":\"\"},\"colorscale\":[[0.0,\"#0d0887\"],[0.1111111111111111,\"#46039f\"],[0.2222222222222222,\"#7201a8\"],[0.3333333333333333,\"#9c179e\"],[0.4444444444444444,\"#bd3786\"],[0.5555555555555556,\"#d8576b\"],[0.6666666666666666,\"#ed7953\"],[0.7777777777777778,\"#fb9f3a\"],[0.8888888888888888,\"#fdca26\"],[1.0,\"#f0f921\"]],\"type\":\"surface\"}],\"table\":[{\"cells\":{\"fill\":{\"color\":\"#EBF0F8\"},\"line\":{\"color\":\"white\"}},\"header\":{\"fill\":{\"color\":\"#C8D4E3\"},\"line\":{\"color\":\"white\"}},\"type\":\"table\"}]},\"layout\":{\"annotationdefaults\":{\"arrowcolor\":\"#2a3f5f\",\"arrowhead\":0,\"arrowwidth\":1},\"autotypenumbers\":\"strict\",\"coloraxis\":{\"colorbar\":{\"outlinewidth\":0,\"ticks\":\"\"}},\"colorscale\":{\"diverging\":[[0,\"#8e0152\"],[0.1,\"#c51b7d\"],[0.2,\"#de77ae\"],[0.3,\"#f1b6da\"],[0.4,\"#fde0ef\"],[0.5,\"#f7f7f7\"],[0.6,\"#e6f5d0\"],[0.7,\"#b8e186\"],[0.8,\"#7fbc41\"],[0.9,\"#4d9221\"],[1,\"#276419\"]],\"sequential\":[[0.0,\"#0d0887\"],[0.1111111111111111,\"#46039f\"],[0.2222222222222222,\"#7201a8\"],[0.3333333333333333,\"#9c179e\"],[0.4444444444444444,\"#bd3786\"],[0.5555555555555556,\"#d8576b\"],[0.6666666666666666,\"#ed7953\"],[0.7777777777777778,\"#fb9f3a\"],[0.8888888888888888,\"#fdca26\"],[1.0,\"#f0f921\"]],\"sequentialminus\":[[0.0,\"#0d0887\"],[0.1111111111111111,\"#46039f\"],[0.2222222222222222,\"#7201a8\"],[0.3333333333333333,\"#9c179e\"],[0.4444444444444444,\"#bd3786\"],[0.5555555555555556,\"#d8576b\"],[0.6666666666666666,\"#ed7953\"],[0.7777777777777778,\"#fb9f3a\"],[0.8888888888888888,\"#fdca26\"],[1.0,\"#f0f921\"]]},\"colorway\":[\"#636efa\",\"#EF553B\",\"#00cc96\",\"#ab63fa\",\"#FFA15A\",\"#19d3f3\",\"#FF6692\",\"#B6E880\",\"#FF97FF\",\"#FECB52\"],\"font\":{\"color\":\"#2a3f5f\"},\"geo\":{\"bgcolor\":\"white\",\"lakecolor\":\"white\",\"landcolor\":\"#E5ECF6\",\"showlakes\":true,\"showland\":true,\"subunitcolor\":\"white\"},\"hoverlabel\":{\"align\":\"left\"},\"hovermode\":\"closest\",\"mapbox\":{\"style\":\"light\"},\"paper_bgcolor\":\"white\",\"plot_bgcolor\":\"#E5ECF6\",\"polar\":{\"angularaxis\":{\"gridcolor\":\"white\",\"linecolor\":\"white\",\"ticks\":\"\"},\"bgcolor\":\"#E5ECF6\",\"radialaxis\":{\"gridcolor\":\"white\",\"linecolor\":\"white\",\"ticks\":\"\"}},\"scene\":{\"xaxis\":{\"backgroundcolor\":\"#E5ECF6\",\"gridcolor\":\"white\",\"gridwidth\":2,\"linecolor\":\"white\",\"showbackground\":true,\"ticks\":\"\",\"zerolinecolor\":\"white\"},\"yaxis\":{\"backgroundcolor\":\"#E5ECF6\",\"gridcolor\":\"white\",\"gridwidth\":2,\"linecolor\":\"white\",\"showbackground\":true,\"ticks\":\"\",\"zerolinecolor\":\"white\"},\"zaxis\":{\"backgroundcolor\":\"#E5ECF6\",\"gridcolor\":\"white\",\"gridwidth\":2,\"linecolor\":\"white\",\"showbackground\":true,\"ticks\":\"\",\"zerolinecolor\":\"white\"}},\"shapedefaults\":{\"line\":{\"color\":\"#2a3f5f\"}},\"ternary\":{\"aaxis\":{\"gridcolor\":\"white\",\"linecolor\":\"white\",\"ticks\":\"\"},\"baxis\":{\"gridcolor\":\"white\",\"linecolor\":\"white\",\"ticks\":\"\"},\"bgcolor\":\"#E5ECF6\",\"caxis\":{\"gridcolor\":\"white\",\"linecolor\":\"white\",\"ticks\":\"\"}},\"title\":{\"x\":0.05},\"xaxis\":{\"automargin\":true,\"gridcolor\":\"white\",\"linecolor\":\"white\",\"ticks\":\"\",\"title\":{\"standoff\":15},\"zerolinecolor\":\"white\",\"zerolinewidth\":2},\"yaxis\":{\"automargin\":true,\"gridcolor\":\"white\",\"linecolor\":\"white\",\"ticks\":\"\",\"title\":{\"standoff\":15},\"zerolinecolor\":\"white\",\"zerolinewidth\":2}}},\"xaxis\":{\"anchor\":\"y\",\"domain\":[0.0,1.0],\"title\":{\"text\":\"Throughput (samples / second)\"}},\"yaxis\":{\"anchor\":\"x\",\"domain\":[0.0,1.0],\"title\":{\"text\":\"Peak Memory (GB)\"}}},                        {\"responsive\": true}                    ).then(function(){\n",
       "                            \n",
       "var gd = document.getElementById('a6c3373e-ee1e-4e24-84b6-b0367a43334a');\n",
       "var x = new MutationObserver(function (mutations, observer) {{\n",
       "        var display = window.getComputedStyle(gd).display;\n",
       "        if (!display || display === 'none') {{\n",
       "            console.log([gd, 'removed!']);\n",
       "            Plotly.purge(gd);\n",
       "            observer.disconnect();\n",
       "        }}\n",
       "}});\n",
       "\n",
       "// Listen for the removal of the full notebook cells\n",
       "var notebookContainer = gd.closest('#notebook-container');\n",
       "if (notebookContainer) {{\n",
       "    x.observe(notebookContainer, {childList: true});\n",
       "}}\n",
       "\n",
       "// Listen for the clearing of the current output cell\n",
       "var outputEl = gd.closest('.output');\n",
       "if (outputEl) {{\n",
       "    x.observe(outputEl, {childList: true});\n",
       "}}\n",
       "\n",
       "                        })                };                });            </script>        </div>"
      ]
     },
     "metadata": {},
     "output_type": "display_data"
    }
   ],
   "source": [
    "simulation_filename = \"~/Downloads/gpt2_dgx_simulated_grid_search_results_v2.csv\"\n",
    "plot_memory_usage_vs_metric(\n",
    "    simulation_filename,\n",
    "    \"gpt3-175B\",\n",
    "    8192,\n",
    "    \"throughput\",\n",
    "    \"Throughput (samples / second)\",\n",
    "    \"Peak Memory (GB)\",\n",
    "    os.path.join(FIGURES_DIR, \"gpt3-175B_memory_vs_throughput.pdf\"),\n",
    "    None,\n",
    ")"
   ]
  },
  {
   "cell_type": "code",
   "execution_count": null,
   "id": "numerical-procedure",
   "metadata": {},
   "outputs": [],
   "source": []
  }
 ],
 "metadata": {
  "kernelspec": {
   "display_name": "Python 3",
   "language": "python",
   "name": "python3"
  },
  "language_info": {
   "codemirror_mode": {
    "name": "ipython",
    "version": 3
   },
   "file_extension": ".py",
   "mimetype": "text/x-python",
   "name": "python",
   "nbconvert_exporter": "python",
   "pygments_lexer": "ipython3",
   "version": "3.9.2"
  }
 },
 "nbformat": 4,
 "nbformat_minor": 5
}
