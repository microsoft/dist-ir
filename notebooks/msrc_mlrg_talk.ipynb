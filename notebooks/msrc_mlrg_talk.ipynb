{
 "cells": [
  {
   "cell_type": "code",
   "execution_count": null,
   "id": "victorian-interview",
   "metadata": {},
   "outputs": [],
   "source": [
    "import numpy as np\n",
    "import pandas as pd\n",
    "import plotly.express as px"
   ]
  },
  {
   "cell_type": "code",
   "execution_count": null,
   "id": "extended-yield",
   "metadata": {},
   "outputs": [],
   "source": [
    "def get_parallelism_style(dp, hp, pp):\n",
    "    if dp == 1 and hp == 1 and pp == 1:\n",
    "        return \"Base\"\n",
    "    elif dp > 1 and hp == 1 and pp == 1:\n",
    "        return \"D\"\n",
    "    elif dp == 1 and hp > 1 and pp == 1:\n",
    "        return \"T\"\n",
    "    elif dp == 1 and hp == 1 and pp > 1:\n",
    "        return \"P\"\n",
    "    elif dp > 1 and hp > 1 and pp == 1:\n",
    "        return \"D/T\"\n",
    "    elif dp == 1 and hp > 1 and pp > 1:\n",
    "        return \"T/P\"\n",
    "    elif dp > 1 and hp == 1 and pp > 1:\n",
    "        return \"D/P\"\n",
    "    elif dp > 1 and hp > 1 and pp > 1:\n",
    "        return \"D/T/P\"\n",
    "    else:\n",
    "        raise ValueError(f\"Invalid degree combination dp={dp}, hp={hp}, pp={pp}\")"
   ]
  },
  {
   "cell_type": "code",
   "execution_count": null,
   "id": "2ee6cf43",
   "metadata": {},
   "outputs": [],
   "source": [
    "markers = [\"o\", \"P\", \"^\", \"*\", \"X\", \"D\", \"H\", \"s\"]\n",
    "colors = [\n",
    "    \"#1f77b4\",  # muted blue\n",
    "    \"#ff7f0e\",  # safety orange\n",
    "    \"#2ca02c\",  # cooked asparagus green\n",
    "    \"#d62728\",  # brick red\n",
    "    \"#9467bd\",  # muted purple\n",
    "    \"#8c564b\",  # chestnut brown\n",
    "    \"#e377c2\",  # raspberry yogurt pink\n",
    "    \"#7f7f7f\",  # middle gray\n",
    "    # \"#bcbd22\",  # curry yellow-green\n",
    "    # \"#17becf\",  # blue-teal\n",
    "]\n",
    "parallelism_styles = [\n",
    "    \"D\",\n",
    "    \"T\",\n",
    "    \"P\",\n",
    "    \"D/T\",\n",
    "    \"T/P\",\n",
    "    \"D/P\",\n",
    "    \"D/T/P\",\n",
    "]"
   ]
  },
  {
   "cell_type": "code",
   "execution_count": null,
   "id": "retired-geography",
   "metadata": {},
   "outputs": [],
   "source": [
    "def plot_memory_usage_vs_throughput(\n",
    "    simulation_filename,\n",
    "    model_size,\n",
    "    title=\"\",\n",
    "    batch_size_slider=False,\n",
    "    min_batch_size=0,\n",
    "):\n",
    "    df = pd.read_csv(simulation_filename)\n",
    "    df = df[df[\"model_size\"] == model_size]\n",
    "    df[\"peak_memory\"] /= 1e9\n",
    "#     df = df[df[\"peak_memory\"] <= 32]\n",
    "    df = df[df[\"batch_size\"] >= (min_batch_size / 2)]\n",
    "    df[\"dummy_column_for_size\"] = 1.0\n",
    "    df[\"parallelism_style\"] = [\n",
    "        get_parallelism_style(dp, hp, pp)\n",
    "        for (dp, hp, pp) in df[[\"dp_degree\", \"hp_degree\", \"pp_degree\"]].values\n",
    "    ]\n",
    "    df[\"config_name\"] = [\n",
    "        f\"{d}/{h}/{p}/{k}\" for (d, h, p, k) in df[[\"dp_degree\", \"hp_degree\", \"pp_degree\", \"num_microbatches\"]].values\n",
    "    ]\n",
    "    df[\"log_peak_memory\"] = np.log(df[\"peak_memory\"])\n",
    "    fig = px.scatter(\n",
    "        df,\n",
    "        x=\"throughput\",\n",
    "        y=\"log_peak_memory\",\n",
    "        symbol=\"parallelism_style\",\n",
    "        color=\"parallelism_style\",\n",
    "        hover_name='config_name',\n",
    "        hover_data=[\"batch_size\", \"dp_degree\", \"hp_degree\", \"pp_degree\", \"num_microbatches\"],\n",
    "        labels={\n",
    "            \"throughput\": \"Simulated Throughput (samples / second)\",\n",
    "            \"log_peak_memory\": \"Simulated Peak Memory (log GB)\",\n",
    "            \"parallelism_style\": \"Parallelism style\",\n",
    "        },\n",
    "        color_discrete_sequence=[\n",
    "            \"#1f77b4\",  # muted blue\n",
    "            \"#ff7f0e\",  # safety orange\n",
    "            \"#2ca02c\",  # cooked asparagus green\n",
    "            \"#d62728\",  # brick red\n",
    "            \"#9467bd\",  # muted purple\n",
    "            \"#8c564b\",  # chestnut brown\n",
    "            \"#e377c2\",  # raspberry yogurt pink\n",
    "            \"#7f7f7f\",  # middle gray\n",
    "            \"#bcbd22\",  # curry yellow-green\n",
    "            \"#17becf\",  # blue-teal\n",
    "        ],\n",
    "        category_orders={\n",
    "            \"parallelism_style\": [\n",
    "                \"D\",\n",
    "                \"T\",\n",
    "                \"P\",\n",
    "                \"D/T\",\n",
    "                \"T/P\",\n",
    "                \"D/P\",\n",
    "                \"D/T/P\",\n",
    "                \"Sequential\",\n",
    "            ],\n",
    "        },\n",
    "        size=\"dummy_column_for_size\",\n",
    "        size_max=10,\n",
    "        animation_frame='batch_size' if batch_size_slider else None,\n",
    "        animation_group='config_name' if batch_size_slider else None,\n",
    "        range_x=[0, max(df[\"throughput\"])],\n",
    "        range_y=[min(df[\"log_peak_memory\"]), max(df[\"log_peak_memory\"])],\n",
    "        title=title,\n",
    "    )\n",
    "    # Draw memory cutoff line\n",
    "    fig.add_hline(y=np.log(32), line_width=2)\n",
    "    fig.show()"
   ]
  },
  {
   "cell_type": "code",
   "execution_count": null,
   "id": "immune-velvet",
   "metadata": {},
   "outputs": [],
   "source": [
    "plot_memory_usage_vs_throughput('~/Downloads/mlp_dgx_simulated_grid_search_results_v2.csv', \"mlp-small\", \"MLP 1B\")"
   ]
  },
  {
   "cell_type": "code",
   "execution_count": null,
   "id": "august-herald",
   "metadata": {},
   "outputs": [],
   "source": [
    "plot_memory_usage_vs_throughput('~/Downloads/mlp_dgx_simulated_grid_search_results_v2.csv', \"mlp-medium\", \"MLP 17B\")"
   ]
  },
  {
   "cell_type": "code",
   "execution_count": null,
   "id": "oriented-saver",
   "metadata": {},
   "outputs": [],
   "source": [
    "plot_memory_usage_vs_throughput('~/Downloads/mlp_dgx_simulated_grid_search_results_v2.csv', \"mlp-large\", \"MLP 103B\")"
   ]
  },
  {
   "cell_type": "code",
   "execution_count": null,
   "id": "959618e9",
   "metadata": {},
   "outputs": [],
   "source": [
    "plot_memory_usage_vs_throughput('~/Downloads/gpt2_dgx_simulated_grid_search_results_v2.csv', \"gpt3-xl\", \"GPT-2 1.6B\")"
   ]
  },
  {
   "cell_type": "code",
   "execution_count": null,
   "id": "frank-awareness",
   "metadata": {},
   "outputs": [],
   "source": [
    "plot_memory_usage_vs_throughput('~/Downloads/gpt2_dgx_simulated_grid_search_results_v2.csv', \"gpt3-13B\", \"GPT-2 13B\")"
   ]
  },
  {
   "cell_type": "code",
   "execution_count": null,
   "id": "467b3817",
   "metadata": {},
   "outputs": [],
   "source": [
    "plot_memory_usage_vs_throughput('~/Downloads/gpt2_dgx_simulated_grid_search_results_v2.csv', \"gpt3-175B\", \"GPT-2 175B\")"
   ]
  },
  {
   "cell_type": "code",
   "execution_count": null,
   "id": "9282ecb3",
   "metadata": {},
   "outputs": [],
   "source": [
    "plot_memory_usage_vs_throughput('~/Downloads/gpt2_dgx_simulated_grid_search_results_v2.csv', \"gpt3-175B\", \"GPT-2 175B\", batch_size_slider=True)"
   ]
  },
  {
   "cell_type": "code",
   "execution_count": null,
   "id": "531d64d8",
   "metadata": {},
   "outputs": [],
   "source": []
  }
 ],
 "metadata": {
  "kernelspec": {
   "display_name": "Python 3 (ipykernel)",
   "language": "python",
   "name": "python3"
  },
  "language_info": {
   "codemirror_mode": {
    "name": "ipython",
    "version": 3
   },
   "file_extension": ".py",
   "mimetype": "text/x-python",
   "name": "python",
   "nbconvert_exporter": "python",
   "pygments_lexer": "ipython3",
   "version": "3.8.5"
  }
 },
 "nbformat": 4,
 "nbformat_minor": 5
}
