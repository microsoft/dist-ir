{
 "cells": [
  {
   "cell_type": "code",
   "execution_count": 1,
   "metadata": {},
   "outputs": [],
   "source": [
    "import argparse\n",
    "import csv\n",
    "from collections import defaultdict\n",
    "import matplotlib.pyplot as plt\n",
    "import numpy as np\n",
    "import os\n",
    "from scipy.interpolate import interp1d\n",
    "import sys\n",
    "import time\n",
    "import torch\n",
    "from torch.nn.parallel import DistributedDataParallel as DDP\n",
    "import tqdm"
   ]
  },
  {
   "cell_type": "code",
   "execution_count": 2,
   "metadata": {},
   "outputs": [],
   "source": [
    "sys.path.append(os.path.dirname(os.path.dirname(os.path.realpath(\"__file__\"))))\n",
    "from examples.mlp import mlp\n",
    "from dist_ir.ir import Topology\n",
    "from dist_ir.executor import infer_types, Simulator\n",
    "from dist_ir.executor.cost_model import CostModel\n",
    "from dist_ir.transforms import filter_transform, mlp_dhp_transform"
   ]
  },
  {
   "cell_type": "code",
   "execution_count": 3,
   "metadata": {},
   "outputs": [],
   "source": [
    "DEVICE_THROUGHPUT = 6.7e12 # FLOPS\n",
    "DRAM_BANDWIDTH = 2.7e12 # ???\n",
    "PCIE_BANDWIDTH = 64 # Gbps\n",
    "WORLD_SIZE = 2"
   ]
  },
  {
   "cell_type": "code",
   "execution_count": 4,
   "metadata": {},
   "outputs": [],
   "source": [
    "class Mlp(torch.nn.Module):\n",
    "    def __init__(self, num_hidden_layers, hidden_dim):\n",
    "        super().__init__()\n",
    "        self.blocks = [\n",
    "            torch.nn.Linear(hidden_dim, hidden_dim, bias=False)\n",
    "            for _ in range(num_hidden_layers)\n",
    "        ]\n",
    "        for i, block in enumerate(self.blocks):\n",
    "            for j, param in enumerate(block.parameters()):\n",
    "                if j > 0:\n",
    "                    raise ValueError(f\"Block {i} has more than 1 parameter!\")\n",
    "                self.register_parameter(f\"w{chr(ord('A')+i)}\", param)\n",
    "\n",
    "    def forward(self, x):\n",
    "        for block in self.blocks:\n",
    "            x = block(x)\n",
    "            relu = torch.nn.ReLU()\n",
    "            x = relu(x)\n",
    "        return x"
   ]
  },
  {
   "cell_type": "code",
   "execution_count": 5,
   "metadata": {},
   "outputs": [],
   "source": [
    "def setup(\n",
    "    local_rank, world_size, backend=\"nccl\", master_addr=\"localhost\", master_port=\"12355\"\n",
    "):\n",
    "    os.environ[\"MASTER_ADDR\"] = master_addr\n",
    "    os.environ[\"MASTER_PORT\"] = master_port\n",
    "    torch.distributed.init_process_group(\n",
    "        backend, world_size=world_size, rank=local_rank\n",
    "    )"
   ]
  },
  {
   "cell_type": "code",
   "execution_count": 6,
   "metadata": {},
   "outputs": [],
   "source": [
    "def cleanup():\n",
    "    torch.distributed.destroy_process_group()"
   ]
  },
  {
   "cell_type": "code",
   "execution_count": 7,
   "metadata": {},
   "outputs": [],
   "source": [
    "def run(config):\n",
    "    (\n",
    "        local_rank,\n",
    "        world_size,\n",
    "        num_hidden_layers,\n",
    "        batch_size,\n",
    "        hidden_dim,\n",
    "        num_warmup_steps,\n",
    "        num_profiling_steps,\n",
    "    ) = config\n",
    "    model = Mlp(num_hidden_layers, hidden_dim).to(local_rank)\n",
    "    loss_fn = torch.nn.MSELoss()\n",
    "    x = torch.randn(size=(batch_size // world_size, hidden_dim)).to(local_rank)\n",
    "    labels = torch.randn(size=(batch_size // world_size, hidden_dim)).to(local_rank)\n",
    "    setup(local_rank, world_size)\n",
    "    model = DDP(model, device_ids=[local_rank], output_device=local_rank)\n",
    "    runtimes = []\n",
    "    for i in range(num_warmup_steps + num_profiling_steps):\n",
    "        start = time.time()\n",
    "        y = model(x)\n",
    "        loss_fn(y, labels).backward()\n",
    "        duration = time.time() - start\n",
    "        runtimes.append(duration)\n",
    "    cleanup()\n",
    "    return np.median(runtimes[num_warmup_steps:])"
   ]
  },
  {
   "cell_type": "code",
   "execution_count": 8,
   "metadata": {},
   "outputs": [],
   "source": [
    "def distributed_driver(num_hidden_layers, batch_size, hidden_dim, world_size):\n",
    "    configs = [\n",
    "        (rank, world_size, num_hidden_layers, batch_size, hidden_dim, 10, 100)\n",
    "        for rank in range(world_size)\n",
    "    ]\n",
    "    with torch.multiprocessing.Pool(world_size) as p:\n",
    "        results = p.map(run, configs)\n",
    "    print(\n",
    "        f\"num_hidden_layers={num_hidden_layers}, \"\n",
    "        f\"batch_size={batch_size}, \"\n",
    "        f\"hidden_dim={hidden_dim}, \"\n",
    "        f\"runtime={np.mean(results)}\"\n",
    "    )\n",
    "    return np.mean(results)"
   ]
  },
  {
   "cell_type": "code",
   "execution_count": 9,
   "metadata": {},
   "outputs": [],
   "source": [
    "def simulate(num_hidden_layers, batch_size, hidden_dim, world_size):\n",
    "    topology = Topology()\n",
    "    d0 = topology.add_device(\n",
    "        \"gpu\", throughput=DEVICE_THROUGHPUT, dram_bandwidth=DRAM_BANDWIDTH\n",
    "    )\n",
    "    for i in range(world_size):\n",
    "        di = topology.add_device(\n",
    "            \"gpu\", throughput=DEVICE_THROUGHPUT, dram_bandwidth=DRAM_BANDWIDTH\n",
    "        )\n",
    "        topology.set_bandwidth(d0, di, float(\"inf\"))\n",
    "        for j in range(1, i + 1):\n",
    "            dj = topology.devices[j]\n",
    "            topology.set_bandwidth(di, dj, PCIE_BANDWIDTH)\n",
    "    function = mlp(\n",
    "        batch_size, hidden_dim, hidden_dim, hidden_dim, num_hidden_layers, d0\n",
    "    )\n",
    "    function = infer_types(function, function.inputs)\n",
    "    dp_function = mlp_dhp_transform(function, world_size, 1, 1, topology.devices, 1)\n",
    "    dp_function = infer_types(dp_function, dp_function.inputs)\n",
    "    # dp_function = filter_transform(dp_function)\n",
    "    simulator = Simulator(CostModel(topology))\n",
    "    simulation = simulator.interpret(\n",
    "        dp_function,\n",
    "        (v.type for v in dp_function.inputs),\n",
    "    )\n",
    "    return max([simulation.timestamps[d] for d in simulation.timestamps])"
   ]
  },
  {
   "cell_type": "code",
   "execution_count": 10,
   "metadata": {},
   "outputs": [],
   "source": [
    "def parse_csv(filename):\n",
    "    results = []\n",
    "    with open(filename, \"r\") as f:\n",
    "        reader = csv.DictReader(f)\n",
    "        for row in reader:\n",
    "            results.append(\n",
    "                (\n",
    "                    row[\"num_hidden_layers\"],\n",
    "                    row[\"batch_size\"],\n",
    "                    row[\"hidden_dim\"],\n",
    "                    row[\"runtime\"],\n",
    "                )\n",
    "            )\n",
    "    return results"
   ]
  },
  {
   "cell_type": "code",
   "execution_count": 11,
   "metadata": {},
   "outputs": [],
   "source": [
    "def sweep(\n",
    "    all_num_hidden_layers, all_batch_sizes, all_hidden_dims, world_size, filename, func\n",
    "):\n",
    "    fieldnames = [\"num_hidden_layers\", \"batch_size\", \"hidden_dim\", \"runtime\"]\n",
    "    with open(filename, \"w\") as f:\n",
    "        writer = csv.DictWriter(f, fieldnames=fieldnames)\n",
    "        writer.writeheader()\n",
    "        for num_hidden_layers in all_num_hidden_layers:\n",
    "            for batch_size in all_batch_sizes:\n",
    "                for hidden_dim in all_hidden_dims:\n",
    "                    runtime = func(\n",
    "                        num_hidden_layers, batch_size, hidden_dim, world_size\n",
    "                    )\n",
    "                    writer.writerow(\n",
    "                        {\n",
    "                            \"num_hidden_layers\": num_hidden_layers,\n",
    "                            \"batch_size\": batch_size,\n",
    "                            \"hidden_dim\": hidden_dim,\n",
    "                            \"runtime\": runtime,\n",
    "                        }\n",
    "                    )"
   ]
  },
  {
   "cell_type": "code",
   "execution_count": 12,
   "metadata": {
    "scrolled": true
   },
   "outputs": [],
   "source": [
    "all_num_hidden_layers = [8, 16, 32]\n",
    "all_batch_sizes = [512, 1024, 2048]\n",
    "all_hidden_dims = [1024, 2048, 4096]\n",
    "# sweep(\n",
    "#     all_num_hidden_layers,\n",
    "#     all_batch_sizes,\n",
    "#     all_hidden_dims,\n",
    "#     WORLD_SIZE,\n",
    "#     \"data_parallel_runtimes.csv\",\n",
    "#     distributed_driver,\n",
    "# )\n",
    "sweep(\n",
    "    all_num_hidden_layers,\n",
    "    all_batch_sizes,\n",
    "    all_hidden_dims,\n",
    "    WORLD_SIZE,\n",
    "    \"data_parallel_simulated_runtimes.csv\",\n",
    "    simulate,\n",
    ")"
   ]
  },
  {
   "cell_type": "code",
   "execution_count": 13,
   "metadata": {},
   "outputs": [],
   "source": [
    "real_results = parse_csv(\"data_parallel_runtimes.csv\")\n",
    "simulated_results = parse_csv(\"data_parallel_simulated_runtimes.csv\")"
   ]
  },
  {
   "cell_type": "code",
   "execution_count": 14,
   "metadata": {},
   "outputs": [
    {
     "name": "stdout",
     "output_type": "stream",
     "text": [
      "# layers,batch size,hidden dim,model size (MB),real,simulated,ratio\n",
      "8,512,1024,32.0,11.26,7.19,0.64x\n",
      "8,512,2048,128.0,40.19,26.63,0.66x\n",
      "8,512,4096,512.0,160.79,102.31,0.64x\n",
      "8,1024,1024,32.0,12.75,10.17,0.80x\n",
      "8,1024,2048,128.0,43.34,36.44,0.84x\n",
      "8,1024,4096,512.0,170.22,137.31,0.81x\n",
      "8,2048,1024,32.0,15.22,16.13,1.06x\n",
      "8,2048,2048,128.0,49.28,56.06,1.14x\n",
      "8,2048,4096,512.0,188.45,207.31,1.10x\n",
      "16,512,1024,64.0,21.22,13.33,0.63x\n",
      "16,512,2048,256.0,79.61,51.17,0.64x\n",
      "16,512,4096,1024.0,318.38,200.42,0.63x\n",
      "16,1024,1024,64.0,23.72,18.24,0.77x\n",
      "16,1024,2048,256.0,85.01,68.69,0.81x\n",
      "16,1024,4096,1024.0,337.58,266.23,0.79x\n",
      "16,2048,1024,64.0,27.33,28.06,1.03x\n",
      "16,2048,2048,256.0,97.27,103.72,1.07x\n",
      "16,2048,4096,1024.0,381.85,397.84,1.04x\n",
      "32,512,1024,128.0,41.53,25.60,0.62x\n",
      "32,512,2048,512.0,158.31,100.25,0.63x\n",
      "32,512,4096,2048.0,635.24,396.65,0.62x\n",
      "32,1024,1024,128.0,45.74,34.38,0.75x\n",
      "32,1024,2048,512.0,168.58,133.18,0.79x\n",
      "32,1024,4096,2048.0,674.00,524.06,0.78x\n",
      "32,2048,1024,128.0,51.53,51.93,1.01x\n",
      "32,2048,2048,512.0,192.73,199.06,1.03x\n",
      "32,2048,4096,2048.0,763.97,778.89,1.02x\n"
     ]
    }
   ],
   "source": [
    "real_throughputs = []\n",
    "simulated_throughputs = []\n",
    "model_sizes = []\n",
    "print(f\"# layers,batch size,hidden dim,model size (MB),real,simulated,ratio\")\n",
    "for real, simulated in zip(real_results, simulated_results):\n",
    "    num_hidden_layers = int(real[0])\n",
    "    batch_size = int(real[1])\n",
    "    hidden_dim = int(real[2])\n",
    "    real_runtime = float(real[3])\n",
    "    simulated_runtime = float(simulated[-1])\n",
    "    model_size = hidden_dim * hidden_dim * num_hidden_layers * 4 / (1024 * 1024)\n",
    "    print(\n",
    "        f\"{num_hidden_layers},{batch_size},{hidden_dim},\"\n",
    "        f\"{model_size},{real_runtime*1000:.2f},\"\n",
    "        f\"{simulated_runtime*1000:.2f},\"\n",
    "        f\"{(simulated_runtime/real_runtime):.2f}x\"\n",
    "    )\n",
    "    real_throughputs.append(batch_size / real_runtime / 1000)\n",
    "    simulated_throughputs.append(batch_size / simulated_runtime / 1000)\n",
    "    model_sizes.append(model_size)"
   ]
  },
  {
   "cell_type": "code",
   "execution_count": 16,
   "metadata": {},
   "outputs": [
    {
     "name": "stdout",
     "output_type": "stream",
     "text": [
      "Pearson's correlation: 0.9739922409909063\n"
     ]
    },
    {
     "data": {
      "image/png": "[encoded data removed]",
      "text/plain": [
       "<Figure size 432x288 with 1 Axes>"
      ]
     },
     "metadata": {
      "needs_background": "light"
     },
     "output_type": "display_data"
    }
   ],
   "source": [
    "simulated_throughputs = np.array(simulated_throughputs)\n",
    "real_throughputs = np.array(real_throughputs)\n",
    "r = np.corrcoef(simulated_throughputs, real_throughputs)[0,1]\n",
    "print(\"Pearson's correlation:\", r)\n",
    "m, b = np.polyfit(simulated_throughputs, real_throughputs, 1)\n",
    "x_new = np.linspace(simulated_throughputs.min(), simulated_throughputs.max(), 500)\n",
    "f = interp1d(simulated_throughputs, m * simulated_throughputs + b, kind=\"linear\")\n",
    "y_smooth = f(x_new)\n",
    "plt.plot(x_new, y_smooth, label=\"Best fit\")\n",
    "plt.plot(x_new, x_new, label=\"Ideal\")\n",
    "colors=[\"b\", \"orange\", \"g\", \"purple\"]\n",
    "scaled_model_sizes = np.array(model_sizes, dtype=np.float32)\n",
    "scaled_model_sizes -= np.min(model_sizes)\n",
    "scaled_model_sizes *= 1.0 / (np.max(model_sizes) - np.min(model_sizes))\n",
    "scaled_model_sizes *= 224\n",
    "scaled_model_sizes += 32\n",
    "plt.scatter(\n",
    "    simulated_throughputs,\n",
    "    real_throughputs,\n",
    "    s=scaled_model_sizes,\n",
    "    facecolors=\"none\",\n",
    "    edgecolors=\"b\",\n",
    ")\n",
    "plt.xlabel(\"Simulated throughputs (1000 samples / second)\")\n",
    "plt.ylabel(\"Real throughputs (1000 samples / second)\")\n",
    "plt.legend()\n",
    "plt.savefig(\"data_parallel_simulation_performance.pdf\", dpi=600, bbox_inches=\"tight\")"
   ]
  },
  {
   "cell_type": "code",
   "execution_count": null,
   "metadata": {},
   "outputs": [],
   "source": []
  }
 ],
 "metadata": {
  "kernelspec": {
   "display_name": "Python 3",
   "language": "python",
   "name": "python3"
  },
  "language_info": {
   "codemirror_mode": {
    "name": "ipython",
    "version": 3
   },
   "file_extension": ".py",
   "mimetype": "text/x-python",
   "name": "python",
   "nbconvert_exporter": "python",
   "pygments_lexer": "ipython3",
   "version": "3.7.3"
  }
 },
 "nbformat": 4,
 "nbformat_minor": 2
}
