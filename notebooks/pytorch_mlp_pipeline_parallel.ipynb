{
 "cells": [
  {
   "cell_type": "code",
   "execution_count": null,
   "metadata": {},
   "outputs": [],
   "source": [
    "import argparse\n",
    "import csv\n",
    "from collections import defaultdict\n",
    "import matplotlib.pyplot as plt\n",
    "import numpy as np\n",
    "import os\n",
    "from scipy.interpolate import interp1d\n",
    "from scipy.stats import pearsonr, spearmanr\n",
    "import sys\n",
    "import time\n",
    "import torch\n",
    "from torch.distributed.pipeline.sync import Pipe\n",
    "import tqdm"
   ]
  },
  {
   "cell_type": "code",
   "execution_count": null,
   "metadata": {},
   "outputs": [],
   "source": [
    "sys.path.append(os.path.dirname(os.path.dirname(os.path.realpath(\"__file__\"))))\n",
    "from examples.mlp import mlp\n",
    "from dist_ir.ir import Topology\n",
    "from dist_ir.executor import infer_types, Simulator\n",
    "from dist_ir.executor.cost_model import CostModel"
   ]
  },
  {
   "cell_type": "code",
   "execution_count": null,
   "metadata": {},
   "outputs": [],
   "source": [
    "DEVICE_THROUGHPUT = 6.7e12 # FLOPS\n",
    "DRAM_BANDWIDTH = 2.7e12 # ???\n",
    "PCIE_BANDWIDTH = 15.76 # Gbps\n",
    "WORLD_SIZE = 2\n",
    "BATCH_SIZE = 1024"
   ]
  },
  {
   "cell_type": "code",
   "execution_count": null,
   "metadata": {},
   "outputs": [],
   "source": [
    "def mlp_pytorch(num_hidden_layers, hidden_dim):\n",
    "    layers = []\n",
    "    num_blocks_per_device = num_hidden_layers // WORLD_SIZE\n",
    "    for i in range(num_hidden_layers):\n",
    "        device = i // num_blocks_per_device\n",
    "        layers.append(\n",
    "            torch.nn.Linear(hidden_dim, hidden_dim, bias=False).to(f\"cuda:{device}\")\n",
    "        )\n",
    "        layers.append(torch.nn.ReLU().to(f\"cuda:{device}\"))\n",
    "    return torch.nn.Sequential(*layers)"
   ]
  },
  {
   "cell_type": "code",
   "execution_count": null,
   "metadata": {},
   "outputs": [],
   "source": [
    "def run(\n",
    "    num_hidden_layers,\n",
    "    hidden_dim,\n",
    "    num_microbatches,\n",
    "    num_warmup_steps=10,\n",
    "    num_profiling_steps=100,\n",
    "):\n",
    "    model = mlp_pytorch(num_hidden_layers, hidden_dim)\n",
    "    model = Pipe(model, chunks=num_microbatches)\n",
    "    loss_fn = torch.nn.MSELoss()\n",
    "    x = torch.randn(size=(BATCH_SIZE, hidden_dim)).to(\"cuda:0\")\n",
    "    labels = torch.randn(size=(BATCH_SIZE, hidden_dim)).to(\"cuda:0\")\n",
    "    runtimes = []\n",
    "    for i in tqdm.tqdm(range(num_warmup_steps + num_profiling_steps)):\n",
    "        start = time.time()\n",
    "        y = model(x)\n",
    "        loss_fn(y, labels).backward()\n",
    "        duration = time.time() - start\n",
    "        runtimes.append(duration)\n",
    "    return np.median(runtimes[num_warmup_steps:])"
   ]
  },
  {
   "cell_type": "code",
   "execution_count": null,
   "metadata": {},
   "outputs": [],
   "source": [
    "def simulate(num_hidden_layers, hidden_dim, num_microbatches):\n",
    "    topology = Topology()\n",
    "    d0 = topology.add_device(\n",
    "        \"gpu\", throughput=DEVICE_THROUGHPUT, dram_bandwidth=DRAM_BANDWIDTH\n",
    "    )\n",
    "    for i in range(WORLD_SIZE):\n",
    "        di = topology.add_device(\n",
    "            \"gpu\", throughput=DEVICE_THROUGHPUT, dram_bandwidth=DRAM_BANDWIDTH\n",
    "        )\n",
    "        topology.set_bandwidth(d0, di, float(\"inf\"))\n",
    "        for j in range(1, i + 1):\n",
    "            dj = topology.devices[j]\n",
    "            topology.set_bandwidth(di, dj, PCIE_BANDWIDTH)\n",
    "    function = mlp(\n",
    "        BATCH_SIZE, hidden_dim, hidden_dim, hidden_dim, num_hidden_layers, d0\n",
    "    )\n",
    "    function = infer_types(function, function.inputs)\n",
    "    pp_function = mlp_dhp_transform(\n",
    "        function, 1, 1, WORLD_SIZE, topology.devices, num_microbatches\n",
    "    )\n",
    "    pp_function = infer_types(pp_function, pp_function.inputs)\n",
    "    simulator = Simulator(CostModel(topology))\n",
    "    simulation = simulator.interpret(\n",
    "        function,\n",
    "        (v.type for v in function.inputs),\n",
    "    )\n",
    "    return max([simulation.timestamps[d] for d in simulation.timestamps])"
   ]
  },
  {
   "cell_type": "code",
   "execution_count": null,
   "metadata": {},
   "outputs": [],
   "source": [
    "def sweep(\n",
    "    all_num_hidden_layers,\n",
    "    all_hidden_dims,\n",
    "    all_num_microbatches,\n",
    "    filename,\n",
    "    func,\n",
    "):\n",
    "    fieldnames = [\"num_hidden_layers\", \"hidden_dim\", \"num_microbatches\", \"runtime\"]\n",
    "    with open(filename, \"w\") as f:\n",
    "        writer = csv.DictWriter(f, fieldnames=fieldnames)\n",
    "        writer.writeheader()\n",
    "        for num_hidden_layers in all_num_hidden_layers:\n",
    "            for hidden_dim in all_hidden_dims:\n",
    "                for num_microbatches in all_num_microbatches:\n",
    "                    runtime = func(num_hidden_layers, hidden_dim, num_microbatches)\n",
    "                    writer.writerow(\n",
    "                        {\n",
    "                            \"num_hidden_layers\": num_hidden_layers,\n",
    "                            \"hidden_dim\": hidden_dim,\n",
    "                            \"num_microbatches\": num_microbatches,\n",
    "                            \"runtime\": runtime,\n",
    "                        }\n",
    "                    )"
   ]
  },
  {
   "cell_type": "code",
   "execution_count": null,
   "metadata": {},
   "outputs": [],
   "source": [
    "def parse_csv(filename):\n",
    "    results = []\n",
    "    with open(filename, \"r\") as f:\n",
    "        reader = csv.DictReader(f)\n",
    "        for row in reader:\n",
    "            results.append(\n",
    "                (\n",
    "                    row[\"num_hidden_layers\"],\n",
    "                    row[\"num_microbatches\"],\n",
    "                    row[\"hidden_dim\"],\n",
    "                    row[\"runtime\"],\n",
    "                )\n",
    "            )\n",
    "    return results"
   ]
  },
  {
   "cell_type": "code",
   "execution_count": null,
   "metadata": {},
   "outputs": [],
   "source": [
    "all_num_hidden_layers = [8, 16, 32]\n",
    "all_num_microbatches = [2, 4, 8]\n",
    "all_hidden_dims = [1024, 2048, 4096]\n",
    "sweep(\n",
    "    all_num_hidden_layers,\n",
    "    all_hidden_dims,\n",
    "    all_num_microbatches,\n",
    "    \"pipeline_parallel_runtimes.csv\",\n",
    "    run,\n",
    ")\n",
    "sweep(\n",
    "    all_num_hidden_layers,\n",
    "    all_hidden_dims,\n",
    "    all_num_microbatches,\n",
    "    \"pipeline_parallel_simulated_runtimes.csv\",\n",
    "    simulate,\n",
    ")"
   ]
  },
  {
   "cell_type": "code",
   "execution_count": null,
   "metadata": {},
   "outputs": [],
   "source": [
    "real_results = parse_csv(\"pipeline_parallel_runtimes.csv\")\n",
    "simulated_results = parse_csv(\"pipeline_parallel_simulated_runtimes.csv\")"
   ]
  },
  {
   "cell_type": "code",
   "execution_count": null,
   "metadata": {},
   "outputs": [],
   "source": [
    "real_throughputs = []\n",
    "simulated_throughputs = []\n",
    "model_sizes = []\n",
    "print(f\"# layers,hidden dim,num_microbatches,model size (MB),real,simulated,ratio\")\n",
    "for real, simulated in zip(real_results, simulated_results):\n",
    "    num_hidden_layers = int(real[0])\n",
    "    hidden_dim = int(real[1])\n",
    "    num_microbatches = int(real[2])\n",
    "    real_runtime = float(real[3])\n",
    "    simulated_runtime = float(simulated[-1])\n",
    "    model_size = hidden_dim * hidden_dim * num_hidden_layers * 4 / (1024 * 1024)\n",
    "    print(\n",
    "        f\"{num_hidden_layers},{hidden_dim},{num_microbatches}\"\n",
    "        f\"{model_size},{real_runtime*1000:.2f},\"\n",
    "        f\"{simulated_runtime*1000:.2f},\"\n",
    "        f\"{(simulated_runtime/real_runtime):.2f}x\"\n",
    "    )\n",
    "    real_throughputs.append(BATCH_SIZE / real_runtime / 1000)\n",
    "    simulated_throughputs.append(BATCH_SIZE / simulated_runtime / 1000)\n",
    "    model_sizes.append(model_size)"
   ]
  },
  {
   "cell_type": "code",
   "execution_count": null,
   "metadata": {},
   "outputs": [],
   "source": [
    "simulated_throughputs = np.array(simulated_throughputs)\n",
    "real_throughputs = np.array(real_throughputs)\n",
    "r, p = pearsonr(simulated_throughputs, real_throughputs)\n",
    "print(f\"Pearson's correlation: {r} (p={p})\")\n",
    "r, p = spearmanr(simulated_throughputs, real_throughputs)\n",
    "print(f\"Spearman's correlation: {r} (p={p})\")\n",
    "m, b = np.polyfit(simulated_throughputs, real_throughputs, 1)\n",
    "x_new = np.linspace(simulated_throughputs.min(), simulated_throughputs.max(), 500)\n",
    "f = interp1d(simulated_throughputs, m * simulated_throughputs + b, kind=\"linear\")\n",
    "y_smooth = f(x_new)\n",
    "plt.plot(x_new, y_smooth, label=\"Best fit\")\n",
    "plt.plot(x_new, x_new, label=\"Ideal\")\n",
    "colors=[\"b\", \"orange\", \"g\", \"purple\"]\n",
    "scaled_model_sizes = np.array(model_sizes, dtype=np.float32)\n",
    "scaled_model_sizes -= np.min(model_sizes)\n",
    "scaled_model_sizes *= 1.0 / (np.max(model_sizes) - np.min(model_sizes))\n",
    "scaled_model_sizes *= 224\n",
    "scaled_model_sizes += 32\n",
    "plt.scatter(\n",
    "    simulated_throughputs,\n",
    "    real_throughputs,\n",
    "    s=scaled_model_sizes,\n",
    "    facecolors=\"none\",\n",
    "    edgecolors=\"b\",\n",
    ")\n",
    "plt.xlabel(\"Simulated throughputs (1000 samples / second)\")\n",
    "plt.ylabel(\"Real throughputs (1000 samples / second)\")\n",
    "plt.legend()\n",
    "plt.savefig(\"pipeline_parallel_simulation_performance.pdf\", dpi=600, bbox_inches=\"tight\")"
   ]
  },
  {
   "cell_type": "code",
   "execution_count": null,
   "metadata": {},
   "outputs": [],
   "source": []
  }
 ],
 "metadata": {
  "kernelspec": {
   "display_name": "Python 3",
   "language": "python",
   "name": "python3"
  },
  "language_info": {
   "codemirror_mode": {
    "name": "ipython",
    "version": 3
   },
   "file_extension": ".py",
   "mimetype": "text/x-python",
   "name": "python",
   "nbconvert_exporter": "python",
   "pygments_lexer": "ipython3",
   "version": "3.7.3"
  }
 },
 "nbformat": 4,
 "nbformat_minor": 2
}
