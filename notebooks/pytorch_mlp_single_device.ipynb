{
 "cells": [
  {
   "cell_type": "code",
   "execution_count": 1,
   "metadata": {},
   "outputs": [],
   "source": [
    "import argparse\n",
    "import csv\n",
    "from collections import defaultdict\n",
    "import matplotlib.pyplot as plt\n",
    "import numpy as np\n",
    "import os\n",
    "from scipy.interpolate import interp1d\n",
    "import sys\n",
    "import time\n",
    "import torch\n",
    "import tqdm"
   ]
  },
  {
   "cell_type": "code",
   "execution_count": 2,
   "metadata": {},
   "outputs": [],
   "source": [
    "sys.path.append(os.path.dirname(os.path.dirname(os.path.realpath(\"__file__\"))))\n",
    "from examples.mlp import mlp\n",
    "from dist_ir.ir import Topology\n",
    "from dist_ir.executor import infer_types, Simulator\n",
    "from dist_ir.executor.cost_model import CostModel"
   ]
  },
  {
   "cell_type": "code",
   "execution_count": 3,
   "metadata": {},
   "outputs": [],
   "source": [
    "DEVICE_THROUGHPUT = 6.7e12 # FLOPS\n",
    "DRAM_BANDWIDTH = 2.7e12 # ???\n",
    "PCIE_BANDWIDTH = 15.76 # Gbps\n",
    "WORLD_SIZE = 2"
   ]
  },
  {
   "cell_type": "code",
   "execution_count": 4,
   "metadata": {},
   "outputs": [],
   "source": [
    "class Mlp(torch.nn.Module):\n",
    "    def __init__(self, num_hidden_layers, hidden_dim):\n",
    "        super().__init__()\n",
    "        self.blocks = [\n",
    "            torch.nn.Linear(hidden_dim, hidden_dim, bias=False)\n",
    "            for _ in range(num_hidden_layers)\n",
    "        ]\n",
    "        for i, block in enumerate(self.blocks):\n",
    "            for j, param in enumerate(block.parameters()):\n",
    "                if j > 0:\n",
    "                    raise ValueError(f\"Block {i} has more than 1 parameter!\")\n",
    "                self.register_parameter(f\"w{chr(ord('A')+i)}\", param)\n",
    "\n",
    "    def forward(self, x):\n",
    "        for block in self.blocks:\n",
    "            x = block(x)\n",
    "            relu = torch.nn.ReLU()\n",
    "            x = relu(x)\n",
    "        return x"
   ]
  },
  {
   "cell_type": "code",
   "execution_count": 5,
   "metadata": {},
   "outputs": [],
   "source": [
    "def run(\n",
    "    num_hidden_layers,\n",
    "    batch_size,\n",
    "    hidden_dim,\n",
    "    num_warmup_steps=10,\n",
    "    num_profiling_steps=100,\n",
    "):\n",
    "    model = Mlp(num_hidden_layers, hidden_dim).to(\"cuda:0\")\n",
    "    loss_fn = torch.nn.MSELoss()\n",
    "    x = torch.randn(size=(batch_size, hidden_dim)).to(\"cuda:0\")\n",
    "    labels = torch.randn(size=(batch_size, hidden_dim)).to(\"cuda:0\")\n",
    "    runtimes = []\n",
    "    for i in tqdm.tqdm(range(num_warmup_steps + num_profiling_steps)):\n",
    "        start = time.time()\n",
    "        y = model(x)\n",
    "        loss_fn(y, labels).backward()\n",
    "        duration = time.time() - start\n",
    "        runtimes.append(duration)\n",
    "    return np.median(runtimes[num_warmup_steps:])"
   ]
  },
  {
   "cell_type": "code",
   "execution_count": 6,
   "metadata": {},
   "outputs": [],
   "source": [
    "def simulate(num_hidden_layers, batch_size, hidden_dim):\n",
    "    topology = Topology()\n",
    "    d0 = topology.add_device(\n",
    "        \"gpu\", throughput=DEVICE_THROUGHPUT, dram_bandwidth=DRAM_BANDWIDTH\n",
    "    )\n",
    "    function = mlp(\n",
    "        batch_size, hidden_dim, hidden_dim, hidden_dim, num_hidden_layers, d0\n",
    "    )\n",
    "    function = infer_types(function, function.inputs)\n",
    "    simulator = Simulator(CostModel(topology))\n",
    "    simulation = simulator.interpret(\n",
    "        function,\n",
    "        (v.type for v in function.inputs),\n",
    "    )\n",
    "    return simulation.timestamps[d0]"
   ]
  },
  {
   "cell_type": "code",
   "execution_count": 7,
   "metadata": {},
   "outputs": [],
   "source": [
    "def sweep(all_num_hidden_layers, all_batch_sizes, all_hidden_dims, filename, func):\n",
    "    fieldnames = [\"num_hidden_layers\", \"batch_size\", \"hidden_dim\", \"runtime\"]\n",
    "    with open(filename, \"w\") as f:\n",
    "        writer = csv.DictWriter(f, fieldnames=fieldnames)\n",
    "        writer.writeheader()\n",
    "        for num_hidden_layers in all_num_hidden_layers:\n",
    "            for batch_size in all_batch_sizes:\n",
    "                for hidden_dim in all_hidden_dims:\n",
    "                    runtime = func(num_hidden_layers, batch_size, hidden_dim)\n",
    "                    writer.writerow(\n",
    "                        {\n",
    "                            \"num_hidden_layers\": num_hidden_layers,\n",
    "                            \"batch_size\": batch_size,\n",
    "                            \"hidden_dim\": hidden_dim,\n",
    "                            \"runtime\": runtime,\n",
    "                        }\n",
    "                    )"
   ]
  },
  {
   "cell_type": "code",
   "execution_count": 8,
   "metadata": {},
   "outputs": [],
   "source": [
    "def parse_csv(filename):\n",
    "    results = []\n",
    "    with open(filename, \"r\") as f:\n",
    "        reader = csv.DictReader(f)\n",
    "        for row in reader:\n",
    "            results.append(\n",
    "                (\n",
    "                    row[\"num_hidden_layers\"],\n",
    "                    row[\"batch_size\"],\n",
    "                    row[\"hidden_dim\"],\n",
    "                    row[\"runtime\"],\n",
    "                )\n",
    "            )\n",
    "    return results"
   ]
  },
  {
   "cell_type": "code",
   "execution_count": 9,
   "metadata": {},
   "outputs": [
    {
     "name": "stderr",
     "output_type": "stream",
     "text": [
      "100%|██████████| 110/110 [00:00<00:00, 281.60it/s]\n",
      "100%|██████████| 110/110 [00:01<00:00, 94.81it/s]\n",
      "100%|██████████| 110/110 [00:04<00:00, 24.35it/s]\n",
      "100%|██████████| 110/110 [00:00<00:00, 179.86it/s]\n",
      "100%|██████████| 110/110 [00:02<00:00, 49.97it/s]\n",
      "100%|██████████| 110/110 [00:08<00:00, 13.60it/s]\n",
      "100%|██████████| 110/110 [00:01<00:00, 96.68it/s]\n",
      "100%|██████████| 110/110 [00:04<00:00, 26.91it/s]\n",
      "100%|██████████| 110/110 [00:15<00:00,  6.95it/s]\n",
      "100%|██████████| 110/110 [00:00<00:00, 138.54it/s]\n",
      "100%|██████████| 110/110 [00:02<00:00, 41.02it/s]\n",
      "100%|██████████| 110/110 [00:10<00:00, 10.47it/s]\n",
      "100%|██████████| 110/110 [00:01<00:00, 78.66it/s]\n",
      "100%|██████████| 110/110 [00:05<00:00, 21.29it/s]\n",
      "100%|██████████| 110/110 [00:18<00:00,  5.80it/s]\n",
      "100%|██████████| 110/110 [00:02<00:00, 41.20it/s]\n",
      "100%|██████████| 110/110 [00:09<00:00, 11.25it/s]\n",
      "100%|██████████| 110/110 [00:37<00:00,  2.93it/s]\n",
      "100%|██████████| 110/110 [00:01<00:00, 63.25it/s]\n",
      "100%|██████████| 110/110 [00:05<00:00, 18.83it/s]\n",
      "100%|██████████| 110/110 [00:22<00:00,  4.86it/s]\n",
      "100%|██████████| 110/110 [00:03<00:00, 34.00it/s]\n",
      "100%|██████████| 110/110 [00:11<00:00,  9.95it/s]\n",
      "100%|██████████| 110/110 [00:40<00:00,  2.70it/s]\n",
      "100%|██████████| 110/110 [00:06<00:00, 18.32it/s]\n",
      "100%|██████████| 110/110 [00:22<00:00,  4.98it/s]\n",
      "100%|██████████| 110/110 [01:25<00:00,  1.29it/s]\n"
     ]
    }
   ],
   "source": [
    "all_num_hidden_layers = [8, 16, 32]\n",
    "all_batch_sizes = [512, 1024, 2048]\n",
    "all_hidden_dims = [1024, 2048, 4096]\n",
    "sweep(\n",
    "    all_num_hidden_layers,\n",
    "    all_batch_sizes,\n",
    "    all_hidden_dims,\n",
    "    \"single_device_runtimes.csv\",\n",
    "    run,\n",
    ")\n",
    "sweep(\n",
    "    all_num_hidden_layers,\n",
    "    all_batch_sizes,\n",
    "    all_hidden_dims,\n",
    "    \"single_device_simulated_runtimes.csv\",\n",
    "    simulate,\n",
    ")"
   ]
  },
  {
   "cell_type": "code",
   "execution_count": 10,
   "metadata": {},
   "outputs": [],
   "source": [
    "real_results = parse_csv(\"single_device_runtimes.csv\")\n",
    "simulated_results = parse_csv(\"single_device_simulated_runtimes.csv\")"
   ]
  },
  {
   "cell_type": "code",
   "execution_count": 11,
   "metadata": {},
   "outputs": [
    {
     "name": "stdout",
     "output_type": "stream",
     "text": [
      "# layers,batch size,hidden dim,model size (MB),real,simulated,ratio\n",
      "8,512,1024,32.0,4.15,3.88,0.93x\n",
      "8,512,2048,128.0,12.83,15.47,1.21x\n",
      "8,512,4096,512.0,49.76,61.81,1.24x\n",
      "8,1024,1024,32.0,6.76,7.74,1.15x\n",
      "8,1024,2048,128.0,24.26,30.89,1.27x\n",
      "8,1024,4096,512.0,89.29,123.42,1.38x\n",
      "8,2048,1024,32.0,12.55,15.47,1.23x\n",
      "8,2048,2048,128.0,45.26,61.73,1.36x\n",
      "8,2048,4096,512.0,174.24,246.65,1.42x\n",
      "16,512,1024,64.0,7.91,7.75,0.98x\n",
      "16,512,2048,256.0,26.86,30.94,1.15x\n",
      "16,512,4096,1024.0,103.13,123.62,1.20x\n",
      "16,1024,1024,64.0,13.88,15.48,1.12x\n",
      "16,1024,2048,256.0,51.19,61.78,1.21x\n",
      "16,1024,4096,1024.0,187.04,246.84,1.32x\n",
      "16,2048,1024,64.0,26.25,30.94,1.18x\n",
      "16,2048,2048,256.0,97.14,123.46,1.27x\n",
      "16,2048,4096,1024.0,373.09,493.28,1.32x\n",
      "32,512,1024,128.0,16.37,15.51,0.95x\n",
      "32,512,2048,512.0,55.16,61.88,1.12x\n",
      "32,512,4096,2048.0,213.56,247.24,1.16x\n",
      "32,1024,1024,128.0,30.98,30.96,1.00x\n",
      "32,1024,2048,512.0,102.98,123.56,1.20x\n",
      "32,1024,4096,2048.0,385.71,493.68,1.28x\n",
      "32,2048,1024,128.0,57.25,61.87,1.08x\n",
      "32,2048,2048,512.0,212.94,246.92,1.16x\n",
      "32,2048,4096,2048.0,814.19,986.56,1.21x\n"
     ]
    }
   ],
   "source": [
    "real_throughputs = []\n",
    "simulated_throughputs = []\n",
    "model_sizes = []\n",
    "print(f\"# layers,batch size,hidden dim,model size (MB),real,simulated,ratio\")\n",
    "for real, simulated in zip(real_results, simulated_results):\n",
    "    num_hidden_layers = int(real[0])\n",
    "    batch_size = int(real[1])\n",
    "    hidden_dim = int(real[2])\n",
    "    real_runtime = float(real[3])\n",
    "    simulated_runtime = float(simulated[-1])\n",
    "    model_size = hidden_dim * hidden_dim * num_hidden_layers * 4 / (1024 * 1024)\n",
    "    print(\n",
    "        f\"{num_hidden_layers},{batch_size},{hidden_dim},\"\n",
    "        f\"{model_size},{real_runtime*1000:.2f},\"\n",
    "        f\"{simulated_runtime*1000:.2f},\"\n",
    "        f\"{(simulated_runtime/real_runtime):.2f}x\"\n",
    "    )\n",
    "    real_throughputs.append(batch_size / real_runtime / 1000)\n",
    "    simulated_throughputs.append(batch_size / simulated_runtime / 1000)\n",
    "    model_sizes.append(model_size)"
   ]
  },
  {
   "cell_type": "code",
   "execution_count": 12,
   "metadata": {},
   "outputs": [
    {
     "name": "stdout",
     "output_type": "stream",
     "text": [
      "Pearson's correlation: 0.9896481585373098\n"
     ]
    },
    {
     "data": {
      "image/png": "[encoded data removed]",
      "text/plain": [
       "<Figure size 432x288 with 1 Axes>"
      ]
     },
     "metadata": {
      "needs_background": "light"
     },
     "output_type": "display_data"
    }
   ],
   "source": [
    "simulated_throughputs = np.array(simulated_throughputs)\n",
    "real_throughputs = np.array(real_throughputs)\n",
    "r = np.corrcoef(simulated_throughputs, real_throughputs)[0,1]\n",
    "print(\"Pearson's correlation:\", r)\n",
    "m, b = np.polyfit(simulated_throughputs, real_throughputs, 1)\n",
    "x_new = np.linspace(simulated_throughputs.min(), simulated_throughputs.max(), 500)\n",
    "f = interp1d(simulated_throughputs, m * simulated_throughputs + b, kind=\"linear\")\n",
    "y_smooth = f(x_new)\n",
    "plt.plot(x_new, y_smooth, label=\"Best fit\")\n",
    "plt.plot(x_new, x_new, label=\"Ideal\")\n",
    "colors=[\"b\", \"orange\", \"g\", \"purple\"]\n",
    "scaled_model_sizes = np.array(model_sizes, dtype=np.float32)\n",
    "scaled_model_sizes -= np.min(model_sizes)\n",
    "scaled_model_sizes *= 1.0 / (np.max(model_sizes) - np.min(model_sizes))\n",
    "scaled_model_sizes *= 224\n",
    "scaled_model_sizes += 32\n",
    "plt.scatter(\n",
    "    simulated_throughputs,\n",
    "    real_throughputs,\n",
    "    s=scaled_model_sizes,\n",
    "    facecolors=\"none\",\n",
    "    edgecolors=\"b\",\n",
    ")\n",
    "plt.xlabel(\"Simulated throughputs (1000 samples / second)\")\n",
    "plt.ylabel(\"Real throughputs (1000 samples / second)\")\n",
    "plt.legend()\n",
    "plt.savefig(\"single_device_simulation_performance.pdf\", dpi=600, bbox_inches=\"tight\")"
   ]
  },
  {
   "cell_type": "code",
   "execution_count": null,
   "metadata": {},
   "outputs": [],
   "source": []
  }
 ],
 "metadata": {
  "kernelspec": {
   "display_name": "Python 3",
   "language": "python",
   "name": "python3"
  },
  "language_info": {
   "codemirror_mode": {
    "name": "ipython",
    "version": 3
   },
   "file_extension": ".py",
   "mimetype": "text/x-python",
   "name": "python",
   "nbconvert_exporter": "python",
   "pygments_lexer": "ipython3",
   "version": "3.7.3"
  }
 },
 "nbformat": 4,
 "nbformat_minor": 2
}
